{
 "cells": [
  {
   "cell_type": "markdown",
   "id": "comfortable-count",
   "metadata": {},
   "source": [
    "## Get Closest POIs"
   ]
  },
  {
   "cell_type": "code",
   "execution_count": 1,
   "id": "1cb9a253",
   "metadata": {},
   "outputs": [
    {
     "data": {
      "application/javascript": [
       "\n",
       "            setTimeout(function() {\n",
       "                var nbb_cell_id = 1;\n",
       "                var nbb_unformatted_code = \"%load_ext nb_black\";\n",
       "                var nbb_formatted_code = \"%load_ext nb_black\";\n",
       "                var nbb_cells = Jupyter.notebook.get_cells();\n",
       "                for (var i = 0; i < nbb_cells.length; ++i) {\n",
       "                    if (nbb_cells[i].input_prompt_number == nbb_cell_id) {\n",
       "                        if (nbb_cells[i].get_text() == nbb_unformatted_code) {\n",
       "                             nbb_cells[i].set_text(nbb_formatted_code);\n",
       "                        }\n",
       "                        break;\n",
       "                    }\n",
       "                }\n",
       "            }, 500);\n",
       "            "
      ],
      "text/plain": [
       "<IPython.core.display.Javascript object>"
      ]
     },
     "metadata": {},
     "output_type": "display_data"
    }
   ],
   "source": [
    "%load_ext nb_black"
   ]
  },
  {
   "cell_type": "code",
   "execution_count": 2,
   "id": "df8cb71e",
   "metadata": {},
   "outputs": [
    {
     "data": {
      "application/javascript": [
       "\n",
       "            setTimeout(function() {\n",
       "                var nbb_cell_id = 2;\n",
       "                var nbb_unformatted_code = \"import logging\\n\\nimport sys\\n\\nsys.path.append(\\\"/app\\\")\\n\\n# import scraping as sc\\n\\nimport pandas as pd\\n\\nfrom jinja2 import Template\\n\\nfrom db_utils import get_engine, get_table_creation_query\\n\\nfrom gis_utils import get_gdf_coords, get_closest_idxs, get_closest_pois_slow\\n\\n\\nimport dataloader as loader\\n\\n\\nimport numpy as np\\nimport os\\n\\nimport geopandas as gpd\";\n",
       "                var nbb_formatted_code = \"import logging\\n\\nimport sys\\n\\nsys.path.append(\\\"/app\\\")\\n\\n# import scraping as sc\\n\\nimport pandas as pd\\n\\nfrom jinja2 import Template\\n\\nfrom db_utils import get_engine, get_table_creation_query\\n\\nfrom gis_utils import get_gdf_coords, get_closest_idxs, get_closest_pois_slow\\n\\n\\nimport dataloader as loader\\n\\n\\nimport numpy as np\\nimport os\\n\\nimport geopandas as gpd\";\n",
       "                var nbb_cells = Jupyter.notebook.get_cells();\n",
       "                for (var i = 0; i < nbb_cells.length; ++i) {\n",
       "                    if (nbb_cells[i].input_prompt_number == nbb_cell_id) {\n",
       "                        if (nbb_cells[i].get_text() == nbb_unformatted_code) {\n",
       "                             nbb_cells[i].set_text(nbb_formatted_code);\n",
       "                        }\n",
       "                        break;\n",
       "                    }\n",
       "                }\n",
       "            }, 500);\n",
       "            "
      ],
      "text/plain": [
       "<IPython.core.display.Javascript object>"
      ]
     },
     "metadata": {},
     "output_type": "display_data"
    }
   ],
   "source": [
    "import logging\n",
    "\n",
    "import sys\n",
    "\n",
    "sys.path.append(\"/app\")\n",
    "\n",
    "# import scraping as sc\n",
    "\n",
    "import pandas as pd\n",
    "\n",
    "from jinja2 import Template\n",
    "\n",
    "from db_utils import get_engine, get_table_creation_query\n",
    "\n",
    "from gis_utils import get_gdf_coords, get_closest_idxs, get_closest_pois_slow\n",
    "\n",
    "\n",
    "import dataloader as loader\n",
    "\n",
    "\n",
    "import numpy as np\n",
    "import os\n",
    "\n",
    "import geopandas as gpd"
   ]
  },
  {
   "cell_type": "markdown",
   "id": "blank-agent",
   "metadata": {},
   "source": [
    "## Connect to Database"
   ]
  },
  {
   "cell_type": "code",
   "execution_count": 3,
   "id": "false-store",
   "metadata": {},
   "outputs": [
    {
     "data": {
      "application/javascript": [
       "\n",
       "            setTimeout(function() {\n",
       "                var nbb_cell_id = 3;\n",
       "                var nbb_unformatted_code = \"user = os.getenv(\\\"POSTGRES_USER\\\")\\npassword = os.getenv(\\\"POSTGRES_PASSWORD\\\")\\nhost = os.getenv(\\\"POSTGRES_HOST\\\")\";\n",
       "                var nbb_formatted_code = \"user = os.getenv(\\\"POSTGRES_USER\\\")\\npassword = os.getenv(\\\"POSTGRES_PASSWORD\\\")\\nhost = os.getenv(\\\"POSTGRES_HOST\\\")\";\n",
       "                var nbb_cells = Jupyter.notebook.get_cells();\n",
       "                for (var i = 0; i < nbb_cells.length; ++i) {\n",
       "                    if (nbb_cells[i].input_prompt_number == nbb_cell_id) {\n",
       "                        if (nbb_cells[i].get_text() == nbb_unformatted_code) {\n",
       "                             nbb_cells[i].set_text(nbb_formatted_code);\n",
       "                        }\n",
       "                        break;\n",
       "                    }\n",
       "                }\n",
       "            }, 500);\n",
       "            "
      ],
      "text/plain": [
       "<IPython.core.display.Javascript object>"
      ]
     },
     "metadata": {},
     "output_type": "display_data"
    }
   ],
   "source": [
    "user = os.getenv(\"POSTGRES_USER\")\n",
    "password = os.getenv(\"POSTGRES_PASSWORD\")\n",
    "host = os.getenv(\"POSTGRES_HOST\")"
   ]
  },
  {
   "cell_type": "code",
   "execution_count": 4,
   "id": "understanding-medicaid",
   "metadata": {},
   "outputs": [
    {
     "data": {
      "application/javascript": [
       "\n",
       "            setTimeout(function() {\n",
       "                var nbb_cell_id = 4;\n",
       "                var nbb_unformatted_code = \"engine = get_engine(user, password, host)\";\n",
       "                var nbb_formatted_code = \"engine = get_engine(user, password, host)\";\n",
       "                var nbb_cells = Jupyter.notebook.get_cells();\n",
       "                for (var i = 0; i < nbb_cells.length; ++i) {\n",
       "                    if (nbb_cells[i].input_prompt_number == nbb_cell_id) {\n",
       "                        if (nbb_cells[i].get_text() == nbb_unformatted_code) {\n",
       "                             nbb_cells[i].set_text(nbb_formatted_code);\n",
       "                        }\n",
       "                        break;\n",
       "                    }\n",
       "                }\n",
       "            }, 500);\n",
       "            "
      ],
      "text/plain": [
       "<IPython.core.display.Javascript object>"
      ]
     },
     "metadata": {},
     "output_type": "display_data"
    }
   ],
   "source": [
    "engine = get_engine(user, password, host)"
   ]
  },
  {
   "cell_type": "markdown",
   "id": "fifteen-shooting",
   "metadata": {},
   "source": [
    "## Define search parameters"
   ]
  },
  {
   "cell_type": "code",
   "execution_count": 5,
   "id": "f27274cd",
   "metadata": {},
   "outputs": [
    {
     "data": {
      "application/javascript": [
       "\n",
       "            setTimeout(function() {\n",
       "                var nbb_cell_id = 5;\n",
       "                var nbb_unformatted_code = \"searchname = \\\"tamzin\\\"\";\n",
       "                var nbb_formatted_code = \"searchname = \\\"tamzin\\\"\";\n",
       "                var nbb_cells = Jupyter.notebook.get_cells();\n",
       "                for (var i = 0; i < nbb_cells.length; ++i) {\n",
       "                    if (nbb_cells[i].input_prompt_number == nbb_cell_id) {\n",
       "                        if (nbb_cells[i].get_text() == nbb_unformatted_code) {\n",
       "                             nbb_cells[i].set_text(nbb_formatted_code);\n",
       "                        }\n",
       "                        break;\n",
       "                    }\n",
       "                }\n",
       "            }, 500);\n",
       "            "
      ],
      "text/plain": [
       "<IPython.core.display.Javascript object>"
      ]
     },
     "metadata": {},
     "output_type": "display_data"
    }
   ],
   "source": [
    "searchname = \"tamzin\""
   ]
  },
  {
   "cell_type": "markdown",
   "id": "medium-amendment",
   "metadata": {},
   "source": [
    "## Load data"
   ]
  },
  {
   "cell_type": "code",
   "execution_count": 6,
   "id": "passive-weather",
   "metadata": {},
   "outputs": [
    {
     "data": {
      "application/javascript": [
       "\n",
       "            setTimeout(function() {\n",
       "                var nbb_cell_id = 6;\n",
       "                var nbb_unformatted_code = \"q_load = f\\\"\\\"\\\"SELECT g.* FROM \\n{searchname}.geocoded_addresses g\\nINNER JOIN\\n{searchname}.address_ids_to_process a\\nON g.address_id=a.address_id\\\"\\\"\\\"\";\n",
       "                var nbb_formatted_code = \"q_load = f\\\"\\\"\\\"SELECT g.* FROM \\n{searchname}.geocoded_addresses g\\nINNER JOIN\\n{searchname}.address_ids_to_process a\\nON g.address_id=a.address_id\\\"\\\"\\\"\";\n",
       "                var nbb_cells = Jupyter.notebook.get_cells();\n",
       "                for (var i = 0; i < nbb_cells.length; ++i) {\n",
       "                    if (nbb_cells[i].input_prompt_number == nbb_cell_id) {\n",
       "                        if (nbb_cells[i].get_text() == nbb_unformatted_code) {\n",
       "                             nbb_cells[i].set_text(nbb_formatted_code);\n",
       "                        }\n",
       "                        break;\n",
       "                    }\n",
       "                }\n",
       "            }, 500);\n",
       "            "
      ],
      "text/plain": [
       "<IPython.core.display.Javascript object>"
      ]
     },
     "metadata": {},
     "output_type": "display_data"
    }
   ],
   "source": [
    "q_load = f\"\"\"SELECT g.* FROM \n",
    "{searchname}.geocoded_addresses g\n",
    "INNER JOIN\n",
    "{searchname}.address_ids_to_process a\n",
    "ON g.address_id=a.address_id\"\"\""
   ]
  },
  {
   "cell_type": "code",
   "execution_count": 7,
   "id": "challenging-adaptation",
   "metadata": {},
   "outputs": [
    {
     "data": {
      "application/javascript": [
       "\n",
       "            setTimeout(function() {\n",
       "                var nbb_cell_id = 7;\n",
       "                var nbb_unformatted_code = \"with engine.connect() as conn:\\n    df = pd.read_sql(q_load, con=conn)\";\n",
       "                var nbb_formatted_code = \"with engine.connect() as conn:\\n    df = pd.read_sql(q_load, con=conn)\";\n",
       "                var nbb_cells = Jupyter.notebook.get_cells();\n",
       "                for (var i = 0; i < nbb_cells.length; ++i) {\n",
       "                    if (nbb_cells[i].input_prompt_number == nbb_cell_id) {\n",
       "                        if (nbb_cells[i].get_text() == nbb_unformatted_code) {\n",
       "                             nbb_cells[i].set_text(nbb_formatted_code);\n",
       "                        }\n",
       "                        break;\n",
       "                    }\n",
       "                }\n",
       "            }, 500);\n",
       "            "
      ],
      "text/plain": [
       "<IPython.core.display.Javascript object>"
      ]
     },
     "metadata": {},
     "output_type": "display_data"
    }
   ],
   "source": [
    "with engine.connect() as conn:\n",
    "    df = pd.read_sql(q_load, con=conn)"
   ]
  },
  {
   "cell_type": "markdown",
   "id": "whole-bandwidth",
   "metadata": {},
   "source": [
    "## Load data"
   ]
  },
  {
   "cell_type": "markdown",
   "id": "durable-rating",
   "metadata": {},
   "source": [
    "### POIs"
   ]
  },
  {
   "cell_type": "code",
   "execution_count": 8,
   "id": "indian-sheriff",
   "metadata": {},
   "outputs": [
    {
     "data": {
      "application/javascript": [
       "\n",
       "            setTimeout(function() {\n",
       "                var nbb_cell_id = 8;\n",
       "                var nbb_unformatted_code = \"pois = loader.load_poi_gdfs(user=user, password=password, host=host)\";\n",
       "                var nbb_formatted_code = \"pois = loader.load_poi_gdfs(user=user, password=password, host=host)\";\n",
       "                var nbb_cells = Jupyter.notebook.get_cells();\n",
       "                for (var i = 0; i < nbb_cells.length; ++i) {\n",
       "                    if (nbb_cells[i].input_prompt_number == nbb_cell_id) {\n",
       "                        if (nbb_cells[i].get_text() == nbb_unformatted_code) {\n",
       "                             nbb_cells[i].set_text(nbb_formatted_code);\n",
       "                        }\n",
       "                        break;\n",
       "                    }\n",
       "                }\n",
       "            }, 500);\n",
       "            "
      ],
      "text/plain": [
       "<IPython.core.display.Javascript object>"
      ]
     },
     "metadata": {},
     "output_type": "display_data"
    }
   ],
   "source": [
    "pois = loader.load_poi_gdfs(user=user, password=password, host=host)"
   ]
  },
  {
   "cell_type": "markdown",
   "id": "shared-drive",
   "metadata": {},
   "source": [
    "### Addresses"
   ]
  },
  {
   "cell_type": "code",
   "execution_count": 9,
   "id": "mediterranean-bubble",
   "metadata": {
    "scrolled": true
   },
   "outputs": [
    {
     "data": {
      "application/javascript": [
       "\n",
       "            setTimeout(function() {\n",
       "                var nbb_cell_id = 9;\n",
       "                var nbb_unformatted_code = \"q_addresses = f\\\"\\\"\\\"SELECT c.* FROM \\n{searchname}.bng_coords c\\nINNER JOIN\\n{searchname}.address_ids_to_process a\\nON c.address_id=a.address_id\\\"\\\"\\\"\";\n",
       "                var nbb_formatted_code = \"q_addresses = f\\\"\\\"\\\"SELECT c.* FROM \\n{searchname}.bng_coords c\\nINNER JOIN\\n{searchname}.address_ids_to_process a\\nON c.address_id=a.address_id\\\"\\\"\\\"\";\n",
       "                var nbb_cells = Jupyter.notebook.get_cells();\n",
       "                for (var i = 0; i < nbb_cells.length; ++i) {\n",
       "                    if (nbb_cells[i].input_prompt_number == nbb_cell_id) {\n",
       "                        if (nbb_cells[i].get_text() == nbb_unformatted_code) {\n",
       "                             nbb_cells[i].set_text(nbb_formatted_code);\n",
       "                        }\n",
       "                        break;\n",
       "                    }\n",
       "                }\n",
       "            }, 500);\n",
       "            "
      ],
      "text/plain": [
       "<IPython.core.display.Javascript object>"
      ]
     },
     "metadata": {},
     "output_type": "display_data"
    }
   ],
   "source": [
    "q_addresses = f\"\"\"SELECT c.* FROM \n",
    "{searchname}.bng_coords c\n",
    "INNER JOIN\n",
    "{searchname}.address_ids_to_process a\n",
    "ON c.address_id=a.address_id\"\"\""
   ]
  },
  {
   "cell_type": "code",
   "execution_count": 10,
   "id": "romance-knitting",
   "metadata": {},
   "outputs": [
    {
     "data": {
      "application/javascript": [
       "\n",
       "            setTimeout(function() {\n",
       "                var nbb_cell_id = 10;\n",
       "                var nbb_unformatted_code = \"df_addresses = loader.load_sql(q_addresses, user=user, password=password, host=host)\";\n",
       "                var nbb_formatted_code = \"df_addresses = loader.load_sql(q_addresses, user=user, password=password, host=host)\";\n",
       "                var nbb_cells = Jupyter.notebook.get_cells();\n",
       "                for (var i = 0; i < nbb_cells.length; ++i) {\n",
       "                    if (nbb_cells[i].input_prompt_number == nbb_cell_id) {\n",
       "                        if (nbb_cells[i].get_text() == nbb_unformatted_code) {\n",
       "                             nbb_cells[i].set_text(nbb_formatted_code);\n",
       "                        }\n",
       "                        break;\n",
       "                    }\n",
       "                }\n",
       "            }, 500);\n",
       "            "
      ],
      "text/plain": [
       "<IPython.core.display.Javascript object>"
      ]
     },
     "metadata": {},
     "output_type": "display_data"
    }
   ],
   "source": [
    "df_addresses = loader.load_sql(q_addresses, user=user, password=password, host=host)"
   ]
  },
  {
   "cell_type": "raw",
   "id": "acknowledged-format",
   "metadata": {},
   "source": [
    "df_addresses = loader.load_sql(\n",
    "    f\"SELECT * FROM {searchname}.bng_coords\", user=user, password=password, host=host\n",
    ")"
   ]
  },
  {
   "cell_type": "markdown",
   "id": "innovative-equivalent",
   "metadata": {},
   "source": [
    "## Get coordinates of POIs"
   ]
  },
  {
   "cell_type": "code",
   "execution_count": 11,
   "id": "nominated-spotlight",
   "metadata": {},
   "outputs": [
    {
     "data": {
      "application/javascript": [
       "\n",
       "            setTimeout(function() {\n",
       "                var nbb_cell_id = 11;\n",
       "                var nbb_unformatted_code = \"is_point = {\\n    category: np.all(pois[category].geometry.geom_type == \\\"Point\\\") for category in pois\\n}\";\n",
       "                var nbb_formatted_code = \"is_point = {\\n    category: np.all(pois[category].geometry.geom_type == \\\"Point\\\") for category in pois\\n}\";\n",
       "                var nbb_cells = Jupyter.notebook.get_cells();\n",
       "                for (var i = 0; i < nbb_cells.length; ++i) {\n",
       "                    if (nbb_cells[i].input_prompt_number == nbb_cell_id) {\n",
       "                        if (nbb_cells[i].get_text() == nbb_unformatted_code) {\n",
       "                             nbb_cells[i].set_text(nbb_formatted_code);\n",
       "                        }\n",
       "                        break;\n",
       "                    }\n",
       "                }\n",
       "            }, 500);\n",
       "            "
      ],
      "text/plain": [
       "<IPython.core.display.Javascript object>"
      ]
     },
     "metadata": {},
     "output_type": "display_data"
    }
   ],
   "source": [
    "is_point = {\n",
    "    category: np.all(pois[category].geometry.geom_type == \"Point\") for category in pois\n",
    "}"
   ]
  },
  {
   "cell_type": "code",
   "execution_count": 12,
   "id": "compressed-memory",
   "metadata": {},
   "outputs": [
    {
     "data": {
      "application/javascript": [
       "\n",
       "            setTimeout(function() {\n",
       "                var nbb_cell_id = 12;\n",
       "                var nbb_unformatted_code = \"coords = {\\n    category: get_gdf_coords(pois[category]) for category in pois if is_point[category]\\n}\";\n",
       "                var nbb_formatted_code = \"coords = {\\n    category: get_gdf_coords(pois[category]) for category in pois if is_point[category]\\n}\";\n",
       "                var nbb_cells = Jupyter.notebook.get_cells();\n",
       "                for (var i = 0; i < nbb_cells.length; ++i) {\n",
       "                    if (nbb_cells[i].input_prompt_number == nbb_cell_id) {\n",
       "                        if (nbb_cells[i].get_text() == nbb_unformatted_code) {\n",
       "                             nbb_cells[i].set_text(nbb_formatted_code);\n",
       "                        }\n",
       "                        break;\n",
       "                    }\n",
       "                }\n",
       "            }, 500);\n",
       "            "
      ],
      "text/plain": [
       "<IPython.core.display.Javascript object>"
      ]
     },
     "metadata": {},
     "output_type": "display_data"
    }
   ],
   "source": [
    "coords = {\n",
    "    category: get_gdf_coords(pois[category]) for category in pois if is_point[category]\n",
    "}"
   ]
  },
  {
   "cell_type": "markdown",
   "id": "thirty-surfing",
   "metadata": {},
   "source": [
    "## Get closest POIs for point-based POIs"
   ]
  },
  {
   "cell_type": "code",
   "execution_count": 13,
   "id": "hollywood-touch",
   "metadata": {},
   "outputs": [
    {
     "data": {
      "application/javascript": [
       "\n",
       "            setTimeout(function() {\n",
       "                var nbb_cell_id = 13;\n",
       "                var nbb_unformatted_code = \"closest_idxs = {\\n    category: get_closest_idxs(\\n        df_addresses[[\\\"eastings\\\", \\\"northings\\\"]].values, coords[category]\\n    )\\n    for category in coords\\n}\";\n",
       "                var nbb_formatted_code = \"closest_idxs = {\\n    category: get_closest_idxs(\\n        df_addresses[[\\\"eastings\\\", \\\"northings\\\"]].values, coords[category]\\n    )\\n    for category in coords\\n}\";\n",
       "                var nbb_cells = Jupyter.notebook.get_cells();\n",
       "                for (var i = 0; i < nbb_cells.length; ++i) {\n",
       "                    if (nbb_cells[i].input_prompt_number == nbb_cell_id) {\n",
       "                        if (nbb_cells[i].get_text() == nbb_unformatted_code) {\n",
       "                             nbb_cells[i].set_text(nbb_formatted_code);\n",
       "                        }\n",
       "                        break;\n",
       "                    }\n",
       "                }\n",
       "            }, 500);\n",
       "            "
      ],
      "text/plain": [
       "<IPython.core.display.Javascript object>"
      ]
     },
     "metadata": {},
     "output_type": "display_data"
    }
   ],
   "source": [
    "closest_idxs = {\n",
    "    category: get_closest_idxs(\n",
    "        df_addresses[[\"eastings\", \"northings\"]].values, coords[category]\n",
    "    )\n",
    "    for category in coords\n",
    "}"
   ]
  },
  {
   "cell_type": "code",
   "execution_count": 14,
   "id": "capital-allen",
   "metadata": {},
   "outputs": [
    {
     "data": {
      "application/javascript": [
       "\n",
       "            setTimeout(function() {\n",
       "                var nbb_cell_id = 14;\n",
       "                var nbb_unformatted_code = \"closest_ids = {\\n    category: pois[category].id.values[closest_idxs[category]]\\n    for category in closest_idxs\\n}\";\n",
       "                var nbb_formatted_code = \"closest_ids = {\\n    category: pois[category].id.values[closest_idxs[category]]\\n    for category in closest_idxs\\n}\";\n",
       "                var nbb_cells = Jupyter.notebook.get_cells();\n",
       "                for (var i = 0; i < nbb_cells.length; ++i) {\n",
       "                    if (nbb_cells[i].input_prompt_number == nbb_cell_id) {\n",
       "                        if (nbb_cells[i].get_text() == nbb_unformatted_code) {\n",
       "                             nbb_cells[i].set_text(nbb_formatted_code);\n",
       "                        }\n",
       "                        break;\n",
       "                    }\n",
       "                }\n",
       "            }, 500);\n",
       "            "
      ],
      "text/plain": [
       "<IPython.core.display.Javascript object>"
      ]
     },
     "metadata": {},
     "output_type": "display_data"
    }
   ],
   "source": [
    "closest_ids = {\n",
    "    category: pois[category].id.values[closest_idxs[category]]\n",
    "    for category in closest_idxs\n",
    "}"
   ]
  },
  {
   "cell_type": "markdown",
   "id": "vertical-interface",
   "metadata": {},
   "source": [
    "## Get closest POIs for polygon-based POIs"
   ]
  },
  {
   "cell_type": "code",
   "execution_count": 15,
   "id": "natural-glucose",
   "metadata": {},
   "outputs": [
    {
     "data": {
      "application/javascript": [
       "\n",
       "            setTimeout(function() {\n",
       "                var nbb_cell_id = 15;\n",
       "                var nbb_unformatted_code = \"from shapely.ops import nearest_points\";\n",
       "                var nbb_formatted_code = \"from shapely.ops import nearest_points\";\n",
       "                var nbb_cells = Jupyter.notebook.get_cells();\n",
       "                for (var i = 0; i < nbb_cells.length; ++i) {\n",
       "                    if (nbb_cells[i].input_prompt_number == nbb_cell_id) {\n",
       "                        if (nbb_cells[i].get_text() == nbb_unformatted_code) {\n",
       "                             nbb_cells[i].set_text(nbb_formatted_code);\n",
       "                        }\n",
       "                        break;\n",
       "                    }\n",
       "                }\n",
       "            }, 500);\n",
       "            "
      ],
      "text/plain": [
       "<IPython.core.display.Javascript object>"
      ]
     },
     "metadata": {},
     "output_type": "display_data"
    }
   ],
   "source": [
    "from shapely.ops import nearest_points\n"
   ]
  },
  {
   "cell_type": "code",
   "execution_count": 16,
   "id": "grave-sharing",
   "metadata": {},
   "outputs": [
    {
     "data": {
      "application/javascript": [
       "\n",
       "            setTimeout(function() {\n",
       "                var nbb_cell_id = 16;\n",
       "                var nbb_unformatted_code = \"polygons = {\\n    category: pois[category].set_index(\\\"id\\\").geometry\\n    for category in pois\\n    if not is_point[category]\\n}\";\n",
       "                var nbb_formatted_code = \"polygons = {\\n    category: pois[category].set_index(\\\"id\\\").geometry\\n    for category in pois\\n    if not is_point[category]\\n}\";\n",
       "                var nbb_cells = Jupyter.notebook.get_cells();\n",
       "                for (var i = 0; i < nbb_cells.length; ++i) {\n",
       "                    if (nbb_cells[i].input_prompt_number == nbb_cell_id) {\n",
       "                        if (nbb_cells[i].get_text() == nbb_unformatted_code) {\n",
       "                             nbb_cells[i].set_text(nbb_formatted_code);\n",
       "                        }\n",
       "                        break;\n",
       "                    }\n",
       "                }\n",
       "            }, 500);\n",
       "            "
      ],
      "text/plain": [
       "<IPython.core.display.Javascript object>"
      ]
     },
     "metadata": {},
     "output_type": "display_data"
    }
   ],
   "source": [
    "polygons = {\n",
    "    category: pois[category].set_index(\"id\").geometry\n",
    "    for category in pois\n",
    "    if not is_point[category]\n",
    "}"
   ]
  },
  {
   "cell_type": "code",
   "execution_count": 17,
   "id": "proper-directory",
   "metadata": {},
   "outputs": [
    {
     "data": {
      "application/javascript": [
       "\n",
       "            setTimeout(function() {\n",
       "                var nbb_cell_id = 17;\n",
       "                var nbb_unformatted_code = \"def closest_loc_point_polygon(point, polygon):\\n    return nearest_points(polygon, point)[0]\";\n",
       "                var nbb_formatted_code = \"def closest_loc_point_polygon(point, polygon):\\n    return nearest_points(polygon, point)[0]\";\n",
       "                var nbb_cells = Jupyter.notebook.get_cells();\n",
       "                for (var i = 0; i < nbb_cells.length; ++i) {\n",
       "                    if (nbb_cells[i].input_prompt_number == nbb_cell_id) {\n",
       "                        if (nbb_cells[i].get_text() == nbb_unformatted_code) {\n",
       "                             nbb_cells[i].set_text(nbb_formatted_code);\n",
       "                        }\n",
       "                        break;\n",
       "                    }\n",
       "                }\n",
       "            }, 500);\n",
       "            "
      ],
      "text/plain": [
       "<IPython.core.display.Javascript object>"
      ]
     },
     "metadata": {},
     "output_type": "display_data"
    }
   ],
   "source": [
    "def closest_loc_point_polygon(point, polygon):\n",
    "    return nearest_points(polygon, point)[0]"
   ]
  },
  {
   "cell_type": "code",
   "execution_count": 18,
   "id": "czech-faculty",
   "metadata": {},
   "outputs": [
    {
     "data": {
      "application/javascript": [
       "\n",
       "            setTimeout(function() {\n",
       "                var nbb_cell_id = 18;\n",
       "                var nbb_unformatted_code = \"gdf_addresses = gpd.GeoDataFrame(\\n    df_addresses,\\n    geometry=gpd.points_from_xy(df_addresses.eastings, df_addresses.northings),\\n)\";\n",
       "                var nbb_formatted_code = \"gdf_addresses = gpd.GeoDataFrame(\\n    df_addresses,\\n    geometry=gpd.points_from_xy(df_addresses.eastings, df_addresses.northings),\\n)\";\n",
       "                var nbb_cells = Jupyter.notebook.get_cells();\n",
       "                for (var i = 0; i < nbb_cells.length; ++i) {\n",
       "                    if (nbb_cells[i].input_prompt_number == nbb_cell_id) {\n",
       "                        if (nbb_cells[i].get_text() == nbb_unformatted_code) {\n",
       "                             nbb_cells[i].set_text(nbb_formatted_code);\n",
       "                        }\n",
       "                        break;\n",
       "                    }\n",
       "                }\n",
       "            }, 500);\n",
       "            "
      ],
      "text/plain": [
       "<IPython.core.display.Javascript object>"
      ]
     },
     "metadata": {},
     "output_type": "display_data"
    }
   ],
   "source": [
    "gdf_addresses = gpd.GeoDataFrame(\n",
    "    df_addresses,\n",
    "    geometry=gpd.points_from_xy(df_addresses.eastings, df_addresses.northings),\n",
    ")"
   ]
  },
  {
   "cell_type": "raw",
   "id": "casual-longitude",
   "metadata": {
    "scrolled": true
   },
   "source": [
    "test_point = gdf_addresses.geometry[1]"
   ]
  },
  {
   "cell_type": "raw",
   "id": "adaptive-franchise",
   "metadata": {},
   "source": [
    "test_polygon = polygons[\"park\"][polygons[\"park\"].area > 1000_000].iloc[0]"
   ]
  },
  {
   "cell_type": "raw",
   "id": "numeric-france",
   "metadata": {},
   "source": [
    "p1, p2 = nearest_points(test_polygon, test_point)"
   ]
  },
  {
   "cell_type": "raw",
   "id": "champion-ambassador",
   "metadata": {},
   "source": [
    "test_gser = gpd.GeoSeries([test_point, test_polygon])"
   ]
  },
  {
   "cell_type": "raw",
   "id": "neither-welcome",
   "metadata": {},
   "source": [
    "results_gser = gpd.GeoSeries([p1])"
   ]
  },
  {
   "cell_type": "raw",
   "id": "acting-england",
   "metadata": {},
   "source": [
    "import matplotlib.pyplot as plt"
   ]
  },
  {
   "cell_type": "raw",
   "id": "billion-liquid",
   "metadata": {},
   "source": [
    "fig, ax = plt.subplots(figsize=(16, 9))\n",
    "test_gser.plot(ax=ax)\n",
    "results_gser.plot(ax=ax, color=\"red\")"
   ]
  },
  {
   "cell_type": "raw",
   "id": "packed-bridge",
   "metadata": {},
   "source": [
    "gdf_addresses"
   ]
  },
  {
   "cell_type": "raw",
   "id": "spare-portable",
   "metadata": {},
   "source": [
    "pois[\"park\"].plot()"
   ]
  },
  {
   "cell_type": "raw",
   "id": "southwest-cheat",
   "metadata": {},
   "source": [
    "polygons"
   ]
  },
  {
   "cell_type": "code",
   "execution_count": 19,
   "id": "alternate-public",
   "metadata": {
    "scrolled": true
   },
   "outputs": [
    {
     "name": "stderr",
     "output_type": "stream",
     "text": [
      "100%|██████████| 152/152 [00:01<00:00, 92.02it/s]\n"
     ]
    },
    {
     "data": {
      "application/javascript": [
       "\n",
       "            setTimeout(function() {\n",
       "                var nbb_cell_id = 19;\n",
       "                var nbb_unformatted_code = \"closest_ids_poly = {\\n    category: get_closest_pois_slow(polygons[category].reset_index(), gdf_addresses)[0]\\n    for category in polygons\\n}\";\n",
       "                var nbb_formatted_code = \"closest_ids_poly = {\\n    category: get_closest_pois_slow(polygons[category].reset_index(), gdf_addresses)[0]\\n    for category in polygons\\n}\";\n",
       "                var nbb_cells = Jupyter.notebook.get_cells();\n",
       "                for (var i = 0; i < nbb_cells.length; ++i) {\n",
       "                    if (nbb_cells[i].input_prompt_number == nbb_cell_id) {\n",
       "                        if (nbb_cells[i].get_text() == nbb_unformatted_code) {\n",
       "                             nbb_cells[i].set_text(nbb_formatted_code);\n",
       "                        }\n",
       "                        break;\n",
       "                    }\n",
       "                }\n",
       "            }, 500);\n",
       "            "
      ],
      "text/plain": [
       "<IPython.core.display.Javascript object>"
      ]
     },
     "metadata": {},
     "output_type": "display_data"
    }
   ],
   "source": [
    "closest_ids_poly = {\n",
    "    category: get_closest_pois_slow(polygons[category].reset_index(), gdf_addresses)[0]\n",
    "    for category in polygons\n",
    "}"
   ]
  },
  {
   "cell_type": "code",
   "execution_count": 20,
   "id": "rubber-georgia",
   "metadata": {},
   "outputs": [
    {
     "data": {
      "application/javascript": [
       "\n",
       "            setTimeout(function() {\n",
       "                var nbb_cell_id = 20;\n",
       "                var nbb_unformatted_code = \"closest_points_poly = {\\n    category: gpd.GeoSeries(\\n        [\\n            closest_loc_point_polygon(point, poly)\\n            for point, poly in zip(\\n                gdf_addresses.geometry,\\n                polygons[category].loc[closest_ids_poly[category]].values,\\n            )\\n        ]\\n    )\\n    for category in polygons\\n}\";\n",
       "                var nbb_formatted_code = \"closest_points_poly = {\\n    category: gpd.GeoSeries(\\n        [\\n            closest_loc_point_polygon(point, poly)\\n            for point, poly in zip(\\n                gdf_addresses.geometry,\\n                polygons[category].loc[closest_ids_poly[category]].values,\\n            )\\n        ]\\n    )\\n    for category in polygons\\n}\";\n",
       "                var nbb_cells = Jupyter.notebook.get_cells();\n",
       "                for (var i = 0; i < nbb_cells.length; ++i) {\n",
       "                    if (nbb_cells[i].input_prompt_number == nbb_cell_id) {\n",
       "                        if (nbb_cells[i].get_text() == nbb_unformatted_code) {\n",
       "                             nbb_cells[i].set_text(nbb_formatted_code);\n",
       "                        }\n",
       "                        break;\n",
       "                    }\n",
       "                }\n",
       "            }, 500);\n",
       "            "
      ],
      "text/plain": [
       "<IPython.core.display.Javascript object>"
      ]
     },
     "metadata": {},
     "output_type": "display_data"
    }
   ],
   "source": [
    "closest_points_poly = {\n",
    "    category: gpd.GeoSeries(\n",
    "        [\n",
    "            closest_loc_point_polygon(point, poly)\n",
    "            for point, poly in zip(\n",
    "                gdf_addresses.geometry,\n",
    "                polygons[category].loc[closest_ids_poly[category]].values,\n",
    "            )\n",
    "        ]\n",
    "    )\n",
    "    for category in polygons\n",
    "}"
   ]
  },
  {
   "cell_type": "markdown",
   "id": "color-germany",
   "metadata": {},
   "source": [
    "## Create Outputs"
   ]
  },
  {
   "cell_type": "code",
   "execution_count": 21,
   "id": "hollywood-singing",
   "metadata": {},
   "outputs": [
    {
     "data": {
      "application/javascript": [
       "\n",
       "            setTimeout(function() {\n",
       "                var nbb_cell_id = 21;\n",
       "                var nbb_unformatted_code = \"output_dfs_points = {\\n    category: pd.DataFrame(\\n        {\\n            \\\"address_id\\\": df_addresses.address_id.values,\\n            \\\"poi_id\\\": closest_ids[category],\\n            \\\"eastings\\\": None,\\n            \\\"northings\\\": None,\\n            \\\"poi_category\\\": category,\\n        }\\n    )\\n    for category in closest_ids\\n}\";\n",
       "                var nbb_formatted_code = \"output_dfs_points = {\\n    category: pd.DataFrame(\\n        {\\n            \\\"address_id\\\": df_addresses.address_id.values,\\n            \\\"poi_id\\\": closest_ids[category],\\n            \\\"eastings\\\": None,\\n            \\\"northings\\\": None,\\n            \\\"poi_category\\\": category,\\n        }\\n    )\\n    for category in closest_ids\\n}\";\n",
       "                var nbb_cells = Jupyter.notebook.get_cells();\n",
       "                for (var i = 0; i < nbb_cells.length; ++i) {\n",
       "                    if (nbb_cells[i].input_prompt_number == nbb_cell_id) {\n",
       "                        if (nbb_cells[i].get_text() == nbb_unformatted_code) {\n",
       "                             nbb_cells[i].set_text(nbb_formatted_code);\n",
       "                        }\n",
       "                        break;\n",
       "                    }\n",
       "                }\n",
       "            }, 500);\n",
       "            "
      ],
      "text/plain": [
       "<IPython.core.display.Javascript object>"
      ]
     },
     "metadata": {},
     "output_type": "display_data"
    }
   ],
   "source": [
    "output_dfs_points = {\n",
    "    category: pd.DataFrame(\n",
    "        {\n",
    "            \"address_id\": df_addresses.address_id.values,\n",
    "            \"poi_id\": closest_ids[category],\n",
    "            \"eastings\": None,\n",
    "            \"northings\": None,\n",
    "            \"poi_category\": category,\n",
    "        }\n",
    "    )\n",
    "    for category in closest_ids\n",
    "}"
   ]
  },
  {
   "cell_type": "code",
   "execution_count": 22,
   "id": "through-actor",
   "metadata": {},
   "outputs": [
    {
     "data": {
      "application/javascript": [
       "\n",
       "            setTimeout(function() {\n",
       "                var nbb_cell_id = 22;\n",
       "                var nbb_unformatted_code = \"output_dfs_polys = {\\n    category: pd.DataFrame(\\n        {\\n            \\\"address_id\\\": df_addresses.address_id.values,\\n            \\\"poi_id\\\": closest_ids_poly[category],\\n            \\\"eastings\\\": closest_points_poly[category].x.values,\\n            \\\"northings\\\": closest_points_poly[category].y.values,\\n            \\\"poi_category\\\": category,\\n        }\\n    )\\n    for category in closest_ids_poly\\n}\";\n",
       "                var nbb_formatted_code = \"output_dfs_polys = {\\n    category: pd.DataFrame(\\n        {\\n            \\\"address_id\\\": df_addresses.address_id.values,\\n            \\\"poi_id\\\": closest_ids_poly[category],\\n            \\\"eastings\\\": closest_points_poly[category].x.values,\\n            \\\"northings\\\": closest_points_poly[category].y.values,\\n            \\\"poi_category\\\": category,\\n        }\\n    )\\n    for category in closest_ids_poly\\n}\";\n",
       "                var nbb_cells = Jupyter.notebook.get_cells();\n",
       "                for (var i = 0; i < nbb_cells.length; ++i) {\n",
       "                    if (nbb_cells[i].input_prompt_number == nbb_cell_id) {\n",
       "                        if (nbb_cells[i].get_text() == nbb_unformatted_code) {\n",
       "                             nbb_cells[i].set_text(nbb_formatted_code);\n",
       "                        }\n",
       "                        break;\n",
       "                    }\n",
       "                }\n",
       "            }, 500);\n",
       "            "
      ],
      "text/plain": [
       "<IPython.core.display.Javascript object>"
      ]
     },
     "metadata": {},
     "output_type": "display_data"
    }
   ],
   "source": [
    "output_dfs_polys = {\n",
    "    category: pd.DataFrame(\n",
    "        {\n",
    "            \"address_id\": df_addresses.address_id.values,\n",
    "            \"poi_id\": closest_ids_poly[category],\n",
    "            \"eastings\": closest_points_poly[category].x.values,\n",
    "            \"northings\": closest_points_poly[category].y.values,\n",
    "            \"poi_category\": category,\n",
    "        }\n",
    "    )\n",
    "    for category in closest_ids_poly\n",
    "}"
   ]
  },
  {
   "cell_type": "markdown",
   "id": "suffering-energy",
   "metadata": {},
   "source": [
    "## Create table"
   ]
  },
  {
   "cell_type": "code",
   "execution_count": 23,
   "id": "alleged-console",
   "metadata": {},
   "outputs": [
    {
     "data": {
      "application/javascript": [
       "\n",
       "            setTimeout(function() {\n",
       "                var nbb_cell_id = 23;\n",
       "                var nbb_unformatted_code = \"cols = {\\n    \\\"eastings\\\": \\\"DECIMAL(14,6)\\\",\\n    \\\"northings\\\": \\\"DECIMAL(14,6)\\\",\\n    \\\"poi_id\\\": \\\"INTEGER\\\",\\n    \\\"address_id\\\": \\\"INTEGER\\\",\\n    \\\"poi_category\\\": \\\"VARCHAR(64)\\\",\\n}\\n\\nindex_cols = [\\\"poi_id\\\", \\\"address_id\\\", \\\"poi_category\\\"]\\nunique_cols = []\";\n",
       "                var nbb_formatted_code = \"cols = {\\n    \\\"eastings\\\": \\\"DECIMAL(14,6)\\\",\\n    \\\"northings\\\": \\\"DECIMAL(14,6)\\\",\\n    \\\"poi_id\\\": \\\"INTEGER\\\",\\n    \\\"address_id\\\": \\\"INTEGER\\\",\\n    \\\"poi_category\\\": \\\"VARCHAR(64)\\\",\\n}\\n\\nindex_cols = [\\\"poi_id\\\", \\\"address_id\\\", \\\"poi_category\\\"]\\nunique_cols = []\";\n",
       "                var nbb_cells = Jupyter.notebook.get_cells();\n",
       "                for (var i = 0; i < nbb_cells.length; ++i) {\n",
       "                    if (nbb_cells[i].input_prompt_number == nbb_cell_id) {\n",
       "                        if (nbb_cells[i].get_text() == nbb_unformatted_code) {\n",
       "                             nbb_cells[i].set_text(nbb_formatted_code);\n",
       "                        }\n",
       "                        break;\n",
       "                    }\n",
       "                }\n",
       "            }, 500);\n",
       "            "
      ],
      "text/plain": [
       "<IPython.core.display.Javascript object>"
      ]
     },
     "metadata": {},
     "output_type": "display_data"
    }
   ],
   "source": [
    "cols = {\n",
    "    \"eastings\": \"DECIMAL(14,6)\",\n",
    "    \"northings\": \"DECIMAL(14,6)\",\n",
    "    \"poi_id\": \"INTEGER\",\n",
    "    \"address_id\": \"INTEGER\",\n",
    "    \"poi_category\": \"VARCHAR(64)\",\n",
    "}\n",
    "\n",
    "index_cols = [\"poi_id\", \"address_id\", \"poi_category\"]\n",
    "unique_cols = []"
   ]
  },
  {
   "cell_type": "code",
   "execution_count": 24,
   "id": "mathematical-danger",
   "metadata": {},
   "outputs": [
    {
     "data": {
      "application/javascript": [
       "\n",
       "            setTimeout(function() {\n",
       "                var nbb_cell_id = 24;\n",
       "                var nbb_unformatted_code = \"create_q = get_table_creation_query(\\n    \\\"closest_pois\\\", cols, searchname, index_cols, unique_cols\\n)\";\n",
       "                var nbb_formatted_code = \"create_q = get_table_creation_query(\\n    \\\"closest_pois\\\", cols, searchname, index_cols, unique_cols\\n)\";\n",
       "                var nbb_cells = Jupyter.notebook.get_cells();\n",
       "                for (var i = 0; i < nbb_cells.length; ++i) {\n",
       "                    if (nbb_cells[i].input_prompt_number == nbb_cell_id) {\n",
       "                        if (nbb_cells[i].get_text() == nbb_unformatted_code) {\n",
       "                             nbb_cells[i].set_text(nbb_formatted_code);\n",
       "                        }\n",
       "                        break;\n",
       "                    }\n",
       "                }\n",
       "            }, 500);\n",
       "            "
      ],
      "text/plain": [
       "<IPython.core.display.Javascript object>"
      ]
     },
     "metadata": {},
     "output_type": "display_data"
    }
   ],
   "source": [
    "create_q = get_table_creation_query(\n",
    "    \"closest_pois\", cols, searchname, index_cols, unique_cols\n",
    ")"
   ]
  },
  {
   "cell_type": "code",
   "execution_count": 25,
   "id": "registered-truth",
   "metadata": {},
   "outputs": [
    {
     "data": {
      "application/javascript": [
       "\n",
       "            setTimeout(function() {\n",
       "                var nbb_cell_id = 25;\n",
       "                var nbb_unformatted_code = \"q_unique = f\\\"\\\"\\\"CREATE UNIQUE INDEX address_poi_category_closest_pois_categoryx\\n        ON {searchname}.closest_pois (poi_category,address_id);\\n        ALTER TABLE {searchname}.closest_pois \\n        ADD CONSTRAINT unique_address_poi_category_closest_pois\\n        UNIQUE USING INDEX address_poi_category_closest_pois_categoryx;\\\"\\\"\\\"\";\n",
       "                var nbb_formatted_code = \"q_unique = f\\\"\\\"\\\"CREATE UNIQUE INDEX address_poi_category_closest_pois_categoryx\\n        ON {searchname}.closest_pois (poi_category,address_id);\\n        ALTER TABLE {searchname}.closest_pois \\n        ADD CONSTRAINT unique_address_poi_category_closest_pois\\n        UNIQUE USING INDEX address_poi_category_closest_pois_categoryx;\\\"\\\"\\\"\";\n",
       "                var nbb_cells = Jupyter.notebook.get_cells();\n",
       "                for (var i = 0; i < nbb_cells.length; ++i) {\n",
       "                    if (nbb_cells[i].input_prompt_number == nbb_cell_id) {\n",
       "                        if (nbb_cells[i].get_text() == nbb_unformatted_code) {\n",
       "                             nbb_cells[i].set_text(nbb_formatted_code);\n",
       "                        }\n",
       "                        break;\n",
       "                    }\n",
       "                }\n",
       "            }, 500);\n",
       "            "
      ],
      "text/plain": [
       "<IPython.core.display.Javascript object>"
      ]
     },
     "metadata": {},
     "output_type": "display_data"
    }
   ],
   "source": [
    "q_unique = f\"\"\"CREATE UNIQUE INDEX address_poi_category_closest_pois_categoryx\n",
    "        ON {searchname}.closest_pois (poi_category,address_id);\n",
    "        ALTER TABLE {searchname}.closest_pois \n",
    "        ADD CONSTRAINT unique_address_poi_category_closest_pois\n",
    "        UNIQUE USING INDEX address_poi_category_closest_pois_categoryx;\"\"\""
   ]
  },
  {
   "cell_type": "code",
   "execution_count": 26,
   "id": "inner-honey",
   "metadata": {},
   "outputs": [
    {
     "data": {
      "application/javascript": [
       "\n",
       "            setTimeout(function() {\n",
       "                var nbb_cell_id = 26;\n",
       "                var nbb_unformatted_code = \"with engine.connect() as conn:\\n    conn.execute(create_q)\\n    conn.execute(q_unique)\";\n",
       "                var nbb_formatted_code = \"with engine.connect() as conn:\\n    conn.execute(create_q)\\n    conn.execute(q_unique)\";\n",
       "                var nbb_cells = Jupyter.notebook.get_cells();\n",
       "                for (var i = 0; i < nbb_cells.length; ++i) {\n",
       "                    if (nbb_cells[i].input_prompt_number == nbb_cell_id) {\n",
       "                        if (nbb_cells[i].get_text() == nbb_unformatted_code) {\n",
       "                             nbb_cells[i].set_text(nbb_formatted_code);\n",
       "                        }\n",
       "                        break;\n",
       "                    }\n",
       "                }\n",
       "            }, 500);\n",
       "            "
      ],
      "text/plain": [
       "<IPython.core.display.Javascript object>"
      ]
     },
     "metadata": {},
     "output_type": "display_data"
    }
   ],
   "source": [
    "with engine.connect() as conn:\n",
    "    conn.execute(create_q)\n",
    "    conn.execute(q_unique)"
   ]
  },
  {
   "cell_type": "raw",
   "id": "wrapped-manhattan",
   "metadata": {},
   "source": [
    "with engine.connect() as conn:\n",
    "    conn.execute(f\"DROP TABLE {searchname}.closest_pois\")"
   ]
  },
  {
   "cell_type": "markdown",
   "id": "digital-doctor",
   "metadata": {},
   "source": [
    "## Create Outputs"
   ]
  },
  {
   "cell_type": "code",
   "execution_count": 27,
   "id": "actual-damage",
   "metadata": {},
   "outputs": [
    {
     "data": {
      "application/javascript": [
       "\n",
       "            setTimeout(function() {\n",
       "                var nbb_cell_id = 27;\n",
       "                var nbb_unformatted_code = \"output = pd.concat([output_dfs_points[i] for i in output_dfs_points])\\noutput = output.append(\\n    pd.concat([output_dfs_polys[i] for i in output_dfs_polys]), ignore_index=True\\n)\";\n",
       "                var nbb_formatted_code = \"output = pd.concat([output_dfs_points[i] for i in output_dfs_points])\\noutput = output.append(\\n    pd.concat([output_dfs_polys[i] for i in output_dfs_polys]), ignore_index=True\\n)\";\n",
       "                var nbb_cells = Jupyter.notebook.get_cells();\n",
       "                for (var i = 0; i < nbb_cells.length; ++i) {\n",
       "                    if (nbb_cells[i].input_prompt_number == nbb_cell_id) {\n",
       "                        if (nbb_cells[i].get_text() == nbb_unformatted_code) {\n",
       "                             nbb_cells[i].set_text(nbb_formatted_code);\n",
       "                        }\n",
       "                        break;\n",
       "                    }\n",
       "                }\n",
       "            }, 500);\n",
       "            "
      ],
      "text/plain": [
       "<IPython.core.display.Javascript object>"
      ]
     },
     "metadata": {},
     "output_type": "display_data"
    }
   ],
   "source": [
    "output = pd.concat([output_dfs_points[i] for i in output_dfs_points])\n",
    "output = output.append(\n",
    "    pd.concat([output_dfs_polys[i] for i in output_dfs_polys]), ignore_index=True\n",
    ")"
   ]
  },
  {
   "cell_type": "code",
   "execution_count": 28,
   "id": "internal-interest",
   "metadata": {},
   "outputs": [
    {
     "data": {
      "application/javascript": [
       "\n",
       "            setTimeout(function() {\n",
       "                var nbb_cell_id = 28;\n",
       "                var nbb_unformatted_code = \"with engine.connect() as conn:\\n    output.to_sql(\\n        \\\"closest_pois\\\", schema=searchname, index=False, if_exists=\\\"append\\\", con=conn\\n    )\";\n",
       "                var nbb_formatted_code = \"with engine.connect() as conn:\\n    output.to_sql(\\n        \\\"closest_pois\\\", schema=searchname, index=False, if_exists=\\\"append\\\", con=conn\\n    )\";\n",
       "                var nbb_cells = Jupyter.notebook.get_cells();\n",
       "                for (var i = 0; i < nbb_cells.length; ++i) {\n",
       "                    if (nbb_cells[i].input_prompt_number == nbb_cell_id) {\n",
       "                        if (nbb_cells[i].get_text() == nbb_unformatted_code) {\n",
       "                             nbb_cells[i].set_text(nbb_formatted_code);\n",
       "                        }\n",
       "                        break;\n",
       "                    }\n",
       "                }\n",
       "            }, 500);\n",
       "            "
      ],
      "text/plain": [
       "<IPython.core.display.Javascript object>"
      ]
     },
     "metadata": {},
     "output_type": "display_data"
    }
   ],
   "source": [
    "with engine.connect() as conn:\n",
    "    output.to_sql(\n",
    "        \"closest_pois\", schema=searchname, index=False, if_exists=\"append\", con=conn\n",
    "    )"
   ]
  }
 ],
 "metadata": {
  "kernelspec": {
   "display_name": "Python 3",
   "language": "python",
   "name": "python3"
  },
  "language_info": {
   "codemirror_mode": {
    "name": "ipython",
    "version": 3
   },
   "file_extension": ".py",
   "mimetype": "text/x-python",
   "name": "python",
   "nbconvert_exporter": "python",
   "pygments_lexer": "ipython3",
   "version": "3.8.10"
  }
 },
 "nbformat": 4,
 "nbformat_minor": 5
}
