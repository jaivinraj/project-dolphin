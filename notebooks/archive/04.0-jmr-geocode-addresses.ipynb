{
 "cells": [
  {
   "cell_type": "markdown",
   "id": "immediate-terror",
   "metadata": {},
   "source": [
    "# Geocode Addresses"
   ]
  },
  {
   "cell_type": "raw",
   "id": "9c39c548",
   "metadata": {},
   "source": [
    "!pip install nb_black"
   ]
  },
  {
   "cell_type": "raw",
   "id": "91df947f",
   "metadata": {},
   "source": [
    "!pip install sqlalchemy"
   ]
  },
  {
   "cell_type": "code",
   "execution_count": 1,
   "id": "1cb9a253",
   "metadata": {},
   "outputs": [
    {
     "data": {
      "application/javascript": [
       "\n",
       "            setTimeout(function() {\n",
       "                var nbb_cell_id = 1;\n",
       "                var nbb_unformatted_code = \"%load_ext nb_black\";\n",
       "                var nbb_formatted_code = \"%load_ext nb_black\";\n",
       "                var nbb_cells = Jupyter.notebook.get_cells();\n",
       "                for (var i = 0; i < nbb_cells.length; ++i) {\n",
       "                    if (nbb_cells[i].input_prompt_number == nbb_cell_id) {\n",
       "                        if (nbb_cells[i].get_text() == nbb_unformatted_code) {\n",
       "                             nbb_cells[i].set_text(nbb_formatted_code);\n",
       "                        }\n",
       "                        break;\n",
       "                    }\n",
       "                }\n",
       "            }, 500);\n",
       "            "
      ],
      "text/plain": [
       "<IPython.core.display.Javascript object>"
      ]
     },
     "metadata": {},
     "output_type": "display_data"
    }
   ],
   "source": [
    "%load_ext nb_black"
   ]
  },
  {
   "cell_type": "code",
   "execution_count": 2,
   "id": "df8cb71e",
   "metadata": {},
   "outputs": [
    {
     "data": {
      "application/javascript": [
       "\n",
       "            setTimeout(function() {\n",
       "                var nbb_cell_id = 2;\n",
       "                var nbb_unformatted_code = \"import logging\\n\\nimport sys\\n\\nsys.path.append(\\\"/app\\\")\\n\\n# import scraping as sc\\n\\nimport pandas as pd\\n\\nfrom jinja2 import Template\\n\\nfrom db_utils import get_engine, get_table_creation_query\\n\\nimport geocoding as gc\\nimport os\";\n",
       "                var nbb_formatted_code = \"import logging\\n\\nimport sys\\n\\nsys.path.append(\\\"/app\\\")\\n\\n# import scraping as sc\\n\\nimport pandas as pd\\n\\nfrom jinja2 import Template\\n\\nfrom db_utils import get_engine, get_table_creation_query\\n\\nimport geocoding as gc\\nimport os\";\n",
       "                var nbb_cells = Jupyter.notebook.get_cells();\n",
       "                for (var i = 0; i < nbb_cells.length; ++i) {\n",
       "                    if (nbb_cells[i].input_prompt_number == nbb_cell_id) {\n",
       "                        if (nbb_cells[i].get_text() == nbb_unformatted_code) {\n",
       "                             nbb_cells[i].set_text(nbb_formatted_code);\n",
       "                        }\n",
       "                        break;\n",
       "                    }\n",
       "                }\n",
       "            }, 500);\n",
       "            "
      ],
      "text/plain": [
       "<IPython.core.display.Javascript object>"
      ]
     },
     "metadata": {},
     "output_type": "display_data"
    }
   ],
   "source": [
    "import logging\n",
    "\n",
    "import sys\n",
    "\n",
    "sys.path.append(\"/app\")\n",
    "\n",
    "# import scraping as sc\n",
    "\n",
    "import pandas as pd\n",
    "\n",
    "from jinja2 import Template\n",
    "\n",
    "from db_utils import get_engine, get_table_creation_query\n",
    "\n",
    "import geocoding as gc\n",
    "import os"
   ]
  },
  {
   "cell_type": "code",
   "execution_count": 3,
   "id": "immediate-retreat",
   "metadata": {},
   "outputs": [
    {
     "data": {
      "application/javascript": [
       "\n",
       "            setTimeout(function() {\n",
       "                var nbb_cell_id = 3;\n",
       "                var nbb_unformatted_code = \"# global logger\\nlogger = logging.getLogger()\\nhandler = logging.StreamHandler()\\nformatter = logging.Formatter(\\\"%(asctime)s [%(name)s] %(levelname)-8s %(message)s\\\")\\nhandler.setFormatter(formatter)\\nlogger.addHandler(handler)\\nlogger.setLevel(logging.INFO)\";\n",
       "                var nbb_formatted_code = \"# global logger\\nlogger = logging.getLogger()\\nhandler = logging.StreamHandler()\\nformatter = logging.Formatter(\\\"%(asctime)s [%(name)s] %(levelname)-8s %(message)s\\\")\\nhandler.setFormatter(formatter)\\nlogger.addHandler(handler)\\nlogger.setLevel(logging.INFO)\";\n",
       "                var nbb_cells = Jupyter.notebook.get_cells();\n",
       "                for (var i = 0; i < nbb_cells.length; ++i) {\n",
       "                    if (nbb_cells[i].input_prompt_number == nbb_cell_id) {\n",
       "                        if (nbb_cells[i].get_text() == nbb_unformatted_code) {\n",
       "                             nbb_cells[i].set_text(nbb_formatted_code);\n",
       "                        }\n",
       "                        break;\n",
       "                    }\n",
       "                }\n",
       "            }, 500);\n",
       "            "
      ],
      "text/plain": [
       "<IPython.core.display.Javascript object>"
      ]
     },
     "metadata": {},
     "output_type": "display_data"
    }
   ],
   "source": [
    "# global logger\n",
    "logger = logging.getLogger()\n",
    "handler = logging.StreamHandler()\n",
    "formatter = logging.Formatter(\"%(asctime)s [%(name)s] %(levelname)-8s %(message)s\")\n",
    "handler.setFormatter(formatter)\n",
    "logger.addHandler(handler)\n",
    "logger.setLevel(logging.INFO)"
   ]
  },
  {
   "cell_type": "markdown",
   "id": "concrete-quilt",
   "metadata": {},
   "source": [
    "## Connect to Database"
   ]
  },
  {
   "cell_type": "code",
   "execution_count": 4,
   "id": "false-store",
   "metadata": {},
   "outputs": [
    {
     "data": {
      "application/javascript": [
       "\n",
       "            setTimeout(function() {\n",
       "                var nbb_cell_id = 4;\n",
       "                var nbb_unformatted_code = \"user = os.getenv(\\\"POSTGRES_USER\\\")\\npassword = os.getenv(\\\"POSTGRES_PASSWORD\\\")\\nhost = os.getenv(\\\"POSTGRES_HOST\\\")\";\n",
       "                var nbb_formatted_code = \"user = os.getenv(\\\"POSTGRES_USER\\\")\\npassword = os.getenv(\\\"POSTGRES_PASSWORD\\\")\\nhost = os.getenv(\\\"POSTGRES_HOST\\\")\";\n",
       "                var nbb_cells = Jupyter.notebook.get_cells();\n",
       "                for (var i = 0; i < nbb_cells.length; ++i) {\n",
       "                    if (nbb_cells[i].input_prompt_number == nbb_cell_id) {\n",
       "                        if (nbb_cells[i].get_text() == nbb_unformatted_code) {\n",
       "                             nbb_cells[i].set_text(nbb_formatted_code);\n",
       "                        }\n",
       "                        break;\n",
       "                    }\n",
       "                }\n",
       "            }, 500);\n",
       "            "
      ],
      "text/plain": [
       "<IPython.core.display.Javascript object>"
      ]
     },
     "metadata": {},
     "output_type": "display_data"
    }
   ],
   "source": [
    "user = os.getenv(\"POSTGRES_USER\")\n",
    "password = os.getenv(\"POSTGRES_PASSWORD\")\n",
    "host = os.getenv(\"POSTGRES_HOST\")"
   ]
  },
  {
   "cell_type": "code",
   "execution_count": 5,
   "id": "celtic-beaver",
   "metadata": {},
   "outputs": [
    {
     "data": {
      "application/javascript": [
       "\n",
       "            setTimeout(function() {\n",
       "                var nbb_cell_id = 5;\n",
       "                var nbb_unformatted_code = \"engine = get_engine(user, password, host)\";\n",
       "                var nbb_formatted_code = \"engine = get_engine(user, password, host)\";\n",
       "                var nbb_cells = Jupyter.notebook.get_cells();\n",
       "                for (var i = 0; i < nbb_cells.length; ++i) {\n",
       "                    if (nbb_cells[i].input_prompt_number == nbb_cell_id) {\n",
       "                        if (nbb_cells[i].get_text() == nbb_unformatted_code) {\n",
       "                             nbb_cells[i].set_text(nbb_formatted_code);\n",
       "                        }\n",
       "                        break;\n",
       "                    }\n",
       "                }\n",
       "            }, 500);\n",
       "            "
      ],
      "text/plain": [
       "<IPython.core.display.Javascript object>"
      ]
     },
     "metadata": {},
     "output_type": "display_data"
    }
   ],
   "source": [
    "engine = get_engine(user, password, host)"
   ]
  },
  {
   "cell_type": "markdown",
   "id": "human-sandwich",
   "metadata": {},
   "source": [
    "## Define search parameters"
   ]
  },
  {
   "cell_type": "code",
   "execution_count": 6,
   "id": "f27274cd",
   "metadata": {},
   "outputs": [
    {
     "data": {
      "application/javascript": [
       "\n",
       "            setTimeout(function() {\n",
       "                var nbb_cell_id = 6;\n",
       "                var nbb_unformatted_code = \"searchname = \\\"tamzin\\\"\";\n",
       "                var nbb_formatted_code = \"searchname = \\\"tamzin\\\"\";\n",
       "                var nbb_cells = Jupyter.notebook.get_cells();\n",
       "                for (var i = 0; i < nbb_cells.length; ++i) {\n",
       "                    if (nbb_cells[i].input_prompt_number == nbb_cell_id) {\n",
       "                        if (nbb_cells[i].get_text() == nbb_unformatted_code) {\n",
       "                             nbb_cells[i].set_text(nbb_formatted_code);\n",
       "                        }\n",
       "                        break;\n",
       "                    }\n",
       "                }\n",
       "            }, 500);\n",
       "            "
      ],
      "text/plain": [
       "<IPython.core.display.Javascript object>"
      ]
     },
     "metadata": {},
     "output_type": "display_data"
    }
   ],
   "source": [
    "searchname = \"tamzin\""
   ]
  },
  {
   "cell_type": "markdown",
   "id": "valuable-theater",
   "metadata": {},
   "source": [
    "## Create View for Addresses to Process"
   ]
  },
  {
   "cell_type": "code",
   "execution_count": 7,
   "id": "addressed-fiber",
   "metadata": {},
   "outputs": [
    {
     "data": {
      "application/javascript": [
       "\n",
       "            setTimeout(function() {\n",
       "                var nbb_cell_id = 7;\n",
       "                var nbb_unformatted_code = \"q_view = f\\\"\\\"\\\"CREATE OR REPLACE VIEW {searchname}.addresses_to_process AS\\nSELECT u.id,u.address\\nFROM {searchname}.unique_addresses u\\nINNER JOIN\\n{searchname}.address_ids_to_process a\\non a.address_id=u.id\\n\\\"\\\"\\\"\";\n",
       "                var nbb_formatted_code = \"q_view = f\\\"\\\"\\\"CREATE OR REPLACE VIEW {searchname}.addresses_to_process AS\\nSELECT u.id,u.address\\nFROM {searchname}.unique_addresses u\\nINNER JOIN\\n{searchname}.address_ids_to_process a\\non a.address_id=u.id\\n\\\"\\\"\\\"\";\n",
       "                var nbb_cells = Jupyter.notebook.get_cells();\n",
       "                for (var i = 0; i < nbb_cells.length; ++i) {\n",
       "                    if (nbb_cells[i].input_prompt_number == nbb_cell_id) {\n",
       "                        if (nbb_cells[i].get_text() == nbb_unformatted_code) {\n",
       "                             nbb_cells[i].set_text(nbb_formatted_code);\n",
       "                        }\n",
       "                        break;\n",
       "                    }\n",
       "                }\n",
       "            }, 500);\n",
       "            "
      ],
      "text/plain": [
       "<IPython.core.display.Javascript object>"
      ]
     },
     "metadata": {},
     "output_type": "display_data"
    }
   ],
   "source": [
    "q_view = f\"\"\"CREATE OR REPLACE VIEW {searchname}.addresses_to_process AS\n",
    "SELECT u.id,u.address\n",
    "FROM {searchname}.unique_addresses u\n",
    "INNER JOIN\n",
    "{searchname}.address_ids_to_process a\n",
    "on a.address_id=u.id\n",
    "\"\"\""
   ]
  },
  {
   "cell_type": "code",
   "execution_count": 8,
   "id": "suburban-technology",
   "metadata": {},
   "outputs": [
    {
     "data": {
      "application/javascript": [
       "\n",
       "            setTimeout(function() {\n",
       "                var nbb_cell_id = 8;\n",
       "                var nbb_unformatted_code = \"with engine.connect() as conn:\\n    conn.execute(q_view)\";\n",
       "                var nbb_formatted_code = \"with engine.connect() as conn:\\n    conn.execute(q_view)\";\n",
       "                var nbb_cells = Jupyter.notebook.get_cells();\n",
       "                for (var i = 0; i < nbb_cells.length; ++i) {\n",
       "                    if (nbb_cells[i].input_prompt_number == nbb_cell_id) {\n",
       "                        if (nbb_cells[i].get_text() == nbb_unformatted_code) {\n",
       "                             nbb_cells[i].set_text(nbb_formatted_code);\n",
       "                        }\n",
       "                        break;\n",
       "                    }\n",
       "                }\n",
       "            }, 500);\n",
       "            "
      ],
      "text/plain": [
       "<IPython.core.display.Javascript object>"
      ]
     },
     "metadata": {},
     "output_type": "display_data"
    }
   ],
   "source": [
    "with engine.connect() as conn:\n",
    "    conn.execute(q_view)"
   ]
  },
  {
   "cell_type": "markdown",
   "id": "forty-listing",
   "metadata": {},
   "source": [
    "## Load data"
   ]
  },
  {
   "cell_type": "code",
   "execution_count": 9,
   "id": "separate-insurance",
   "metadata": {},
   "outputs": [
    {
     "data": {
      "application/javascript": [
       "\n",
       "            setTimeout(function() {\n",
       "                var nbb_cell_id = 9;\n",
       "                var nbb_unformatted_code = \"with engine.connect() as conn:\\n    df = pd.read_sql(f\\\"SELECT * FROM {searchname}.addresses_to_process\\\", con=conn)\";\n",
       "                var nbb_formatted_code = \"with engine.connect() as conn:\\n    df = pd.read_sql(f\\\"SELECT * FROM {searchname}.addresses_to_process\\\", con=conn)\";\n",
       "                var nbb_cells = Jupyter.notebook.get_cells();\n",
       "                for (var i = 0; i < nbb_cells.length; ++i) {\n",
       "                    if (nbb_cells[i].input_prompt_number == nbb_cell_id) {\n",
       "                        if (nbb_cells[i].get_text() == nbb_unformatted_code) {\n",
       "                             nbb_cells[i].set_text(nbb_formatted_code);\n",
       "                        }\n",
       "                        break;\n",
       "                    }\n",
       "                }\n",
       "            }, 500);\n",
       "            "
      ],
      "text/plain": [
       "<IPython.core.display.Javascript object>"
      ]
     },
     "metadata": {},
     "output_type": "display_data"
    }
   ],
   "source": [
    "with engine.connect() as conn:\n",
    "    df = pd.read_sql(f\"SELECT * FROM {searchname}.addresses_to_process\", con=conn)"
   ]
  },
  {
   "cell_type": "code",
   "execution_count": 10,
   "id": "illegal-exhibit",
   "metadata": {},
   "outputs": [
    {
     "name": "stderr",
     "output_type": "stream",
     "text": [
      "2021-05-28 13:56:14,549 [root] INFO     Loaded 155 addresses to geocode\n"
     ]
    },
    {
     "data": {
      "application/javascript": [
       "\n",
       "            setTimeout(function() {\n",
       "                var nbb_cell_id = 10;\n",
       "                var nbb_unformatted_code = \"logger.info(f\\\"Loaded {len(df)} addresses to geocode\\\")\";\n",
       "                var nbb_formatted_code = \"logger.info(f\\\"Loaded {len(df)} addresses to geocode\\\")\";\n",
       "                var nbb_cells = Jupyter.notebook.get_cells();\n",
       "                for (var i = 0; i < nbb_cells.length; ++i) {\n",
       "                    if (nbb_cells[i].input_prompt_number == nbb_cell_id) {\n",
       "                        if (nbb_cells[i].get_text() == nbb_unformatted_code) {\n",
       "                             nbb_cells[i].set_text(nbb_formatted_code);\n",
       "                        }\n",
       "                        break;\n",
       "                    }\n",
       "                }\n",
       "            }, 500);\n",
       "            "
      ],
      "text/plain": [
       "<IPython.core.display.Javascript object>"
      ]
     },
     "metadata": {},
     "output_type": "display_data"
    }
   ],
   "source": [
    "logger.info(f\"Loaded {len(df)} addresses to geocode\")"
   ]
  },
  {
   "cell_type": "code",
   "execution_count": 11,
   "id": "generic-incident",
   "metadata": {},
   "outputs": [
    {
     "name": "stderr",
     "output_type": "stream",
     "text": [
      "2021-05-28 13:56:14,560 [geocoding] INFO     Querying geolocations...\n",
      "100%|██████████| 155/155 [01:17<00:00,  2.01it/s]\n",
      "2021-05-28 13:57:31,637 [geocoding] INFO     Compiling results...\n",
      "2021-05-28 13:57:31,641 [geocoding] INFO     155 of 155 successfully fetched (100.00%)\n"
     ]
    },
    {
     "data": {
      "application/javascript": [
       "\n",
       "            setTimeout(function() {\n",
       "                var nbb_cell_id = 11;\n",
       "                var nbb_unformatted_code = \"df_results = gc.query_addresses(df)\";\n",
       "                var nbb_formatted_code = \"df_results = gc.query_addresses(df)\";\n",
       "                var nbb_cells = Jupyter.notebook.get_cells();\n",
       "                for (var i = 0; i < nbb_cells.length; ++i) {\n",
       "                    if (nbb_cells[i].input_prompt_number == nbb_cell_id) {\n",
       "                        if (nbb_cells[i].get_text() == nbb_unformatted_code) {\n",
       "                             nbb_cells[i].set_text(nbb_formatted_code);\n",
       "                        }\n",
       "                        break;\n",
       "                    }\n",
       "                }\n",
       "            }, 500);\n",
       "            "
      ],
      "text/plain": [
       "<IPython.core.display.Javascript object>"
      ]
     },
     "metadata": {},
     "output_type": "display_data"
    }
   ],
   "source": [
    "df_results = gc.query_addresses(df)"
   ]
  },
  {
   "cell_type": "code",
   "execution_count": 12,
   "id": "senior-burner",
   "metadata": {},
   "outputs": [
    {
     "name": "stderr",
     "output_type": "stream",
     "text": [
      "2021-05-28 13:57:31,653 [root] INFO     Geocoded 155 addresses\n"
     ]
    },
    {
     "data": {
      "application/javascript": [
       "\n",
       "            setTimeout(function() {\n",
       "                var nbb_cell_id = 12;\n",
       "                var nbb_unformatted_code = \"logger.info(f\\\"Geocoded {len(df_results)} addresses\\\")\";\n",
       "                var nbb_formatted_code = \"logger.info(f\\\"Geocoded {len(df_results)} addresses\\\")\";\n",
       "                var nbb_cells = Jupyter.notebook.get_cells();\n",
       "                for (var i = 0; i < nbb_cells.length; ++i) {\n",
       "                    if (nbb_cells[i].input_prompt_number == nbb_cell_id) {\n",
       "                        if (nbb_cells[i].get_text() == nbb_unformatted_code) {\n",
       "                             nbb_cells[i].set_text(nbb_formatted_code);\n",
       "                        }\n",
       "                        break;\n",
       "                    }\n",
       "                }\n",
       "            }, 500);\n",
       "            "
      ],
      "text/plain": [
       "<IPython.core.display.Javascript object>"
      ]
     },
     "metadata": {},
     "output_type": "display_data"
    }
   ],
   "source": [
    "logger.info(f\"Geocoded {len(df_results)} addresses\")"
   ]
  },
  {
   "cell_type": "markdown",
   "id": "available-orleans",
   "metadata": {},
   "source": [
    "## Create geocoded table"
   ]
  },
  {
   "cell_type": "code",
   "execution_count": 13,
   "id": "excess-grove",
   "metadata": {},
   "outputs": [
    {
     "data": {
      "application/javascript": [
       "\n",
       "            setTimeout(function() {\n",
       "                var nbb_cell_id = 13;\n",
       "                var nbb_unformatted_code = \"cols = {\\n    \\\"latitude\\\": \\\"DECIMAL(10,6)\\\",\\n    \\\"longitude\\\": \\\"DECIMAL(10,6)\\\",\\n    \\\"address_id\\\": \\\"INTEGER\\\",\\n    \\\"geocoded_address\\\": \\\"VARCHAR(256)\\\",\\n}\\n\\nindex_cols = [\\\"address_id\\\"]\\nunique_cols = [\\\"address_id\\\"]\";\n",
       "                var nbb_formatted_code = \"cols = {\\n    \\\"latitude\\\": \\\"DECIMAL(10,6)\\\",\\n    \\\"longitude\\\": \\\"DECIMAL(10,6)\\\",\\n    \\\"address_id\\\": \\\"INTEGER\\\",\\n    \\\"geocoded_address\\\": \\\"VARCHAR(256)\\\",\\n}\\n\\nindex_cols = [\\\"address_id\\\"]\\nunique_cols = [\\\"address_id\\\"]\";\n",
       "                var nbb_cells = Jupyter.notebook.get_cells();\n",
       "                for (var i = 0; i < nbb_cells.length; ++i) {\n",
       "                    if (nbb_cells[i].input_prompt_number == nbb_cell_id) {\n",
       "                        if (nbb_cells[i].get_text() == nbb_unformatted_code) {\n",
       "                             nbb_cells[i].set_text(nbb_formatted_code);\n",
       "                        }\n",
       "                        break;\n",
       "                    }\n",
       "                }\n",
       "            }, 500);\n",
       "            "
      ],
      "text/plain": [
       "<IPython.core.display.Javascript object>"
      ]
     },
     "metadata": {},
     "output_type": "display_data"
    }
   ],
   "source": [
    "cols = {\n",
    "    \"latitude\": \"DECIMAL(10,6)\",\n",
    "    \"longitude\": \"DECIMAL(10,6)\",\n",
    "    \"address_id\": \"INTEGER\",\n",
    "    \"geocoded_address\": \"VARCHAR(256)\",\n",
    "}\n",
    "\n",
    "index_cols = [\"address_id\"]\n",
    "unique_cols = [\"address_id\"]"
   ]
  },
  {
   "cell_type": "code",
   "execution_count": 14,
   "id": "invalid-murder",
   "metadata": {},
   "outputs": [
    {
     "data": {
      "application/javascript": [
       "\n",
       "            setTimeout(function() {\n",
       "                var nbb_cell_id = 14;\n",
       "                var nbb_unformatted_code = \"create_q = get_table_creation_query(\\n    \\\"geocoded_addresses\\\", cols, searchname, index_cols, unique_cols\\n)\";\n",
       "                var nbb_formatted_code = \"create_q = get_table_creation_query(\\n    \\\"geocoded_addresses\\\", cols, searchname, index_cols, unique_cols\\n)\";\n",
       "                var nbb_cells = Jupyter.notebook.get_cells();\n",
       "                for (var i = 0; i < nbb_cells.length; ++i) {\n",
       "                    if (nbb_cells[i].input_prompt_number == nbb_cell_id) {\n",
       "                        if (nbb_cells[i].get_text() == nbb_unformatted_code) {\n",
       "                             nbb_cells[i].set_text(nbb_formatted_code);\n",
       "                        }\n",
       "                        break;\n",
       "                    }\n",
       "                }\n",
       "            }, 500);\n",
       "            "
      ],
      "text/plain": [
       "<IPython.core.display.Javascript object>"
      ]
     },
     "metadata": {},
     "output_type": "display_data"
    }
   ],
   "source": [
    "create_q = get_table_creation_query(\n",
    "    \"geocoded_addresses\", cols, searchname, index_cols, unique_cols\n",
    ")"
   ]
  },
  {
   "cell_type": "code",
   "execution_count": 15,
   "id": "geological-kitty",
   "metadata": {},
   "outputs": [
    {
     "data": {
      "application/javascript": [
       "\n",
       "            setTimeout(function() {\n",
       "                var nbb_cell_id = 15;\n",
       "                var nbb_unformatted_code = \"with engine.connect() as conn:\\n    conn.execute(create_q)\";\n",
       "                var nbb_formatted_code = \"with engine.connect() as conn:\\n    conn.execute(create_q)\";\n",
       "                var nbb_cells = Jupyter.notebook.get_cells();\n",
       "                for (var i = 0; i < nbb_cells.length; ++i) {\n",
       "                    if (nbb_cells[i].input_prompt_number == nbb_cell_id) {\n",
       "                        if (nbb_cells[i].get_text() == nbb_unformatted_code) {\n",
       "                             nbb_cells[i].set_text(nbb_formatted_code);\n",
       "                        }\n",
       "                        break;\n",
       "                    }\n",
       "                }\n",
       "            }, 500);\n",
       "            "
      ],
      "text/plain": [
       "<IPython.core.display.Javascript object>"
      ]
     },
     "metadata": {},
     "output_type": "display_data"
    }
   ],
   "source": [
    "with engine.connect() as conn:\n",
    "    conn.execute(create_q)"
   ]
  },
  {
   "cell_type": "markdown",
   "id": "nutritional-scottish",
   "metadata": {},
   "source": [
    "## Add to table"
   ]
  },
  {
   "cell_type": "code",
   "execution_count": 16,
   "id": "higher-reader",
   "metadata": {},
   "outputs": [
    {
     "data": {
      "application/javascript": [
       "\n",
       "            setTimeout(function() {\n",
       "                var nbb_cell_id = 16;\n",
       "                var nbb_unformatted_code = \"with engine.connect() as conn:\\n    df_results[[\\\"id\\\", \\\"address\\\", \\\"latitude\\\", \\\"longitude\\\"]].rename(\\n        columns={\\\"id\\\": \\\"address_id\\\", \\\"address\\\": \\\"geocoded_address\\\"}\\n    ).to_sql(\\n        \\\"geocoded_addresses\\\",\\n        schema=searchname,\\n        index=False,\\n        con=conn,\\n        if_exists=\\\"append\\\",\\n    )\";\n",
       "                var nbb_formatted_code = \"with engine.connect() as conn:\\n    df_results[[\\\"id\\\", \\\"address\\\", \\\"latitude\\\", \\\"longitude\\\"]].rename(\\n        columns={\\\"id\\\": \\\"address_id\\\", \\\"address\\\": \\\"geocoded_address\\\"}\\n    ).to_sql(\\n        \\\"geocoded_addresses\\\",\\n        schema=searchname,\\n        index=False,\\n        con=conn,\\n        if_exists=\\\"append\\\",\\n    )\";\n",
       "                var nbb_cells = Jupyter.notebook.get_cells();\n",
       "                for (var i = 0; i < nbb_cells.length; ++i) {\n",
       "                    if (nbb_cells[i].input_prompt_number == nbb_cell_id) {\n",
       "                        if (nbb_cells[i].get_text() == nbb_unformatted_code) {\n",
       "                             nbb_cells[i].set_text(nbb_formatted_code);\n",
       "                        }\n",
       "                        break;\n",
       "                    }\n",
       "                }\n",
       "            }, 500);\n",
       "            "
      ],
      "text/plain": [
       "<IPython.core.display.Javascript object>"
      ]
     },
     "metadata": {},
     "output_type": "display_data"
    }
   ],
   "source": [
    "with engine.connect() as conn:\n",
    "    df_results[[\"id\", \"address\", \"latitude\", \"longitude\"]].rename(\n",
    "        columns={\"id\": \"address_id\", \"address\": \"geocoded_address\"}\n",
    "    ).to_sql(\n",
    "        \"geocoded_addresses\",\n",
    "        schema=searchname,\n",
    "        index=False,\n",
    "        con=conn,\n",
    "        if_exists=\"append\",\n",
    "    )"
   ]
  },
  {
   "cell_type": "markdown",
   "id": "extensive-authority",
   "metadata": {},
   "source": [
    "## Note invalid addresses"
   ]
  },
  {
   "cell_type": "code",
   "execution_count": 17,
   "id": "grateful-egypt",
   "metadata": {},
   "outputs": [
    {
     "data": {
      "application/javascript": [
       "\n",
       "            setTimeout(function() {\n",
       "                var nbb_cell_id = 17;\n",
       "                var nbb_unformatted_code = \"q_add_invalid = f\\\"\\\"\\\"INSERT INTO {searchname}.invalid_addresses (address_id)\\nSELECT a.address_id\\nFROM   {searchname}.address_ids_to_process a\\nWHERE  NOT EXISTS (\\n   SELECT  -- SELECT list mostly irrelevant; can just be empty in Postgres\\n   FROM   {searchname}.geocoded_addresses g\\n   WHERE  g.address_id = a.address_id\\n   );\\n\\\"\\\"\\\"\";\n",
       "                var nbb_formatted_code = \"q_add_invalid = f\\\"\\\"\\\"INSERT INTO {searchname}.invalid_addresses (address_id)\\nSELECT a.address_id\\nFROM   {searchname}.address_ids_to_process a\\nWHERE  NOT EXISTS (\\n   SELECT  -- SELECT list mostly irrelevant; can just be empty in Postgres\\n   FROM   {searchname}.geocoded_addresses g\\n   WHERE  g.address_id = a.address_id\\n   );\\n\\\"\\\"\\\"\";\n",
       "                var nbb_cells = Jupyter.notebook.get_cells();\n",
       "                for (var i = 0; i < nbb_cells.length; ++i) {\n",
       "                    if (nbb_cells[i].input_prompt_number == nbb_cell_id) {\n",
       "                        if (nbb_cells[i].get_text() == nbb_unformatted_code) {\n",
       "                             nbb_cells[i].set_text(nbb_formatted_code);\n",
       "                        }\n",
       "                        break;\n",
       "                    }\n",
       "                }\n",
       "            }, 500);\n",
       "            "
      ],
      "text/plain": [
       "<IPython.core.display.Javascript object>"
      ]
     },
     "metadata": {},
     "output_type": "display_data"
    }
   ],
   "source": [
    "q_add_invalid = f\"\"\"INSERT INTO {searchname}.invalid_addresses (address_id)\n",
    "SELECT a.address_id\n",
    "FROM   {searchname}.address_ids_to_process a\n",
    "WHERE  NOT EXISTS (\n",
    "   SELECT  -- SELECT list mostly irrelevant; can just be empty in Postgres\n",
    "   FROM   {searchname}.geocoded_addresses g\n",
    "   WHERE  g.address_id = a.address_id\n",
    "   );\n",
    "\"\"\""
   ]
  },
  {
   "cell_type": "code",
   "execution_count": 18,
   "id": "active-connectivity",
   "metadata": {},
   "outputs": [
    {
     "data": {
      "application/javascript": [
       "\n",
       "            setTimeout(function() {\n",
       "                var nbb_cell_id = 18;\n",
       "                var nbb_unformatted_code = \"with engine.connect() as conn:\\n    conn.execute(q_add_invalid)\";\n",
       "                var nbb_formatted_code = \"with engine.connect() as conn:\\n    conn.execute(q_add_invalid)\";\n",
       "                var nbb_cells = Jupyter.notebook.get_cells();\n",
       "                for (var i = 0; i < nbb_cells.length; ++i) {\n",
       "                    if (nbb_cells[i].input_prompt_number == nbb_cell_id) {\n",
       "                        if (nbb_cells[i].get_text() == nbb_unformatted_code) {\n",
       "                             nbb_cells[i].set_text(nbb_formatted_code);\n",
       "                        }\n",
       "                        break;\n",
       "                    }\n",
       "                }\n",
       "            }, 500);\n",
       "            "
      ],
      "text/plain": [
       "<IPython.core.display.Javascript object>"
      ]
     },
     "metadata": {},
     "output_type": "display_data"
    }
   ],
   "source": [
    "with engine.connect() as conn:\n",
    "    conn.execute(q_add_invalid)"
   ]
  }
 ],
 "metadata": {
  "kernelspec": {
   "display_name": "Python 3",
   "language": "python",
   "name": "python3"
  },
  "language_info": {
   "codemirror_mode": {
    "name": "ipython",
    "version": 3
   },
   "file_extension": ".py",
   "mimetype": "text/x-python",
   "name": "python",
   "nbconvert_exporter": "python",
   "pygments_lexer": "ipython3",
   "version": "3.8.10"
  }
 },
 "nbformat": 4,
 "nbformat_minor": 5
}
