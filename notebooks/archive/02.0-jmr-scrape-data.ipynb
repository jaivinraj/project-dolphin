{
 "cells": [
  {
   "cell_type": "markdown",
   "id": "93950e40",
   "metadata": {},
   "source": [
    "# Scrape Data from Rightmove"
   ]
  },
  {
   "cell_type": "raw",
   "id": "5b238f31",
   "metadata": {},
   "source": [
    "!pip install nb_black"
   ]
  },
  {
   "cell_type": "raw",
   "id": "bc3d7f9c",
   "metadata": {},
   "source": [
    "!pip install sqlalchemy"
   ]
  },
  {
   "cell_type": "code",
   "execution_count": 1,
   "id": "60db2921",
   "metadata": {},
   "outputs": [
    {
     "data": {
      "application/javascript": [
       "\n",
       "            setTimeout(function() {\n",
       "                var nbb_cell_id = 1;\n",
       "                var nbb_unformatted_code = \"%load_ext nb_black\";\n",
       "                var nbb_formatted_code = \"%load_ext nb_black\";\n",
       "                var nbb_cells = Jupyter.notebook.get_cells();\n",
       "                for (var i = 0; i < nbb_cells.length; ++i) {\n",
       "                    if (nbb_cells[i].input_prompt_number == nbb_cell_id) {\n",
       "                        if (nbb_cells[i].get_text() == nbb_unformatted_code) {\n",
       "                             nbb_cells[i].set_text(nbb_formatted_code);\n",
       "                        }\n",
       "                        break;\n",
       "                    }\n",
       "                }\n",
       "            }, 500);\n",
       "            "
      ],
      "text/plain": [
       "<IPython.core.display.Javascript object>"
      ]
     },
     "metadata": {},
     "output_type": "display_data"
    }
   ],
   "source": [
    "%load_ext nb_black"
   ]
  },
  {
   "cell_type": "code",
   "execution_count": 2,
   "id": "bb0755c2",
   "metadata": {},
   "outputs": [
    {
     "data": {
      "application/javascript": [
       "\n",
       "            setTimeout(function() {\n",
       "                var nbb_cell_id = 2;\n",
       "                var nbb_unformatted_code = \"import logging\\n\\nimport sys\\n\\nsys.path.append(\\\"/app\\\")\\n\\nimport scraping as sc\\n\\nimport pandas as pd\\n\\nfrom jinja2 import Template\\n\\nimport os\\n\\nfrom db_utils import get_engine, get_table_creation_query\";\n",
       "                var nbb_formatted_code = \"import logging\\n\\nimport sys\\n\\nsys.path.append(\\\"/app\\\")\\n\\nimport scraping as sc\\n\\nimport pandas as pd\\n\\nfrom jinja2 import Template\\n\\nimport os\\n\\nfrom db_utils import get_engine, get_table_creation_query\";\n",
       "                var nbb_cells = Jupyter.notebook.get_cells();\n",
       "                for (var i = 0; i < nbb_cells.length; ++i) {\n",
       "                    if (nbb_cells[i].input_prompt_number == nbb_cell_id) {\n",
       "                        if (nbb_cells[i].get_text() == nbb_unformatted_code) {\n",
       "                             nbb_cells[i].set_text(nbb_formatted_code);\n",
       "                        }\n",
       "                        break;\n",
       "                    }\n",
       "                }\n",
       "            }, 500);\n",
       "            "
      ],
      "text/plain": [
       "<IPython.core.display.Javascript object>"
      ]
     },
     "metadata": {},
     "output_type": "display_data"
    }
   ],
   "source": [
    "import logging\n",
    "\n",
    "import sys\n",
    "\n",
    "sys.path.append(\"/app\")\n",
    "\n",
    "import scraping as sc\n",
    "\n",
    "import pandas as pd\n",
    "\n",
    "from jinja2 import Template\n",
    "\n",
    "import os\n",
    "\n",
    "from db_utils import get_engine, get_table_creation_query"
   ]
  },
  {
   "cell_type": "code",
   "execution_count": 3,
   "id": "f27c354f",
   "metadata": {},
   "outputs": [
    {
     "data": {
      "application/javascript": [
       "\n",
       "            setTimeout(function() {\n",
       "                var nbb_cell_id = 3;\n",
       "                var nbb_unformatted_code = \"# global logger\\nlogger = logging.getLogger()\\nhandler = logging.StreamHandler()\\nformatter = logging.Formatter(\\\"%(asctime)s [%(name)s] %(levelname)-8s %(message)s\\\")\\nhandler.setFormatter(formatter)\\nlogger.addHandler(handler)\\nlogger.setLevel(logging.INFO)\";\n",
       "                var nbb_formatted_code = \"# global logger\\nlogger = logging.getLogger()\\nhandler = logging.StreamHandler()\\nformatter = logging.Formatter(\\\"%(asctime)s [%(name)s] %(levelname)-8s %(message)s\\\")\\nhandler.setFormatter(formatter)\\nlogger.addHandler(handler)\\nlogger.setLevel(logging.INFO)\";\n",
       "                var nbb_cells = Jupyter.notebook.get_cells();\n",
       "                for (var i = 0; i < nbb_cells.length; ++i) {\n",
       "                    if (nbb_cells[i].input_prompt_number == nbb_cell_id) {\n",
       "                        if (nbb_cells[i].get_text() == nbb_unformatted_code) {\n",
       "                             nbb_cells[i].set_text(nbb_formatted_code);\n",
       "                        }\n",
       "                        break;\n",
       "                    }\n",
       "                }\n",
       "            }, 500);\n",
       "            "
      ],
      "text/plain": [
       "<IPython.core.display.Javascript object>"
      ]
     },
     "metadata": {},
     "output_type": "display_data"
    }
   ],
   "source": [
    "# global logger\n",
    "logger = logging.getLogger()\n",
    "handler = logging.StreamHandler()\n",
    "formatter = logging.Formatter(\"%(asctime)s [%(name)s] %(levelname)-8s %(message)s\")\n",
    "handler.setFormatter(formatter)\n",
    "logger.addHandler(handler)\n",
    "logger.setLevel(logging.INFO)"
   ]
  },
  {
   "cell_type": "markdown",
   "id": "c668860e",
   "metadata": {},
   "source": [
    "## Connect to Database"
   ]
  },
  {
   "cell_type": "code",
   "execution_count": 4,
   "id": "f2db10a9",
   "metadata": {},
   "outputs": [
    {
     "data": {
      "application/javascript": [
       "\n",
       "            setTimeout(function() {\n",
       "                var nbb_cell_id = 4;\n",
       "                var nbb_unformatted_code = \"user = os.getenv(\\\"POSTGRES_USER\\\")\\npassword = os.getenv(\\\"POSTGRES_PASSWORD\\\")\\nhost = os.getenv(\\\"POSTGRES_HOST\\\")\";\n",
       "                var nbb_formatted_code = \"user = os.getenv(\\\"POSTGRES_USER\\\")\\npassword = os.getenv(\\\"POSTGRES_PASSWORD\\\")\\nhost = os.getenv(\\\"POSTGRES_HOST\\\")\";\n",
       "                var nbb_cells = Jupyter.notebook.get_cells();\n",
       "                for (var i = 0; i < nbb_cells.length; ++i) {\n",
       "                    if (nbb_cells[i].input_prompt_number == nbb_cell_id) {\n",
       "                        if (nbb_cells[i].get_text() == nbb_unformatted_code) {\n",
       "                             nbb_cells[i].set_text(nbb_formatted_code);\n",
       "                        }\n",
       "                        break;\n",
       "                    }\n",
       "                }\n",
       "            }, 500);\n",
       "            "
      ],
      "text/plain": [
       "<IPython.core.display.Javascript object>"
      ]
     },
     "metadata": {},
     "output_type": "display_data"
    }
   ],
   "source": [
    "user = os.getenv(\"POSTGRES_USER\")\n",
    "password = os.getenv(\"POSTGRES_PASSWORD\")\n",
    "host = os.getenv(\"POSTGRES_HOST\")"
   ]
  },
  {
   "cell_type": "code",
   "execution_count": 5,
   "id": "44c03135",
   "metadata": {},
   "outputs": [
    {
     "data": {
      "application/javascript": [
       "\n",
       "            setTimeout(function() {\n",
       "                var nbb_cell_id = 5;\n",
       "                var nbb_unformatted_code = \"engine = get_engine(user, password, host)\";\n",
       "                var nbb_formatted_code = \"engine = get_engine(user, password, host)\";\n",
       "                var nbb_cells = Jupyter.notebook.get_cells();\n",
       "                for (var i = 0; i < nbb_cells.length; ++i) {\n",
       "                    if (nbb_cells[i].input_prompt_number == nbb_cell_id) {\n",
       "                        if (nbb_cells[i].get_text() == nbb_unformatted_code) {\n",
       "                             nbb_cells[i].set_text(nbb_formatted_code);\n",
       "                        }\n",
       "                        break;\n",
       "                    }\n",
       "                }\n",
       "            }, 500);\n",
       "            "
      ],
      "text/plain": [
       "<IPython.core.display.Javascript object>"
      ]
     },
     "metadata": {},
     "output_type": "display_data"
    }
   ],
   "source": [
    "engine = get_engine(user, password, host)"
   ]
  },
  {
   "cell_type": "markdown",
   "id": "b9d8291e",
   "metadata": {},
   "source": [
    "## Define search parameters"
   ]
  },
  {
   "cell_type": "code",
   "execution_count": 6,
   "id": "212df973",
   "metadata": {
    "scrolled": true
   },
   "outputs": [
    {
     "data": {
      "application/javascript": [
       "\n",
       "            setTimeout(function() {\n",
       "                var nbb_cell_id = 6;\n",
       "                var nbb_unformatted_code = \"url = \\\"https://www.rightmove.co.uk/property-to-rent/find.html?locationIdentifier=REGION%5E70331&maxBedrooms=1&minBedrooms=0&maxPrice=2000&minPrice=500&propertyTypes=&includeLetAgreed=false&mustHave=&dontShow=&furnishTypes=furnished&keywords=%22\\\"\";\n",
       "                var nbb_formatted_code = \"url = \\\"https://www.rightmove.co.uk/property-to-rent/find.html?locationIdentifier=REGION%5E70331&maxBedrooms=1&minBedrooms=0&maxPrice=2000&minPrice=500&propertyTypes=&includeLetAgreed=false&mustHave=&dontShow=&furnishTypes=furnished&keywords=%22\\\"\";\n",
       "                var nbb_cells = Jupyter.notebook.get_cells();\n",
       "                for (var i = 0; i < nbb_cells.length; ++i) {\n",
       "                    if (nbb_cells[i].input_prompt_number == nbb_cell_id) {\n",
       "                        if (nbb_cells[i].get_text() == nbb_unformatted_code) {\n",
       "                             nbb_cells[i].set_text(nbb_formatted_code);\n",
       "                        }\n",
       "                        break;\n",
       "                    }\n",
       "                }\n",
       "            }, 500);\n",
       "            "
      ],
      "text/plain": [
       "<IPython.core.display.Javascript object>"
      ]
     },
     "metadata": {},
     "output_type": "display_data"
    }
   ],
   "source": [
    "url = \"https://www.rightmove.co.uk/property-to-rent/find.html?locationIdentifier=REGION%5E70331&maxBedrooms=1&minBedrooms=0&maxPrice=2000&minPrice=500&propertyTypes=&includeLetAgreed=false&mustHave=&dontShow=&furnishTypes=furnished&keywords=%22\""
   ]
  },
  {
   "cell_type": "code",
   "execution_count": 7,
   "id": "5d001f4f",
   "metadata": {},
   "outputs": [
    {
     "data": {
      "application/javascript": [
       "\n",
       "            setTimeout(function() {\n",
       "                var nbb_cell_id = 7;\n",
       "                var nbb_unformatted_code = \"searchname = \\\"tamzin\\\"\";\n",
       "                var nbb_formatted_code = \"searchname = \\\"tamzin\\\"\";\n",
       "                var nbb_cells = Jupyter.notebook.get_cells();\n",
       "                for (var i = 0; i < nbb_cells.length; ++i) {\n",
       "                    if (nbb_cells[i].input_prompt_number == nbb_cell_id) {\n",
       "                        if (nbb_cells[i].get_text() == nbb_unformatted_code) {\n",
       "                             nbb_cells[i].set_text(nbb_formatted_code);\n",
       "                        }\n",
       "                        break;\n",
       "                    }\n",
       "                }\n",
       "            }, 500);\n",
       "            "
      ],
      "text/plain": [
       "<IPython.core.display.Javascript object>"
      ]
     },
     "metadata": {},
     "output_type": "display_data"
    }
   ],
   "source": [
    "searchname = \"tamzin\""
   ]
  },
  {
   "cell_type": "code",
   "execution_count": 8,
   "id": "54a45959",
   "metadata": {},
   "outputs": [
    {
     "data": {
      "application/javascript": [
       "\n",
       "            setTimeout(function() {\n",
       "                var nbb_cell_id = 8;\n",
       "                var nbb_unformatted_code = \"tablename = \\\"raw_data\\\"\";\n",
       "                var nbb_formatted_code = \"tablename = \\\"raw_data\\\"\";\n",
       "                var nbb_cells = Jupyter.notebook.get_cells();\n",
       "                for (var i = 0; i < nbb_cells.length; ++i) {\n",
       "                    if (nbb_cells[i].input_prompt_number == nbb_cell_id) {\n",
       "                        if (nbb_cells[i].get_text() == nbb_unformatted_code) {\n",
       "                             nbb_cells[i].set_text(nbb_formatted_code);\n",
       "                        }\n",
       "                        break;\n",
       "                    }\n",
       "                }\n",
       "            }, 500);\n",
       "            "
      ],
      "text/plain": [
       "<IPython.core.display.Javascript object>"
      ]
     },
     "metadata": {},
     "output_type": "display_data"
    }
   ],
   "source": [
    "tablename = \"raw_data\""
   ]
  },
  {
   "cell_type": "markdown",
   "id": "3cab5d3e",
   "metadata": {},
   "source": [
    "## Create table"
   ]
  },
  {
   "cell_type": "code",
   "execution_count": 9,
   "id": "5dae6c35",
   "metadata": {},
   "outputs": [
    {
     "data": {
      "application/javascript": [
       "\n",
       "            setTimeout(function() {\n",
       "                var nbb_cell_id = 9;\n",
       "                var nbb_unformatted_code = \"cols = {\\n    \\\"price\\\": \\\"INTEGER\\\",\\n    \\\"type\\\": \\\"VARCHAR(256)\\\",\\n    \\\"address\\\": \\\"VARCHAR(256)\\\",\\n    \\\"url\\\": \\\"TEXT\\\",\\n    \\\"agent_url\\\": \\\"TEXT\\\",\\n    \\\"postcode\\\": \\\"VARCHAR(32)\\\",\\n    \\\"number_bedrooms\\\": \\\"INTEGER\\\",\\n    \\\"search_date\\\": \\\"TIMESTAMP\\\",\\n}\\n\\nindex_cols = [\\\"url\\\", \\\"search_date\\\", \\\"address\\\"]\";\n",
       "                var nbb_formatted_code = \"cols = {\\n    \\\"price\\\": \\\"INTEGER\\\",\\n    \\\"type\\\": \\\"VARCHAR(256)\\\",\\n    \\\"address\\\": \\\"VARCHAR(256)\\\",\\n    \\\"url\\\": \\\"TEXT\\\",\\n    \\\"agent_url\\\": \\\"TEXT\\\",\\n    \\\"postcode\\\": \\\"VARCHAR(32)\\\",\\n    \\\"number_bedrooms\\\": \\\"INTEGER\\\",\\n    \\\"search_date\\\": \\\"TIMESTAMP\\\",\\n}\\n\\nindex_cols = [\\\"url\\\", \\\"search_date\\\", \\\"address\\\"]\";\n",
       "                var nbb_cells = Jupyter.notebook.get_cells();\n",
       "                for (var i = 0; i < nbb_cells.length; ++i) {\n",
       "                    if (nbb_cells[i].input_prompt_number == nbb_cell_id) {\n",
       "                        if (nbb_cells[i].get_text() == nbb_unformatted_code) {\n",
       "                             nbb_cells[i].set_text(nbb_formatted_code);\n",
       "                        }\n",
       "                        break;\n",
       "                    }\n",
       "                }\n",
       "            }, 500);\n",
       "            "
      ],
      "text/plain": [
       "<IPython.core.display.Javascript object>"
      ]
     },
     "metadata": {},
     "output_type": "display_data"
    }
   ],
   "source": [
    "cols = {\n",
    "    \"price\": \"INTEGER\",\n",
    "    \"type\": \"VARCHAR(256)\",\n",
    "    \"address\": \"VARCHAR(256)\",\n",
    "    \"url\": \"TEXT\",\n",
    "    \"agent_url\": \"TEXT\",\n",
    "    \"postcode\": \"VARCHAR(32)\",\n",
    "    \"number_bedrooms\": \"INTEGER\",\n",
    "    \"search_date\": \"TIMESTAMP\",\n",
    "}\n",
    "\n",
    "index_cols = [\"url\", \"search_date\", \"address\"]"
   ]
  },
  {
   "cell_type": "code",
   "execution_count": 10,
   "id": "fee44132",
   "metadata": {},
   "outputs": [
    {
     "data": {
      "application/javascript": [
       "\n",
       "            setTimeout(function() {\n",
       "                var nbb_cell_id = 10;\n",
       "                var nbb_unformatted_code = \"with engine.connect() as conn:\\n    conn.execute(f\\\"CREATE SCHEMA IF NOT EXISTS {searchname}\\\")\\n    conn.execute(get_table_creation_query(tablename, cols, searchname, index_cols))\";\n",
       "                var nbb_formatted_code = \"with engine.connect() as conn:\\n    conn.execute(f\\\"CREATE SCHEMA IF NOT EXISTS {searchname}\\\")\\n    conn.execute(get_table_creation_query(tablename, cols, searchname, index_cols))\";\n",
       "                var nbb_cells = Jupyter.notebook.get_cells();\n",
       "                for (var i = 0; i < nbb_cells.length; ++i) {\n",
       "                    if (nbb_cells[i].input_prompt_number == nbb_cell_id) {\n",
       "                        if (nbb_cells[i].get_text() == nbb_unformatted_code) {\n",
       "                             nbb_cells[i].set_text(nbb_formatted_code);\n",
       "                        }\n",
       "                        break;\n",
       "                    }\n",
       "                }\n",
       "            }, 500);\n",
       "            "
      ],
      "text/plain": [
       "<IPython.core.display.Javascript object>"
      ]
     },
     "metadata": {},
     "output_type": "display_data"
    }
   ],
   "source": [
    "with engine.connect() as conn:\n",
    "    conn.execute(f\"CREATE SCHEMA IF NOT EXISTS {searchname}\")\n",
    "    conn.execute(get_table_creation_query(tablename, cols, searchname, index_cols))"
   ]
  },
  {
   "cell_type": "markdown",
   "id": "2f5f66b3",
   "metadata": {},
   "source": [
    "## Scrape Data"
   ]
  },
  {
   "cell_type": "code",
   "execution_count": 11,
   "id": "e2396d71",
   "metadata": {
    "scrolled": false
   },
   "outputs": [
    {
     "name": "stderr",
     "output_type": "stream",
     "text": [
      "2021-05-27 10:31:26,038 [scraping] INFO     Starting RightMove scraping\n",
      "2021-05-27 10:31:26,040 [scraping] INFO     Scraping from RightMove...\n",
      "2021-05-27 10:31:30,414 [scraping] INFO     Fetched results\n"
     ]
    },
    {
     "data": {
      "application/javascript": [
       "\n",
       "            setTimeout(function() {\n",
       "                var nbb_cell_id = 11;\n",
       "                var nbb_unformatted_code = \"df = sc.scrape_rightmove(url)\";\n",
       "                var nbb_formatted_code = \"df = sc.scrape_rightmove(url)\";\n",
       "                var nbb_cells = Jupyter.notebook.get_cells();\n",
       "                for (var i = 0; i < nbb_cells.length; ++i) {\n",
       "                    if (nbb_cells[i].input_prompt_number == nbb_cell_id) {\n",
       "                        if (nbb_cells[i].get_text() == nbb_unformatted_code) {\n",
       "                             nbb_cells[i].set_text(nbb_formatted_code);\n",
       "                        }\n",
       "                        break;\n",
       "                    }\n",
       "                }\n",
       "            }, 500);\n",
       "            "
      ],
      "text/plain": [
       "<IPython.core.display.Javascript object>"
      ]
     },
     "metadata": {},
     "output_type": "display_data"
    }
   ],
   "source": [
    "df = sc.scrape_rightmove(url)"
   ]
  },
  {
   "cell_type": "markdown",
   "id": "087be7fb",
   "metadata": {},
   "source": [
    "## Save to Database"
   ]
  },
  {
   "cell_type": "code",
   "execution_count": 12,
   "id": "19c53302",
   "metadata": {},
   "outputs": [
    {
     "data": {
      "application/javascript": [
       "\n",
       "            setTimeout(function() {\n",
       "                var nbb_cell_id = 12;\n",
       "                var nbb_unformatted_code = \"with engine.connect() as conn:\\n    df.to_sql(tablename, schema=searchname, index=False, con=conn, if_exists=\\\"append\\\")\";\n",
       "                var nbb_formatted_code = \"with engine.connect() as conn:\\n    df.to_sql(tablename, schema=searchname, index=False, con=conn, if_exists=\\\"append\\\")\";\n",
       "                var nbb_cells = Jupyter.notebook.get_cells();\n",
       "                for (var i = 0; i < nbb_cells.length; ++i) {\n",
       "                    if (nbb_cells[i].input_prompt_number == nbb_cell_id) {\n",
       "                        if (nbb_cells[i].get_text() == nbb_unformatted_code) {\n",
       "                             nbb_cells[i].set_text(nbb_formatted_code);\n",
       "                        }\n",
       "                        break;\n",
       "                    }\n",
       "                }\n",
       "            }, 500);\n",
       "            "
      ],
      "text/plain": [
       "<IPython.core.display.Javascript object>"
      ]
     },
     "metadata": {},
     "output_type": "display_data"
    }
   ],
   "source": [
    "with engine.connect() as conn:\n",
    "    df.to_sql(tablename, schema=searchname, index=False, con=conn, if_exists=\"append\")"
   ]
  },
  {
   "cell_type": "markdown",
   "id": "4b088cc1",
   "metadata": {},
   "source": [
    "## Create table for new data"
   ]
  },
  {
   "cell_type": "code",
   "execution_count": 13,
   "id": "7c6d810a",
   "metadata": {},
   "outputs": [
    {
     "data": {
      "application/javascript": [
       "\n",
       "            setTimeout(function() {\n",
       "                var nbb_cell_id = 13;\n",
       "                var nbb_unformatted_code = \"cols_newdata = {\\n    \\\"property_id\\\": \\\"INTEGER\\\",\\n    \\\"address\\\": \\\"VARCHAR(256)\\\",\\n    \\\"url\\\": \\\"TEXT\\\",\\n}\";\n",
       "                var nbb_formatted_code = \"cols_newdata = {\\n    \\\"property_id\\\": \\\"INTEGER\\\",\\n    \\\"address\\\": \\\"VARCHAR(256)\\\",\\n    \\\"url\\\": \\\"TEXT\\\",\\n}\";\n",
       "                var nbb_cells = Jupyter.notebook.get_cells();\n",
       "                for (var i = 0; i < nbb_cells.length; ++i) {\n",
       "                    if (nbb_cells[i].input_prompt_number == nbb_cell_id) {\n",
       "                        if (nbb_cells[i].get_text() == nbb_unformatted_code) {\n",
       "                             nbb_cells[i].set_text(nbb_formatted_code);\n",
       "                        }\n",
       "                        break;\n",
       "                    }\n",
       "                }\n",
       "            }, 500);\n",
       "            "
      ],
      "text/plain": [
       "<IPython.core.display.Javascript object>"
      ]
     },
     "metadata": {},
     "output_type": "display_data"
    }
   ],
   "source": [
    "cols_newdata = {\n",
    "    \"property_id\": \"INTEGER\",\n",
    "    \"address\": \"VARCHAR(256)\",\n",
    "    \"url\": \"TEXT\",\n",
    "}"
   ]
  },
  {
   "cell_type": "code",
   "execution_count": 14,
   "id": "8f0d5004",
   "metadata": {
    "scrolled": true
   },
   "outputs": [
    {
     "data": {
      "application/javascript": [
       "\n",
       "            setTimeout(function() {\n",
       "                var nbb_cell_id = 14;\n",
       "                var nbb_unformatted_code = \"index_cols_newdata = [\\\"id\\\", \\\"address\\\", \\\"url\\\"]\";\n",
       "                var nbb_formatted_code = \"index_cols_newdata = [\\\"id\\\", \\\"address\\\", \\\"url\\\"]\";\n",
       "                var nbb_cells = Jupyter.notebook.get_cells();\n",
       "                for (var i = 0; i < nbb_cells.length; ++i) {\n",
       "                    if (nbb_cells[i].input_prompt_number == nbb_cell_id) {\n",
       "                        if (nbb_cells[i].get_text() == nbb_unformatted_code) {\n",
       "                             nbb_cells[i].set_text(nbb_formatted_code);\n",
       "                        }\n",
       "                        break;\n",
       "                    }\n",
       "                }\n",
       "            }, 500);\n",
       "            "
      ],
      "text/plain": [
       "<IPython.core.display.Javascript object>"
      ]
     },
     "metadata": {},
     "output_type": "display_data"
    }
   ],
   "source": [
    "index_cols_newdata = [\"id\", \"address\", \"url\"]"
   ]
  },
  {
   "cell_type": "code",
   "execution_count": 15,
   "id": "011e7a57",
   "metadata": {},
   "outputs": [
    {
     "data": {
      "application/javascript": [
       "\n",
       "            setTimeout(function() {\n",
       "                var nbb_cell_id = 15;\n",
       "                var nbb_unformatted_code = \"with engine.connect() as conn:\\n    #     conn.execute(f\\\"CREATE SCHEMA IF NOT EXISTS {searchname}\\\")\\n    conn.execute(\\n        get_table_creation_query(\\n            \\\"new_data\\\", cols_newdata, searchname, index_cols_newdata\\n        )\\n    )\";\n",
       "                var nbb_formatted_code = \"with engine.connect() as conn:\\n    #     conn.execute(f\\\"CREATE SCHEMA IF NOT EXISTS {searchname}\\\")\\n    conn.execute(\\n        get_table_creation_query(\\n            \\\"new_data\\\", cols_newdata, searchname, index_cols_newdata\\n        )\\n    )\";\n",
       "                var nbb_cells = Jupyter.notebook.get_cells();\n",
       "                for (var i = 0; i < nbb_cells.length; ++i) {\n",
       "                    if (nbb_cells[i].input_prompt_number == nbb_cell_id) {\n",
       "                        if (nbb_cells[i].get_text() == nbb_unformatted_code) {\n",
       "                             nbb_cells[i].set_text(nbb_formatted_code);\n",
       "                        }\n",
       "                        break;\n",
       "                    }\n",
       "                }\n",
       "            }, 500);\n",
       "            "
      ],
      "text/plain": [
       "<IPython.core.display.Javascript object>"
      ]
     },
     "metadata": {},
     "output_type": "display_data"
    }
   ],
   "source": [
    "with engine.connect() as conn:\n",
    "    #     conn.execute(f\"CREATE SCHEMA IF NOT EXISTS {searchname}\")\n",
    "    conn.execute(\n",
    "        get_table_creation_query(\n",
    "            \"new_data\", cols_newdata, searchname, index_cols_newdata\n",
    "        )\n",
    "    )"
   ]
  },
  {
   "cell_type": "markdown",
   "id": "d686efff",
   "metadata": {},
   "source": [
    "## Populate new data table"
   ]
  },
  {
   "cell_type": "code",
   "execution_count": 16,
   "id": "10079d5f",
   "metadata": {
    "scrolled": true
   },
   "outputs": [
    {
     "data": {
      "application/javascript": [
       "\n",
       "            setTimeout(function() {\n",
       "                var nbb_cell_id = 16;\n",
       "                var nbb_unformatted_code = \"with engine.connect() as conn:\\n    conn.execute(f\\\"DELETE FROM {searchname}.new_data\\\")\\n    conn.execute(\\n        f\\\"\\\"\\\"INSERT INTO {searchname}.new_data (property_id,url,address)\\n        SELECT rd.id AS property_id,rd.url,rd.address\\n\\nFROM {searchname}.{tablename} rd\\n\\nINNER JOIN (SELECT MAX(search_date) AS Maxsearch_date\\n\\n    FROM {searchname}.{tablename}\\n\\n) groupedrd\\n\\nON rd.search_date = groupedrd.Maxsearch_date\\\"\\\"\\\",\\n    )\\n#     conn.execute(f\\\"DROP SCHEMA {searchname} CASCADE\\\")\";\n",
       "                var nbb_formatted_code = \"with engine.connect() as conn:\\n    conn.execute(f\\\"DELETE FROM {searchname}.new_data\\\")\\n    conn.execute(\\n        f\\\"\\\"\\\"INSERT INTO {searchname}.new_data (property_id,url,address)\\n        SELECT rd.id AS property_id,rd.url,rd.address\\n\\nFROM {searchname}.{tablename} rd\\n\\nINNER JOIN (SELECT MAX(search_date) AS Maxsearch_date\\n\\n    FROM {searchname}.{tablename}\\n\\n) groupedrd\\n\\nON rd.search_date = groupedrd.Maxsearch_date\\\"\\\"\\\",\\n    )\\n#     conn.execute(f\\\"DROP SCHEMA {searchname} CASCADE\\\")\";\n",
       "                var nbb_cells = Jupyter.notebook.get_cells();\n",
       "                for (var i = 0; i < nbb_cells.length; ++i) {\n",
       "                    if (nbb_cells[i].input_prompt_number == nbb_cell_id) {\n",
       "                        if (nbb_cells[i].get_text() == nbb_unformatted_code) {\n",
       "                             nbb_cells[i].set_text(nbb_formatted_code);\n",
       "                        }\n",
       "                        break;\n",
       "                    }\n",
       "                }\n",
       "            }, 500);\n",
       "            "
      ],
      "text/plain": [
       "<IPython.core.display.Javascript object>"
      ]
     },
     "metadata": {},
     "output_type": "display_data"
    }
   ],
   "source": [
    "with engine.connect() as conn:\n",
    "    conn.execute(f\"DELETE FROM {searchname}.new_data\")\n",
    "    conn.execute(\n",
    "        f\"\"\"INSERT INTO {searchname}.new_data (property_id,url,address)\n",
    "        SELECT rd.id AS property_id,rd.url,rd.address\n",
    "\n",
    "FROM {searchname}.{tablename} rd\n",
    "\n",
    "INNER JOIN (SELECT MAX(search_date) AS Maxsearch_date\n",
    "\n",
    "    FROM {searchname}.{tablename}\n",
    "\n",
    ") groupedrd\n",
    "\n",
    "ON rd.search_date = groupedrd.Maxsearch_date\"\"\",\n",
    "    )\n",
    "#     conn.execute(f\"DROP SCHEMA {searchname} CASCADE\")"
   ]
  },
  {
   "cell_type": "code",
   "execution_count": 17,
   "id": "df5b1e14",
   "metadata": {},
   "outputs": [
    {
     "data": {
      "application/javascript": [
       "\n",
       "            setTimeout(function() {\n",
       "                var nbb_cell_id = 17;\n",
       "                var nbb_unformatted_code = \"q_load = f\\\"\\\"\\\"SELECT rd.id AS property_id,rd.url,rd.address\\n\\nFROM {searchname}.{tablename} rd\\n\\nINNER JOIN (SELECT MAX(search_date) AS Maxsearch_date\\n\\n    FROM {searchname}.{tablename}\\n\\n) groupedrd\\n\\nON rd.search_date = groupedrd.Maxsearch_date\\\"\\\"\\\"\";\n",
       "                var nbb_formatted_code = \"q_load = f\\\"\\\"\\\"SELECT rd.id AS property_id,rd.url,rd.address\\n\\nFROM {searchname}.{tablename} rd\\n\\nINNER JOIN (SELECT MAX(search_date) AS Maxsearch_date\\n\\n    FROM {searchname}.{tablename}\\n\\n) groupedrd\\n\\nON rd.search_date = groupedrd.Maxsearch_date\\\"\\\"\\\"\";\n",
       "                var nbb_cells = Jupyter.notebook.get_cells();\n",
       "                for (var i = 0; i < nbb_cells.length; ++i) {\n",
       "                    if (nbb_cells[i].input_prompt_number == nbb_cell_id) {\n",
       "                        if (nbb_cells[i].get_text() == nbb_unformatted_code) {\n",
       "                             nbb_cells[i].set_text(nbb_formatted_code);\n",
       "                        }\n",
       "                        break;\n",
       "                    }\n",
       "                }\n",
       "            }, 500);\n",
       "            "
      ],
      "text/plain": [
       "<IPython.core.display.Javascript object>"
      ]
     },
     "metadata": {},
     "output_type": "display_data"
    }
   ],
   "source": [
    "q_load = f\"\"\"SELECT rd.id AS property_id,rd.url,rd.address\n",
    "\n",
    "FROM {searchname}.{tablename} rd\n",
    "\n",
    "INNER JOIN (SELECT MAX(search_date) AS Maxsearch_date\n",
    "\n",
    "    FROM {searchname}.{tablename}\n",
    "\n",
    ") groupedrd\n",
    "\n",
    "ON rd.search_date = groupedrd.Maxsearch_date\"\"\""
   ]
  },
  {
   "cell_type": "raw",
   "id": "c3152e5f",
   "metadata": {},
   "source": [
    "q_load = f\"\"\"SELECT MAX(search_date) AS Maxsearch_date\n",
    "\n",
    "    FROM {searchname}.{tablename}\"\"\""
   ]
  },
  {
   "cell_type": "code",
   "execution_count": 18,
   "id": "7fd401a5",
   "metadata": {},
   "outputs": [
    {
     "data": {
      "application/javascript": [
       "\n",
       "            setTimeout(function() {\n",
       "                var nbb_cell_id = 18;\n",
       "                var nbb_unformatted_code = \"with engine.connect() as conn:\\n    test = pd.read_sql(q_load, con=conn)\";\n",
       "                var nbb_formatted_code = \"with engine.connect() as conn:\\n    test = pd.read_sql(q_load, con=conn)\";\n",
       "                var nbb_cells = Jupyter.notebook.get_cells();\n",
       "                for (var i = 0; i < nbb_cells.length; ++i) {\n",
       "                    if (nbb_cells[i].input_prompt_number == nbb_cell_id) {\n",
       "                        if (nbb_cells[i].get_text() == nbb_unformatted_code) {\n",
       "                             nbb_cells[i].set_text(nbb_formatted_code);\n",
       "                        }\n",
       "                        break;\n",
       "                    }\n",
       "                }\n",
       "            }, 500);\n",
       "            "
      ],
      "text/plain": [
       "<IPython.core.display.Javascript object>"
      ]
     },
     "metadata": {},
     "output_type": "display_data"
    }
   ],
   "source": [
    "with engine.connect() as conn:\n",
    "    test = pd.read_sql(q_load, con=conn)"
   ]
  },
  {
   "cell_type": "code",
   "execution_count": 19,
   "id": "932f404c",
   "metadata": {},
   "outputs": [
    {
     "data": {
      "text/html": [
       "<div>\n",
       "<style scoped>\n",
       "    .dataframe tbody tr th:only-of-type {\n",
       "        vertical-align: middle;\n",
       "    }\n",
       "\n",
       "    .dataframe tbody tr th {\n",
       "        vertical-align: top;\n",
       "    }\n",
       "\n",
       "    .dataframe thead th {\n",
       "        text-align: right;\n",
       "    }\n",
       "</style>\n",
       "<table border=\"1\" class=\"dataframe\">\n",
       "  <thead>\n",
       "    <tr style=\"text-align: right;\">\n",
       "      <th></th>\n",
       "      <th>property_id</th>\n",
       "      <th>url</th>\n",
       "      <th>address</th>\n",
       "    </tr>\n",
       "  </thead>\n",
       "  <tbody>\n",
       "    <tr>\n",
       "      <th>0</th>\n",
       "      <td>1</td>\n",
       "      <td>http://www.rightmove.co.uk/properties/79762554</td>\n",
       "      <td>Moorhouse Road, Notting Hill, London, W2</td>\n",
       "    </tr>\n",
       "    <tr>\n",
       "      <th>1</th>\n",
       "      <td>2</td>\n",
       "      <td>http://www.rightmove.co.uk/properties/107708012</td>\n",
       "      <td>Kensington Gardens Sqaure, Bayswater, W2</td>\n",
       "    </tr>\n",
       "    <tr>\n",
       "      <th>2</th>\n",
       "      <td>3</td>\n",
       "      <td>http://www.rightmove.co.uk/properties/107680058</td>\n",
       "      <td>Inverness Terrace, Queensway, London, W2</td>\n",
       "    </tr>\n",
       "    <tr>\n",
       "      <th>3</th>\n",
       "      <td>4</td>\n",
       "      <td>http://www.rightmove.co.uk/properties/107660666</td>\n",
       "      <td>Kensington High Street, Kensington, W8</td>\n",
       "    </tr>\n",
       "    <tr>\n",
       "      <th>4</th>\n",
       "      <td>5</td>\n",
       "      <td>http://www.rightmove.co.uk/properties/107660588</td>\n",
       "      <td>Inverness Terrace, Bayswater. W2</td>\n",
       "    </tr>\n",
       "    <tr>\n",
       "      <th>...</th>\n",
       "      <td>...</td>\n",
       "      <td>...</td>\n",
       "      <td>...</td>\n",
       "    </tr>\n",
       "    <tr>\n",
       "      <th>290</th>\n",
       "      <td>291</td>\n",
       "      <td>http://www.rightmove.co.uk/properties/95007860</td>\n",
       "      <td>Clanricarde Gardens, London, W2</td>\n",
       "    </tr>\n",
       "    <tr>\n",
       "      <th>291</th>\n",
       "      <td>292</td>\n",
       "      <td>http://www.rightmove.co.uk/properties/95008085</td>\n",
       "      <td>Clanricarde Gardens, London, W2</td>\n",
       "    </tr>\n",
       "    <tr>\n",
       "      <th>292</th>\n",
       "      <td>293</td>\n",
       "      <td>http://www.rightmove.co.uk/properties/71717397</td>\n",
       "      <td>Broadwalk Court, 79 Palace Gardens Terrace, Ke...</td>\n",
       "    </tr>\n",
       "    <tr>\n",
       "      <th>293</th>\n",
       "      <td>294</td>\n",
       "      <td>http://www.rightmove.co.uk/properties/90274115</td>\n",
       "      <td>PEMBRIDGE VILLAS, LONDON W11</td>\n",
       "    </tr>\n",
       "    <tr>\n",
       "      <th>294</th>\n",
       "      <td>295</td>\n",
       "      <td>http://www.rightmove.co.uk/properties/107660666</td>\n",
       "      <td>Kensington High Street, Kensington, W8</td>\n",
       "    </tr>\n",
       "  </tbody>\n",
       "</table>\n",
       "<p>295 rows × 3 columns</p>\n",
       "</div>"
      ],
      "text/plain": [
       "     property_id                                              url  \\\n",
       "0              1   http://www.rightmove.co.uk/properties/79762554   \n",
       "1              2  http://www.rightmove.co.uk/properties/107708012   \n",
       "2              3  http://www.rightmove.co.uk/properties/107680058   \n",
       "3              4  http://www.rightmove.co.uk/properties/107660666   \n",
       "4              5  http://www.rightmove.co.uk/properties/107660588   \n",
       "..           ...                                              ...   \n",
       "290          291   http://www.rightmove.co.uk/properties/95007860   \n",
       "291          292   http://www.rightmove.co.uk/properties/95008085   \n",
       "292          293   http://www.rightmove.co.uk/properties/71717397   \n",
       "293          294   http://www.rightmove.co.uk/properties/90274115   \n",
       "294          295  http://www.rightmove.co.uk/properties/107660666   \n",
       "\n",
       "                                               address  \n",
       "0             Moorhouse Road, Notting Hill, London, W2  \n",
       "1             Kensington Gardens Sqaure, Bayswater, W2  \n",
       "2             Inverness Terrace, Queensway, London, W2  \n",
       "3               Kensington High Street, Kensington, W8  \n",
       "4                     Inverness Terrace, Bayswater. W2  \n",
       "..                                                 ...  \n",
       "290                    Clanricarde Gardens, London, W2  \n",
       "291                    Clanricarde Gardens, London, W2  \n",
       "292  Broadwalk Court, 79 Palace Gardens Terrace, Ke...  \n",
       "293                       PEMBRIDGE VILLAS, LONDON W11  \n",
       "294             Kensington High Street, Kensington, W8  \n",
       "\n",
       "[295 rows x 3 columns]"
      ]
     },
     "execution_count": 19,
     "metadata": {},
     "output_type": "execute_result"
    },
    {
     "data": {
      "application/javascript": [
       "\n",
       "            setTimeout(function() {\n",
       "                var nbb_cell_id = 19;\n",
       "                var nbb_unformatted_code = \"test\";\n",
       "                var nbb_formatted_code = \"test\";\n",
       "                var nbb_cells = Jupyter.notebook.get_cells();\n",
       "                for (var i = 0; i < nbb_cells.length; ++i) {\n",
       "                    if (nbb_cells[i].input_prompt_number == nbb_cell_id) {\n",
       "                        if (nbb_cells[i].get_text() == nbb_unformatted_code) {\n",
       "                             nbb_cells[i].set_text(nbb_formatted_code);\n",
       "                        }\n",
       "                        break;\n",
       "                    }\n",
       "                }\n",
       "            }, 500);\n",
       "            "
      ],
      "text/plain": [
       "<IPython.core.display.Javascript object>"
      ]
     },
     "metadata": {},
     "output_type": "display_data"
    }
   ],
   "source": [
    "test"
   ]
  },
  {
   "cell_type": "code",
   "execution_count": null,
   "id": "19bdc5a8",
   "metadata": {},
   "outputs": [],
   "source": []
  },
  {
   "cell_type": "raw",
   "id": "bdc601b5",
   "metadata": {},
   "source": [
    "with engine.connect() as conn:\n",
    "    conn.execute(f\"DROP SCHEMA {searchname} CASCADE\")"
   ]
  }
 ],
 "metadata": {
  "kernelspec": {
   "display_name": "Python 3",
   "language": "python",
   "name": "python3"
  },
  "language_info": {
   "codemirror_mode": {
    "name": "ipython",
    "version": 3
   },
   "file_extension": ".py",
   "mimetype": "text/x-python",
   "name": "python",
   "nbconvert_exporter": "python",
   "pygments_lexer": "ipython3",
   "version": "3.8.10"
  }
 },
 "nbformat": 4,
 "nbformat_minor": 5
}
