{
 "cells": [
  {
   "cell_type": "markdown",
   "id": "complex-viewer",
   "metadata": {},
   "source": [
    "## Get distances to POIs along road network"
   ]
  },
  {
   "cell_type": "code",
   "execution_count": 1,
   "id": "1cb9a253",
   "metadata": {},
   "outputs": [
    {
     "data": {
      "application/javascript": [
       "\n",
       "            setTimeout(function() {\n",
       "                var nbb_cell_id = 1;\n",
       "                var nbb_unformatted_code = \"%load_ext nb_black\";\n",
       "                var nbb_formatted_code = \"%load_ext nb_black\";\n",
       "                var nbb_cells = Jupyter.notebook.get_cells();\n",
       "                for (var i = 0; i < nbb_cells.length; ++i) {\n",
       "                    if (nbb_cells[i].input_prompt_number == nbb_cell_id) {\n",
       "                        if (nbb_cells[i].get_text() == nbb_unformatted_code) {\n",
       "                             nbb_cells[i].set_text(nbb_formatted_code);\n",
       "                        }\n",
       "                        break;\n",
       "                    }\n",
       "                }\n",
       "            }, 500);\n",
       "            "
      ],
      "text/plain": [
       "<IPython.core.display.Javascript object>"
      ]
     },
     "metadata": {},
     "output_type": "display_data"
    }
   ],
   "source": [
    "%load_ext nb_black"
   ]
  },
  {
   "cell_type": "code",
   "execution_count": 2,
   "id": "df8cb71e",
   "metadata": {},
   "outputs": [
    {
     "data": {
      "application/javascript": [
       "\n",
       "            setTimeout(function() {\n",
       "                var nbb_cell_id = 2;\n",
       "                var nbb_unformatted_code = \"import logging\\n\\nimport sys\\n\\nsys.path.append(\\\"/app\\\")\\n\\n# import scraping as sc\\n\\nimport pandas as pd\\n\\nfrom jinja2 import Template\\n\\nfrom db_utils import get_engine, get_table_creation_query\\n\\nfrom gis_utils import get_gdf_coords, get_closest_idxs, get_closest_pois_slow\\n\\n\\nimport dataloader as loader\\n\\n\\nimport numpy as np\\nimport os\\n\\nimport geopandas as gpd\\nfrom network_utils import get_closest_osmids\\nfrom constants import DATA_PATH\\nimport pickle\\nimport osmnx as ox\\nimport networkx as nx\";\n",
       "                var nbb_formatted_code = \"import logging\\n\\nimport sys\\n\\nsys.path.append(\\\"/app\\\")\\n\\n# import scraping as sc\\n\\nimport pandas as pd\\n\\nfrom jinja2 import Template\\n\\nfrom db_utils import get_engine, get_table_creation_query\\n\\nfrom gis_utils import get_gdf_coords, get_closest_idxs, get_closest_pois_slow\\n\\n\\nimport dataloader as loader\\n\\n\\nimport numpy as np\\nimport os\\n\\nimport geopandas as gpd\\nfrom network_utils import get_closest_osmids\\nfrom constants import DATA_PATH\\nimport pickle\\nimport osmnx as ox\\nimport networkx as nx\";\n",
       "                var nbb_cells = Jupyter.notebook.get_cells();\n",
       "                for (var i = 0; i < nbb_cells.length; ++i) {\n",
       "                    if (nbb_cells[i].input_prompt_number == nbb_cell_id) {\n",
       "                        if (nbb_cells[i].get_text() == nbb_unformatted_code) {\n",
       "                             nbb_cells[i].set_text(nbb_formatted_code);\n",
       "                        }\n",
       "                        break;\n",
       "                    }\n",
       "                }\n",
       "            }, 500);\n",
       "            "
      ],
      "text/plain": [
       "<IPython.core.display.Javascript object>"
      ]
     },
     "metadata": {},
     "output_type": "display_data"
    }
   ],
   "source": [
    "import logging\n",
    "\n",
    "import sys\n",
    "\n",
    "sys.path.append(\"/app\")\n",
    "\n",
    "# import scraping as sc\n",
    "\n",
    "import pandas as pd\n",
    "\n",
    "from jinja2 import Template\n",
    "\n",
    "from db_utils import get_engine, get_table_creation_query\n",
    "\n",
    "from gis_utils import get_gdf_coords, get_closest_idxs, get_closest_pois_slow\n",
    "\n",
    "\n",
    "import dataloader as loader\n",
    "\n",
    "\n",
    "import numpy as np\n",
    "import os\n",
    "\n",
    "import geopandas as gpd\n",
    "from network_utils import get_closest_osmids\n",
    "from constants import DATA_PATH\n",
    "import pickle\n",
    "import osmnx as ox\n",
    "import networkx as nx"
   ]
  },
  {
   "cell_type": "code",
   "execution_count": 3,
   "id": "productive-presence",
   "metadata": {},
   "outputs": [
    {
     "data": {
      "application/javascript": [
       "\n",
       "            setTimeout(function() {\n",
       "                var nbb_cell_id = 3;\n",
       "                var nbb_unformatted_code = \"# global logger\\nlogger = logging.getLogger()\\nhandler = logging.StreamHandler()\\nformatter = logging.Formatter(\\\"%(asctime)s [%(name)s] %(levelname)-8s %(message)s\\\")\\nhandler.setFormatter(formatter)\\nlogger.addHandler(handler)\\nlogger.setLevel(logging.INFO)\";\n",
       "                var nbb_formatted_code = \"# global logger\\nlogger = logging.getLogger()\\nhandler = logging.StreamHandler()\\nformatter = logging.Formatter(\\\"%(asctime)s [%(name)s] %(levelname)-8s %(message)s\\\")\\nhandler.setFormatter(formatter)\\nlogger.addHandler(handler)\\nlogger.setLevel(logging.INFO)\";\n",
       "                var nbb_cells = Jupyter.notebook.get_cells();\n",
       "                for (var i = 0; i < nbb_cells.length; ++i) {\n",
       "                    if (nbb_cells[i].input_prompt_number == nbb_cell_id) {\n",
       "                        if (nbb_cells[i].get_text() == nbb_unformatted_code) {\n",
       "                             nbb_cells[i].set_text(nbb_formatted_code);\n",
       "                        }\n",
       "                        break;\n",
       "                    }\n",
       "                }\n",
       "            }, 500);\n",
       "            "
      ],
      "text/plain": [
       "<IPython.core.display.Javascript object>"
      ]
     },
     "metadata": {},
     "output_type": "display_data"
    }
   ],
   "source": [
    "# global logger\n",
    "logger = logging.getLogger()\n",
    "handler = logging.StreamHandler()\n",
    "formatter = logging.Formatter(\"%(asctime)s [%(name)s] %(levelname)-8s %(message)s\")\n",
    "handler.setFormatter(formatter)\n",
    "logger.addHandler(handler)\n",
    "logger.setLevel(logging.INFO)"
   ]
  },
  {
   "cell_type": "markdown",
   "id": "sonic-acquisition",
   "metadata": {},
   "source": [
    "## Connect to Database"
   ]
  },
  {
   "cell_type": "code",
   "execution_count": 4,
   "id": "false-store",
   "metadata": {},
   "outputs": [
    {
     "data": {
      "application/javascript": [
       "\n",
       "            setTimeout(function() {\n",
       "                var nbb_cell_id = 4;\n",
       "                var nbb_unformatted_code = \"user = os.getenv(\\\"POSTGRES_USER\\\")\\npassword = os.getenv(\\\"POSTGRES_PASSWORD\\\")\\nhost = os.getenv(\\\"POSTGRES_HOST\\\")\";\n",
       "                var nbb_formatted_code = \"user = os.getenv(\\\"POSTGRES_USER\\\")\\npassword = os.getenv(\\\"POSTGRES_PASSWORD\\\")\\nhost = os.getenv(\\\"POSTGRES_HOST\\\")\";\n",
       "                var nbb_cells = Jupyter.notebook.get_cells();\n",
       "                for (var i = 0; i < nbb_cells.length; ++i) {\n",
       "                    if (nbb_cells[i].input_prompt_number == nbb_cell_id) {\n",
       "                        if (nbb_cells[i].get_text() == nbb_unformatted_code) {\n",
       "                             nbb_cells[i].set_text(nbb_formatted_code);\n",
       "                        }\n",
       "                        break;\n",
       "                    }\n",
       "                }\n",
       "            }, 500);\n",
       "            "
      ],
      "text/plain": [
       "<IPython.core.display.Javascript object>"
      ]
     },
     "metadata": {},
     "output_type": "display_data"
    }
   ],
   "source": [
    "user = os.getenv(\"POSTGRES_USER\")\n",
    "password = os.getenv(\"POSTGRES_PASSWORD\")\n",
    "host = os.getenv(\"POSTGRES_HOST\")"
   ]
  },
  {
   "cell_type": "code",
   "execution_count": 5,
   "id": "looking-adult",
   "metadata": {},
   "outputs": [
    {
     "data": {
      "application/javascript": [
       "\n",
       "            setTimeout(function() {\n",
       "                var nbb_cell_id = 5;\n",
       "                var nbb_unformatted_code = \"engine = get_engine(user, password, host)\";\n",
       "                var nbb_formatted_code = \"engine = get_engine(user, password, host)\";\n",
       "                var nbb_cells = Jupyter.notebook.get_cells();\n",
       "                for (var i = 0; i < nbb_cells.length; ++i) {\n",
       "                    if (nbb_cells[i].input_prompt_number == nbb_cell_id) {\n",
       "                        if (nbb_cells[i].get_text() == nbb_unformatted_code) {\n",
       "                             nbb_cells[i].set_text(nbb_formatted_code);\n",
       "                        }\n",
       "                        break;\n",
       "                    }\n",
       "                }\n",
       "            }, 500);\n",
       "            "
      ],
      "text/plain": [
       "<IPython.core.display.Javascript object>"
      ]
     },
     "metadata": {},
     "output_type": "display_data"
    }
   ],
   "source": [
    "engine = get_engine(user, password, host)"
   ]
  },
  {
   "cell_type": "markdown",
   "id": "divine-diabetes",
   "metadata": {},
   "source": [
    "## Define search parameters"
   ]
  },
  {
   "cell_type": "code",
   "execution_count": 6,
   "id": "f27274cd",
   "metadata": {},
   "outputs": [
    {
     "data": {
      "application/javascript": [
       "\n",
       "            setTimeout(function() {\n",
       "                var nbb_cell_id = 6;\n",
       "                var nbb_unformatted_code = \"searchname = \\\"tamzin\\\"\";\n",
       "                var nbb_formatted_code = \"searchname = \\\"tamzin\\\"\";\n",
       "                var nbb_cells = Jupyter.notebook.get_cells();\n",
       "                for (var i = 0; i < nbb_cells.length; ++i) {\n",
       "                    if (nbb_cells[i].input_prompt_number == nbb_cell_id) {\n",
       "                        if (nbb_cells[i].get_text() == nbb_unformatted_code) {\n",
       "                             nbb_cells[i].set_text(nbb_formatted_code);\n",
       "                        }\n",
       "                        break;\n",
       "                    }\n",
       "                }\n",
       "            }, 500);\n",
       "            "
      ],
      "text/plain": [
       "<IPython.core.display.Javascript object>"
      ]
     },
     "metadata": {},
     "output_type": "display_data"
    }
   ],
   "source": [
    "searchname = \"tamzin\""
   ]
  },
  {
   "cell_type": "markdown",
   "id": "productive-snowboard",
   "metadata": {},
   "source": []
  },
  {
   "cell_type": "markdown",
   "id": "harmful-hormone",
   "metadata": {},
   "source": [
    "## Load Data"
   ]
  },
  {
   "cell_type": "code",
   "execution_count": 7,
   "id": "adjacent-arrival",
   "metadata": {},
   "outputs": [
    {
     "data": {
      "application/javascript": [
       "\n",
       "            setTimeout(function() {\n",
       "                var nbb_cell_id = 7;\n",
       "                var nbb_unformatted_code = \"with engine.connect() as conn:\\n    df_closest_pois = pd.read_sql(\\n        f\\\"\\\"\\\"\\n    SELECT c.eastings,c.northings,c.poi_id,c.address_id,c.poi_category FROM {searchname}.closest_pois c\\n    INNER JOIN {searchname}.address_ids_to_process a\\n    ON c.address_id=a.address_id\\\"\\\"\\\",\\n        con=conn,\\n    )\\n    df_addressnodes = pd.read_sql(\\n        f\\\"\\\"\\\"\\n    SELECT n.* FROM {searchname}.address_nodes n\\n    INNER JOIN {searchname}.address_ids_to_process a\\n    ON n.address_id=a.address_id\\\"\\\"\\\",\\n        con=conn,\\n    )\\n    df_poinodes = pd.read_sql(\\\"SELECT * FROM poi_nodes\\\", con=conn)\\n    df_nodes = pd.read_sql(\\\"SELECT * FROM node_coords\\\", con=conn)\";\n",
       "                var nbb_formatted_code = \"with engine.connect() as conn:\\n    df_closest_pois = pd.read_sql(\\n        f\\\"\\\"\\\"\\n    SELECT c.eastings,c.northings,c.poi_id,c.address_id,c.poi_category FROM {searchname}.closest_pois c\\n    INNER JOIN {searchname}.address_ids_to_process a\\n    ON c.address_id=a.address_id\\\"\\\"\\\",\\n        con=conn,\\n    )\\n    df_addressnodes = pd.read_sql(\\n        f\\\"\\\"\\\"\\n    SELECT n.* FROM {searchname}.address_nodes n\\n    INNER JOIN {searchname}.address_ids_to_process a\\n    ON n.address_id=a.address_id\\\"\\\"\\\",\\n        con=conn,\\n    )\\n    df_poinodes = pd.read_sql(\\\"SELECT * FROM poi_nodes\\\", con=conn)\\n    df_nodes = pd.read_sql(\\\"SELECT * FROM node_coords\\\", con=conn)\";\n",
       "                var nbb_cells = Jupyter.notebook.get_cells();\n",
       "                for (var i = 0; i < nbb_cells.length; ++i) {\n",
       "                    if (nbb_cells[i].input_prompt_number == nbb_cell_id) {\n",
       "                        if (nbb_cells[i].get_text() == nbb_unformatted_code) {\n",
       "                             nbb_cells[i].set_text(nbb_formatted_code);\n",
       "                        }\n",
       "                        break;\n",
       "                    }\n",
       "                }\n",
       "            }, 500);\n",
       "            "
      ],
      "text/plain": [
       "<IPython.core.display.Javascript object>"
      ]
     },
     "metadata": {},
     "output_type": "display_data"
    }
   ],
   "source": [
    "with engine.connect() as conn:\n",
    "    df_closest_pois = pd.read_sql(\n",
    "        f\"\"\"\n",
    "    SELECT c.eastings,c.northings,c.poi_id,c.address_id,c.poi_category FROM {searchname}.closest_pois c\n",
    "    INNER JOIN {searchname}.address_ids_to_process a\n",
    "    ON c.address_id=a.address_id\"\"\",\n",
    "        con=conn,\n",
    "    )\n",
    "    df_addressnodes = pd.read_sql(\n",
    "        f\"\"\"\n",
    "    SELECT n.* FROM {searchname}.address_nodes n\n",
    "    INNER JOIN {searchname}.address_ids_to_process a\n",
    "    ON n.address_id=a.address_id\"\"\",\n",
    "        con=conn,\n",
    "    )\n",
    "    df_poinodes = pd.read_sql(\"SELECT * FROM poi_nodes\", con=conn)\n",
    "    df_nodes = pd.read_sql(\"SELECT * FROM node_coords\", con=conn)"
   ]
  },
  {
   "cell_type": "code",
   "execution_count": 8,
   "id": "characteristic-uncertainty",
   "metadata": {},
   "outputs": [
    {
     "name": "stderr",
     "output_type": "stream",
     "text": [
      "2021-05-28 13:39:54,968 [root] INFO     Attempting to load network...\n",
      "2021-05-28 13:40:07,727 [root] INFO     Loaded network\n"
     ]
    },
    {
     "data": {
      "application/javascript": [
       "\n",
       "            setTimeout(function() {\n",
       "                var nbb_cell_id = 8;\n",
       "                var nbb_unformatted_code = \"logger.info(\\\"Attempting to load network...\\\")\\ntry:\\n    with open(os.path.join(DATA_PATH, \\\"roadnet_greaterlondon_walking.pkl\\\"), \\\"rb\\\") as f:\\n        walknet = pickle.load(f)\\n        logger.info(\\\"Loaded network\\\")\\nexcept EOFError as e:\\n    logger.warning(\\\"unable to load from pickle. Loading from graphml\\\")\\n    walknet = ox.load_graphml(\\n        os.path.join(DATA_PATH, \\\"roadnet_greaterlondon_walking.graphml\\\")\\n    )\\n    logger.info(\\\"saving new network\\\")\\n    with open(os.path.join(DATA_PATH, \\\"roadnet_greaterlondon_walking.pkl\\\"), \\\"wb\\\") as f:\\n        walknet = pickle.dump(walknet, f)\\n    logger.info(\\\"saved new network as pickle\\\")\";\n",
       "                var nbb_formatted_code = \"logger.info(\\\"Attempting to load network...\\\")\\ntry:\\n    with open(os.path.join(DATA_PATH, \\\"roadnet_greaterlondon_walking.pkl\\\"), \\\"rb\\\") as f:\\n        walknet = pickle.load(f)\\n        logger.info(\\\"Loaded network\\\")\\nexcept EOFError as e:\\n    logger.warning(\\\"unable to load from pickle. Loading from graphml\\\")\\n    walknet = ox.load_graphml(\\n        os.path.join(DATA_PATH, \\\"roadnet_greaterlondon_walking.graphml\\\")\\n    )\\n    logger.info(\\\"saving new network\\\")\\n    with open(os.path.join(DATA_PATH, \\\"roadnet_greaterlondon_walking.pkl\\\"), \\\"wb\\\") as f:\\n        walknet = pickle.dump(walknet, f)\\n    logger.info(\\\"saved new network as pickle\\\")\";\n",
       "                var nbb_cells = Jupyter.notebook.get_cells();\n",
       "                for (var i = 0; i < nbb_cells.length; ++i) {\n",
       "                    if (nbb_cells[i].input_prompt_number == nbb_cell_id) {\n",
       "                        if (nbb_cells[i].get_text() == nbb_unformatted_code) {\n",
       "                             nbb_cells[i].set_text(nbb_formatted_code);\n",
       "                        }\n",
       "                        break;\n",
       "                    }\n",
       "                }\n",
       "            }, 500);\n",
       "            "
      ],
      "text/plain": [
       "<IPython.core.display.Javascript object>"
      ]
     },
     "metadata": {},
     "output_type": "display_data"
    }
   ],
   "source": [
    "logger.info(\"Attempting to load network...\")\n",
    "try:\n",
    "    with open(os.path.join(DATA_PATH, \"roadnet_greaterlondon_walking.pkl\"), \"rb\") as f:\n",
    "        walknet = pickle.load(f)\n",
    "        logger.info(\"Loaded network\")\n",
    "except EOFError as e:\n",
    "    logger.warning(\"unable to load from pickle. Loading from graphml\")\n",
    "    walknet = ox.load_graphml(\n",
    "        os.path.join(DATA_PATH, \"roadnet_greaterlondon_walking.graphml\")\n",
    "    )\n",
    "    logger.info(\"saving new network\")\n",
    "    with open(os.path.join(DATA_PATH, \"roadnet_greaterlondon_walking.pkl\"), \"wb\") as f:\n",
    "        walknet = pickle.dump(walknet, f)\n",
    "    logger.info(\"saved new network as pickle\")"
   ]
  },
  {
   "cell_type": "code",
   "execution_count": 9,
   "id": "adjustable-projection",
   "metadata": {},
   "outputs": [
    {
     "data": {
      "application/javascript": [
       "\n",
       "            setTimeout(function() {\n",
       "                var nbb_cell_id = 9;\n",
       "                var nbb_unformatted_code = \"df_closest_pois = df_closest_pois.join(\\n    df_addressnodes.set_index(\\\"address_id\\\")[[\\\"osmid\\\"]].rename(\\n        columns={\\\"osmid\\\": \\\"osmid_address\\\"}\\n    ),\\n    on=\\\"address_id\\\",\\n)\";\n",
       "                var nbb_formatted_code = \"df_closest_pois = df_closest_pois.join(\\n    df_addressnodes.set_index(\\\"address_id\\\")[[\\\"osmid\\\"]].rename(\\n        columns={\\\"osmid\\\": \\\"osmid_address\\\"}\\n    ),\\n    on=\\\"address_id\\\",\\n)\";\n",
       "                var nbb_cells = Jupyter.notebook.get_cells();\n",
       "                for (var i = 0; i < nbb_cells.length; ++i) {\n",
       "                    if (nbb_cells[i].input_prompt_number == nbb_cell_id) {\n",
       "                        if (nbb_cells[i].get_text() == nbb_unformatted_code) {\n",
       "                             nbb_cells[i].set_text(nbb_formatted_code);\n",
       "                        }\n",
       "                        break;\n",
       "                    }\n",
       "                }\n",
       "            }, 500);\n",
       "            "
      ],
      "text/plain": [
       "<IPython.core.display.Javascript object>"
      ]
     },
     "metadata": {},
     "output_type": "display_data"
    }
   ],
   "source": [
    "df_closest_pois = df_closest_pois.join(\n",
    "    df_addressnodes.set_index(\"address_id\")[[\"osmid\"]].rename(\n",
    "        columns={\"osmid\": \"osmid_address\"}\n",
    "    ),\n",
    "    on=\"address_id\",\n",
    ")"
   ]
  },
  {
   "cell_type": "code",
   "execution_count": 10,
   "id": "higher-score",
   "metadata": {},
   "outputs": [
    {
     "data": {
      "application/javascript": [
       "\n",
       "            setTimeout(function() {\n",
       "                var nbb_cell_id = 10;\n",
       "                var nbb_unformatted_code = \"df_points = df_closest_pois.join(\\n    df_poinodes.set_index([\\\"poi_id\\\", \\\"poi_category\\\"])[[\\\"osmid\\\"]].rename(\\n        columns={\\\"osmid\\\": \\\"osmid_poi\\\"}\\n    ),\\n    on=[\\\"poi_id\\\", \\\"poi_category\\\"],\\n    how=\\\"inner\\\",\\n)\";\n",
       "                var nbb_formatted_code = \"df_points = df_closest_pois.join(\\n    df_poinodes.set_index([\\\"poi_id\\\", \\\"poi_category\\\"])[[\\\"osmid\\\"]].rename(\\n        columns={\\\"osmid\\\": \\\"osmid_poi\\\"}\\n    ),\\n    on=[\\\"poi_id\\\", \\\"poi_category\\\"],\\n    how=\\\"inner\\\",\\n)\";\n",
       "                var nbb_cells = Jupyter.notebook.get_cells();\n",
       "                for (var i = 0; i < nbb_cells.length; ++i) {\n",
       "                    if (nbb_cells[i].input_prompt_number == nbb_cell_id) {\n",
       "                        if (nbb_cells[i].get_text() == nbb_unformatted_code) {\n",
       "                             nbb_cells[i].set_text(nbb_formatted_code);\n",
       "                        }\n",
       "                        break;\n",
       "                    }\n",
       "                }\n",
       "            }, 500);\n",
       "            "
      ],
      "text/plain": [
       "<IPython.core.display.Javascript object>"
      ]
     },
     "metadata": {},
     "output_type": "display_data"
    }
   ],
   "source": [
    "df_points = df_closest_pois.join(\n",
    "    df_poinodes.set_index([\"poi_id\", \"poi_category\"])[[\"osmid\"]].rename(\n",
    "        columns={\"osmid\": \"osmid_poi\"}\n",
    "    ),\n",
    "    on=[\"poi_id\", \"poi_category\"],\n",
    "    how=\"inner\",\n",
    ")"
   ]
  },
  {
   "cell_type": "code",
   "execution_count": 11,
   "id": "second-indian",
   "metadata": {},
   "outputs": [
    {
     "data": {
      "text/html": [
       "<div>\n",
       "<style scoped>\n",
       "    .dataframe tbody tr th:only-of-type {\n",
       "        vertical-align: middle;\n",
       "    }\n",
       "\n",
       "    .dataframe tbody tr th {\n",
       "        vertical-align: top;\n",
       "    }\n",
       "\n",
       "    .dataframe thead th {\n",
       "        text-align: right;\n",
       "    }\n",
       "</style>\n",
       "<table border=\"1\" class=\"dataframe\">\n",
       "  <thead>\n",
       "    <tr style=\"text-align: right;\">\n",
       "      <th></th>\n",
       "      <th>eastings</th>\n",
       "      <th>northings</th>\n",
       "      <th>poi_id</th>\n",
       "      <th>address_id</th>\n",
       "      <th>poi_category</th>\n",
       "      <th>osmid_address</th>\n",
       "      <th>osmid_poi</th>\n",
       "    </tr>\n",
       "  </thead>\n",
       "  <tbody>\n",
       "    <tr>\n",
       "      <th>0</th>\n",
       "      <td>NaN</td>\n",
       "      <td>NaN</td>\n",
       "      <td>438</td>\n",
       "      <td>1</td>\n",
       "      <td>stations</td>\n",
       "      <td>3625978674</td>\n",
       "      <td>391661406</td>\n",
       "    </tr>\n",
       "    <tr>\n",
       "      <th>4</th>\n",
       "      <td>NaN</td>\n",
       "      <td>NaN</td>\n",
       "      <td>438</td>\n",
       "      <td>6</td>\n",
       "      <td>stations</td>\n",
       "      <td>26373735</td>\n",
       "      <td>391661406</td>\n",
       "    </tr>\n",
       "    <tr>\n",
       "      <th>6</th>\n",
       "      <td>NaN</td>\n",
       "      <td>NaN</td>\n",
       "      <td>438</td>\n",
       "      <td>8</td>\n",
       "      <td>stations</td>\n",
       "      <td>33043191</td>\n",
       "      <td>391661406</td>\n",
       "    </tr>\n",
       "    <tr>\n",
       "      <th>7</th>\n",
       "      <td>NaN</td>\n",
       "      <td>NaN</td>\n",
       "      <td>438</td>\n",
       "      <td>9</td>\n",
       "      <td>stations</td>\n",
       "      <td>856374252</td>\n",
       "      <td>391661406</td>\n",
       "    </tr>\n",
       "    <tr>\n",
       "      <th>26</th>\n",
       "      <td>NaN</td>\n",
       "      <td>NaN</td>\n",
       "      <td>438</td>\n",
       "      <td>31</td>\n",
       "      <td>stations</td>\n",
       "      <td>724436215</td>\n",
       "      <td>391661406</td>\n",
       "    </tr>\n",
       "    <tr>\n",
       "      <th>...</th>\n",
       "      <td>...</td>\n",
       "      <td>...</td>\n",
       "      <td>...</td>\n",
       "      <td>...</td>\n",
       "      <td>...</td>\n",
       "      <td>...</td>\n",
       "      <td>...</td>\n",
       "    </tr>\n",
       "    <tr>\n",
       "      <th>219</th>\n",
       "      <td>NaN</td>\n",
       "      <td>NaN</td>\n",
       "      <td>48</td>\n",
       "      <td>79</td>\n",
       "      <td>tubes</td>\n",
       "      <td>25500574</td>\n",
       "      <td>5273685155</td>\n",
       "    </tr>\n",
       "    <tr>\n",
       "      <th>225</th>\n",
       "      <td>NaN</td>\n",
       "      <td>NaN</td>\n",
       "      <td>380</td>\n",
       "      <td>88</td>\n",
       "      <td>tubes</td>\n",
       "      <td>26788876</td>\n",
       "      <td>7778679863</td>\n",
       "    </tr>\n",
       "    <tr>\n",
       "      <th>259</th>\n",
       "      <td>NaN</td>\n",
       "      <td>NaN</td>\n",
       "      <td>421</td>\n",
       "      <td>122</td>\n",
       "      <td>tubes</td>\n",
       "      <td>5473525786</td>\n",
       "      <td>5473525786</td>\n",
       "    </tr>\n",
       "    <tr>\n",
       "      <th>265</th>\n",
       "      <td>NaN</td>\n",
       "      <td>NaN</td>\n",
       "      <td>228</td>\n",
       "      <td>128</td>\n",
       "      <td>tubes</td>\n",
       "      <td>8586229072</td>\n",
       "      <td>7202554503</td>\n",
       "    </tr>\n",
       "    <tr>\n",
       "      <th>278</th>\n",
       "      <td>NaN</td>\n",
       "      <td>NaN</td>\n",
       "      <td>413</td>\n",
       "      <td>144</td>\n",
       "      <td>tubes</td>\n",
       "      <td>215521</td>\n",
       "      <td>307821045</td>\n",
       "    </tr>\n",
       "  </tbody>\n",
       "</table>\n",
       "<p>310 rows × 7 columns</p>\n",
       "</div>"
      ],
      "text/plain": [
       "     eastings  northings  poi_id  address_id poi_category  osmid_address  \\\n",
       "0         NaN        NaN     438           1     stations     3625978674   \n",
       "4         NaN        NaN     438           6     stations       26373735   \n",
       "6         NaN        NaN     438           8     stations       33043191   \n",
       "7         NaN        NaN     438           9     stations      856374252   \n",
       "26        NaN        NaN     438          31     stations      724436215   \n",
       "..        ...        ...     ...         ...          ...            ...   \n",
       "219       NaN        NaN      48          79        tubes       25500574   \n",
       "225       NaN        NaN     380          88        tubes       26788876   \n",
       "259       NaN        NaN     421         122        tubes     5473525786   \n",
       "265       NaN        NaN     228         128        tubes     8586229072   \n",
       "278       NaN        NaN     413         144        tubes         215521   \n",
       "\n",
       "      osmid_poi  \n",
       "0     391661406  \n",
       "4     391661406  \n",
       "6     391661406  \n",
       "7     391661406  \n",
       "26    391661406  \n",
       "..          ...  \n",
       "219  5273685155  \n",
       "225  7778679863  \n",
       "259  5473525786  \n",
       "265  7202554503  \n",
       "278   307821045  \n",
       "\n",
       "[310 rows x 7 columns]"
      ]
     },
     "execution_count": 11,
     "metadata": {},
     "output_type": "execute_result"
    },
    {
     "data": {
      "application/javascript": [
       "\n",
       "            setTimeout(function() {\n",
       "                var nbb_cell_id = 11;\n",
       "                var nbb_unformatted_code = \"df_points\";\n",
       "                var nbb_formatted_code = \"df_points\";\n",
       "                var nbb_cells = Jupyter.notebook.get_cells();\n",
       "                for (var i = 0; i < nbb_cells.length; ++i) {\n",
       "                    if (nbb_cells[i].input_prompt_number == nbb_cell_id) {\n",
       "                        if (nbb_cells[i].get_text() == nbb_unformatted_code) {\n",
       "                             nbb_cells[i].set_text(nbb_formatted_code);\n",
       "                        }\n",
       "                        break;\n",
       "                    }\n",
       "                }\n",
       "            }, 500);\n",
       "            "
      ],
      "text/plain": [
       "<IPython.core.display.Javascript object>"
      ]
     },
     "metadata": {},
     "output_type": "display_data"
    }
   ],
   "source": [
    "df_points"
   ]
  },
  {
   "cell_type": "code",
   "execution_count": 12,
   "id": "advisory-minnesota",
   "metadata": {},
   "outputs": [
    {
     "data": {
      "application/javascript": [
       "\n",
       "            setTimeout(function() {\n",
       "                var nbb_cell_id = 12;\n",
       "                var nbb_unformatted_code = \"if df_points.empty:\\n    df_points[\\\"shortest_path_distance\\\"] = []\\nelse:\\n    df_points[\\\"shortest_path_distance\\\"] = df_points.apply(\\n        lambda x: nx.shortest_path_length(\\n            walknet, x.osmid_address, x.osmid_poi, weight=\\\"length\\\"\\n        ),\\n        axis=1,\\n    )\";\n",
       "                var nbb_formatted_code = \"if df_points.empty:\\n    df_points[\\\"shortest_path_distance\\\"] = []\\nelse:\\n    df_points[\\\"shortest_path_distance\\\"] = df_points.apply(\\n        lambda x: nx.shortest_path_length(\\n            walknet, x.osmid_address, x.osmid_poi, weight=\\\"length\\\"\\n        ),\\n        axis=1,\\n    )\";\n",
       "                var nbb_cells = Jupyter.notebook.get_cells();\n",
       "                for (var i = 0; i < nbb_cells.length; ++i) {\n",
       "                    if (nbb_cells[i].input_prompt_number == nbb_cell_id) {\n",
       "                        if (nbb_cells[i].get_text() == nbb_unformatted_code) {\n",
       "                             nbb_cells[i].set_text(nbb_formatted_code);\n",
       "                        }\n",
       "                        break;\n",
       "                    }\n",
       "                }\n",
       "            }, 500);\n",
       "            "
      ],
      "text/plain": [
       "<IPython.core.display.Javascript object>"
      ]
     },
     "metadata": {},
     "output_type": "display_data"
    }
   ],
   "source": [
    "if df_points.empty:\n",
    "    df_points[\"shortest_path_distance\"] = []\n",
    "else:\n",
    "    df_points[\"shortest_path_distance\"] = df_points.apply(\n",
    "        lambda x: nx.shortest_path_length(\n",
    "            walknet, x.osmid_address, x.osmid_poi, weight=\"length\"\n",
    "        ),\n",
    "        axis=1,\n",
    "    )"
   ]
  },
  {
   "cell_type": "code",
   "execution_count": 13,
   "id": "progressive-borough",
   "metadata": {},
   "outputs": [
    {
     "data": {
      "application/javascript": [
       "\n",
       "            setTimeout(function() {\n",
       "                var nbb_cell_id = 13;\n",
       "                var nbb_unformatted_code = \"import seaborn as sns\";\n",
       "                var nbb_formatted_code = \"import seaborn as sns\";\n",
       "                var nbb_cells = Jupyter.notebook.get_cells();\n",
       "                for (var i = 0; i < nbb_cells.length; ++i) {\n",
       "                    if (nbb_cells[i].input_prompt_number == nbb_cell_id) {\n",
       "                        if (nbb_cells[i].get_text() == nbb_unformatted_code) {\n",
       "                             nbb_cells[i].set_text(nbb_formatted_code);\n",
       "                        }\n",
       "                        break;\n",
       "                    }\n",
       "                }\n",
       "            }, 500);\n",
       "            "
      ],
      "text/plain": [
       "<IPython.core.display.Javascript object>"
      ]
     },
     "metadata": {},
     "output_type": "display_data"
    }
   ],
   "source": [
    "import seaborn as sns"
   ]
  },
  {
   "cell_type": "code",
   "execution_count": 14,
   "id": "designing-ending",
   "metadata": {},
   "outputs": [
    {
     "name": "stderr",
     "output_type": "stream",
     "text": [
      "/usr/local/lib/python3.8/site-packages/seaborn/distributions.py:2557: FutureWarning: `distplot` is a deprecated function and will be removed in a future version. Please adapt your code to use either `displot` (a figure-level function with similar flexibility) or `histplot` (an axes-level function for histograms).\n",
      "  warnings.warn(msg, FutureWarning)\n"
     ]
    },
    {
     "data": {
      "text/plain": [
       "<AxesSubplot:xlabel='shortest_path_distance', ylabel='Density'>"
      ]
     },
     "execution_count": 14,
     "metadata": {},
     "output_type": "execute_result"
    },
    {
     "data": {
      "image/png": "[encoded data removed]",
      "text/plain": [
       "<Figure size 432x288 with 1 Axes>"
      ]
     },
     "metadata": {
      "needs_background": "light"
     },
     "output_type": "display_data"
    },
    {
     "data": {
      "application/javascript": [
       "\n",
       "            setTimeout(function() {\n",
       "                var nbb_cell_id = 14;\n",
       "                var nbb_unformatted_code = \"sns.distplot(df_points.shortest_path_distance)\";\n",
       "                var nbb_formatted_code = \"sns.distplot(df_points.shortest_path_distance)\";\n",
       "                var nbb_cells = Jupyter.notebook.get_cells();\n",
       "                for (var i = 0; i < nbb_cells.length; ++i) {\n",
       "                    if (nbb_cells[i].input_prompt_number == nbb_cell_id) {\n",
       "                        if (nbb_cells[i].get_text() == nbb_unformatted_code) {\n",
       "                             nbb_cells[i].set_text(nbb_formatted_code);\n",
       "                        }\n",
       "                        break;\n",
       "                    }\n",
       "                }\n",
       "            }, 500);\n",
       "            "
      ],
      "text/plain": [
       "<IPython.core.display.Javascript object>"
      ]
     },
     "metadata": {},
     "output_type": "display_data"
    }
   ],
   "source": [
    "sns.distplot(df_points.shortest_path_distance)"
   ]
  },
  {
   "cell_type": "code",
   "execution_count": 15,
   "id": "registered-space",
   "metadata": {},
   "outputs": [
    {
     "data": {
      "text/html": [
       "<div>\n",
       "<style scoped>\n",
       "    .dataframe tbody tr th:only-of-type {\n",
       "        vertical-align: middle;\n",
       "    }\n",
       "\n",
       "    .dataframe tbody tr th {\n",
       "        vertical-align: top;\n",
       "    }\n",
       "\n",
       "    .dataframe thead th {\n",
       "        text-align: right;\n",
       "    }\n",
       "</style>\n",
       "<table border=\"1\" class=\"dataframe\">\n",
       "  <thead>\n",
       "    <tr style=\"text-align: right;\">\n",
       "      <th></th>\n",
       "      <th>eastings</th>\n",
       "      <th>northings</th>\n",
       "      <th>poi_id</th>\n",
       "      <th>address_id</th>\n",
       "      <th>poi_category</th>\n",
       "      <th>osmid_address</th>\n",
       "      <th>osmid_poi</th>\n",
       "      <th>shortest_path_distance</th>\n",
       "    </tr>\n",
       "  </thead>\n",
       "  <tbody>\n",
       "    <tr>\n",
       "      <th>0</th>\n",
       "      <td>NaN</td>\n",
       "      <td>NaN</td>\n",
       "      <td>438</td>\n",
       "      <td>1</td>\n",
       "      <td>stations</td>\n",
       "      <td>3625978674</td>\n",
       "      <td>391661406</td>\n",
       "      <td>704.564</td>\n",
       "    </tr>\n",
       "    <tr>\n",
       "      <th>4</th>\n",
       "      <td>NaN</td>\n",
       "      <td>NaN</td>\n",
       "      <td>438</td>\n",
       "      <td>6</td>\n",
       "      <td>stations</td>\n",
       "      <td>26373735</td>\n",
       "      <td>391661406</td>\n",
       "      <td>587.430</td>\n",
       "    </tr>\n",
       "    <tr>\n",
       "      <th>6</th>\n",
       "      <td>NaN</td>\n",
       "      <td>NaN</td>\n",
       "      <td>438</td>\n",
       "      <td>8</td>\n",
       "      <td>stations</td>\n",
       "      <td>33043191</td>\n",
       "      <td>391661406</td>\n",
       "      <td>433.431</td>\n",
       "    </tr>\n",
       "    <tr>\n",
       "      <th>7</th>\n",
       "      <td>NaN</td>\n",
       "      <td>NaN</td>\n",
       "      <td>438</td>\n",
       "      <td>9</td>\n",
       "      <td>stations</td>\n",
       "      <td>856374252</td>\n",
       "      <td>391661406</td>\n",
       "      <td>453.711</td>\n",
       "    </tr>\n",
       "    <tr>\n",
       "      <th>26</th>\n",
       "      <td>NaN</td>\n",
       "      <td>NaN</td>\n",
       "      <td>438</td>\n",
       "      <td>31</td>\n",
       "      <td>stations</td>\n",
       "      <td>724436215</td>\n",
       "      <td>391661406</td>\n",
       "      <td>766.769</td>\n",
       "    </tr>\n",
       "    <tr>\n",
       "      <th>...</th>\n",
       "      <td>...</td>\n",
       "      <td>...</td>\n",
       "      <td>...</td>\n",
       "      <td>...</td>\n",
       "      <td>...</td>\n",
       "      <td>...</td>\n",
       "      <td>...</td>\n",
       "      <td>...</td>\n",
       "    </tr>\n",
       "    <tr>\n",
       "      <th>219</th>\n",
       "      <td>NaN</td>\n",
       "      <td>NaN</td>\n",
       "      <td>48</td>\n",
       "      <td>79</td>\n",
       "      <td>tubes</td>\n",
       "      <td>25500574</td>\n",
       "      <td>5273685155</td>\n",
       "      <td>368.666</td>\n",
       "    </tr>\n",
       "    <tr>\n",
       "      <th>225</th>\n",
       "      <td>NaN</td>\n",
       "      <td>NaN</td>\n",
       "      <td>380</td>\n",
       "      <td>88</td>\n",
       "      <td>tubes</td>\n",
       "      <td>26788876</td>\n",
       "      <td>7778679863</td>\n",
       "      <td>545.446</td>\n",
       "    </tr>\n",
       "    <tr>\n",
       "      <th>259</th>\n",
       "      <td>NaN</td>\n",
       "      <td>NaN</td>\n",
       "      <td>421</td>\n",
       "      <td>122</td>\n",
       "      <td>tubes</td>\n",
       "      <td>5473525786</td>\n",
       "      <td>5473525786</td>\n",
       "      <td>0.000</td>\n",
       "    </tr>\n",
       "    <tr>\n",
       "      <th>265</th>\n",
       "      <td>NaN</td>\n",
       "      <td>NaN</td>\n",
       "      <td>228</td>\n",
       "      <td>128</td>\n",
       "      <td>tubes</td>\n",
       "      <td>8586229072</td>\n",
       "      <td>7202554503</td>\n",
       "      <td>7763.213</td>\n",
       "    </tr>\n",
       "    <tr>\n",
       "      <th>278</th>\n",
       "      <td>NaN</td>\n",
       "      <td>NaN</td>\n",
       "      <td>413</td>\n",
       "      <td>144</td>\n",
       "      <td>tubes</td>\n",
       "      <td>215521</td>\n",
       "      <td>307821045</td>\n",
       "      <td>459.584</td>\n",
       "    </tr>\n",
       "  </tbody>\n",
       "</table>\n",
       "<p>310 rows × 8 columns</p>\n",
       "</div>"
      ],
      "text/plain": [
       "     eastings  northings  poi_id  address_id poi_category  osmid_address  \\\n",
       "0         NaN        NaN     438           1     stations     3625978674   \n",
       "4         NaN        NaN     438           6     stations       26373735   \n",
       "6         NaN        NaN     438           8     stations       33043191   \n",
       "7         NaN        NaN     438           9     stations      856374252   \n",
       "26        NaN        NaN     438          31     stations      724436215   \n",
       "..        ...        ...     ...         ...          ...            ...   \n",
       "219       NaN        NaN      48          79        tubes       25500574   \n",
       "225       NaN        NaN     380          88        tubes       26788876   \n",
       "259       NaN        NaN     421         122        tubes     5473525786   \n",
       "265       NaN        NaN     228         128        tubes     8586229072   \n",
       "278       NaN        NaN     413         144        tubes         215521   \n",
       "\n",
       "      osmid_poi  shortest_path_distance  \n",
       "0     391661406                 704.564  \n",
       "4     391661406                 587.430  \n",
       "6     391661406                 433.431  \n",
       "7     391661406                 453.711  \n",
       "26    391661406                 766.769  \n",
       "..          ...                     ...  \n",
       "219  5273685155                 368.666  \n",
       "225  7778679863                 545.446  \n",
       "259  5473525786                   0.000  \n",
       "265  7202554503                7763.213  \n",
       "278   307821045                 459.584  \n",
       "\n",
       "[310 rows x 8 columns]"
      ]
     },
     "execution_count": 15,
     "metadata": {},
     "output_type": "execute_result"
    },
    {
     "data": {
      "application/javascript": [
       "\n",
       "            setTimeout(function() {\n",
       "                var nbb_cell_id = 15;\n",
       "                var nbb_unformatted_code = \"df_points\";\n",
       "                var nbb_formatted_code = \"df_points\";\n",
       "                var nbb_cells = Jupyter.notebook.get_cells();\n",
       "                for (var i = 0; i < nbb_cells.length; ++i) {\n",
       "                    if (nbb_cells[i].input_prompt_number == nbb_cell_id) {\n",
       "                        if (nbb_cells[i].get_text() == nbb_unformatted_code) {\n",
       "                             nbb_cells[i].set_text(nbb_formatted_code);\n",
       "                        }\n",
       "                        break;\n",
       "                    }\n",
       "                }\n",
       "            }, 500);\n",
       "            "
      ],
      "text/plain": [
       "<IPython.core.display.Javascript object>"
      ]
     },
     "metadata": {},
     "output_type": "display_data"
    }
   ],
   "source": [
    "df_points"
   ]
  },
  {
   "cell_type": "markdown",
   "id": "continent-matrix",
   "metadata": {},
   "source": [
    "## Polygons"
   ]
  },
  {
   "cell_type": "code",
   "execution_count": 16,
   "id": "distributed-cabin",
   "metadata": {},
   "outputs": [
    {
     "data": {
      "application/javascript": [
       "\n",
       "            setTimeout(function() {\n",
       "                var nbb_cell_id = 16;\n",
       "                var nbb_unformatted_code = \"df_polygons = df_closest_pois[\\n    ~df_closest_pois.poi_category.isin(df_points.poi_category.unique())\\n]\";\n",
       "                var nbb_formatted_code = \"df_polygons = df_closest_pois[\\n    ~df_closest_pois.poi_category.isin(df_points.poi_category.unique())\\n]\";\n",
       "                var nbb_cells = Jupyter.notebook.get_cells();\n",
       "                for (var i = 0; i < nbb_cells.length; ++i) {\n",
       "                    if (nbb_cells[i].input_prompt_number == nbb_cell_id) {\n",
       "                        if (nbb_cells[i].get_text() == nbb_unformatted_code) {\n",
       "                             nbb_cells[i].set_text(nbb_formatted_code);\n",
       "                        }\n",
       "                        break;\n",
       "                    }\n",
       "                }\n",
       "            }, 500);\n",
       "            "
      ],
      "text/plain": [
       "<IPython.core.display.Javascript object>"
      ]
     },
     "metadata": {},
     "output_type": "display_data"
    }
   ],
   "source": [
    "df_polygons = df_closest_pois[\n",
    "    ~df_closest_pois.poi_category.isin(df_points.poi_category.unique())\n",
    "]"
   ]
  },
  {
   "cell_type": "code",
   "execution_count": 17,
   "id": "norman-transparency",
   "metadata": {},
   "outputs": [
    {
     "data": {
      "application/javascript": [
       "\n",
       "            setTimeout(function() {\n",
       "                var nbb_cell_id = 17;\n",
       "                var nbb_unformatted_code = \"coords_nodes = df_nodes[[\\\"eastings\\\", \\\"northings\\\"]].values\";\n",
       "                var nbb_formatted_code = \"coords_nodes = df_nodes[[\\\"eastings\\\", \\\"northings\\\"]].values\";\n",
       "                var nbb_cells = Jupyter.notebook.get_cells();\n",
       "                for (var i = 0; i < nbb_cells.length; ++i) {\n",
       "                    if (nbb_cells[i].input_prompt_number == nbb_cell_id) {\n",
       "                        if (nbb_cells[i].get_text() == nbb_unformatted_code) {\n",
       "                             nbb_cells[i].set_text(nbb_formatted_code);\n",
       "                        }\n",
       "                        break;\n",
       "                    }\n",
       "                }\n",
       "            }, 500);\n",
       "            "
      ],
      "text/plain": [
       "<IPython.core.display.Javascript object>"
      ]
     },
     "metadata": {},
     "output_type": "display_data"
    }
   ],
   "source": [
    "coords_nodes = df_nodes[[\"eastings\", \"northings\"]].values"
   ]
  },
  {
   "cell_type": "code",
   "execution_count": 18,
   "id": "characteristic-regard",
   "metadata": {},
   "outputs": [
    {
     "data": {
      "application/javascript": [
       "\n",
       "            setTimeout(function() {\n",
       "                var nbb_cell_id = 18;\n",
       "                var nbb_unformatted_code = \"closest_osmids_poly = get_closest_osmids(\\n    df_polygons[[\\\"eastings\\\", \\\"northings\\\"]].values,\\n    coords_nodes,\\n    df_nodes.osmid.values,\\n)\";\n",
       "                var nbb_formatted_code = \"closest_osmids_poly = get_closest_osmids(\\n    df_polygons[[\\\"eastings\\\", \\\"northings\\\"]].values,\\n    coords_nodes,\\n    df_nodes.osmid.values,\\n)\";\n",
       "                var nbb_cells = Jupyter.notebook.get_cells();\n",
       "                for (var i = 0; i < nbb_cells.length; ++i) {\n",
       "                    if (nbb_cells[i].input_prompt_number == nbb_cell_id) {\n",
       "                        if (nbb_cells[i].get_text() == nbb_unformatted_code) {\n",
       "                             nbb_cells[i].set_text(nbb_formatted_code);\n",
       "                        }\n",
       "                        break;\n",
       "                    }\n",
       "                }\n",
       "            }, 500);\n",
       "            "
      ],
      "text/plain": [
       "<IPython.core.display.Javascript object>"
      ]
     },
     "metadata": {},
     "output_type": "display_data"
    }
   ],
   "source": [
    "closest_osmids_poly = get_closest_osmids(\n",
    "    df_polygons[[\"eastings\", \"northings\"]].values,\n",
    "    coords_nodes,\n",
    "    df_nodes.osmid.values,\n",
    ")"
   ]
  },
  {
   "cell_type": "code",
   "execution_count": 19,
   "id": "intimate-colombia",
   "metadata": {
    "scrolled": true
   },
   "outputs": [
    {
     "name": "stderr",
     "output_type": "stream",
     "text": [
      "<ipython-input-19-64309221bd45>:1: SettingWithCopyWarning: \n",
      "A value is trying to be set on a copy of a slice from a DataFrame.\n",
      "Try using .loc[row_indexer,col_indexer] = value instead\n",
      "\n",
      "See the caveats in the documentation: https://pandas.pydata.org/pandas-docs/stable/user_guide/indexing.html#returning-a-view-versus-a-copy\n",
      "  df_polygons[\"osmid_poi\"] = closest_osmids_poly\n"
     ]
    },
    {
     "data": {
      "application/javascript": [
       "\n",
       "            setTimeout(function() {\n",
       "                var nbb_cell_id = 19;\n",
       "                var nbb_unformatted_code = \"df_polygons[\\\"osmid_poi\\\"] = closest_osmids_poly\";\n",
       "                var nbb_formatted_code = \"df_polygons[\\\"osmid_poi\\\"] = closest_osmids_poly\";\n",
       "                var nbb_cells = Jupyter.notebook.get_cells();\n",
       "                for (var i = 0; i < nbb_cells.length; ++i) {\n",
       "                    if (nbb_cells[i].input_prompt_number == nbb_cell_id) {\n",
       "                        if (nbb_cells[i].get_text() == nbb_unformatted_code) {\n",
       "                             nbb_cells[i].set_text(nbb_formatted_code);\n",
       "                        }\n",
       "                        break;\n",
       "                    }\n",
       "                }\n",
       "            }, 500);\n",
       "            "
      ],
      "text/plain": [
       "<IPython.core.display.Javascript object>"
      ]
     },
     "metadata": {},
     "output_type": "display_data"
    }
   ],
   "source": [
    "df_polygons[\"osmid_poi\"] = closest_osmids_poly"
   ]
  },
  {
   "cell_type": "code",
   "execution_count": 20,
   "id": "reliable-overview",
   "metadata": {},
   "outputs": [
    {
     "name": "stderr",
     "output_type": "stream",
     "text": [
      "<ipython-input-20-5cc62d4dd83a>:4: SettingWithCopyWarning: \n",
      "A value is trying to be set on a copy of a slice from a DataFrame.\n",
      "Try using .loc[row_indexer,col_indexer] = value instead\n",
      "\n",
      "See the caveats in the documentation: https://pandas.pydata.org/pandas-docs/stable/user_guide/indexing.html#returning-a-view-versus-a-copy\n",
      "  df_polygons[\"shortest_path_distance\"] = df_polygons.apply(\n"
     ]
    },
    {
     "data": {
      "application/javascript": [
       "\n",
       "            setTimeout(function() {\n",
       "                var nbb_cell_id = 20;\n",
       "                var nbb_unformatted_code = \"if df_polygons.empty:\\n    df_polygons[\\\"shortest_path_distance\\\"] = []\\nelse:\\n    df_polygons[\\\"shortest_path_distance\\\"] = df_polygons.apply(\\n        lambda x: nx.shortest_path_length(\\n            walknet, x.osmid_address, x.osmid_poi, weight=\\\"length\\\"\\n        ),\\n        axis=1,\\n    )\";\n",
       "                var nbb_formatted_code = \"if df_polygons.empty:\\n    df_polygons[\\\"shortest_path_distance\\\"] = []\\nelse:\\n    df_polygons[\\\"shortest_path_distance\\\"] = df_polygons.apply(\\n        lambda x: nx.shortest_path_length(\\n            walknet, x.osmid_address, x.osmid_poi, weight=\\\"length\\\"\\n        ),\\n        axis=1,\\n    )\";\n",
       "                var nbb_cells = Jupyter.notebook.get_cells();\n",
       "                for (var i = 0; i < nbb_cells.length; ++i) {\n",
       "                    if (nbb_cells[i].input_prompt_number == nbb_cell_id) {\n",
       "                        if (nbb_cells[i].get_text() == nbb_unformatted_code) {\n",
       "                             nbb_cells[i].set_text(nbb_formatted_code);\n",
       "                        }\n",
       "                        break;\n",
       "                    }\n",
       "                }\n",
       "            }, 500);\n",
       "            "
      ],
      "text/plain": [
       "<IPython.core.display.Javascript object>"
      ]
     },
     "metadata": {},
     "output_type": "display_data"
    }
   ],
   "source": [
    "if df_polygons.empty:\n",
    "    df_polygons[\"shortest_path_distance\"] = []\n",
    "else:\n",
    "    df_polygons[\"shortest_path_distance\"] = df_polygons.apply(\n",
    "        lambda x: nx.shortest_path_length(\n",
    "            walknet, x.osmid_address, x.osmid_poi, weight=\"length\"\n",
    "        ),\n",
    "        axis=1,\n",
    "    )"
   ]
  },
  {
   "cell_type": "markdown",
   "id": "blocked-mexico",
   "metadata": {},
   "source": [
    "## Combine"
   ]
  },
  {
   "cell_type": "code",
   "execution_count": 21,
   "id": "proprietary-mortality",
   "metadata": {},
   "outputs": [
    {
     "data": {
      "application/javascript": [
       "\n",
       "            setTimeout(function() {\n",
       "                var nbb_cell_id = 21;\n",
       "                var nbb_unformatted_code = \"df_comb = df_points.append(df_polygons, ignore_index=True)\";\n",
       "                var nbb_formatted_code = \"df_comb = df_points.append(df_polygons, ignore_index=True)\";\n",
       "                var nbb_cells = Jupyter.notebook.get_cells();\n",
       "                for (var i = 0; i < nbb_cells.length; ++i) {\n",
       "                    if (nbb_cells[i].input_prompt_number == nbb_cell_id) {\n",
       "                        if (nbb_cells[i].get_text() == nbb_unformatted_code) {\n",
       "                             nbb_cells[i].set_text(nbb_formatted_code);\n",
       "                        }\n",
       "                        break;\n",
       "                    }\n",
       "                }\n",
       "            }, 500);\n",
       "            "
      ],
      "text/plain": [
       "<IPython.core.display.Javascript object>"
      ]
     },
     "metadata": {},
     "output_type": "display_data"
    }
   ],
   "source": [
    "df_comb = df_points.append(df_polygons, ignore_index=True)"
   ]
  },
  {
   "cell_type": "markdown",
   "id": "younger-kernel",
   "metadata": {},
   "source": [
    "## Save"
   ]
  },
  {
   "cell_type": "code",
   "execution_count": 22,
   "id": "racial-third",
   "metadata": {},
   "outputs": [
    {
     "data": {
      "application/javascript": [
       "\n",
       "            setTimeout(function() {\n",
       "                var nbb_cell_id = 22;\n",
       "                var nbb_unformatted_code = \"cols = {\\n    \\\"poi_id\\\": \\\"INTEGER\\\",\\n    \\\"address_id\\\": \\\"INTEGER\\\",\\n    \\\"poi_category\\\": \\\"VARCHAR(64)\\\",\\n    \\\"distance\\\": \\\"DECIMAL(10,3)\\\",\\n}\\n\\nindex_cols = [\\\"poi_id\\\", \\\"address_id\\\", \\\"poi_category\\\"]\\nunique_cols = []\";\n",
       "                var nbb_formatted_code = \"cols = {\\n    \\\"poi_id\\\": \\\"INTEGER\\\",\\n    \\\"address_id\\\": \\\"INTEGER\\\",\\n    \\\"poi_category\\\": \\\"VARCHAR(64)\\\",\\n    \\\"distance\\\": \\\"DECIMAL(10,3)\\\",\\n}\\n\\nindex_cols = [\\\"poi_id\\\", \\\"address_id\\\", \\\"poi_category\\\"]\\nunique_cols = []\";\n",
       "                var nbb_cells = Jupyter.notebook.get_cells();\n",
       "                for (var i = 0; i < nbb_cells.length; ++i) {\n",
       "                    if (nbb_cells[i].input_prompt_number == nbb_cell_id) {\n",
       "                        if (nbb_cells[i].get_text() == nbb_unformatted_code) {\n",
       "                             nbb_cells[i].set_text(nbb_formatted_code);\n",
       "                        }\n",
       "                        break;\n",
       "                    }\n",
       "                }\n",
       "            }, 500);\n",
       "            "
      ],
      "text/plain": [
       "<IPython.core.display.Javascript object>"
      ]
     },
     "metadata": {},
     "output_type": "display_data"
    }
   ],
   "source": [
    "cols = {\n",
    "    \"poi_id\": \"INTEGER\",\n",
    "    \"address_id\": \"INTEGER\",\n",
    "    \"poi_category\": \"VARCHAR(64)\",\n",
    "    \"distance\": \"DECIMAL(10,3)\",\n",
    "}\n",
    "\n",
    "index_cols = [\"poi_id\", \"address_id\", \"poi_category\"]\n",
    "unique_cols = []"
   ]
  },
  {
   "cell_type": "code",
   "execution_count": 23,
   "id": "accessory-hours",
   "metadata": {},
   "outputs": [
    {
     "data": {
      "application/javascript": [
       "\n",
       "            setTimeout(function() {\n",
       "                var nbb_cell_id = 23;\n",
       "                var nbb_unformatted_code = \"create_q = get_table_creation_query(\\n    \\\"poi_distances\\\", cols, searchname, index_cols, unique_cols\\n)\";\n",
       "                var nbb_formatted_code = \"create_q = get_table_creation_query(\\n    \\\"poi_distances\\\", cols, searchname, index_cols, unique_cols\\n)\";\n",
       "                var nbb_cells = Jupyter.notebook.get_cells();\n",
       "                for (var i = 0; i < nbb_cells.length; ++i) {\n",
       "                    if (nbb_cells[i].input_prompt_number == nbb_cell_id) {\n",
       "                        if (nbb_cells[i].get_text() == nbb_unformatted_code) {\n",
       "                             nbb_cells[i].set_text(nbb_formatted_code);\n",
       "                        }\n",
       "                        break;\n",
       "                    }\n",
       "                }\n",
       "            }, 500);\n",
       "            "
      ],
      "text/plain": [
       "<IPython.core.display.Javascript object>"
      ]
     },
     "metadata": {},
     "output_type": "display_data"
    }
   ],
   "source": [
    "create_q = get_table_creation_query(\n",
    "    \"poi_distances\", cols, searchname, index_cols, unique_cols\n",
    ")"
   ]
  },
  {
   "cell_type": "code",
   "execution_count": 25,
   "id": "tropical-debut",
   "metadata": {},
   "outputs": [
    {
     "name": "stdout",
     "output_type": "stream",
     "text": [
      "\n",
      "        CREATE TABLE IF NOT EXISTS tamzin.poi_distances\n",
      "            \n",
      "            (\n",
      "            id SERIAL PRIMARY KEY,\n",
      "            \n",
      "            poi_id INTEGER \n",
      "            \n",
      "                ,\n",
      "            \n",
      "            \n",
      "            address_id INTEGER \n",
      "            \n",
      "                ,\n",
      "            \n",
      "            \n",
      "            poi_category VARCHAR(64) \n",
      "            \n",
      "                ,\n",
      "            \n",
      "            \n",
      "            distance DECIMAL(10,3) \n",
      "            \n",
      "            \n",
      "            );\n",
      "            \n",
      "            CREATE INDEX IF NOT EXISTS poi_id_poi_distances_idx ON tamzin.poi_distances (poi_id);\n",
      "            \n",
      "            CREATE INDEX IF NOT EXISTS address_id_poi_distances_idx ON tamzin.poi_distances (address_id);\n",
      "            \n",
      "            CREATE INDEX IF NOT EXISTS poi_category_poi_distances_idx ON tamzin.poi_distances (poi_category);\n",
      "            \n",
      "        \n",
      "        \n"
     ]
    },
    {
     "data": {
      "application/javascript": [
       "\n",
       "            setTimeout(function() {\n",
       "                var nbb_cell_id = 25;\n",
       "                var nbb_unformatted_code = \"print(create_q)\";\n",
       "                var nbb_formatted_code = \"print(create_q)\";\n",
       "                var nbb_cells = Jupyter.notebook.get_cells();\n",
       "                for (var i = 0; i < nbb_cells.length; ++i) {\n",
       "                    if (nbb_cells[i].input_prompt_number == nbb_cell_id) {\n",
       "                        if (nbb_cells[i].get_text() == nbb_unformatted_code) {\n",
       "                             nbb_cells[i].set_text(nbb_formatted_code);\n",
       "                        }\n",
       "                        break;\n",
       "                    }\n",
       "                }\n",
       "            }, 500);\n",
       "            "
      ],
      "text/plain": [
       "<IPython.core.display.Javascript object>"
      ]
     },
     "metadata": {},
     "output_type": "display_data"
    }
   ],
   "source": [
    "print(create_q)"
   ]
  },
  {
   "cell_type": "code",
   "execution_count": 26,
   "id": "binding-potter",
   "metadata": {},
   "outputs": [
    {
     "ename": "ProgrammingError",
     "evalue": "(psycopg2.errors.UndefinedColumn) column \"poi_id\" does not exist\n\n[SQL: \n        CREATE TABLE IF NOT EXISTS tamzin.poi_distances\n            \n            (\n            id SERIAL PRIMARY KEY,\n            \n            poi_id INTEGER \n            \n                ,\n            \n            \n            address_id INTEGER \n            \n                ,\n            \n            \n            poi_category VARCHAR(64) \n            \n                ,\n            \n            \n            distance DECIMAL(10,3) \n            \n            \n            );\n            \n            CREATE INDEX IF NOT EXISTS poi_id_poi_distances_idx ON tamzin.poi_distances (poi_id);\n            \n            CREATE INDEX IF NOT EXISTS address_id_poi_distances_idx ON tamzin.poi_distances (address_id);\n            \n            CREATE INDEX IF NOT EXISTS poi_category_poi_distances_idx ON tamzin.poi_distances (poi_category);\n            \n        \n        ]\n(Background on this error at: http://sqlalche.me/e/14/f405)",
     "output_type": "error",
     "traceback": [
      "\u001b[0;31m---------------------------------------------------------------------------\u001b[0m",
      "\u001b[0;31mUndefinedColumn\u001b[0m                           Traceback (most recent call last)",
      "\u001b[0;32m/usr/local/lib/python3.8/site-packages/sqlalchemy/engine/base.py\u001b[0m in \u001b[0;36m_execute_context\u001b[0;34m(self, dialect, constructor, statement, parameters, execution_options, *args, **kw)\u001b[0m\n\u001b[1;32m   1769\u001b[0m                 \u001b[0;32mif\u001b[0m \u001b[0;32mnot\u001b[0m \u001b[0mevt_handled\u001b[0m\u001b[0;34m:\u001b[0m\u001b[0;34m\u001b[0m\u001b[0;34m\u001b[0m\u001b[0m\n\u001b[0;32m-> 1770\u001b[0;31m                     self.dialect.do_execute(\n\u001b[0m\u001b[1;32m   1771\u001b[0m                         \u001b[0mcursor\u001b[0m\u001b[0;34m,\u001b[0m \u001b[0mstatement\u001b[0m\u001b[0;34m,\u001b[0m \u001b[0mparameters\u001b[0m\u001b[0;34m,\u001b[0m \u001b[0mcontext\u001b[0m\u001b[0;34m\u001b[0m\u001b[0;34m\u001b[0m\u001b[0m\n",
      "\u001b[0;32m/usr/local/lib/python3.8/site-packages/sqlalchemy/engine/default.py\u001b[0m in \u001b[0;36mdo_execute\u001b[0;34m(self, cursor, statement, parameters, context)\u001b[0m\n\u001b[1;32m    716\u001b[0m     \u001b[0;32mdef\u001b[0m \u001b[0mdo_execute\u001b[0m\u001b[0;34m(\u001b[0m\u001b[0mself\u001b[0m\u001b[0;34m,\u001b[0m \u001b[0mcursor\u001b[0m\u001b[0;34m,\u001b[0m \u001b[0mstatement\u001b[0m\u001b[0;34m,\u001b[0m \u001b[0mparameters\u001b[0m\u001b[0;34m,\u001b[0m \u001b[0mcontext\u001b[0m\u001b[0;34m=\u001b[0m\u001b[0;32mNone\u001b[0m\u001b[0;34m)\u001b[0m\u001b[0;34m:\u001b[0m\u001b[0;34m\u001b[0m\u001b[0;34m\u001b[0m\u001b[0m\n\u001b[0;32m--> 717\u001b[0;31m         \u001b[0mcursor\u001b[0m\u001b[0;34m.\u001b[0m\u001b[0mexecute\u001b[0m\u001b[0;34m(\u001b[0m\u001b[0mstatement\u001b[0m\u001b[0;34m,\u001b[0m \u001b[0mparameters\u001b[0m\u001b[0;34m)\u001b[0m\u001b[0;34m\u001b[0m\u001b[0;34m\u001b[0m\u001b[0m\n\u001b[0m\u001b[1;32m    718\u001b[0m \u001b[0;34m\u001b[0m\u001b[0m\n",
      "\u001b[0;31mUndefinedColumn\u001b[0m: column \"poi_id\" does not exist\n",
      "\nThe above exception was the direct cause of the following exception:\n",
      "\u001b[0;31mProgrammingError\u001b[0m                          Traceback (most recent call last)",
      "\u001b[0;32m<ipython-input-26-9cbc739a8075>\u001b[0m in \u001b[0;36m<module>\u001b[0;34m\u001b[0m\n\u001b[1;32m      1\u001b[0m \u001b[0;32mwith\u001b[0m \u001b[0mengine\u001b[0m\u001b[0;34m.\u001b[0m\u001b[0mconnect\u001b[0m\u001b[0;34m(\u001b[0m\u001b[0;34m)\u001b[0m \u001b[0;32mas\u001b[0m \u001b[0mconn\u001b[0m\u001b[0;34m:\u001b[0m\u001b[0;34m\u001b[0m\u001b[0;34m\u001b[0m\u001b[0m\n\u001b[0;32m----> 2\u001b[0;31m     \u001b[0mconn\u001b[0m\u001b[0;34m.\u001b[0m\u001b[0mexecute\u001b[0m\u001b[0;34m(\u001b[0m\u001b[0mcreate_q\u001b[0m\u001b[0;34m)\u001b[0m\u001b[0;34m\u001b[0m\u001b[0;34m\u001b[0m\u001b[0m\n\u001b[0m",
      "\u001b[0;32m/usr/local/lib/python3.8/site-packages/sqlalchemy/engine/base.py\u001b[0m in \u001b[0;36mexecute\u001b[0;34m(self, statement, *multiparams, **params)\u001b[0m\n\u001b[1;32m   1245\u001b[0m             )\n\u001b[1;32m   1246\u001b[0m \u001b[0;34m\u001b[0m\u001b[0m\n\u001b[0;32m-> 1247\u001b[0;31m             return self._exec_driver_sql(\n\u001b[0m\u001b[1;32m   1248\u001b[0m                 \u001b[0mstatement\u001b[0m\u001b[0;34m,\u001b[0m\u001b[0;34m\u001b[0m\u001b[0;34m\u001b[0m\u001b[0m\n\u001b[1;32m   1249\u001b[0m                 \u001b[0mmultiparams\u001b[0m\u001b[0;34m,\u001b[0m\u001b[0;34m\u001b[0m\u001b[0;34m\u001b[0m\u001b[0m\n",
      "\u001b[0;32m/usr/local/lib/python3.8/site-packages/sqlalchemy/engine/base.py\u001b[0m in \u001b[0;36m_exec_driver_sql\u001b[0;34m(self, statement, multiparams, params, execution_options, future)\u001b[0m\n\u001b[1;32m   1544\u001b[0m \u001b[0;34m\u001b[0m\u001b[0m\n\u001b[1;32m   1545\u001b[0m         \u001b[0mdialect\u001b[0m \u001b[0;34m=\u001b[0m \u001b[0mself\u001b[0m\u001b[0;34m.\u001b[0m\u001b[0mdialect\u001b[0m\u001b[0;34m\u001b[0m\u001b[0;34m\u001b[0m\u001b[0m\n\u001b[0;32m-> 1546\u001b[0;31m         ret = self._execute_context(\n\u001b[0m\u001b[1;32m   1547\u001b[0m             \u001b[0mdialect\u001b[0m\u001b[0;34m,\u001b[0m\u001b[0;34m\u001b[0m\u001b[0;34m\u001b[0m\u001b[0m\n\u001b[1;32m   1548\u001b[0m             \u001b[0mdialect\u001b[0m\u001b[0;34m.\u001b[0m\u001b[0mexecution_ctx_cls\u001b[0m\u001b[0;34m.\u001b[0m\u001b[0m_init_statement\u001b[0m\u001b[0;34m,\u001b[0m\u001b[0;34m\u001b[0m\u001b[0;34m\u001b[0m\u001b[0m\n",
      "\u001b[0;32m/usr/local/lib/python3.8/site-packages/sqlalchemy/engine/base.py\u001b[0m in \u001b[0;36m_execute_context\u001b[0;34m(self, dialect, constructor, statement, parameters, execution_options, *args, **kw)\u001b[0m\n\u001b[1;32m   1811\u001b[0m \u001b[0;34m\u001b[0m\u001b[0m\n\u001b[1;32m   1812\u001b[0m         \u001b[0;32mexcept\u001b[0m \u001b[0mBaseException\u001b[0m \u001b[0;32mas\u001b[0m \u001b[0me\u001b[0m\u001b[0;34m:\u001b[0m\u001b[0;34m\u001b[0m\u001b[0;34m\u001b[0m\u001b[0m\n\u001b[0;32m-> 1813\u001b[0;31m             self._handle_dbapi_exception(\n\u001b[0m\u001b[1;32m   1814\u001b[0m                 \u001b[0me\u001b[0m\u001b[0;34m,\u001b[0m \u001b[0mstatement\u001b[0m\u001b[0;34m,\u001b[0m \u001b[0mparameters\u001b[0m\u001b[0;34m,\u001b[0m \u001b[0mcursor\u001b[0m\u001b[0;34m,\u001b[0m \u001b[0mcontext\u001b[0m\u001b[0;34m\u001b[0m\u001b[0;34m\u001b[0m\u001b[0m\n\u001b[1;32m   1815\u001b[0m             )\n",
      "\u001b[0;32m/usr/local/lib/python3.8/site-packages/sqlalchemy/engine/base.py\u001b[0m in \u001b[0;36m_handle_dbapi_exception\u001b[0;34m(self, e, statement, parameters, cursor, context)\u001b[0m\n\u001b[1;32m   1992\u001b[0m                 \u001b[0mutil\u001b[0m\u001b[0;34m.\u001b[0m\u001b[0mraise_\u001b[0m\u001b[0;34m(\u001b[0m\u001b[0mnewraise\u001b[0m\u001b[0;34m,\u001b[0m \u001b[0mwith_traceback\u001b[0m\u001b[0;34m=\u001b[0m\u001b[0mexc_info\u001b[0m\u001b[0;34m[\u001b[0m\u001b[0;36m2\u001b[0m\u001b[0;34m]\u001b[0m\u001b[0;34m,\u001b[0m \u001b[0mfrom_\u001b[0m\u001b[0;34m=\u001b[0m\u001b[0me\u001b[0m\u001b[0;34m)\u001b[0m\u001b[0;34m\u001b[0m\u001b[0;34m\u001b[0m\u001b[0m\n\u001b[1;32m   1993\u001b[0m             \u001b[0;32melif\u001b[0m \u001b[0mshould_wrap\u001b[0m\u001b[0;34m:\u001b[0m\u001b[0;34m\u001b[0m\u001b[0;34m\u001b[0m\u001b[0m\n\u001b[0;32m-> 1994\u001b[0;31m                 util.raise_(\n\u001b[0m\u001b[1;32m   1995\u001b[0m                     \u001b[0msqlalchemy_exception\u001b[0m\u001b[0;34m,\u001b[0m \u001b[0mwith_traceback\u001b[0m\u001b[0;34m=\u001b[0m\u001b[0mexc_info\u001b[0m\u001b[0;34m[\u001b[0m\u001b[0;36m2\u001b[0m\u001b[0;34m]\u001b[0m\u001b[0;34m,\u001b[0m \u001b[0mfrom_\u001b[0m\u001b[0;34m=\u001b[0m\u001b[0me\u001b[0m\u001b[0;34m\u001b[0m\u001b[0;34m\u001b[0m\u001b[0m\n\u001b[1;32m   1996\u001b[0m                 )\n",
      "\u001b[0;32m/usr/local/lib/python3.8/site-packages/sqlalchemy/util/compat.py\u001b[0m in \u001b[0;36mraise_\u001b[0;34m(***failed resolving arguments***)\u001b[0m\n\u001b[1;32m    209\u001b[0m \u001b[0;34m\u001b[0m\u001b[0m\n\u001b[1;32m    210\u001b[0m         \u001b[0;32mtry\u001b[0m\u001b[0;34m:\u001b[0m\u001b[0;34m\u001b[0m\u001b[0;34m\u001b[0m\u001b[0m\n\u001b[0;32m--> 211\u001b[0;31m             \u001b[0;32mraise\u001b[0m \u001b[0mexception\u001b[0m\u001b[0;34m\u001b[0m\u001b[0;34m\u001b[0m\u001b[0m\n\u001b[0m\u001b[1;32m    212\u001b[0m         \u001b[0;32mfinally\u001b[0m\u001b[0;34m:\u001b[0m\u001b[0;34m\u001b[0m\u001b[0;34m\u001b[0m\u001b[0m\n\u001b[1;32m    213\u001b[0m             \u001b[0;31m# credit to\u001b[0m\u001b[0;34m\u001b[0m\u001b[0;34m\u001b[0m\u001b[0;34m\u001b[0m\u001b[0m\n",
      "\u001b[0;32m/usr/local/lib/python3.8/site-packages/sqlalchemy/engine/base.py\u001b[0m in \u001b[0;36m_execute_context\u001b[0;34m(self, dialect, constructor, statement, parameters, execution_options, *args, **kw)\u001b[0m\n\u001b[1;32m   1768\u001b[0m                             \u001b[0;32mbreak\u001b[0m\u001b[0;34m\u001b[0m\u001b[0;34m\u001b[0m\u001b[0m\n\u001b[1;32m   1769\u001b[0m                 \u001b[0;32mif\u001b[0m \u001b[0;32mnot\u001b[0m \u001b[0mevt_handled\u001b[0m\u001b[0;34m:\u001b[0m\u001b[0;34m\u001b[0m\u001b[0;34m\u001b[0m\u001b[0m\n\u001b[0;32m-> 1770\u001b[0;31m                     self.dialect.do_execute(\n\u001b[0m\u001b[1;32m   1771\u001b[0m                         \u001b[0mcursor\u001b[0m\u001b[0;34m,\u001b[0m \u001b[0mstatement\u001b[0m\u001b[0;34m,\u001b[0m \u001b[0mparameters\u001b[0m\u001b[0;34m,\u001b[0m \u001b[0mcontext\u001b[0m\u001b[0;34m\u001b[0m\u001b[0;34m\u001b[0m\u001b[0m\n\u001b[1;32m   1772\u001b[0m                     )\n",
      "\u001b[0;32m/usr/local/lib/python3.8/site-packages/sqlalchemy/engine/default.py\u001b[0m in \u001b[0;36mdo_execute\u001b[0;34m(self, cursor, statement, parameters, context)\u001b[0m\n\u001b[1;32m    715\u001b[0m \u001b[0;34m\u001b[0m\u001b[0m\n\u001b[1;32m    716\u001b[0m     \u001b[0;32mdef\u001b[0m \u001b[0mdo_execute\u001b[0m\u001b[0;34m(\u001b[0m\u001b[0mself\u001b[0m\u001b[0;34m,\u001b[0m \u001b[0mcursor\u001b[0m\u001b[0;34m,\u001b[0m \u001b[0mstatement\u001b[0m\u001b[0;34m,\u001b[0m \u001b[0mparameters\u001b[0m\u001b[0;34m,\u001b[0m \u001b[0mcontext\u001b[0m\u001b[0;34m=\u001b[0m\u001b[0;32mNone\u001b[0m\u001b[0;34m)\u001b[0m\u001b[0;34m:\u001b[0m\u001b[0;34m\u001b[0m\u001b[0;34m\u001b[0m\u001b[0m\n\u001b[0;32m--> 717\u001b[0;31m         \u001b[0mcursor\u001b[0m\u001b[0;34m.\u001b[0m\u001b[0mexecute\u001b[0m\u001b[0;34m(\u001b[0m\u001b[0mstatement\u001b[0m\u001b[0;34m,\u001b[0m \u001b[0mparameters\u001b[0m\u001b[0;34m)\u001b[0m\u001b[0;34m\u001b[0m\u001b[0;34m\u001b[0m\u001b[0m\n\u001b[0m\u001b[1;32m    718\u001b[0m \u001b[0;34m\u001b[0m\u001b[0m\n\u001b[1;32m    719\u001b[0m     \u001b[0;32mdef\u001b[0m \u001b[0mdo_execute_no_params\u001b[0m\u001b[0;34m(\u001b[0m\u001b[0mself\u001b[0m\u001b[0;34m,\u001b[0m \u001b[0mcursor\u001b[0m\u001b[0;34m,\u001b[0m \u001b[0mstatement\u001b[0m\u001b[0;34m,\u001b[0m \u001b[0mcontext\u001b[0m\u001b[0;34m=\u001b[0m\u001b[0;32mNone\u001b[0m\u001b[0;34m)\u001b[0m\u001b[0;34m:\u001b[0m\u001b[0;34m\u001b[0m\u001b[0;34m\u001b[0m\u001b[0m\n",
      "\u001b[0;31mProgrammingError\u001b[0m: (psycopg2.errors.UndefinedColumn) column \"poi_id\" does not exist\n\n[SQL: \n        CREATE TABLE IF NOT EXISTS tamzin.poi_distances\n            \n            (\n            id SERIAL PRIMARY KEY,\n            \n            poi_id INTEGER \n            \n                ,\n            \n            \n            address_id INTEGER \n            \n                ,\n            \n            \n            poi_category VARCHAR(64) \n            \n                ,\n            \n            \n            distance DECIMAL(10,3) \n            \n            \n            );\n            \n            CREATE INDEX IF NOT EXISTS poi_id_poi_distances_idx ON tamzin.poi_distances (poi_id);\n            \n            CREATE INDEX IF NOT EXISTS address_id_poi_distances_idx ON tamzin.poi_distances (address_id);\n            \n            CREATE INDEX IF NOT EXISTS poi_category_poi_distances_idx ON tamzin.poi_distances (poi_category);\n            \n        \n        ]\n(Background on this error at: http://sqlalche.me/e/14/f405)"
     ]
    },
    {
     "data": {
      "application/javascript": [
       "\n",
       "            setTimeout(function() {\n",
       "                var nbb_cell_id = 26;\n",
       "                var nbb_unformatted_code = \"with engine.connect() as conn:\\n    conn.execute(create_q)\";\n",
       "                var nbb_formatted_code = \"with engine.connect() as conn:\\n    conn.execute(create_q)\";\n",
       "                var nbb_cells = Jupyter.notebook.get_cells();\n",
       "                for (var i = 0; i < nbb_cells.length; ++i) {\n",
       "                    if (nbb_cells[i].input_prompt_number == nbb_cell_id) {\n",
       "                        if (nbb_cells[i].get_text() == nbb_unformatted_code) {\n",
       "                             nbb_cells[i].set_text(nbb_formatted_code);\n",
       "                        }\n",
       "                        break;\n",
       "                    }\n",
       "                }\n",
       "            }, 500);\n",
       "            "
      ],
      "text/plain": [
       "<IPython.core.display.Javascript object>"
      ]
     },
     "metadata": {},
     "output_type": "display_data"
    }
   ],
   "source": [
    "with engine.connect() as conn:\n",
    "    conn.execute(create_q)"
   ]
  },
  {
   "cell_type": "code",
   "execution_count": 25,
   "id": "southeast-reserve",
   "metadata": {},
   "outputs": [
    {
     "data": {
      "application/javascript": [
       "\n",
       "            setTimeout(function() {\n",
       "                var nbb_cell_id = 25;\n",
       "                var nbb_unformatted_code = \"with engine.connect() as conn:\\n    df_comb[[\\\"address_id\\\", \\\"poi_category\\\", \\\"shortest_path_distance\\\"]].rename(\\n        columns={\\\"shortest_path_distance\\\": \\\"distance\\\"}\\n    ).to_sql(\\n        \\\"poi_distances\\\", schema=searchname, index=False, con=conn, if_exists=\\\"append\\\"\\n    )\";\n",
       "                var nbb_formatted_code = \"with engine.connect() as conn:\\n    df_comb[[\\\"address_id\\\", \\\"poi_category\\\", \\\"shortest_path_distance\\\"]].rename(\\n        columns={\\\"shortest_path_distance\\\": \\\"distance\\\"}\\n    ).to_sql(\\n        \\\"poi_distances\\\", schema=searchname, index=False, con=conn, if_exists=\\\"append\\\"\\n    )\";\n",
       "                var nbb_cells = Jupyter.notebook.get_cells();\n",
       "                for (var i = 0; i < nbb_cells.length; ++i) {\n",
       "                    if (nbb_cells[i].input_prompt_number == nbb_cell_id) {\n",
       "                        if (nbb_cells[i].get_text() == nbb_unformatted_code) {\n",
       "                             nbb_cells[i].set_text(nbb_formatted_code);\n",
       "                        }\n",
       "                        break;\n",
       "                    }\n",
       "                }\n",
       "            }, 500);\n",
       "            "
      ],
      "text/plain": [
       "<IPython.core.display.Javascript object>"
      ]
     },
     "metadata": {},
     "output_type": "display_data"
    }
   ],
   "source": [
    "with engine.connect() as conn:\n",
    "    df_comb[[\"address_id\", \"poi_category\", \"shortest_path_distance\"]].rename(\n",
    "        columns={\"shortest_path_distance\": \"distance\"}\n",
    "    ).to_sql(\n",
    "        \"poi_distances\", schema=searchname, index=False, con=conn, if_exists=\"append\"\n",
    "    )"
   ]
  }
 ],
 "metadata": {
  "kernelspec": {
   "display_name": "Python 3",
   "language": "python",
   "name": "python3"
  },
  "language_info": {
   "codemirror_mode": {
    "name": "ipython",
    "version": 3
   },
   "file_extension": ".py",
   "mimetype": "text/x-python",
   "name": "python",
   "nbconvert_exporter": "python",
   "pygments_lexer": "ipython3",
   "version": "3.8.10"
  }
 },
 "nbformat": 4,
 "nbformat_minor": 5
}
