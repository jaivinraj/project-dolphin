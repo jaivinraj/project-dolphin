{
 "cells": [
  {
   "cell_type": "markdown",
   "id": "complex-viewer",
   "metadata": {},
   "source": [
    "## Get distances to POIs along road network"
   ]
  },
  {
   "cell_type": "code",
   "execution_count": 1,
   "id": "1cb9a253",
   "metadata": {},
   "outputs": [
    {
     "data": {
      "application/javascript": [
       "\n",
       "            setTimeout(function() {\n",
       "                var nbb_cell_id = 1;\n",
       "                var nbb_unformatted_code = \"%load_ext nb_black\";\n",
       "                var nbb_formatted_code = \"%load_ext nb_black\";\n",
       "                var nbb_cells = Jupyter.notebook.get_cells();\n",
       "                for (var i = 0; i < nbb_cells.length; ++i) {\n",
       "                    if (nbb_cells[i].input_prompt_number == nbb_cell_id) {\n",
       "                        if (nbb_cells[i].get_text() == nbb_unformatted_code) {\n",
       "                             nbb_cells[i].set_text(nbb_formatted_code);\n",
       "                        }\n",
       "                        break;\n",
       "                    }\n",
       "                }\n",
       "            }, 500);\n",
       "            "
      ],
      "text/plain": [
       "<IPython.core.display.Javascript object>"
      ]
     },
     "metadata": {},
     "output_type": "display_data"
    }
   ],
   "source": [
    "%load_ext nb_black"
   ]
  },
  {
   "cell_type": "code",
   "execution_count": 59,
   "id": "df8cb71e",
   "metadata": {},
   "outputs": [
    {
     "data": {
      "application/javascript": [
       "\n",
       "            setTimeout(function() {\n",
       "                var nbb_cell_id = 59;\n",
       "                var nbb_unformatted_code = \"import logging\\n\\nimport sys\\n\\nsys.path.append(\\\"/app\\\")\\n\\n# import scraping as sc\\n\\nimport pandas as pd\\n\\nfrom jinja2 import Template\\n\\nfrom db_utils import get_engine, get_table_creation_query\\n\\nfrom gis_utils import get_gdf_coords, get_closest_idxs, get_closest_pois_slow\\n\\n\\nimport dataloader as loader\\n\\n\\nimport numpy as np\\nimport os\\n\\nimport geopandas as gpd\\nfrom network_utils import get_closest_osmids\\nfrom constants import DATA_PATH\\nimport pickle\\nimport osmnx as ox\\nimport networkx as nx\";\n",
       "                var nbb_formatted_code = \"import logging\\n\\nimport sys\\n\\nsys.path.append(\\\"/app\\\")\\n\\n# import scraping as sc\\n\\nimport pandas as pd\\n\\nfrom jinja2 import Template\\n\\nfrom db_utils import get_engine, get_table_creation_query\\n\\nfrom gis_utils import get_gdf_coords, get_closest_idxs, get_closest_pois_slow\\n\\n\\nimport dataloader as loader\\n\\n\\nimport numpy as np\\nimport os\\n\\nimport geopandas as gpd\\nfrom network_utils import get_closest_osmids\\nfrom constants import DATA_PATH\\nimport pickle\\nimport osmnx as ox\\nimport networkx as nx\";\n",
       "                var nbb_cells = Jupyter.notebook.get_cells();\n",
       "                for (var i = 0; i < nbb_cells.length; ++i) {\n",
       "                    if (nbb_cells[i].input_prompt_number == nbb_cell_id) {\n",
       "                        if (nbb_cells[i].get_text() == nbb_unformatted_code) {\n",
       "                             nbb_cells[i].set_text(nbb_formatted_code);\n",
       "                        }\n",
       "                        break;\n",
       "                    }\n",
       "                }\n",
       "            }, 500);\n",
       "            "
      ],
      "text/plain": [
       "<IPython.core.display.Javascript object>"
      ]
     },
     "metadata": {},
     "output_type": "display_data"
    }
   ],
   "source": [
    "import logging\n",
    "\n",
    "import sys\n",
    "\n",
    "sys.path.append(\"/app\")\n",
    "\n",
    "# import scraping as sc\n",
    "\n",
    "import pandas as pd\n",
    "\n",
    "from jinja2 import Template\n",
    "\n",
    "from db_utils import get_engine, get_table_creation_query\n",
    "\n",
    "from gis_utils import get_gdf_coords, get_closest_idxs, get_closest_pois_slow\n",
    "\n",
    "\n",
    "import dataloader as loader\n",
    "\n",
    "\n",
    "import numpy as np\n",
    "import os\n",
    "\n",
    "import geopandas as gpd\n",
    "from network_utils import get_closest_osmids\n",
    "from constants import DATA_PATH\n",
    "import pickle\n",
    "import osmnx as ox\n",
    "import networkx as nx"
   ]
  },
  {
   "cell_type": "code",
   "execution_count": 54,
   "id": "productive-presence",
   "metadata": {},
   "outputs": [
    {
     "data": {
      "application/javascript": [
       "\n",
       "            setTimeout(function() {\n",
       "                var nbb_cell_id = 54;\n",
       "                var nbb_unformatted_code = \"# global logger\\nlogger = logging.getLogger()\\nhandler = logging.StreamHandler()\\nformatter = logging.Formatter(\\\"%(asctime)s [%(name)s] %(levelname)-8s %(message)s\\\")\\nhandler.setFormatter(formatter)\\nlogger.addHandler(handler)\\nlogger.setLevel(logging.INFO)\";\n",
       "                var nbb_formatted_code = \"# global logger\\nlogger = logging.getLogger()\\nhandler = logging.StreamHandler()\\nformatter = logging.Formatter(\\\"%(asctime)s [%(name)s] %(levelname)-8s %(message)s\\\")\\nhandler.setFormatter(formatter)\\nlogger.addHandler(handler)\\nlogger.setLevel(logging.INFO)\";\n",
       "                var nbb_cells = Jupyter.notebook.get_cells();\n",
       "                for (var i = 0; i < nbb_cells.length; ++i) {\n",
       "                    if (nbb_cells[i].input_prompt_number == nbb_cell_id) {\n",
       "                        if (nbb_cells[i].get_text() == nbb_unformatted_code) {\n",
       "                             nbb_cells[i].set_text(nbb_formatted_code);\n",
       "                        }\n",
       "                        break;\n",
       "                    }\n",
       "                }\n",
       "            }, 500);\n",
       "            "
      ],
      "text/plain": [
       "<IPython.core.display.Javascript object>"
      ]
     },
     "metadata": {},
     "output_type": "display_data"
    }
   ],
   "source": [
    "# global logger\n",
    "logger = logging.getLogger()\n",
    "handler = logging.StreamHandler()\n",
    "formatter = logging.Formatter(\"%(asctime)s [%(name)s] %(levelname)-8s %(message)s\")\n",
    "handler.setFormatter(formatter)\n",
    "logger.addHandler(handler)\n",
    "logger.setLevel(logging.INFO)"
   ]
  },
  {
   "cell_type": "markdown",
   "id": "sonic-acquisition",
   "metadata": {},
   "source": [
    "## Connect to Database"
   ]
  },
  {
   "cell_type": "code",
   "execution_count": 3,
   "id": "false-store",
   "metadata": {},
   "outputs": [
    {
     "data": {
      "application/javascript": [
       "\n",
       "            setTimeout(function() {\n",
       "                var nbb_cell_id = 3;\n",
       "                var nbb_unformatted_code = \"user = os.getenv(\\\"POSTGRES_USER\\\")\\npassword = os.getenv(\\\"POSTGRES_PASSWORD\\\")\\nhost = os.getenv(\\\"POSTGRES_HOST\\\")\";\n",
       "                var nbb_formatted_code = \"user = os.getenv(\\\"POSTGRES_USER\\\")\\npassword = os.getenv(\\\"POSTGRES_PASSWORD\\\")\\nhost = os.getenv(\\\"POSTGRES_HOST\\\")\";\n",
       "                var nbb_cells = Jupyter.notebook.get_cells();\n",
       "                for (var i = 0; i < nbb_cells.length; ++i) {\n",
       "                    if (nbb_cells[i].input_prompt_number == nbb_cell_id) {\n",
       "                        if (nbb_cells[i].get_text() == nbb_unformatted_code) {\n",
       "                             nbb_cells[i].set_text(nbb_formatted_code);\n",
       "                        }\n",
       "                        break;\n",
       "                    }\n",
       "                }\n",
       "            }, 500);\n",
       "            "
      ],
      "text/plain": [
       "<IPython.core.display.Javascript object>"
      ]
     },
     "metadata": {},
     "output_type": "display_data"
    }
   ],
   "source": [
    "user = os.getenv(\"POSTGRES_USER\")\n",
    "password = os.getenv(\"POSTGRES_PASSWORD\")\n",
    "host = os.getenv(\"POSTGRES_HOST\")"
   ]
  },
  {
   "cell_type": "code",
   "execution_count": 4,
   "id": "looking-adult",
   "metadata": {},
   "outputs": [
    {
     "data": {
      "application/javascript": [
       "\n",
       "            setTimeout(function() {\n",
       "                var nbb_cell_id = 4;\n",
       "                var nbb_unformatted_code = \"engine = get_engine(user, password, host)\";\n",
       "                var nbb_formatted_code = \"engine = get_engine(user, password, host)\";\n",
       "                var nbb_cells = Jupyter.notebook.get_cells();\n",
       "                for (var i = 0; i < nbb_cells.length; ++i) {\n",
       "                    if (nbb_cells[i].input_prompt_number == nbb_cell_id) {\n",
       "                        if (nbb_cells[i].get_text() == nbb_unformatted_code) {\n",
       "                             nbb_cells[i].set_text(nbb_formatted_code);\n",
       "                        }\n",
       "                        break;\n",
       "                    }\n",
       "                }\n",
       "            }, 500);\n",
       "            "
      ],
      "text/plain": [
       "<IPython.core.display.Javascript object>"
      ]
     },
     "metadata": {},
     "output_type": "display_data"
    }
   ],
   "source": [
    "engine = get_engine(user, password, host)"
   ]
  },
  {
   "cell_type": "markdown",
   "id": "divine-diabetes",
   "metadata": {},
   "source": [
    "## Define search parameters"
   ]
  },
  {
   "cell_type": "code",
   "execution_count": 5,
   "id": "f27274cd",
   "metadata": {},
   "outputs": [
    {
     "data": {
      "application/javascript": [
       "\n",
       "            setTimeout(function() {\n",
       "                var nbb_cell_id = 5;\n",
       "                var nbb_unformatted_code = \"searchname = \\\"tamzin\\\"\";\n",
       "                var nbb_formatted_code = \"searchname = \\\"tamzin\\\"\";\n",
       "                var nbb_cells = Jupyter.notebook.get_cells();\n",
       "                for (var i = 0; i < nbb_cells.length; ++i) {\n",
       "                    if (nbb_cells[i].input_prompt_number == nbb_cell_id) {\n",
       "                        if (nbb_cells[i].get_text() == nbb_unformatted_code) {\n",
       "                             nbb_cells[i].set_text(nbb_formatted_code);\n",
       "                        }\n",
       "                        break;\n",
       "                    }\n",
       "                }\n",
       "            }, 500);\n",
       "            "
      ],
      "text/plain": [
       "<IPython.core.display.Javascript object>"
      ]
     },
     "metadata": {},
     "output_type": "display_data"
    }
   ],
   "source": [
    "searchname = \"tamzin\""
   ]
  },
  {
   "cell_type": "markdown",
   "id": "productive-snowboard",
   "metadata": {},
   "source": []
  },
  {
   "cell_type": "markdown",
   "id": "harmful-hormone",
   "metadata": {},
   "source": [
    "## Load Data"
   ]
  },
  {
   "cell_type": "code",
   "execution_count": 92,
   "id": "adjacent-arrival",
   "metadata": {},
   "outputs": [
    {
     "data": {
      "application/javascript": [
       "\n",
       "            setTimeout(function() {\n",
       "                var nbb_cell_id = 92;\n",
       "                var nbb_unformatted_code = \"with engine.connect() as conn:\\n    df_closest_pois = pd.read_sql(\\n        f\\\"\\\"\\\"\\n    SELECT c.eastings,c.northings,c.poi_id,c.address_id,c.poi_category FROM {searchname}.closest_pois c\\n    INNER JOIN {searchname}.address_ids_to_process a\\n    ON c.address_id=a.address_id\\\"\\\"\\\",\\n        con=conn,\\n    )\\n    df_addressnodes = pd.read_sql(\\n        f\\\"\\\"\\\"\\n    SELECT n.* FROM {searchname}.address_nodes n\\n    INNER JOIN {searchname}.address_ids_to_process a\\n    ON n.address_id=a.address_id\\\"\\\"\\\",\\n        con=conn,\\n    )\\n    df_poinodes = pd.read_sql(\\\"SELECT * FROM poi_nodes\\\", con=conn)\\n    df_nodes = pd.read_sql(\\\"SELECT * FROM node_coords\\\", con=conn)\";\n",
       "                var nbb_formatted_code = \"with engine.connect() as conn:\\n    df_closest_pois = pd.read_sql(\\n        f\\\"\\\"\\\"\\n    SELECT c.eastings,c.northings,c.poi_id,c.address_id,c.poi_category FROM {searchname}.closest_pois c\\n    INNER JOIN {searchname}.address_ids_to_process a\\n    ON c.address_id=a.address_id\\\"\\\"\\\",\\n        con=conn,\\n    )\\n    df_addressnodes = pd.read_sql(\\n        f\\\"\\\"\\\"\\n    SELECT n.* FROM {searchname}.address_nodes n\\n    INNER JOIN {searchname}.address_ids_to_process a\\n    ON n.address_id=a.address_id\\\"\\\"\\\",\\n        con=conn,\\n    )\\n    df_poinodes = pd.read_sql(\\\"SELECT * FROM poi_nodes\\\", con=conn)\\n    df_nodes = pd.read_sql(\\\"SELECT * FROM node_coords\\\", con=conn)\";\n",
       "                var nbb_cells = Jupyter.notebook.get_cells();\n",
       "                for (var i = 0; i < nbb_cells.length; ++i) {\n",
       "                    if (nbb_cells[i].input_prompt_number == nbb_cell_id) {\n",
       "                        if (nbb_cells[i].get_text() == nbb_unformatted_code) {\n",
       "                             nbb_cells[i].set_text(nbb_formatted_code);\n",
       "                        }\n",
       "                        break;\n",
       "                    }\n",
       "                }\n",
       "            }, 500);\n",
       "            "
      ],
      "text/plain": [
       "<IPython.core.display.Javascript object>"
      ]
     },
     "metadata": {},
     "output_type": "display_data"
    }
   ],
   "source": [
    "with engine.connect() as conn:\n",
    "    df_closest_pois = pd.read_sql(\n",
    "        f\"\"\"\n",
    "    SELECT c.eastings,c.northings,c.poi_id,c.address_id,c.poi_category FROM {searchname}.closest_pois c\n",
    "    INNER JOIN {searchname}.address_ids_to_process a\n",
    "    ON c.address_id=a.address_id\"\"\",\n",
    "        con=conn,\n",
    "    )\n",
    "    df_addressnodes = pd.read_sql(\n",
    "        f\"\"\"\n",
    "    SELECT n.* FROM {searchname}.address_nodes n\n",
    "    INNER JOIN {searchname}.address_ids_to_process a\n",
    "    ON n.address_id=a.address_id\"\"\",\n",
    "        con=conn,\n",
    "    )\n",
    "    df_poinodes = pd.read_sql(\"SELECT * FROM poi_nodes\", con=conn)\n",
    "    df_nodes = pd.read_sql(\"SELECT * FROM node_coords\", con=conn)"
   ]
  },
  {
   "cell_type": "code",
   "execution_count": 82,
   "id": "characteristic-uncertainty",
   "metadata": {},
   "outputs": [
    {
     "name": "stderr",
     "output_type": "stream",
     "text": [
      "2021-05-21 20:16:33,389 [root] INFO     Attempting to load network...\n",
      "2021-05-21 20:16:53,116 [root] INFO     Loaded network\n"
     ]
    },
    {
     "data": {
      "application/javascript": [
       "\n",
       "            setTimeout(function() {\n",
       "                var nbb_cell_id = 82;\n",
       "                var nbb_unformatted_code = \"logger.info(\\\"Attempting to load network...\\\")\\ntry:\\n    with open(os.path.join(DATA_PATH, \\\"roadnet_greaterlondon_walking.pkl\\\"), \\\"rb\\\") as f:\\n        walknet = pickle.load(f)\\n        logger.info(\\\"Loaded network\\\")\\nexcept EOFError as e:\\n    logger.warning(\\\"unable to load from pickle. Loading from graphml\\\")\\n    walknet = ox.load_graphml(\\n        os.path.join(DATA_PATH, \\\"roadnet_greaterlondon_walking.graphml\\\")\\n    )\\n    logger.info(\\\"saving new network\\\")\\n    with open(os.path.join(DATA_PATH, \\\"roadnet_greaterlondon_walking.pkl\\\"), \\\"wb\\\") as f:\\n        walknet = pickle.dump(walknet, f)\\n    logger.info(\\\"saved new network as pickle\\\")\";\n",
       "                var nbb_formatted_code = \"logger.info(\\\"Attempting to load network...\\\")\\ntry:\\n    with open(os.path.join(DATA_PATH, \\\"roadnet_greaterlondon_walking.pkl\\\"), \\\"rb\\\") as f:\\n        walknet = pickle.load(f)\\n        logger.info(\\\"Loaded network\\\")\\nexcept EOFError as e:\\n    logger.warning(\\\"unable to load from pickle. Loading from graphml\\\")\\n    walknet = ox.load_graphml(\\n        os.path.join(DATA_PATH, \\\"roadnet_greaterlondon_walking.graphml\\\")\\n    )\\n    logger.info(\\\"saving new network\\\")\\n    with open(os.path.join(DATA_PATH, \\\"roadnet_greaterlondon_walking.pkl\\\"), \\\"wb\\\") as f:\\n        walknet = pickle.dump(walknet, f)\\n    logger.info(\\\"saved new network as pickle\\\")\";\n",
       "                var nbb_cells = Jupyter.notebook.get_cells();\n",
       "                for (var i = 0; i < nbb_cells.length; ++i) {\n",
       "                    if (nbb_cells[i].input_prompt_number == nbb_cell_id) {\n",
       "                        if (nbb_cells[i].get_text() == nbb_unformatted_code) {\n",
       "                             nbb_cells[i].set_text(nbb_formatted_code);\n",
       "                        }\n",
       "                        break;\n",
       "                    }\n",
       "                }\n",
       "            }, 500);\n",
       "            "
      ],
      "text/plain": [
       "<IPython.core.display.Javascript object>"
      ]
     },
     "metadata": {},
     "output_type": "display_data"
    }
   ],
   "source": [
    "logger.info(\"Attempting to load network...\")\n",
    "try:\n",
    "    with open(os.path.join(DATA_PATH, \"roadnet_greaterlondon_walking.pkl\"), \"rb\") as f:\n",
    "        walknet = pickle.load(f)\n",
    "        logger.info(\"Loaded network\")\n",
    "except EOFError as e:\n",
    "    logger.warning(\"unable to load from pickle. Loading from graphml\")\n",
    "    walknet = ox.load_graphml(\n",
    "        os.path.join(DATA_PATH, \"roadnet_greaterlondon_walking.graphml\")\n",
    "    )\n",
    "    logger.info(\"saving new network\")\n",
    "    with open(os.path.join(DATA_PATH, \"roadnet_greaterlondon_walking.pkl\"), \"wb\") as f:\n",
    "        walknet = pickle.dump(walknet, f)\n",
    "    logger.info(\"saved new network as pickle\")"
   ]
  },
  {
   "cell_type": "code",
   "execution_count": 93,
   "id": "adjustable-projection",
   "metadata": {},
   "outputs": [
    {
     "data": {
      "application/javascript": [
       "\n",
       "            setTimeout(function() {\n",
       "                var nbb_cell_id = 93;\n",
       "                var nbb_unformatted_code = \"df_closest_pois = df_closest_pois.join(\\n    df_addressnodes.set_index(\\\"address_id\\\")[[\\\"osmid\\\"]].rename(\\n        columns={\\\"osmid\\\": \\\"osmid_address\\\"}\\n    ),\\n    on=\\\"address_id\\\",\\n)\";\n",
       "                var nbb_formatted_code = \"df_closest_pois = df_closest_pois.join(\\n    df_addressnodes.set_index(\\\"address_id\\\")[[\\\"osmid\\\"]].rename(\\n        columns={\\\"osmid\\\": \\\"osmid_address\\\"}\\n    ),\\n    on=\\\"address_id\\\",\\n)\";\n",
       "                var nbb_cells = Jupyter.notebook.get_cells();\n",
       "                for (var i = 0; i < nbb_cells.length; ++i) {\n",
       "                    if (nbb_cells[i].input_prompt_number == nbb_cell_id) {\n",
       "                        if (nbb_cells[i].get_text() == nbb_unformatted_code) {\n",
       "                             nbb_cells[i].set_text(nbb_formatted_code);\n",
       "                        }\n",
       "                        break;\n",
       "                    }\n",
       "                }\n",
       "            }, 500);\n",
       "            "
      ],
      "text/plain": [
       "<IPython.core.display.Javascript object>"
      ]
     },
     "metadata": {},
     "output_type": "display_data"
    }
   ],
   "source": [
    "df_closest_pois = df_closest_pois.join(\n",
    "    df_addressnodes.set_index(\"address_id\")[[\"osmid\"]].rename(\n",
    "        columns={\"osmid\": \"osmid_address\"}\n",
    "    ),\n",
    "    on=\"address_id\",\n",
    ")"
   ]
  },
  {
   "cell_type": "code",
   "execution_count": 94,
   "id": "higher-score",
   "metadata": {},
   "outputs": [
    {
     "data": {
      "application/javascript": [
       "\n",
       "            setTimeout(function() {\n",
       "                var nbb_cell_id = 94;\n",
       "                var nbb_unformatted_code = \"df_points = df_closest_pois.join(\\n    df_poinodes.set_index([\\\"poi_id\\\", \\\"poi_category\\\"])[[\\\"osmid\\\"]].rename(\\n        columns={\\\"osmid\\\": \\\"osmid_poi\\\"}\\n    ),\\n    on=[\\\"poi_id\\\", \\\"poi_category\\\"],\\n    how=\\\"inner\\\",\\n)\";\n",
       "                var nbb_formatted_code = \"df_points = df_closest_pois.join(\\n    df_poinodes.set_index([\\\"poi_id\\\", \\\"poi_category\\\"])[[\\\"osmid\\\"]].rename(\\n        columns={\\\"osmid\\\": \\\"osmid_poi\\\"}\\n    ),\\n    on=[\\\"poi_id\\\", \\\"poi_category\\\"],\\n    how=\\\"inner\\\",\\n)\";\n",
       "                var nbb_cells = Jupyter.notebook.get_cells();\n",
       "                for (var i = 0; i < nbb_cells.length; ++i) {\n",
       "                    if (nbb_cells[i].input_prompt_number == nbb_cell_id) {\n",
       "                        if (nbb_cells[i].get_text() == nbb_unformatted_code) {\n",
       "                             nbb_cells[i].set_text(nbb_formatted_code);\n",
       "                        }\n",
       "                        break;\n",
       "                    }\n",
       "                }\n",
       "            }, 500);\n",
       "            "
      ],
      "text/plain": [
       "<IPython.core.display.Javascript object>"
      ]
     },
     "metadata": {},
     "output_type": "display_data"
    }
   ],
   "source": [
    "df_points = df_closest_pois.join(\n",
    "    df_poinodes.set_index([\"poi_id\", \"poi_category\"])[[\"osmid\"]].rename(\n",
    "        columns={\"osmid\": \"osmid_poi\"}\n",
    "    ),\n",
    "    on=[\"poi_id\", \"poi_category\"],\n",
    "    how=\"inner\",\n",
    ")"
   ]
  },
  {
   "cell_type": "code",
   "execution_count": 95,
   "id": "advisory-minnesota",
   "metadata": {},
   "outputs": [
    {
     "data": {
      "application/javascript": [
       "\n",
       "            setTimeout(function() {\n",
       "                var nbb_cell_id = 95;\n",
       "                var nbb_unformatted_code = \"df_points[\\\"shortest_path_distance\\\"] = df_points.apply(\\n    lambda x: nx.shortest_path_length(\\n        walknet, x.osmid_address, x.osmid_poi, weight=\\\"length\\\"\\n    ),\\n    axis=1,\\n)\";\n",
       "                var nbb_formatted_code = \"df_points[\\\"shortest_path_distance\\\"] = df_points.apply(\\n    lambda x: nx.shortest_path_length(\\n        walknet, x.osmid_address, x.osmid_poi, weight=\\\"length\\\"\\n    ),\\n    axis=1,\\n)\";\n",
       "                var nbb_cells = Jupyter.notebook.get_cells();\n",
       "                for (var i = 0; i < nbb_cells.length; ++i) {\n",
       "                    if (nbb_cells[i].input_prompt_number == nbb_cell_id) {\n",
       "                        if (nbb_cells[i].get_text() == nbb_unformatted_code) {\n",
       "                             nbb_cells[i].set_text(nbb_formatted_code);\n",
       "                        }\n",
       "                        break;\n",
       "                    }\n",
       "                }\n",
       "            }, 500);\n",
       "            "
      ],
      "text/plain": [
       "<IPython.core.display.Javascript object>"
      ]
     },
     "metadata": {},
     "output_type": "display_data"
    }
   ],
   "source": [
    "df_points[\"shortest_path_distance\"] = df_points.apply(\n",
    "    lambda x: nx.shortest_path_length(\n",
    "        walknet, x.osmid_address, x.osmid_poi, weight=\"length\"\n",
    "    ),\n",
    "    axis=1,\n",
    ")"
   ]
  },
  {
   "cell_type": "code",
   "execution_count": 96,
   "id": "progressive-borough",
   "metadata": {},
   "outputs": [
    {
     "data": {
      "application/javascript": [
       "\n",
       "            setTimeout(function() {\n",
       "                var nbb_cell_id = 96;\n",
       "                var nbb_unformatted_code = \"import seaborn as sns\";\n",
       "                var nbb_formatted_code = \"import seaborn as sns\";\n",
       "                var nbb_cells = Jupyter.notebook.get_cells();\n",
       "                for (var i = 0; i < nbb_cells.length; ++i) {\n",
       "                    if (nbb_cells[i].input_prompt_number == nbb_cell_id) {\n",
       "                        if (nbb_cells[i].get_text() == nbb_unformatted_code) {\n",
       "                             nbb_cells[i].set_text(nbb_formatted_code);\n",
       "                        }\n",
       "                        break;\n",
       "                    }\n",
       "                }\n",
       "            }, 500);\n",
       "            "
      ],
      "text/plain": [
       "<IPython.core.display.Javascript object>"
      ]
     },
     "metadata": {},
     "output_type": "display_data"
    }
   ],
   "source": [
    "import seaborn as sns"
   ]
  },
  {
   "cell_type": "code",
   "execution_count": 97,
   "id": "designing-ending",
   "metadata": {},
   "outputs": [
    {
     "name": "stderr",
     "output_type": "stream",
     "text": [
      "/usr/local/lib/python3.8/site-packages/seaborn/distributions.py:2557: FutureWarning: `distplot` is a deprecated function and will be removed in a future version. Please adapt your code to use either `displot` (a figure-level function with similar flexibility) or `histplot` (an axes-level function for histograms).\n",
      "  warnings.warn(msg, FutureWarning)\n"
     ]
    },
    {
     "data": {
      "text/plain": [
       "<AxesSubplot:xlabel='shortest_path_distance', ylabel='Density'>"
      ]
     },
     "execution_count": 97,
     "metadata": {},
     "output_type": "execute_result"
    },
    {
     "data": {
      "image/png": "[encoded data removed]",
      "text/plain": [
       "<Figure size 432x288 with 1 Axes>"
      ]
     },
     "metadata": {
      "needs_background": "light"
     },
     "output_type": "display_data"
    },
    {
     "data": {
      "application/javascript": [
       "\n",
       "            setTimeout(function() {\n",
       "                var nbb_cell_id = 97;\n",
       "                var nbb_unformatted_code = \"sns.distplot(df_points.shortest_path_distance)\";\n",
       "                var nbb_formatted_code = \"sns.distplot(df_points.shortest_path_distance)\";\n",
       "                var nbb_cells = Jupyter.notebook.get_cells();\n",
       "                for (var i = 0; i < nbb_cells.length; ++i) {\n",
       "                    if (nbb_cells[i].input_prompt_number == nbb_cell_id) {\n",
       "                        if (nbb_cells[i].get_text() == nbb_unformatted_code) {\n",
       "                             nbb_cells[i].set_text(nbb_formatted_code);\n",
       "                        }\n",
       "                        break;\n",
       "                    }\n",
       "                }\n",
       "            }, 500);\n",
       "            "
      ],
      "text/plain": [
       "<IPython.core.display.Javascript object>"
      ]
     },
     "metadata": {},
     "output_type": "display_data"
    }
   ],
   "source": [
    "sns.distplot(df_points.shortest_path_distance)"
   ]
  },
  {
   "cell_type": "code",
   "execution_count": 98,
   "id": "registered-space",
   "metadata": {},
   "outputs": [
    {
     "data": {
      "text/html": [
       "<div>\n",
       "<style scoped>\n",
       "    .dataframe tbody tr th:only-of-type {\n",
       "        vertical-align: middle;\n",
       "    }\n",
       "\n",
       "    .dataframe tbody tr th {\n",
       "        vertical-align: top;\n",
       "    }\n",
       "\n",
       "    .dataframe thead th {\n",
       "        text-align: right;\n",
       "    }\n",
       "</style>\n",
       "<table border=\"1\" class=\"dataframe\">\n",
       "  <thead>\n",
       "    <tr style=\"text-align: right;\">\n",
       "      <th></th>\n",
       "      <th>eastings</th>\n",
       "      <th>northings</th>\n",
       "      <th>poi_id</th>\n",
       "      <th>address_id</th>\n",
       "      <th>poi_category</th>\n",
       "      <th>osmid_address</th>\n",
       "      <th>osmid_poi</th>\n",
       "      <th>shortest_path_distance</th>\n",
       "    </tr>\n",
       "  </thead>\n",
       "  <tbody>\n",
       "    <tr>\n",
       "      <th>0</th>\n",
       "      <td>NaN</td>\n",
       "      <td>NaN</td>\n",
       "      <td>438</td>\n",
       "      <td>1</td>\n",
       "      <td>station</td>\n",
       "      <td>3625978674</td>\n",
       "      <td>391661406</td>\n",
       "      <td>704.564</td>\n",
       "    </tr>\n",
       "    <tr>\n",
       "      <th>15</th>\n",
       "      <td>NaN</td>\n",
       "      <td>NaN</td>\n",
       "      <td>438</td>\n",
       "      <td>8</td>\n",
       "      <td>station</td>\n",
       "      <td>26373735</td>\n",
       "      <td>391661406</td>\n",
       "      <td>587.430</td>\n",
       "    </tr>\n",
       "    <tr>\n",
       "      <th>18</th>\n",
       "      <td>NaN</td>\n",
       "      <td>NaN</td>\n",
       "      <td>438</td>\n",
       "      <td>9</td>\n",
       "      <td>station</td>\n",
       "      <td>26373735</td>\n",
       "      <td>391661406</td>\n",
       "      <td>587.430</td>\n",
       "    </tr>\n",
       "    <tr>\n",
       "      <th>24</th>\n",
       "      <td>NaN</td>\n",
       "      <td>NaN</td>\n",
       "      <td>438</td>\n",
       "      <td>12</td>\n",
       "      <td>station</td>\n",
       "      <td>33043191</td>\n",
       "      <td>391661406</td>\n",
       "      <td>433.431</td>\n",
       "    </tr>\n",
       "    <tr>\n",
       "      <th>27</th>\n",
       "      <td>NaN</td>\n",
       "      <td>NaN</td>\n",
       "      <td>438</td>\n",
       "      <td>13</td>\n",
       "      <td>station</td>\n",
       "      <td>856374252</td>\n",
       "      <td>391661406</td>\n",
       "      <td>453.711</td>\n",
       "    </tr>\n",
       "    <tr>\n",
       "      <th>...</th>\n",
       "      <td>...</td>\n",
       "      <td>...</td>\n",
       "      <td>...</td>\n",
       "      <td>...</td>\n",
       "      <td>...</td>\n",
       "      <td>...</td>\n",
       "      <td>...</td>\n",
       "      <td>...</td>\n",
       "    </tr>\n",
       "    <tr>\n",
       "      <th>202</th>\n",
       "      <td>NaN</td>\n",
       "      <td>NaN</td>\n",
       "      <td>380</td>\n",
       "      <td>92</td>\n",
       "      <td>tube</td>\n",
       "      <td>26788876</td>\n",
       "      <td>7778679863</td>\n",
       "      <td>545.446</td>\n",
       "    </tr>\n",
       "    <tr>\n",
       "      <th>306</th>\n",
       "      <td>NaN</td>\n",
       "      <td>NaN</td>\n",
       "      <td>421</td>\n",
       "      <td>128</td>\n",
       "      <td>station</td>\n",
       "      <td>5473525786</td>\n",
       "      <td>5473525786</td>\n",
       "      <td>0.000</td>\n",
       "    </tr>\n",
       "    <tr>\n",
       "      <th>307</th>\n",
       "      <td>NaN</td>\n",
       "      <td>NaN</td>\n",
       "      <td>421</td>\n",
       "      <td>128</td>\n",
       "      <td>tube</td>\n",
       "      <td>5473525786</td>\n",
       "      <td>5473525786</td>\n",
       "      <td>0.000</td>\n",
       "    </tr>\n",
       "    <tr>\n",
       "      <th>327</th>\n",
       "      <td>NaN</td>\n",
       "      <td>NaN</td>\n",
       "      <td>268</td>\n",
       "      <td>135</td>\n",
       "      <td>station</td>\n",
       "      <td>8586229072</td>\n",
       "      <td>1930497010</td>\n",
       "      <td>27508.798</td>\n",
       "    </tr>\n",
       "    <tr>\n",
       "      <th>328</th>\n",
       "      <td>NaN</td>\n",
       "      <td>NaN</td>\n",
       "      <td>228</td>\n",
       "      <td>135</td>\n",
       "      <td>tube</td>\n",
       "      <td>8586229072</td>\n",
       "      <td>7202554503</td>\n",
       "      <td>7763.213</td>\n",
       "    </tr>\n",
       "  </tbody>\n",
       "</table>\n",
       "<p>304 rows × 8 columns</p>\n",
       "</div>"
      ],
      "text/plain": [
       "     eastings  northings  poi_id  address_id poi_category  osmid_address  \\\n",
       "0         NaN        NaN     438           1      station     3625978674   \n",
       "15        NaN        NaN     438           8      station       26373735   \n",
       "18        NaN        NaN     438           9      station       26373735   \n",
       "24        NaN        NaN     438          12      station       33043191   \n",
       "27        NaN        NaN     438          13      station      856374252   \n",
       "..        ...        ...     ...         ...          ...            ...   \n",
       "202       NaN        NaN     380          92         tube       26788876   \n",
       "306       NaN        NaN     421         128      station     5473525786   \n",
       "307       NaN        NaN     421         128         tube     5473525786   \n",
       "327       NaN        NaN     268         135      station     8586229072   \n",
       "328       NaN        NaN     228         135         tube     8586229072   \n",
       "\n",
       "      osmid_poi  shortest_path_distance  \n",
       "0     391661406                 704.564  \n",
       "15    391661406                 587.430  \n",
       "18    391661406                 587.430  \n",
       "24    391661406                 433.431  \n",
       "27    391661406                 453.711  \n",
       "..          ...                     ...  \n",
       "202  7778679863                 545.446  \n",
       "306  5473525786                   0.000  \n",
       "307  5473525786                   0.000  \n",
       "327  1930497010               27508.798  \n",
       "328  7202554503                7763.213  \n",
       "\n",
       "[304 rows x 8 columns]"
      ]
     },
     "execution_count": 98,
     "metadata": {},
     "output_type": "execute_result"
    },
    {
     "data": {
      "application/javascript": [
       "\n",
       "            setTimeout(function() {\n",
       "                var nbb_cell_id = 98;\n",
       "                var nbb_unformatted_code = \"df_points\";\n",
       "                var nbb_formatted_code = \"df_points\";\n",
       "                var nbb_cells = Jupyter.notebook.get_cells();\n",
       "                for (var i = 0; i < nbb_cells.length; ++i) {\n",
       "                    if (nbb_cells[i].input_prompt_number == nbb_cell_id) {\n",
       "                        if (nbb_cells[i].get_text() == nbb_unformatted_code) {\n",
       "                             nbb_cells[i].set_text(nbb_formatted_code);\n",
       "                        }\n",
       "                        break;\n",
       "                    }\n",
       "                }\n",
       "            }, 500);\n",
       "            "
      ],
      "text/plain": [
       "<IPython.core.display.Javascript object>"
      ]
     },
     "metadata": {},
     "output_type": "display_data"
    }
   ],
   "source": [
    "df_points"
   ]
  },
  {
   "cell_type": "markdown",
   "id": "continent-matrix",
   "metadata": {},
   "source": [
    "## Polygons"
   ]
  },
  {
   "cell_type": "code",
   "execution_count": 99,
   "id": "distributed-cabin",
   "metadata": {},
   "outputs": [
    {
     "data": {
      "application/javascript": [
       "\n",
       "            setTimeout(function() {\n",
       "                var nbb_cell_id = 99;\n",
       "                var nbb_unformatted_code = \"df_polygons = df_closest_pois[\\n    ~df_closest_pois.poi_category.isin(df_points.poi_category.unique())\\n]\";\n",
       "                var nbb_formatted_code = \"df_polygons = df_closest_pois[\\n    ~df_closest_pois.poi_category.isin(df_points.poi_category.unique())\\n]\";\n",
       "                var nbb_cells = Jupyter.notebook.get_cells();\n",
       "                for (var i = 0; i < nbb_cells.length; ++i) {\n",
       "                    if (nbb_cells[i].input_prompt_number == nbb_cell_id) {\n",
       "                        if (nbb_cells[i].get_text() == nbb_unformatted_code) {\n",
       "                             nbb_cells[i].set_text(nbb_formatted_code);\n",
       "                        }\n",
       "                        break;\n",
       "                    }\n",
       "                }\n",
       "            }, 500);\n",
       "            "
      ],
      "text/plain": [
       "<IPython.core.display.Javascript object>"
      ]
     },
     "metadata": {},
     "output_type": "display_data"
    }
   ],
   "source": [
    "df_polygons = df_closest_pois[\n",
    "    ~df_closest_pois.poi_category.isin(df_points.poi_category.unique())\n",
    "]"
   ]
  },
  {
   "cell_type": "code",
   "execution_count": 100,
   "id": "norman-transparency",
   "metadata": {},
   "outputs": [
    {
     "data": {
      "application/javascript": [
       "\n",
       "            setTimeout(function() {\n",
       "                var nbb_cell_id = 100;\n",
       "                var nbb_unformatted_code = \"coords_nodes = df_nodes[[\\\"eastings\\\", \\\"northings\\\"]].values\";\n",
       "                var nbb_formatted_code = \"coords_nodes = df_nodes[[\\\"eastings\\\", \\\"northings\\\"]].values\";\n",
       "                var nbb_cells = Jupyter.notebook.get_cells();\n",
       "                for (var i = 0; i < nbb_cells.length; ++i) {\n",
       "                    if (nbb_cells[i].input_prompt_number == nbb_cell_id) {\n",
       "                        if (nbb_cells[i].get_text() == nbb_unformatted_code) {\n",
       "                             nbb_cells[i].set_text(nbb_formatted_code);\n",
       "                        }\n",
       "                        break;\n",
       "                    }\n",
       "                }\n",
       "            }, 500);\n",
       "            "
      ],
      "text/plain": [
       "<IPython.core.display.Javascript object>"
      ]
     },
     "metadata": {},
     "output_type": "display_data"
    }
   ],
   "source": [
    "coords_nodes = df_nodes[[\"eastings\", \"northings\"]].values"
   ]
  },
  {
   "cell_type": "code",
   "execution_count": 101,
   "id": "characteristic-regard",
   "metadata": {},
   "outputs": [
    {
     "data": {
      "application/javascript": [
       "\n",
       "            setTimeout(function() {\n",
       "                var nbb_cell_id = 101;\n",
       "                var nbb_unformatted_code = \"closest_osmids_poly = get_closest_osmids(\\n    df_polygons[[\\\"eastings\\\", \\\"northings\\\"]].values,\\n    coords_nodes,\\n    df_nodes.osmid.values,\\n)\";\n",
       "                var nbb_formatted_code = \"closest_osmids_poly = get_closest_osmids(\\n    df_polygons[[\\\"eastings\\\", \\\"northings\\\"]].values,\\n    coords_nodes,\\n    df_nodes.osmid.values,\\n)\";\n",
       "                var nbb_cells = Jupyter.notebook.get_cells();\n",
       "                for (var i = 0; i < nbb_cells.length; ++i) {\n",
       "                    if (nbb_cells[i].input_prompt_number == nbb_cell_id) {\n",
       "                        if (nbb_cells[i].get_text() == nbb_unformatted_code) {\n",
       "                             nbb_cells[i].set_text(nbb_formatted_code);\n",
       "                        }\n",
       "                        break;\n",
       "                    }\n",
       "                }\n",
       "            }, 500);\n",
       "            "
      ],
      "text/plain": [
       "<IPython.core.display.Javascript object>"
      ]
     },
     "metadata": {},
     "output_type": "display_data"
    }
   ],
   "source": [
    "closest_osmids_poly = get_closest_osmids(\n",
    "    df_polygons[[\"eastings\", \"northings\"]].values,\n",
    "    coords_nodes,\n",
    "    df_nodes.osmid.values,\n",
    ")"
   ]
  },
  {
   "cell_type": "code",
   "execution_count": 103,
   "id": "intimate-colombia",
   "metadata": {
    "scrolled": true
   },
   "outputs": [
    {
     "name": "stderr",
     "output_type": "stream",
     "text": [
      "<ipython-input-103-64309221bd45>:1: SettingWithCopyWarning: \n",
      "A value is trying to be set on a copy of a slice from a DataFrame.\n",
      "Try using .loc[row_indexer,col_indexer] = value instead\n",
      "\n",
      "See the caveats in the documentation: https://pandas.pydata.org/pandas-docs/stable/user_guide/indexing.html#returning-a-view-versus-a-copy\n",
      "  df_polygons[\"osmid_poi\"] = closest_osmids_poly\n"
     ]
    },
    {
     "data": {
      "application/javascript": [
       "\n",
       "            setTimeout(function() {\n",
       "                var nbb_cell_id = 103;\n",
       "                var nbb_unformatted_code = \"df_polygons[\\\"osmid_poi\\\"] = closest_osmids_poly\";\n",
       "                var nbb_formatted_code = \"df_polygons[\\\"osmid_poi\\\"] = closest_osmids_poly\";\n",
       "                var nbb_cells = Jupyter.notebook.get_cells();\n",
       "                for (var i = 0; i < nbb_cells.length; ++i) {\n",
       "                    if (nbb_cells[i].input_prompt_number == nbb_cell_id) {\n",
       "                        if (nbb_cells[i].get_text() == nbb_unformatted_code) {\n",
       "                             nbb_cells[i].set_text(nbb_formatted_code);\n",
       "                        }\n",
       "                        break;\n",
       "                    }\n",
       "                }\n",
       "            }, 500);\n",
       "            "
      ],
      "text/plain": [
       "<IPython.core.display.Javascript object>"
      ]
     },
     "metadata": {},
     "output_type": "display_data"
    }
   ],
   "source": [
    "df_polygons[\"osmid_poi\"] = closest_osmids_poly"
   ]
  },
  {
   "cell_type": "code",
   "execution_count": 105,
   "id": "reliable-overview",
   "metadata": {},
   "outputs": [
    {
     "name": "stderr",
     "output_type": "stream",
     "text": [
      "<ipython-input-105-1d9edc5de5dd>:1: SettingWithCopyWarning: \n",
      "A value is trying to be set on a copy of a slice from a DataFrame.\n",
      "Try using .loc[row_indexer,col_indexer] = value instead\n",
      "\n",
      "See the caveats in the documentation: https://pandas.pydata.org/pandas-docs/stable/user_guide/indexing.html#returning-a-view-versus-a-copy\n",
      "  df_polygons[\"shortest_path_distance\"] = df_polygons.apply(\n"
     ]
    },
    {
     "data": {
      "application/javascript": [
       "\n",
       "            setTimeout(function() {\n",
       "                var nbb_cell_id = 105;\n",
       "                var nbb_unformatted_code = \"df_polygons[\\\"shortest_path_distance\\\"] = df_polygons.apply(\\n    lambda x: nx.shortest_path_length(\\n        walknet, x.osmid_address, x.osmid_poi, weight=\\\"length\\\"\\n    ),\\n    axis=1,\\n)\";\n",
       "                var nbb_formatted_code = \"df_polygons[\\\"shortest_path_distance\\\"] = df_polygons.apply(\\n    lambda x: nx.shortest_path_length(\\n        walknet, x.osmid_address, x.osmid_poi, weight=\\\"length\\\"\\n    ),\\n    axis=1,\\n)\";\n",
       "                var nbb_cells = Jupyter.notebook.get_cells();\n",
       "                for (var i = 0; i < nbb_cells.length; ++i) {\n",
       "                    if (nbb_cells[i].input_prompt_number == nbb_cell_id) {\n",
       "                        if (nbb_cells[i].get_text() == nbb_unformatted_code) {\n",
       "                             nbb_cells[i].set_text(nbb_formatted_code);\n",
       "                        }\n",
       "                        break;\n",
       "                    }\n",
       "                }\n",
       "            }, 500);\n",
       "            "
      ],
      "text/plain": [
       "<IPython.core.display.Javascript object>"
      ]
     },
     "metadata": {},
     "output_type": "display_data"
    }
   ],
   "source": [
    "df_polygons[\"shortest_path_distance\"] = df_polygons.apply(\n",
    "    lambda x: nx.shortest_path_length(\n",
    "        walknet, x.osmid_address, x.osmid_poi, weight=\"length\"\n",
    "    ),\n",
    "    axis=1,\n",
    ")"
   ]
  },
  {
   "cell_type": "markdown",
   "id": "blocked-mexico",
   "metadata": {},
   "source": [
    "## Combine"
   ]
  },
  {
   "cell_type": "code",
   "execution_count": 108,
   "id": "proprietary-mortality",
   "metadata": {},
   "outputs": [
    {
     "data": {
      "application/javascript": [
       "\n",
       "            setTimeout(function() {\n",
       "                var nbb_cell_id = 108;\n",
       "                var nbb_unformatted_code = \"df_comb = df_points.append(df_polygons, ignore_index=True)\";\n",
       "                var nbb_formatted_code = \"df_comb = df_points.append(df_polygons, ignore_index=True)\";\n",
       "                var nbb_cells = Jupyter.notebook.get_cells();\n",
       "                for (var i = 0; i < nbb_cells.length; ++i) {\n",
       "                    if (nbb_cells[i].input_prompt_number == nbb_cell_id) {\n",
       "                        if (nbb_cells[i].get_text() == nbb_unformatted_code) {\n",
       "                             nbb_cells[i].set_text(nbb_formatted_code);\n",
       "                        }\n",
       "                        break;\n",
       "                    }\n",
       "                }\n",
       "            }, 500);\n",
       "            "
      ],
      "text/plain": [
       "<IPython.core.display.Javascript object>"
      ]
     },
     "metadata": {},
     "output_type": "display_data"
    }
   ],
   "source": [
    "df_comb = df_points.append(df_polygons, ignore_index=True)"
   ]
  },
  {
   "cell_type": "markdown",
   "id": "younger-kernel",
   "metadata": {},
   "source": [
    "## Save"
   ]
  },
  {
   "cell_type": "code",
   "execution_count": 111,
   "id": "racial-third",
   "metadata": {},
   "outputs": [
    {
     "data": {
      "application/javascript": [
       "\n",
       "            setTimeout(function() {\n",
       "                var nbb_cell_id = 111;\n",
       "                var nbb_unformatted_code = \"cols = {\\n    \\\"poi_id\\\": \\\"INTEGER\\\",\\n    \\\"address_id\\\": \\\"INTEGER\\\",\\n    \\\"poi_category\\\": \\\"VARCHAR(64)\\\",\\n    \\\"distance\\\":\\\"DECIMAL(10,3)\\\"\\n}\\n\\nindex_cols = [\\\"poi_id\\\", \\\"address_id\\\", \\\"poi_category\\\"]\\nunique_cols = []\";\n",
       "                var nbb_formatted_code = \"cols = {\\n    \\\"poi_id\\\": \\\"INTEGER\\\",\\n    \\\"address_id\\\": \\\"INTEGER\\\",\\n    \\\"poi_category\\\": \\\"VARCHAR(64)\\\",\\n    \\\"distance\\\": \\\"DECIMAL(10,3)\\\",\\n}\\n\\nindex_cols = [\\\"poi_id\\\", \\\"address_id\\\", \\\"poi_category\\\"]\\nunique_cols = []\";\n",
       "                var nbb_cells = Jupyter.notebook.get_cells();\n",
       "                for (var i = 0; i < nbb_cells.length; ++i) {\n",
       "                    if (nbb_cells[i].input_prompt_number == nbb_cell_id) {\n",
       "                        if (nbb_cells[i].get_text() == nbb_unformatted_code) {\n",
       "                             nbb_cells[i].set_text(nbb_formatted_code);\n",
       "                        }\n",
       "                        break;\n",
       "                    }\n",
       "                }\n",
       "            }, 500);\n",
       "            "
      ],
      "text/plain": [
       "<IPython.core.display.Javascript object>"
      ]
     },
     "metadata": {},
     "output_type": "display_data"
    }
   ],
   "source": [
    "cols = {\n",
    "    \"poi_id\": \"INTEGER\",\n",
    "    \"address_id\": \"INTEGER\",\n",
    "    \"poi_category\": \"VARCHAR(64)\",\n",
    "    \"distance\": \"DECIMAL(10,3)\",\n",
    "}\n",
    "\n",
    "index_cols = [\"poi_id\", \"address_id\", \"poi_category\"]\n",
    "unique_cols = []"
   ]
  },
  {
   "cell_type": "code",
   "execution_count": 112,
   "id": "accessory-hours",
   "metadata": {},
   "outputs": [
    {
     "data": {
      "application/javascript": [
       "\n",
       "            setTimeout(function() {\n",
       "                var nbb_cell_id = 112;\n",
       "                var nbb_unformatted_code = \"create_q = get_table_creation_query(\\n    \\\"poi_distances\\\", cols, searchname, index_cols, unique_cols\\n)\";\n",
       "                var nbb_formatted_code = \"create_q = get_table_creation_query(\\n    \\\"poi_distances\\\", cols, searchname, index_cols, unique_cols\\n)\";\n",
       "                var nbb_cells = Jupyter.notebook.get_cells();\n",
       "                for (var i = 0; i < nbb_cells.length; ++i) {\n",
       "                    if (nbb_cells[i].input_prompt_number == nbb_cell_id) {\n",
       "                        if (nbb_cells[i].get_text() == nbb_unformatted_code) {\n",
       "                             nbb_cells[i].set_text(nbb_formatted_code);\n",
       "                        }\n",
       "                        break;\n",
       "                    }\n",
       "                }\n",
       "            }, 500);\n",
       "            "
      ],
      "text/plain": [
       "<IPython.core.display.Javascript object>"
      ]
     },
     "metadata": {},
     "output_type": "display_data"
    }
   ],
   "source": [
    "create_q = get_table_creation_query(\n",
    "    \"poi_distances\", cols, searchname, index_cols, unique_cols\n",
    ")"
   ]
  },
  {
   "cell_type": "code",
   "execution_count": 114,
   "id": "binding-potter",
   "metadata": {},
   "outputs": [
    {
     "data": {
      "application/javascript": [
       "\n",
       "            setTimeout(function() {\n",
       "                var nbb_cell_id = 114;\n",
       "                var nbb_unformatted_code = \"with engine.connect() as conn:\\n    conn.execute(create_q)\";\n",
       "                var nbb_formatted_code = \"with engine.connect() as conn:\\n    conn.execute(create_q)\";\n",
       "                var nbb_cells = Jupyter.notebook.get_cells();\n",
       "                for (var i = 0; i < nbb_cells.length; ++i) {\n",
       "                    if (nbb_cells[i].input_prompt_number == nbb_cell_id) {\n",
       "                        if (nbb_cells[i].get_text() == nbb_unformatted_code) {\n",
       "                             nbb_cells[i].set_text(nbb_formatted_code);\n",
       "                        }\n",
       "                        break;\n",
       "                    }\n",
       "                }\n",
       "            }, 500);\n",
       "            "
      ],
      "text/plain": [
       "<IPython.core.display.Javascript object>"
      ]
     },
     "metadata": {},
     "output_type": "display_data"
    }
   ],
   "source": [
    "with engine.connect() as conn:\n",
    "    conn.execute(create_q)"
   ]
  },
  {
   "cell_type": "code",
   "execution_count": 116,
   "id": "southeast-reserve",
   "metadata": {},
   "outputs": [
    {
     "data": {
      "application/javascript": [
       "\n",
       "            setTimeout(function() {\n",
       "                var nbb_cell_id = 116;\n",
       "                var nbb_unformatted_code = \"with engine.connect() as conn:\\n    df_comb[[\\\"address_id\\\", \\\"poi_category\\\", \\\"shortest_path_distance\\\"]].rename(\\n        columns={\\\"shortest_path_distance\\\": \\\"distance\\\"}\\n    ).to_sql(\\\"poi_distances\\\",schema=searchname,index=False,con=conn,if_exists=\\\"append\\\")\";\n",
       "                var nbb_formatted_code = \"with engine.connect() as conn:\\n    df_comb[[\\\"address_id\\\", \\\"poi_category\\\", \\\"shortest_path_distance\\\"]].rename(\\n        columns={\\\"shortest_path_distance\\\": \\\"distance\\\"}\\n    ).to_sql(\\n        \\\"poi_distances\\\", schema=searchname, index=False, con=conn, if_exists=\\\"append\\\"\\n    )\";\n",
       "                var nbb_cells = Jupyter.notebook.get_cells();\n",
       "                for (var i = 0; i < nbb_cells.length; ++i) {\n",
       "                    if (nbb_cells[i].input_prompt_number == nbb_cell_id) {\n",
       "                        if (nbb_cells[i].get_text() == nbb_unformatted_code) {\n",
       "                             nbb_cells[i].set_text(nbb_formatted_code);\n",
       "                        }\n",
       "                        break;\n",
       "                    }\n",
       "                }\n",
       "            }, 500);\n",
       "            "
      ],
      "text/plain": [
       "<IPython.core.display.Javascript object>"
      ]
     },
     "metadata": {},
     "output_type": "display_data"
    }
   ],
   "source": [
    "with engine.connect() as conn:\n",
    "    df_comb[[\"address_id\", \"poi_category\", \"shortest_path_distance\"]].rename(\n",
    "        columns={\"shortest_path_distance\": \"distance\"}\n",
    "    ).to_sql(\n",
    "        \"poi_distances\", schema=searchname, index=False, con=conn, if_exists=\"append\"\n",
    "    )"
   ]
  }
 ],
 "metadata": {
  "kernelspec": {
   "display_name": "Python 3",
   "language": "python",
   "name": "python3"
  },
  "language_info": {
   "codemirror_mode": {
    "name": "ipython",
    "version": 3
   },
   "file_extension": ".py",
   "mimetype": "text/x-python",
   "name": "python",
   "nbconvert_exporter": "python",
   "pygments_lexer": "ipython3",
   "version": "3.8.10"
  }
 },
 "nbformat": 4,
 "nbformat_minor": 5
}
