{
 "cells": [
  {
   "cell_type": "markdown",
   "id": "african-output",
   "metadata": {},
   "source": [
    "## Snap POIs to Road Network"
   ]
  },
  {
   "cell_type": "code",
   "execution_count": 1,
   "id": "printable-daughter",
   "metadata": {},
   "outputs": [
    {
     "data": {
      "application/javascript": [
       "\n",
       "            setTimeout(function() {\n",
       "                var nbb_cell_id = 1;\n",
       "                var nbb_unformatted_code = \"%load_ext nb_black\";\n",
       "                var nbb_formatted_code = \"%load_ext nb_black\";\n",
       "                var nbb_cells = Jupyter.notebook.get_cells();\n",
       "                for (var i = 0; i < nbb_cells.length; ++i) {\n",
       "                    if (nbb_cells[i].input_prompt_number == nbb_cell_id) {\n",
       "                        if (nbb_cells[i].get_text() == nbb_unformatted_code) {\n",
       "                             nbb_cells[i].set_text(nbb_formatted_code);\n",
       "                        }\n",
       "                        break;\n",
       "                    }\n",
       "                }\n",
       "            }, 500);\n",
       "            "
      ],
      "text/plain": [
       "<IPython.core.display.Javascript object>"
      ]
     },
     "metadata": {},
     "output_type": "display_data"
    }
   ],
   "source": [
    "%load_ext nb_black"
   ]
  },
  {
   "cell_type": "code",
   "execution_count": 2,
   "id": "alternate-queen",
   "metadata": {},
   "outputs": [
    {
     "data": {
      "application/javascript": [
       "\n",
       "            setTimeout(function() {\n",
       "                var nbb_cell_id = 2;\n",
       "                var nbb_unformatted_code = \"import pickle\\nimport osmnx as ox\\n\\nimport sys\\n\\nsys.path.append(\\\"/app\\\")\\nfrom constants import DATA_PATH\\n\\nimport os\\n\\nfrom db_utils import get_engine, get_table_creation_query\\n\\nimport logging\\n\\nimport dataloader as loader\\nimport numpy as np\\nimport pandas as pd\\nfrom scipy.spatial import cKDTree\\nfrom network_utils import get_closest_osmids\";\n",
       "                var nbb_formatted_code = \"import pickle\\nimport osmnx as ox\\n\\nimport sys\\n\\nsys.path.append(\\\"/app\\\")\\nfrom constants import DATA_PATH\\n\\nimport os\\n\\nfrom db_utils import get_engine, get_table_creation_query\\n\\nimport logging\\n\\nimport dataloader as loader\\nimport numpy as np\\nimport pandas as pd\\nfrom scipy.spatial import cKDTree\\nfrom network_utils import get_closest_osmids\";\n",
       "                var nbb_cells = Jupyter.notebook.get_cells();\n",
       "                for (var i = 0; i < nbb_cells.length; ++i) {\n",
       "                    if (nbb_cells[i].input_prompt_number == nbb_cell_id) {\n",
       "                        if (nbb_cells[i].get_text() == nbb_unformatted_code) {\n",
       "                             nbb_cells[i].set_text(nbb_formatted_code);\n",
       "                        }\n",
       "                        break;\n",
       "                    }\n",
       "                }\n",
       "            }, 500);\n",
       "            "
      ],
      "text/plain": [
       "<IPython.core.display.Javascript object>"
      ]
     },
     "metadata": {},
     "output_type": "display_data"
    }
   ],
   "source": [
    "import pickle\n",
    "import osmnx as ox\n",
    "\n",
    "import sys\n",
    "\n",
    "sys.path.append(\"/app\")\n",
    "from constants import DATA_PATH\n",
    "\n",
    "import os\n",
    "\n",
    "from db_utils import get_engine, get_table_creation_query\n",
    "\n",
    "import logging\n",
    "\n",
    "import dataloader as loader\n",
    "import numpy as np\n",
    "import pandas as pd\n",
    "from scipy.spatial import cKDTree\n",
    "from network_utils import get_closest_osmids\n"
   ]
  },
  {
   "cell_type": "markdown",
   "id": "creative-success",
   "metadata": {},
   "source": [
    "## Connect to Database"
   ]
  },
  {
   "cell_type": "code",
   "execution_count": 3,
   "id": "false-store",
   "metadata": {},
   "outputs": [
    {
     "data": {
      "application/javascript": [
       "\n",
       "            setTimeout(function() {\n",
       "                var nbb_cell_id = 3;\n",
       "                var nbb_unformatted_code = \"user = os.getenv(\\\"POSTGRES_USER\\\")\\npassword = os.getenv(\\\"POSTGRES_PASSWORD\\\")\\nhost = os.getenv(\\\"POSTGRES_HOST\\\")\";\n",
       "                var nbb_formatted_code = \"user = os.getenv(\\\"POSTGRES_USER\\\")\\npassword = os.getenv(\\\"POSTGRES_PASSWORD\\\")\\nhost = os.getenv(\\\"POSTGRES_HOST\\\")\";\n",
       "                var nbb_cells = Jupyter.notebook.get_cells();\n",
       "                for (var i = 0; i < nbb_cells.length; ++i) {\n",
       "                    if (nbb_cells[i].input_prompt_number == nbb_cell_id) {\n",
       "                        if (nbb_cells[i].get_text() == nbb_unformatted_code) {\n",
       "                             nbb_cells[i].set_text(nbb_formatted_code);\n",
       "                        }\n",
       "                        break;\n",
       "                    }\n",
       "                }\n",
       "            }, 500);\n",
       "            "
      ],
      "text/plain": [
       "<IPython.core.display.Javascript object>"
      ]
     },
     "metadata": {},
     "output_type": "display_data"
    }
   ],
   "source": [
    "user = os.getenv(\"POSTGRES_USER\")\n",
    "password = os.getenv(\"POSTGRES_PASSWORD\")\n",
    "host = os.getenv(\"POSTGRES_HOST\")"
   ]
  },
  {
   "cell_type": "code",
   "execution_count": 4,
   "id": "minute-roommate",
   "metadata": {},
   "outputs": [
    {
     "data": {
      "application/javascript": [
       "\n",
       "            setTimeout(function() {\n",
       "                var nbb_cell_id = 4;\n",
       "                var nbb_unformatted_code = \"engine = get_engine(user, password, host)\";\n",
       "                var nbb_formatted_code = \"engine = get_engine(user, password, host)\";\n",
       "                var nbb_cells = Jupyter.notebook.get_cells();\n",
       "                for (var i = 0; i < nbb_cells.length; ++i) {\n",
       "                    if (nbb_cells[i].input_prompt_number == nbb_cell_id) {\n",
       "                        if (nbb_cells[i].get_text() == nbb_unformatted_code) {\n",
       "                             nbb_cells[i].set_text(nbb_formatted_code);\n",
       "                        }\n",
       "                        break;\n",
       "                    }\n",
       "                }\n",
       "            }, 500);\n",
       "            "
      ],
      "text/plain": [
       "<IPython.core.display.Javascript object>"
      ]
     },
     "metadata": {},
     "output_type": "display_data"
    }
   ],
   "source": [
    "engine = get_engine(user, password, host)"
   ]
  },
  {
   "cell_type": "code",
   "execution_count": 5,
   "id": "distinguished-opera",
   "metadata": {},
   "outputs": [
    {
     "data": {
      "application/javascript": [
       "\n",
       "            setTimeout(function() {\n",
       "                var nbb_cell_id = 5;\n",
       "                var nbb_unformatted_code = \"logger = logging.getLogger()\\nhandler = logging.StreamHandler()\\nformatter = logging.Formatter(\\\"%(asctime)s [%(name)s] %(levelname)-8s %(message)s\\\")\\nhandler.setFormatter(formatter)\\nlogger.addHandler(handler)\\nlogger.setLevel(logging.INFO)\";\n",
       "                var nbb_formatted_code = \"logger = logging.getLogger()\\nhandler = logging.StreamHandler()\\nformatter = logging.Formatter(\\\"%(asctime)s [%(name)s] %(levelname)-8s %(message)s\\\")\\nhandler.setFormatter(formatter)\\nlogger.addHandler(handler)\\nlogger.setLevel(logging.INFO)\";\n",
       "                var nbb_cells = Jupyter.notebook.get_cells();\n",
       "                for (var i = 0; i < nbb_cells.length; ++i) {\n",
       "                    if (nbb_cells[i].input_prompt_number == nbb_cell_id) {\n",
       "                        if (nbb_cells[i].get_text() == nbb_unformatted_code) {\n",
       "                             nbb_cells[i].set_text(nbb_formatted_code);\n",
       "                        }\n",
       "                        break;\n",
       "                    }\n",
       "                }\n",
       "            }, 500);\n",
       "            "
      ],
      "text/plain": [
       "<IPython.core.display.Javascript object>"
      ]
     },
     "metadata": {},
     "output_type": "display_data"
    }
   ],
   "source": [
    "logger = logging.getLogger()\n",
    "handler = logging.StreamHandler()\n",
    "formatter = logging.Formatter(\"%(asctime)s [%(name)s] %(levelname)-8s %(message)s\")\n",
    "handler.setFormatter(formatter)\n",
    "logger.addHandler(handler)\n",
    "logger.setLevel(logging.INFO)"
   ]
  },
  {
   "cell_type": "code",
   "execution_count": 6,
   "id": "active-overall",
   "metadata": {},
   "outputs": [
    {
     "data": {
      "application/javascript": [
       "\n",
       "            setTimeout(function() {\n",
       "                var nbb_cell_id = 6;\n",
       "                var nbb_unformatted_code = \"pois = loader.load_poi_gdfs(user=user, password=password, host=host)\";\n",
       "                var nbb_formatted_code = \"pois = loader.load_poi_gdfs(user=user, password=password, host=host)\";\n",
       "                var nbb_cells = Jupyter.notebook.get_cells();\n",
       "                for (var i = 0; i < nbb_cells.length; ++i) {\n",
       "                    if (nbb_cells[i].input_prompt_number == nbb_cell_id) {\n",
       "                        if (nbb_cells[i].get_text() == nbb_unformatted_code) {\n",
       "                             nbb_cells[i].set_text(nbb_formatted_code);\n",
       "                        }\n",
       "                        break;\n",
       "                    }\n",
       "                }\n",
       "            }, 500);\n",
       "            "
      ],
      "text/plain": [
       "<IPython.core.display.Javascript object>"
      ]
     },
     "metadata": {},
     "output_type": "display_data"
    }
   ],
   "source": [
    "pois = loader.load_poi_gdfs(user=user, password=password, host=host)"
   ]
  },
  {
   "cell_type": "code",
   "execution_count": 7,
   "id": "exceptional-divorce",
   "metadata": {},
   "outputs": [
    {
     "data": {
      "application/javascript": [
       "\n",
       "            setTimeout(function() {\n",
       "                var nbb_cell_id = 7;\n",
       "                var nbb_unformatted_code = \"is_point = {\\n    category: np.all(pois[category].geometry.geom_type == \\\"Point\\\") for category in pois\\n}\";\n",
       "                var nbb_formatted_code = \"is_point = {\\n    category: np.all(pois[category].geometry.geom_type == \\\"Point\\\") for category in pois\\n}\";\n",
       "                var nbb_cells = Jupyter.notebook.get_cells();\n",
       "                for (var i = 0; i < nbb_cells.length; ++i) {\n",
       "                    if (nbb_cells[i].input_prompt_number == nbb_cell_id) {\n",
       "                        if (nbb_cells[i].get_text() == nbb_unformatted_code) {\n",
       "                             nbb_cells[i].set_text(nbb_formatted_code);\n",
       "                        }\n",
       "                        break;\n",
       "                    }\n",
       "                }\n",
       "            }, 500);\n",
       "            "
      ],
      "text/plain": [
       "<IPython.core.display.Javascript object>"
      ]
     },
     "metadata": {},
     "output_type": "display_data"
    }
   ],
   "source": [
    "is_point = {\n",
    "    category: np.all(pois[category].geometry.geom_type == \"Point\") for category in pois\n",
    "}"
   ]
  },
  {
   "cell_type": "code",
   "execution_count": 8,
   "id": "italian-setup",
   "metadata": {},
   "outputs": [
    {
     "data": {
      "application/javascript": [
       "\n",
       "            setTimeout(function() {\n",
       "                var nbb_cell_id = 8;\n",
       "                var nbb_unformatted_code = \"poi_coords = {\\n    category: np.array(\\n        [[p.geometry.x, p.geometry.y] for p in pois[category].itertuples()]\\n    )\\n    for category in pois\\n    if is_point[category]\\n}\";\n",
       "                var nbb_formatted_code = \"poi_coords = {\\n    category: np.array(\\n        [[p.geometry.x, p.geometry.y] for p in pois[category].itertuples()]\\n    )\\n    for category in pois\\n    if is_point[category]\\n}\";\n",
       "                var nbb_cells = Jupyter.notebook.get_cells();\n",
       "                for (var i = 0; i < nbb_cells.length; ++i) {\n",
       "                    if (nbb_cells[i].input_prompt_number == nbb_cell_id) {\n",
       "                        if (nbb_cells[i].get_text() == nbb_unformatted_code) {\n",
       "                             nbb_cells[i].set_text(nbb_formatted_code);\n",
       "                        }\n",
       "                        break;\n",
       "                    }\n",
       "                }\n",
       "            }, 500);\n",
       "            "
      ],
      "text/plain": [
       "<IPython.core.display.Javascript object>"
      ]
     },
     "metadata": {},
     "output_type": "display_data"
    }
   ],
   "source": [
    "poi_coords = {\n",
    "    category: np.array(\n",
    "        [[p.geometry.x, p.geometry.y] for p in pois[category].itertuples()]\n",
    "    )\n",
    "    for category in pois\n",
    "    if is_point[category]\n",
    "}"
   ]
  },
  {
   "cell_type": "code",
   "execution_count": 9,
   "id": "academic-flight",
   "metadata": {},
   "outputs": [
    {
     "data": {
      "application/javascript": [
       "\n",
       "            setTimeout(function() {\n",
       "                var nbb_cell_id = 9;\n",
       "                var nbb_unformatted_code = \"with engine.connect() as conn:\\n    df_nodes = pd.read_sql(\\\"SELECT * FROM node_coords\\\", con=conn)\";\n",
       "                var nbb_formatted_code = \"with engine.connect() as conn:\\n    df_nodes = pd.read_sql(\\\"SELECT * FROM node_coords\\\", con=conn)\";\n",
       "                var nbb_cells = Jupyter.notebook.get_cells();\n",
       "                for (var i = 0; i < nbb_cells.length; ++i) {\n",
       "                    if (nbb_cells[i].input_prompt_number == nbb_cell_id) {\n",
       "                        if (nbb_cells[i].get_text() == nbb_unformatted_code) {\n",
       "                             nbb_cells[i].set_text(nbb_formatted_code);\n",
       "                        }\n",
       "                        break;\n",
       "                    }\n",
       "                }\n",
       "            }, 500);\n",
       "            "
      ],
      "text/plain": [
       "<IPython.core.display.Javascript object>"
      ]
     },
     "metadata": {},
     "output_type": "display_data"
    }
   ],
   "source": [
    "with engine.connect() as conn:\n",
    "    df_nodes = pd.read_sql(\"SELECT * FROM node_coords\", con=conn)"
   ]
  },
  {
   "cell_type": "code",
   "execution_count": 10,
   "id": "universal-cotton",
   "metadata": {},
   "outputs": [
    {
     "data": {
      "application/javascript": [
       "\n",
       "            setTimeout(function() {\n",
       "                var nbb_cell_id = 10;\n",
       "                var nbb_unformatted_code = \"coords_nodes = df_nodes[[\\\"eastings\\\", \\\"northings\\\"]].values\";\n",
       "                var nbb_formatted_code = \"coords_nodes = df_nodes[[\\\"eastings\\\", \\\"northings\\\"]].values\";\n",
       "                var nbb_cells = Jupyter.notebook.get_cells();\n",
       "                for (var i = 0; i < nbb_cells.length; ++i) {\n",
       "                    if (nbb_cells[i].input_prompt_number == nbb_cell_id) {\n",
       "                        if (nbb_cells[i].get_text() == nbb_unformatted_code) {\n",
       "                             nbb_cells[i].set_text(nbb_formatted_code);\n",
       "                        }\n",
       "                        break;\n",
       "                    }\n",
       "                }\n",
       "            }, 500);\n",
       "            "
      ],
      "text/plain": [
       "<IPython.core.display.Javascript object>"
      ]
     },
     "metadata": {},
     "output_type": "display_data"
    }
   ],
   "source": [
    "coords_nodes = df_nodes[[\"eastings\", \"northings\"]].values"
   ]
  },
  {
   "cell_type": "code",
   "execution_count": 11,
   "id": "iraqi-heaven",
   "metadata": {},
   "outputs": [
    {
     "data": {
      "application/javascript": [
       "\n",
       "            setTimeout(function() {\n",
       "                var nbb_cell_id = 11;\n",
       "                var nbb_unformatted_code = \"closest_osmids = {\\n    category: get_closest_osmids(\\n        np.array([[p.geometry.x, p.geometry.y] for p in pois[category].itertuples()]),\\n        coords_nodes,\\n        df_nodes.osmid.values,\\n    )\\n    for category in pois\\n    if is_point[category]\\n}\";\n",
       "                var nbb_formatted_code = \"closest_osmids = {\\n    category: get_closest_osmids(\\n        np.array([[p.geometry.x, p.geometry.y] for p in pois[category].itertuples()]),\\n        coords_nodes,\\n        df_nodes.osmid.values,\\n    )\\n    for category in pois\\n    if is_point[category]\\n}\";\n",
       "                var nbb_cells = Jupyter.notebook.get_cells();\n",
       "                for (var i = 0; i < nbb_cells.length; ++i) {\n",
       "                    if (nbb_cells[i].input_prompt_number == nbb_cell_id) {\n",
       "                        if (nbb_cells[i].get_text() == nbb_unformatted_code) {\n",
       "                             nbb_cells[i].set_text(nbb_formatted_code);\n",
       "                        }\n",
       "                        break;\n",
       "                    }\n",
       "                }\n",
       "            }, 500);\n",
       "            "
      ],
      "text/plain": [
       "<IPython.core.display.Javascript object>"
      ]
     },
     "metadata": {},
     "output_type": "display_data"
    }
   ],
   "source": [
    "closest_osmids = {\n",
    "    category: get_closest_osmids(\n",
    "        np.array([[p.geometry.x, p.geometry.y] for p in pois[category].itertuples()]),\n",
    "        coords_nodes,\n",
    "        df_nodes.osmid.values,\n",
    "    )\n",
    "    for category in pois\n",
    "    if is_point[category]\n",
    "}"
   ]
  },
  {
   "cell_type": "code",
   "execution_count": 12,
   "id": "endless-florist",
   "metadata": {},
   "outputs": [
    {
     "data": {
      "application/javascript": [
       "\n",
       "            setTimeout(function() {\n",
       "                var nbb_cell_id = 12;\n",
       "                var nbb_unformatted_code = \"output_dfs_points = {\\n    category: pd.DataFrame(\\n        {\\n            \\\"poi_id\\\": pois[category].id.values,\\n            \\\"osmid\\\": closest_osmids[category],\\n            \\\"poi_category\\\": category,\\n        }\\n    )\\n    for category in closest_osmids\\n}\";\n",
       "                var nbb_formatted_code = \"output_dfs_points = {\\n    category: pd.DataFrame(\\n        {\\n            \\\"poi_id\\\": pois[category].id.values,\\n            \\\"osmid\\\": closest_osmids[category],\\n            \\\"poi_category\\\": category,\\n        }\\n    )\\n    for category in closest_osmids\\n}\";\n",
       "                var nbb_cells = Jupyter.notebook.get_cells();\n",
       "                for (var i = 0; i < nbb_cells.length; ++i) {\n",
       "                    if (nbb_cells[i].input_prompt_number == nbb_cell_id) {\n",
       "                        if (nbb_cells[i].get_text() == nbb_unformatted_code) {\n",
       "                             nbb_cells[i].set_text(nbb_formatted_code);\n",
       "                        }\n",
       "                        break;\n",
       "                    }\n",
       "                }\n",
       "            }, 500);\n",
       "            "
      ],
      "text/plain": [
       "<IPython.core.display.Javascript object>"
      ]
     },
     "metadata": {},
     "output_type": "display_data"
    }
   ],
   "source": [
    "output_dfs_points = {\n",
    "    category: pd.DataFrame(\n",
    "        {\n",
    "            \"poi_id\": pois[category].id.values,\n",
    "            \"osmid\": closest_osmids[category],\n",
    "            \"poi_category\": category,\n",
    "        }\n",
    "    )\n",
    "    for category in closest_osmids\n",
    "}"
   ]
  },
  {
   "cell_type": "code",
   "execution_count": 13,
   "id": "severe-slave",
   "metadata": {},
   "outputs": [
    {
     "data": {
      "application/javascript": [
       "\n",
       "            setTimeout(function() {\n",
       "                var nbb_cell_id = 13;\n",
       "                var nbb_unformatted_code = \"output = pd.concat([output_dfs_points[i] for i in output_dfs_points])\";\n",
       "                var nbb_formatted_code = \"output = pd.concat([output_dfs_points[i] for i in output_dfs_points])\";\n",
       "                var nbb_cells = Jupyter.notebook.get_cells();\n",
       "                for (var i = 0; i < nbb_cells.length; ++i) {\n",
       "                    if (nbb_cells[i].input_prompt_number == nbb_cell_id) {\n",
       "                        if (nbb_cells[i].get_text() == nbb_unformatted_code) {\n",
       "                             nbb_cells[i].set_text(nbb_formatted_code);\n",
       "                        }\n",
       "                        break;\n",
       "                    }\n",
       "                }\n",
       "            }, 500);\n",
       "            "
      ],
      "text/plain": [
       "<IPython.core.display.Javascript object>"
      ]
     },
     "metadata": {},
     "output_type": "display_data"
    }
   ],
   "source": [
    "output = pd.concat([output_dfs_points[i] for i in output_dfs_points])\n"
   ]
  },
  {
   "cell_type": "code",
   "execution_count": 14,
   "id": "alleged-console",
   "metadata": {},
   "outputs": [
    {
     "data": {
      "application/javascript": [
       "\n",
       "            setTimeout(function() {\n",
       "                var nbb_cell_id = 14;\n",
       "                var nbb_unformatted_code = \"cols = {\\n    \\\"poi_id\\\": \\\"INTEGER\\\",\\n    \\\"osmid\\\": \\\"BIGINT\\\",\\n    \\\"poi_category\\\": \\\"VARCHAR(64)\\\",\\n}\\n\\nindex_cols = [\\\"poi_id\\\", \\\"osmid\\\", \\\"poi_category\\\"]\\nunique_cols = []\";\n",
       "                var nbb_formatted_code = \"cols = {\\n    \\\"poi_id\\\": \\\"INTEGER\\\",\\n    \\\"osmid\\\": \\\"BIGINT\\\",\\n    \\\"poi_category\\\": \\\"VARCHAR(64)\\\",\\n}\\n\\nindex_cols = [\\\"poi_id\\\", \\\"osmid\\\", \\\"poi_category\\\"]\\nunique_cols = []\";\n",
       "                var nbb_cells = Jupyter.notebook.get_cells();\n",
       "                for (var i = 0; i < nbb_cells.length; ++i) {\n",
       "                    if (nbb_cells[i].input_prompt_number == nbb_cell_id) {\n",
       "                        if (nbb_cells[i].get_text() == nbb_unformatted_code) {\n",
       "                             nbb_cells[i].set_text(nbb_formatted_code);\n",
       "                        }\n",
       "                        break;\n",
       "                    }\n",
       "                }\n",
       "            }, 500);\n",
       "            "
      ],
      "text/plain": [
       "<IPython.core.display.Javascript object>"
      ]
     },
     "metadata": {},
     "output_type": "display_data"
    }
   ],
   "source": [
    "cols = {\n",
    "    \"poi_id\": \"INTEGER\",\n",
    "    \"osmid\": \"BIGINT\",\n",
    "    \"poi_category\": \"VARCHAR(64)\",\n",
    "}\n",
    "\n",
    "index_cols = [\"poi_id\", \"osmid\", \"poi_category\"]\n",
    "unique_cols = []"
   ]
  },
  {
   "cell_type": "code",
   "execution_count": 15,
   "id": "mathematical-danger",
   "metadata": {},
   "outputs": [
    {
     "data": {
      "application/javascript": [
       "\n",
       "            setTimeout(function() {\n",
       "                var nbb_cell_id = 15;\n",
       "                var nbb_unformatted_code = \"create_q = get_table_creation_query(\\n    \\\"poi_nodes\\\", cols, \\\"public\\\", index_cols, unique_cols\\n)\";\n",
       "                var nbb_formatted_code = \"create_q = get_table_creation_query(\\n    \\\"poi_nodes\\\", cols, \\\"public\\\", index_cols, unique_cols\\n)\";\n",
       "                var nbb_cells = Jupyter.notebook.get_cells();\n",
       "                for (var i = 0; i < nbb_cells.length; ++i) {\n",
       "                    if (nbb_cells[i].input_prompt_number == nbb_cell_id) {\n",
       "                        if (nbb_cells[i].get_text() == nbb_unformatted_code) {\n",
       "                             nbb_cells[i].set_text(nbb_formatted_code);\n",
       "                        }\n",
       "                        break;\n",
       "                    }\n",
       "                }\n",
       "            }, 500);\n",
       "            "
      ],
      "text/plain": [
       "<IPython.core.display.Javascript object>"
      ]
     },
     "metadata": {},
     "output_type": "display_data"
    }
   ],
   "source": [
    "create_q = get_table_creation_query(\n",
    "    \"poi_nodes\", cols, \"public\", index_cols, unique_cols\n",
    ")"
   ]
  },
  {
   "cell_type": "code",
   "execution_count": 16,
   "id": "inner-honey",
   "metadata": {},
   "outputs": [
    {
     "data": {
      "application/javascript": [
       "\n",
       "            setTimeout(function() {\n",
       "                var nbb_cell_id = 16;\n",
       "                var nbb_unformatted_code = \"with engine.connect() as conn:\\n    conn.execute(create_q)\";\n",
       "                var nbb_formatted_code = \"with engine.connect() as conn:\\n    conn.execute(create_q)\";\n",
       "                var nbb_cells = Jupyter.notebook.get_cells();\n",
       "                for (var i = 0; i < nbb_cells.length; ++i) {\n",
       "                    if (nbb_cells[i].input_prompt_number == nbb_cell_id) {\n",
       "                        if (nbb_cells[i].get_text() == nbb_unformatted_code) {\n",
       "                             nbb_cells[i].set_text(nbb_formatted_code);\n",
       "                        }\n",
       "                        break;\n",
       "                    }\n",
       "                }\n",
       "            }, 500);\n",
       "            "
      ],
      "text/plain": [
       "<IPython.core.display.Javascript object>"
      ]
     },
     "metadata": {},
     "output_type": "display_data"
    }
   ],
   "source": [
    "with engine.connect() as conn:\n",
    "    conn.execute(create_q)"
   ]
  },
  {
   "cell_type": "code",
   "execution_count": 17,
   "id": "dated-lloyd",
   "metadata": {},
   "outputs": [
    {
     "data": {
      "application/javascript": [
       "\n",
       "            setTimeout(function() {\n",
       "                var nbb_cell_id = 17;\n",
       "                var nbb_unformatted_code = \"with engine.connect() as conn:\\n    output.to_sql(\\\"poi_nodes\\\", index=False, con=conn, if_exists=\\\"append\\\")\";\n",
       "                var nbb_formatted_code = \"with engine.connect() as conn:\\n    output.to_sql(\\\"poi_nodes\\\", index=False, con=conn, if_exists=\\\"append\\\")\";\n",
       "                var nbb_cells = Jupyter.notebook.get_cells();\n",
       "                for (var i = 0; i < nbb_cells.length; ++i) {\n",
       "                    if (nbb_cells[i].input_prompt_number == nbb_cell_id) {\n",
       "                        if (nbb_cells[i].get_text() == nbb_unformatted_code) {\n",
       "                             nbb_cells[i].set_text(nbb_formatted_code);\n",
       "                        }\n",
       "                        break;\n",
       "                    }\n",
       "                }\n",
       "            }, 500);\n",
       "            "
      ],
      "text/plain": [
       "<IPython.core.display.Javascript object>"
      ]
     },
     "metadata": {},
     "output_type": "display_data"
    }
   ],
   "source": [
    "with engine.connect() as conn:\n",
    "    output.to_sql(\"poi_nodes\", index=False, con=conn, if_exists=\"append\")"
   ]
  }
 ],
 "metadata": {
  "kernelspec": {
   "display_name": "Python 3",
   "language": "python",
   "name": "python3"
  },
  "language_info": {
   "codemirror_mode": {
    "name": "ipython",
    "version": 3
   },
   "file_extension": ".py",
   "mimetype": "text/x-python",
   "name": "python",
   "nbconvert_exporter": "python",
   "pygments_lexer": "ipython3",
   "version": "3.8.10"
  }
 },
 "nbformat": 4,
 "nbformat_minor": 5
}
