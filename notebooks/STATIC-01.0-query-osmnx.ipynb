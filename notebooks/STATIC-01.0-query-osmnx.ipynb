{
 "cells": [
  {
   "cell_type": "markdown",
   "id": "devoted-airfare",
   "metadata": {},
   "source": [
    "# Query osmnx"
   ]
  },
  {
   "cell_type": "code",
   "execution_count": 1,
   "id": "sitting-retail",
   "metadata": {},
   "outputs": [
    {
     "data": {
      "application/javascript": [
       "\n",
       "            setTimeout(function() {\n",
       "                var nbb_cell_id = 1;\n",
       "                var nbb_unformatted_code = \"%load_ext nb_black\";\n",
       "                var nbb_formatted_code = \"%load_ext nb_black\";\n",
       "                var nbb_cells = Jupyter.notebook.get_cells();\n",
       "                for (var i = 0; i < nbb_cells.length; ++i) {\n",
       "                    if (nbb_cells[i].input_prompt_number == nbb_cell_id) {\n",
       "                        if (nbb_cells[i].get_text() == nbb_unformatted_code) {\n",
       "                             nbb_cells[i].set_text(nbb_formatted_code);\n",
       "                        }\n",
       "                        break;\n",
       "                    }\n",
       "                }\n",
       "            }, 500);\n",
       "            "
      ],
      "text/plain": [
       "<IPython.core.display.Javascript object>"
      ]
     },
     "metadata": {},
     "output_type": "display_data"
    }
   ],
   "source": [
    "%load_ext nb_black"
   ]
  },
  {
   "cell_type": "code",
   "execution_count": 2,
   "id": "corporate-parking",
   "metadata": {},
   "outputs": [
    {
     "data": {
      "application/javascript": [
       "\n",
       "            setTimeout(function() {\n",
       "                var nbb_cell_id = 2;\n",
       "                var nbb_unformatted_code = \"import osmnx as ox\\n\\nimport os\\n\\nimport sys\\n\\n# from sklearn.cluster import DBSCAN\\n\\nsys.path.append(\\\"/app\\\")\\n\\n# import dataloader as loader\\n\\n# from constants import DATA_PATH\\n\\n# import sqlite3 as sql\\nimport pickle\\n\\n# from utils import detect_outliers_iqr,detect_outliers_zscore,detect_outliers_dbscan\\n\\n\\nimport seaborn as sns\";\n",
       "                var nbb_formatted_code = \"import osmnx as ox\\n\\nimport os\\n\\nimport sys\\n\\n# from sklearn.cluster import DBSCAN\\n\\nsys.path.append(\\\"/app\\\")\\n\\n# import dataloader as loader\\n\\n# from constants import DATA_PATH\\n\\n# import sqlite3 as sql\\nimport pickle\\n\\n# from utils import detect_outliers_iqr,detect_outliers_zscore,detect_outliers_dbscan\\n\\n\\nimport seaborn as sns\";\n",
       "                var nbb_cells = Jupyter.notebook.get_cells();\n",
       "                for (var i = 0; i < nbb_cells.length; ++i) {\n",
       "                    if (nbb_cells[i].input_prompt_number == nbb_cell_id) {\n",
       "                        if (nbb_cells[i].get_text() == nbb_unformatted_code) {\n",
       "                             nbb_cells[i].set_text(nbb_formatted_code);\n",
       "                        }\n",
       "                        break;\n",
       "                    }\n",
       "                }\n",
       "            }, 500);\n",
       "            "
      ],
      "text/plain": [
       "<IPython.core.display.Javascript object>"
      ]
     },
     "metadata": {},
     "output_type": "display_data"
    }
   ],
   "source": [
    "import osmnx as ox\n",
    "\n",
    "import os\n",
    "\n",
    "import sys\n",
    "\n",
    "# from sklearn.cluster import DBSCAN\n",
    "\n",
    "sys.path.append(\"/app\")\n",
    "\n",
    "# import dataloader as loader\n",
    "\n",
    "# from constants import DATA_PATH\n",
    "\n",
    "# import sqlite3 as sql\n",
    "import pickle\n",
    "\n",
    "# from utils import detect_outliers_iqr,detect_outliers_zscore,detect_outliers_dbscan\n",
    "\n",
    "\n",
    "import seaborn as sns"
   ]
  },
  {
   "cell_type": "code",
   "execution_count": null,
   "metadata": {},
   "outputs": [],
   "source": [
    "import osmnx as ox"
   ]
  },
  {
   "cell_type": "code",
   "execution_count": 3,
   "id": "advisory-astronomy",
   "metadata": {},
   "outputs": [
    {
     "data": {
      "application/javascript": [
       "\n",
       "            setTimeout(function() {\n",
       "                var nbb_cell_id = 3;\n",
       "                var nbb_unformatted_code = \"from constants import DATA_PATH\";\n",
       "                var nbb_formatted_code = \"from constants import DATA_PATH\";\n",
       "                var nbb_cells = Jupyter.notebook.get_cells();\n",
       "                for (var i = 0; i < nbb_cells.length; ++i) {\n",
       "                    if (nbb_cells[i].input_prompt_number == nbb_cell_id) {\n",
       "                        if (nbb_cells[i].get_text() == nbb_unformatted_code) {\n",
       "                             nbb_cells[i].set_text(nbb_formatted_code);\n",
       "                        }\n",
       "                        break;\n",
       "                    }\n",
       "                }\n",
       "            }, 500);\n",
       "            "
      ],
      "text/plain": [
       "<IPython.core.display.Javascript object>"
      ]
     },
     "metadata": {},
     "output_type": "display_data"
    }
   ],
   "source": [
    "from constants import DATA_PATH"
   ]
  },
  {
   "cell_type": "code",
   "execution_count": 4,
   "id": "brilliant-hamburg",
   "metadata": {},
   "outputs": [
    {
     "data": {
      "application/javascript": [
       "\n",
       "            setTimeout(function() {\n",
       "                var nbb_cell_id = 4;\n",
       "                var nbb_unformatted_code = \"from db_utils import get_engine, get_table_creation_query\\nimport os\";\n",
       "                var nbb_formatted_code = \"from db_utils import get_engine, get_table_creation_query\\nimport os\";\n",
       "                var nbb_cells = Jupyter.notebook.get_cells();\n",
       "                for (var i = 0; i < nbb_cells.length; ++i) {\n",
       "                    if (nbb_cells[i].input_prompt_number == nbb_cell_id) {\n",
       "                        if (nbb_cells[i].get_text() == nbb_unformatted_code) {\n",
       "                             nbb_cells[i].set_text(nbb_formatted_code);\n",
       "                        }\n",
       "                        break;\n",
       "                    }\n",
       "                }\n",
       "            }, 500);\n",
       "            "
      ],
      "text/plain": [
       "<IPython.core.display.Javascript object>"
      ]
     },
     "metadata": {},
     "output_type": "display_data"
    }
   ],
   "source": [
    "from db_utils import get_engine, get_table_creation_query\n",
    "import os"
   ]
  },
  {
   "cell_type": "markdown",
   "id": "graduate-prospect",
   "metadata": {},
   "source": [
    "## Connect to Database"
   ]
  },
  {
   "cell_type": "code",
   "execution_count": 5,
   "id": "false-store",
   "metadata": {},
   "outputs": [
    {
     "data": {
      "application/javascript": [
       "\n",
       "            setTimeout(function() {\n",
       "                var nbb_cell_id = 5;\n",
       "                var nbb_unformatted_code = \"user = os.getenv(\\\"POSTGRES_USER\\\")\\npassword = os.getenv(\\\"POSTGRES_PASSWORD\\\")\\nhost = os.getenv(\\\"POSTGRES_HOST\\\")\";\n",
       "                var nbb_formatted_code = \"user = os.getenv(\\\"POSTGRES_USER\\\")\\npassword = os.getenv(\\\"POSTGRES_PASSWORD\\\")\\nhost = os.getenv(\\\"POSTGRES_HOST\\\")\";\n",
       "                var nbb_cells = Jupyter.notebook.get_cells();\n",
       "                for (var i = 0; i < nbb_cells.length; ++i) {\n",
       "                    if (nbb_cells[i].input_prompt_number == nbb_cell_id) {\n",
       "                        if (nbb_cells[i].get_text() == nbb_unformatted_code) {\n",
       "                             nbb_cells[i].set_text(nbb_formatted_code);\n",
       "                        }\n",
       "                        break;\n",
       "                    }\n",
       "                }\n",
       "            }, 500);\n",
       "            "
      ],
      "text/plain": [
       "<IPython.core.display.Javascript object>"
      ]
     },
     "metadata": {},
     "output_type": "display_data"
    }
   ],
   "source": [
    "user = os.getenv(\"POSTGRES_USER\")\n",
    "password = os.getenv(\"POSTGRES_PASSWORD\")\n",
    "host = os.getenv(\"POSTGRES_HOST\")"
   ]
  },
  {
   "cell_type": "code",
   "execution_count": 6,
   "id": "surgical-hello",
   "metadata": {},
   "outputs": [
    {
     "data": {
      "application/javascript": [
       "\n",
       "            setTimeout(function() {\n",
       "                var nbb_cell_id = 6;\n",
       "                var nbb_unformatted_code = \"engine = get_engine(user, password, host)\";\n",
       "                var nbb_formatted_code = \"engine = get_engine(user, password, host)\";\n",
       "                var nbb_cells = Jupyter.notebook.get_cells();\n",
       "                for (var i = 0; i < nbb_cells.length; ++i) {\n",
       "                    if (nbb_cells[i].input_prompt_number == nbb_cell_id) {\n",
       "                        if (nbb_cells[i].get_text() == nbb_unformatted_code) {\n",
       "                             nbb_cells[i].set_text(nbb_formatted_code);\n",
       "                        }\n",
       "                        break;\n",
       "                    }\n",
       "                }\n",
       "            }, 500);\n",
       "            "
      ],
      "text/plain": [
       "<IPython.core.display.Javascript object>"
      ]
     },
     "metadata": {},
     "output_type": "display_data"
    }
   ],
   "source": [
    "engine = get_engine(user, password, host)"
   ]
  },
  {
   "cell_type": "markdown",
   "id": "fixed-sense",
   "metadata": {},
   "source": [
    "## Load data"
   ]
  },
  {
   "cell_type": "raw",
   "id": "phantom-farming",
   "metadata": {},
   "source": [
    "loader.get_tables(searchname)"
   ]
  },
  {
   "cell_type": "raw",
   "id": "nearby-liberal",
   "metadata": {},
   "source": [
    "gdf = loader.load_bng(searchname)"
   ]
  },
  {
   "cell_type": "raw",
   "id": "packed-background",
   "metadata": {},
   "source": [
    "coords = loader.load_sql(\"SELECT * FROM bng_coords_clean\",searchname)"
   ]
  },
  {
   "cell_type": "raw",
   "id": "intense-money",
   "metadata": {},
   "source": [
    "gdf = gdf.join(coords.set_index(\"id\"),on=\"id\",how=\"inner\")"
   ]
  },
  {
   "cell_type": "markdown",
   "id": "union-tattoo",
   "metadata": {},
   "source": [
    "## Find points of interest"
   ]
  },
  {
   "cell_type": "code",
   "execution_count": 7,
   "id": "after-nation",
   "metadata": {},
   "outputs": [
    {
     "data": {
      "application/javascript": [
       "\n",
       "            setTimeout(function() {\n",
       "                var nbb_cell_id = 7;\n",
       "                var nbb_unformatted_code = \"NUM_METERS_IN_MILES = 1609.34\";\n",
       "                var nbb_formatted_code = \"NUM_METERS_IN_MILES = 1609.34\";\n",
       "                var nbb_cells = Jupyter.notebook.get_cells();\n",
       "                for (var i = 0; i < nbb_cells.length; ++i) {\n",
       "                    if (nbb_cells[i].input_prompt_number == nbb_cell_id) {\n",
       "                        if (nbb_cells[i].get_text() == nbb_unformatted_code) {\n",
       "                             nbb_cells[i].set_text(nbb_formatted_code);\n",
       "                        }\n",
       "                        break;\n",
       "                    }\n",
       "                }\n",
       "            }, 500);\n",
       "            "
      ],
      "text/plain": [
       "<IPython.core.display.Javascript object>"
      ]
     },
     "metadata": {},
     "output_type": "display_data"
    }
   ],
   "source": [
    "NUM_METERS_IN_MILES = 1609.34"
   ]
  },
  {
   "cell_type": "code",
   "execution_count": 8,
   "id": "oriental-orbit",
   "metadata": {},
   "outputs": [
    {
     "data": {
      "application/javascript": [
       "\n",
       "            setTimeout(function() {\n",
       "                var nbb_cell_id = 8;\n",
       "                var nbb_unformatted_code = \"place = \\\"Greater London\\\"\";\n",
       "                var nbb_formatted_code = \"place = \\\"Greater London\\\"\";\n",
       "                var nbb_cells = Jupyter.notebook.get_cells();\n",
       "                for (var i = 0; i < nbb_cells.length; ++i) {\n",
       "                    if (nbb_cells[i].input_prompt_number == nbb_cell_id) {\n",
       "                        if (nbb_cells[i].get_text() == nbb_unformatted_code) {\n",
       "                             nbb_cells[i].set_text(nbb_formatted_code);\n",
       "                        }\n",
       "                        break;\n",
       "                    }\n",
       "                }\n",
       "            }, 500);\n",
       "            "
      ],
      "text/plain": [
       "<IPython.core.display.Javascript object>"
      ]
     },
     "metadata": {},
     "output_type": "display_data"
    }
   ],
   "source": [
    "place = \"Greater London\""
   ]
  },
  {
   "cell_type": "markdown",
   "id": "expanded-violence",
   "metadata": {},
   "source": [
    "## Parks"
   ]
  },
  {
   "cell_type": "code",
   "execution_count": 9,
   "id": "sustained-lloyd",
   "metadata": {
    "scrolled": false
   },
   "outputs": [
    {
     "name": "stdout",
     "output_type": "stream",
     "text": [
      "CPU times: user 3.24 s, sys: 5.3 ms, total: 3.25 s\n",
      "Wall time: 3.3 s\n"
     ]
    },
    {
     "data": {
      "application/javascript": [
       "\n",
       "            setTimeout(function() {\n",
       "                var nbb_cell_id = 9;\n",
       "                var nbb_unformatted_code = \"%%time\\ngdf_parks = ox.geometries_from_place(place, tags={'leisure':\\\"park\\\"})\";\n",
       "                var nbb_formatted_code = \"%%time\\ngdf_parks = ox.geometries_from_place(place, tags={'leisure':\\\"park\\\"})\";\n",
       "                var nbb_cells = Jupyter.notebook.get_cells();\n",
       "                for (var i = 0; i < nbb_cells.length; ++i) {\n",
       "                    if (nbb_cells[i].input_prompt_number == nbb_cell_id) {\n",
       "                        if (nbb_cells[i].get_text() == nbb_unformatted_code) {\n",
       "                             nbb_cells[i].set_text(nbb_formatted_code);\n",
       "                        }\n",
       "                        break;\n",
       "                    }\n",
       "                }\n",
       "            }, 500);\n",
       "            "
      ],
      "text/plain": [
       "<IPython.core.display.Javascript object>"
      ]
     },
     "metadata": {},
     "output_type": "display_data"
    }
   ],
   "source": [
    "%%time\n",
    "gdf_parks = ox.geometries_from_place(place, tags={'leisure':\"park\"})"
   ]
  },
  {
   "cell_type": "code",
   "execution_count": 10,
   "id": "therapeutic-weekly",
   "metadata": {},
   "outputs": [
    {
     "name": "stderr",
     "output_type": "stream",
     "text": [
      "/usr/local/lib/python3.8/site-packages/ipykernel/ipkernel.py:283: DeprecationWarning: `should_run_async` will not call `transform_cell` automatically in the future. Please pass the result to `transformed_cell` argument and any exception that happen during thetransform in `preprocessing_exc_tuple` in IPython 7.17 and above.\n",
      "  and should_run_async(code)\n",
      "<ipython-input-10-fff853817d7b>:1: UserWarning: Geometry is in a geographic CRS. Results from 'centroid' are likely incorrect. Use 'GeoSeries.to_crs()' to re-project geometries to a projected CRS before this operation.\n",
      "\n",
      "  park_centroids = gdf_parks.geometry.centroid\n"
     ]
    },
    {
     "data": {
      "application/javascript": [
       "\n",
       "            setTimeout(function() {\n",
       "                var nbb_cell_id = 10;\n",
       "                var nbb_unformatted_code = \"park_centroids = gdf_parks.geometry.centroid\\ngdf_parks[\\\"latitude\\\"] = park_centroids.y\\ngdf_parks[\\\"longitude\\\"] = park_centroids.x\";\n",
       "                var nbb_formatted_code = \"park_centroids = gdf_parks.geometry.centroid\\ngdf_parks[\\\"latitude\\\"] = park_centroids.y\\ngdf_parks[\\\"longitude\\\"] = park_centroids.x\";\n",
       "                var nbb_cells = Jupyter.notebook.get_cells();\n",
       "                for (var i = 0; i < nbb_cells.length; ++i) {\n",
       "                    if (nbb_cells[i].input_prompt_number == nbb_cell_id) {\n",
       "                        if (nbb_cells[i].get_text() == nbb_unformatted_code) {\n",
       "                             nbb_cells[i].set_text(nbb_formatted_code);\n",
       "                        }\n",
       "                        break;\n",
       "                    }\n",
       "                }\n",
       "            }, 500);\n",
       "            "
      ],
      "text/plain": [
       "<IPython.core.display.Javascript object>"
      ]
     },
     "metadata": {},
     "output_type": "display_data"
    }
   ],
   "source": [
    "park_centroids = gdf_parks.geometry.centroid\n",
    "gdf_parks[\"latitude\"] = park_centroids.y\n",
    "gdf_parks[\"longitude\"] = park_centroids.x"
   ]
  },
  {
   "cell_type": "code",
   "execution_count": 11,
   "id": "rotary-virgin",
   "metadata": {},
   "outputs": [
    {
     "data": {
      "application/javascript": [
       "\n",
       "            setTimeout(function() {\n",
       "                var nbb_cell_id = 11;\n",
       "                var nbb_unformatted_code = \"gdf_parks = gdf_parks.to_crs(\\\"EPSG:27700\\\")\";\n",
       "                var nbb_formatted_code = \"gdf_parks = gdf_parks.to_crs(\\\"EPSG:27700\\\")\";\n",
       "                var nbb_cells = Jupyter.notebook.get_cells();\n",
       "                for (var i = 0; i < nbb_cells.length; ++i) {\n",
       "                    if (nbb_cells[i].input_prompt_number == nbb_cell_id) {\n",
       "                        if (nbb_cells[i].get_text() == nbb_unformatted_code) {\n",
       "                             nbb_cells[i].set_text(nbb_formatted_code);\n",
       "                        }\n",
       "                        break;\n",
       "                    }\n",
       "                }\n",
       "            }, 500);\n",
       "            "
      ],
      "text/plain": [
       "<IPython.core.display.Javascript object>"
      ]
     },
     "metadata": {},
     "output_type": "display_data"
    }
   ],
   "source": [
    "gdf_parks = gdf_parks.to_crs(\"EPSG:27700\")"
   ]
  },
  {
   "cell_type": "code",
   "execution_count": 12,
   "id": "nominated-associate",
   "metadata": {},
   "outputs": [
    {
     "data": {
      "text/plain": [
       "0           0.000000\n",
       "1           0.000000\n",
       "2           0.000000\n",
       "3           0.000000\n",
       "4           0.000000\n",
       "            ...     \n",
       "3322    37928.514656\n",
       "3323    26002.734846\n",
       "3324     6663.842641\n",
       "3325    63208.355456\n",
       "3326      793.933203\n",
       "Length: 3327, dtype: float64"
      ]
     },
     "execution_count": 12,
     "metadata": {},
     "output_type": "execute_result"
    },
    {
     "data": {
      "application/javascript": [
       "\n",
       "            setTimeout(function() {\n",
       "                var nbb_cell_id = 12;\n",
       "                var nbb_unformatted_code = \"gdf_parks.geometry.area\";\n",
       "                var nbb_formatted_code = \"gdf_parks.geometry.area\";\n",
       "                var nbb_cells = Jupyter.notebook.get_cells();\n",
       "                for (var i = 0; i < nbb_cells.length; ++i) {\n",
       "                    if (nbb_cells[i].input_prompt_number == nbb_cell_id) {\n",
       "                        if (nbb_cells[i].get_text() == nbb_unformatted_code) {\n",
       "                             nbb_cells[i].set_text(nbb_formatted_code);\n",
       "                        }\n",
       "                        break;\n",
       "                    }\n",
       "                }\n",
       "            }, 500);\n",
       "            "
      ],
      "text/plain": [
       "<IPython.core.display.Javascript object>"
      ]
     },
     "metadata": {},
     "output_type": "display_data"
    }
   ],
   "source": [
    "gdf_parks.geometry.area"
   ]
  },
  {
   "cell_type": "code",
   "execution_count": 13,
   "id": "configured-plane",
   "metadata": {},
   "outputs": [
    {
     "name": "stderr",
     "output_type": "stream",
     "text": [
      "/usr/local/lib/python3.8/site-packages/seaborn/distributions.py:2557: FutureWarning: `distplot` is a deprecated function and will be removed in a future version. Please adapt your code to use either `displot` (a figure-level function with similar flexibility) or `histplot` (an axes-level function for histograms).\n",
      "  warnings.warn(msg, FutureWarning)\n"
     ]
    },
    {
     "data": {
      "text/plain": [
       "<AxesSubplot:ylabel='Density'>"
      ]
     },
     "execution_count": 13,
     "metadata": {},
     "output_type": "execute_result"
    },
    {
     "data": {
      "image/png": "[encoded data removed]",
      "text/plain": [
       "<Figure size 432x288 with 1 Axes>"
      ]
     },
     "metadata": {
      "needs_background": "light"
     },
     "output_type": "display_data"
    },
    {
     "data": {
      "application/javascript": [
       "\n",
       "            setTimeout(function() {\n",
       "                var nbb_cell_id = 13;\n",
       "                var nbb_unformatted_code = \"sns.distplot(gdf_parks.geometry.area[gdf_parks.geometry.area < 10_000])\";\n",
       "                var nbb_formatted_code = \"sns.distplot(gdf_parks.geometry.area[gdf_parks.geometry.area < 10_000])\";\n",
       "                var nbb_cells = Jupyter.notebook.get_cells();\n",
       "                for (var i = 0; i < nbb_cells.length; ++i) {\n",
       "                    if (nbb_cells[i].input_prompt_number == nbb_cell_id) {\n",
       "                        if (nbb_cells[i].get_text() == nbb_unformatted_code) {\n",
       "                             nbb_cells[i].set_text(nbb_formatted_code);\n",
       "                        }\n",
       "                        break;\n",
       "                    }\n",
       "                }\n",
       "            }, 500);\n",
       "            "
      ],
      "text/plain": [
       "<IPython.core.display.Javascript object>"
      ]
     },
     "metadata": {},
     "output_type": "display_data"
    }
   ],
   "source": [
    "sns.distplot(gdf_parks.geometry.area[gdf_parks.geometry.area < 10_000])"
   ]
  },
  {
   "cell_type": "code",
   "execution_count": 14,
   "id": "reverse-guidance",
   "metadata": {
    "scrolled": true
   },
   "outputs": [
    {
     "name": "stderr",
     "output_type": "stream",
     "text": [
      "/usr/local/lib/python3.8/site-packages/ipykernel/ipkernel.py:283: DeprecationWarning: `should_run_async` will not call `transform_cell` automatically in the future. Please pass the result to `transformed_cell` argument and any exception that happen during thetransform in `preprocessing_exc_tuple` in IPython 7.17 and above.\n",
      "  and should_run_async(code)\n"
     ]
    },
    {
     "data": {
      "application/javascript": [
       "\n",
       "            setTimeout(function() {\n",
       "                var nbb_cell_id = 14;\n",
       "                var nbb_unformatted_code = \"min_area = 10_000\";\n",
       "                var nbb_formatted_code = \"min_area = 10_000\";\n",
       "                var nbb_cells = Jupyter.notebook.get_cells();\n",
       "                for (var i = 0; i < nbb_cells.length; ++i) {\n",
       "                    if (nbb_cells[i].input_prompt_number == nbb_cell_id) {\n",
       "                        if (nbb_cells[i].get_text() == nbb_unformatted_code) {\n",
       "                             nbb_cells[i].set_text(nbb_formatted_code);\n",
       "                        }\n",
       "                        break;\n",
       "                    }\n",
       "                }\n",
       "            }, 500);\n",
       "            "
      ],
      "text/plain": [
       "<IPython.core.display.Javascript object>"
      ]
     },
     "metadata": {},
     "output_type": "display_data"
    }
   ],
   "source": [
    "min_area = 10_000"
   ]
  },
  {
   "cell_type": "code",
   "execution_count": 15,
   "id": "herbal-stage",
   "metadata": {},
   "outputs": [
    {
     "data": {
      "application/javascript": [
       "\n",
       "            setTimeout(function() {\n",
       "                var nbb_cell_id = 15;\n",
       "                var nbb_unformatted_code = \"park_filter = gdf_parks.geometry.area > min_area\";\n",
       "                var nbb_formatted_code = \"park_filter = gdf_parks.geometry.area > min_area\";\n",
       "                var nbb_cells = Jupyter.notebook.get_cells();\n",
       "                for (var i = 0; i < nbb_cells.length; ++i) {\n",
       "                    if (nbb_cells[i].input_prompt_number == nbb_cell_id) {\n",
       "                        if (nbb_cells[i].get_text() == nbb_unformatted_code) {\n",
       "                             nbb_cells[i].set_text(nbb_formatted_code);\n",
       "                        }\n",
       "                        break;\n",
       "                    }\n",
       "                }\n",
       "            }, 500);\n",
       "            "
      ],
      "text/plain": [
       "<IPython.core.display.Javascript object>"
      ]
     },
     "metadata": {},
     "output_type": "display_data"
    }
   ],
   "source": [
    "park_filter = gdf_parks.geometry.area > min_area"
   ]
  },
  {
   "cell_type": "code",
   "execution_count": 16,
   "id": "reliable-february",
   "metadata": {
    "scrolled": true
   },
   "outputs": [
    {
     "name": "stderr",
     "output_type": "stream",
     "text": [
      "/usr/local/lib/python3.8/site-packages/ipykernel/ipkernel.py:283: DeprecationWarning: `should_run_async` will not call `transform_cell` automatically in the future. Please pass the result to `transformed_cell` argument and any exception that happen during thetransform in `preprocessing_exc_tuple` in IPython 7.17 and above.\n",
      "  and should_run_async(code)\n"
     ]
    },
    {
     "data": {
      "text/plain": [
       "False    2079\n",
       "True     1248\n",
       "dtype: int64"
      ]
     },
     "execution_count": 16,
     "metadata": {},
     "output_type": "execute_result"
    },
    {
     "data": {
      "application/javascript": [
       "\n",
       "            setTimeout(function() {\n",
       "                var nbb_cell_id = 16;\n",
       "                var nbb_unformatted_code = \"park_filter.value_counts()\";\n",
       "                var nbb_formatted_code = \"park_filter.value_counts()\";\n",
       "                var nbb_cells = Jupyter.notebook.get_cells();\n",
       "                for (var i = 0; i < nbb_cells.length; ++i) {\n",
       "                    if (nbb_cells[i].input_prompt_number == nbb_cell_id) {\n",
       "                        if (nbb_cells[i].get_text() == nbb_unformatted_code) {\n",
       "                             nbb_cells[i].set_text(nbb_formatted_code);\n",
       "                        }\n",
       "                        break;\n",
       "                    }\n",
       "                }\n",
       "            }, 500);\n",
       "            "
      ],
      "text/plain": [
       "<IPython.core.display.Javascript object>"
      ]
     },
     "metadata": {},
     "output_type": "display_data"
    }
   ],
   "source": [
    "park_filter.value_counts()"
   ]
  },
  {
   "cell_type": "code",
   "execution_count": 17,
   "id": "honest-federation",
   "metadata": {},
   "outputs": [
    {
     "data": {
      "application/javascript": [
       "\n",
       "            setTimeout(function() {\n",
       "                var nbb_cell_id = 17;\n",
       "                var nbb_unformatted_code = \"park_filter2 = gdf_parks.name.notna()\";\n",
       "                var nbb_formatted_code = \"park_filter2 = gdf_parks.name.notna()\";\n",
       "                var nbb_cells = Jupyter.notebook.get_cells();\n",
       "                for (var i = 0; i < nbb_cells.length; ++i) {\n",
       "                    if (nbb_cells[i].input_prompt_number == nbb_cell_id) {\n",
       "                        if (nbb_cells[i].get_text() == nbb_unformatted_code) {\n",
       "                             nbb_cells[i].set_text(nbb_formatted_code);\n",
       "                        }\n",
       "                        break;\n",
       "                    }\n",
       "                }\n",
       "            }, 500);\n",
       "            "
      ],
      "text/plain": [
       "<IPython.core.display.Javascript object>"
      ]
     },
     "metadata": {},
     "output_type": "display_data"
    }
   ],
   "source": [
    "park_filter2 = gdf_parks.name.notna()"
   ]
  },
  {
   "cell_type": "code",
   "execution_count": 18,
   "id": "incorporate-japanese",
   "metadata": {},
   "outputs": [
    {
     "data": {
      "text/plain": [
       "True     1746\n",
       "False    1581\n",
       "Name: name, dtype: int64"
      ]
     },
     "execution_count": 18,
     "metadata": {},
     "output_type": "execute_result"
    },
    {
     "data": {
      "application/javascript": [
       "\n",
       "            setTimeout(function() {\n",
       "                var nbb_cell_id = 18;\n",
       "                var nbb_unformatted_code = \"park_filter2.value_counts()\";\n",
       "                var nbb_formatted_code = \"park_filter2.value_counts()\";\n",
       "                var nbb_cells = Jupyter.notebook.get_cells();\n",
       "                for (var i = 0; i < nbb_cells.length; ++i) {\n",
       "                    if (nbb_cells[i].input_prompt_number == nbb_cell_id) {\n",
       "                        if (nbb_cells[i].get_text() == nbb_unformatted_code) {\n",
       "                             nbb_cells[i].set_text(nbb_formatted_code);\n",
       "                        }\n",
       "                        break;\n",
       "                    }\n",
       "                }\n",
       "            }, 500);\n",
       "            "
      ],
      "text/plain": [
       "<IPython.core.display.Javascript object>"
      ]
     },
     "metadata": {},
     "output_type": "display_data"
    }
   ],
   "source": [
    "park_filter2.value_counts()"
   ]
  },
  {
   "cell_type": "code",
   "execution_count": 19,
   "id": "spectacular-spokesman",
   "metadata": {},
   "outputs": [
    {
     "data": {
      "application/javascript": [
       "\n",
       "            setTimeout(function() {\n",
       "                var nbb_cell_id = 19;\n",
       "                var nbb_unformatted_code = \"gdf_parks = gdf_parks[(gdf_parks.geometry.area > min_area) & park_filter2]\";\n",
       "                var nbb_formatted_code = \"gdf_parks = gdf_parks[(gdf_parks.geometry.area > min_area) & park_filter2]\";\n",
       "                var nbb_cells = Jupyter.notebook.get_cells();\n",
       "                for (var i = 0; i < nbb_cells.length; ++i) {\n",
       "                    if (nbb_cells[i].input_prompt_number == nbb_cell_id) {\n",
       "                        if (nbb_cells[i].get_text() == nbb_unformatted_code) {\n",
       "                             nbb_cells[i].set_text(nbb_formatted_code);\n",
       "                        }\n",
       "                        break;\n",
       "                    }\n",
       "                }\n",
       "            }, 500);\n",
       "            "
      ],
      "text/plain": [
       "<IPython.core.display.Javascript object>"
      ]
     },
     "metadata": {},
     "output_type": "display_data"
    }
   ],
   "source": [
    "gdf_parks = gdf_parks[(gdf_parks.geometry.area > min_area) & park_filter2]"
   ]
  },
  {
   "cell_type": "code",
   "execution_count": 20,
   "id": "civil-collector",
   "metadata": {},
   "outputs": [
    {
     "name": "stderr",
     "output_type": "stream",
     "text": [
      "/usr/local/lib/python3.8/site-packages/ipykernel/ipkernel.py:283: DeprecationWarning: `should_run_async` will not call `transform_cell` automatically in the future. Please pass the result to `transformed_cell` argument and any exception that happen during thetransform in `preprocessing_exc_tuple` in IPython 7.17 and above.\n",
      "  and should_run_async(code)\n"
     ]
    },
    {
     "data": {
      "text/plain": [
       "<AxesSubplot:>"
      ]
     },
     "execution_count": 20,
     "metadata": {},
     "output_type": "execute_result"
    },
    {
     "data": {
      "image/png": "[encoded data removed]",
      "text/plain": [
       "<Figure size 432x288 with 1 Axes>"
      ]
     },
     "metadata": {
      "needs_background": "light"
     },
     "output_type": "display_data"
    },
    {
     "data": {
      "application/javascript": [
       "\n",
       "            setTimeout(function() {\n",
       "                var nbb_cell_id = 20;\n",
       "                var nbb_unformatted_code = \"gdf_parks.plot()\";\n",
       "                var nbb_formatted_code = \"gdf_parks.plot()\";\n",
       "                var nbb_cells = Jupyter.notebook.get_cells();\n",
       "                for (var i = 0; i < nbb_cells.length; ++i) {\n",
       "                    if (nbb_cells[i].input_prompt_number == nbb_cell_id) {\n",
       "                        if (nbb_cells[i].get_text() == nbb_unformatted_code) {\n",
       "                             nbb_cells[i].set_text(nbb_formatted_code);\n",
       "                        }\n",
       "                        break;\n",
       "                    }\n",
       "                }\n",
       "            }, 500);\n",
       "            "
      ],
      "text/plain": [
       "<IPython.core.display.Javascript object>"
      ]
     },
     "metadata": {},
     "output_type": "display_data"
    }
   ],
   "source": [
    "gdf_parks.plot()"
   ]
  },
  {
   "cell_type": "code",
   "execution_count": 21,
   "id": "stock-semiconductor",
   "metadata": {},
   "outputs": [
    {
     "name": "stderr",
     "output_type": "stream",
     "text": [
      "/usr/local/lib/python3.8/site-packages/ipykernel/ipkernel.py:283: DeprecationWarning: `should_run_async` will not call `transform_cell` automatically in the future. Please pass the result to `transformed_cell` argument and any exception that happen during thetransform in `preprocessing_exc_tuple` in IPython 7.17 and above.\n",
      "  and should_run_async(code)\n"
     ]
    },
    {
     "data": {
      "text/plain": [
       "True     976\n",
       "False     33\n",
       "Name: opening_hours, dtype: int64"
      ]
     },
     "execution_count": 21,
     "metadata": {},
     "output_type": "execute_result"
    },
    {
     "data": {
      "application/javascript": [
       "\n",
       "            setTimeout(function() {\n",
       "                var nbb_cell_id = 21;\n",
       "                var nbb_unformatted_code = \"gdf_parks[\\\"opening_hours\\\"].isna().value_counts()\";\n",
       "                var nbb_formatted_code = \"gdf_parks[\\\"opening_hours\\\"].isna().value_counts()\";\n",
       "                var nbb_cells = Jupyter.notebook.get_cells();\n",
       "                for (var i = 0; i < nbb_cells.length; ++i) {\n",
       "                    if (nbb_cells[i].input_prompt_number == nbb_cell_id) {\n",
       "                        if (nbb_cells[i].get_text() == nbb_unformatted_code) {\n",
       "                             nbb_cells[i].set_text(nbb_formatted_code);\n",
       "                        }\n",
       "                        break;\n",
       "                    }\n",
       "                }\n",
       "            }, 500);\n",
       "            "
      ],
      "text/plain": [
       "<IPython.core.display.Javascript object>"
      ]
     },
     "metadata": {},
     "output_type": "display_data"
    }
   ],
   "source": [
    "gdf_parks[\"opening_hours\"].isna().value_counts()"
   ]
  },
  {
   "cell_type": "code",
   "execution_count": 22,
   "id": "coastal-skiing",
   "metadata": {},
   "outputs": [
    {
     "data": {
      "text/html": [
       "<div>\n",
       "<style scoped>\n",
       "    .dataframe tbody tr th:only-of-type {\n",
       "        vertical-align: middle;\n",
       "    }\n",
       "\n",
       "    .dataframe tbody tr th {\n",
       "        vertical-align: top;\n",
       "    }\n",
       "\n",
       "    .dataframe thead th {\n",
       "        text-align: right;\n",
       "    }\n",
       "</style>\n",
       "<table border=\"1\" class=\"dataframe\">\n",
       "  <thead>\n",
       "    <tr style=\"text-align: right;\">\n",
       "      <th></th>\n",
       "      <th>unique_id</th>\n",
       "      <th>osmid</th>\n",
       "      <th>element_type</th>\n",
       "      <th>opening_hours</th>\n",
       "      <th>fixme</th>\n",
       "      <th>geometry</th>\n",
       "      <th>name</th>\n",
       "    </tr>\n",
       "  </thead>\n",
       "  <tbody>\n",
       "    <tr>\n",
       "      <th>31</th>\n",
       "      <td>way/2903398</td>\n",
       "      <td>2903398</td>\n",
       "      <td>way</td>\n",
       "      <td>NaN</td>\n",
       "      <td>NaN</td>\n",
       "      <td>POLYGON ((533689.081 196157.229, 533687.358 19...</td>\n",
       "      <td>Bush Hill Park</td>\n",
       "    </tr>\n",
       "    <tr>\n",
       "      <th>32</th>\n",
       "      <td>way/2914274</td>\n",
       "      <td>2914274</td>\n",
       "      <td>way</td>\n",
       "      <td>NaN</td>\n",
       "      <td>NaN</td>\n",
       "      <td>POLYGON ((525319.394 190164.222, 525334.781 19...</td>\n",
       "      <td>Stephens House &amp; Grounds</td>\n",
       "    </tr>\n",
       "    <tr>\n",
       "      <th>33</th>\n",
       "      <td>way/2926821</td>\n",
       "      <td>2926821</td>\n",
       "      <td>way</td>\n",
       "      <td>sunrise-sunset</td>\n",
       "      <td>NaN</td>\n",
       "      <td>POLYGON ((529803.487 195154.482, 529779.236 19...</td>\n",
       "      <td>Oakwood Park</td>\n",
       "    </tr>\n",
       "    <tr>\n",
       "      <th>34</th>\n",
       "      <td>way/2939009</td>\n",
       "      <td>2939009</td>\n",
       "      <td>way</td>\n",
       "      <td>NaN</td>\n",
       "      <td>NaN</td>\n",
       "      <td>POLYGON ((532403.124 196417.371, 532389.753 19...</td>\n",
       "      <td>Enfield Town Park</td>\n",
       "    </tr>\n",
       "    <tr>\n",
       "      <th>35</th>\n",
       "      <td>way/2939140</td>\n",
       "      <td>2939140</td>\n",
       "      <td>way</td>\n",
       "      <td>NaN</td>\n",
       "      <td>NaN</td>\n",
       "      <td>POLYGON ((526527.495 196443.890, 526511.153 19...</td>\n",
       "      <td>Victoria Park</td>\n",
       "    </tr>\n",
       "    <tr>\n",
       "      <th>...</th>\n",
       "      <td>...</td>\n",
       "      <td>...</td>\n",
       "      <td>...</td>\n",
       "      <td>...</td>\n",
       "      <td>...</td>\n",
       "      <td>...</td>\n",
       "      <td>...</td>\n",
       "    </tr>\n",
       "    <tr>\n",
       "      <th>3320</th>\n",
       "      <td>relation/12353846</td>\n",
       "      <td>12353846</td>\n",
       "      <td>relation</td>\n",
       "      <td>NaN</td>\n",
       "      <td>NaN</td>\n",
       "      <td>POLYGON ((507203.884 180508.115, 507220.367 18...</td>\n",
       "      <td>Stockley Country Park</td>\n",
       "    </tr>\n",
       "    <tr>\n",
       "      <th>3321</th>\n",
       "      <td>relation/12370600</td>\n",
       "      <td>12370600</td>\n",
       "      <td>relation</td>\n",
       "      <td>NaN</td>\n",
       "      <td>NaN</td>\n",
       "      <td>MULTIPOLYGON (((544761.404 179745.688, 544709....</td>\n",
       "      <td>Gallions Park</td>\n",
       "    </tr>\n",
       "    <tr>\n",
       "      <th>3322</th>\n",
       "      <td>relation/12455180</td>\n",
       "      <td>12455180</td>\n",
       "      <td>relation</td>\n",
       "      <td>NaN</td>\n",
       "      <td>NaN</td>\n",
       "      <td>POLYGON ((504373.455 191000.692, 504389.995 19...</td>\n",
       "      <td>Belfry Avenue Open Space</td>\n",
       "    </tr>\n",
       "    <tr>\n",
       "      <th>3323</th>\n",
       "      <td>relation/12541078</td>\n",
       "      <td>12541078</td>\n",
       "      <td>relation</td>\n",
       "      <td>NaN</td>\n",
       "      <td>NaN</td>\n",
       "      <td>POLYGON ((523395.871 197018.002, 523494.400 19...</td>\n",
       "      <td>Barnet Countryside Centre</td>\n",
       "    </tr>\n",
       "    <tr>\n",
       "      <th>3325</th>\n",
       "      <td>relation/12627106</td>\n",
       "      <td>12627106</td>\n",
       "      <td>relation</td>\n",
       "      <td>NaN</td>\n",
       "      <td>NaN</td>\n",
       "      <td>POLYGON ((505140.835 182006.612, 505162.907 18...</td>\n",
       "      <td>Cowley Recreation Ground</td>\n",
       "    </tr>\n",
       "  </tbody>\n",
       "</table>\n",
       "<p>1009 rows × 7 columns</p>\n",
       "</div>"
      ],
      "text/plain": [
       "              unique_id     osmid element_type   opening_hours fixme  \\\n",
       "31          way/2903398   2903398          way             NaN   NaN   \n",
       "32          way/2914274   2914274          way             NaN   NaN   \n",
       "33          way/2926821   2926821          way  sunrise-sunset   NaN   \n",
       "34          way/2939009   2939009          way             NaN   NaN   \n",
       "35          way/2939140   2939140          way             NaN   NaN   \n",
       "...                 ...       ...          ...             ...   ...   \n",
       "3320  relation/12353846  12353846     relation             NaN   NaN   \n",
       "3321  relation/12370600  12370600     relation             NaN   NaN   \n",
       "3322  relation/12455180  12455180     relation             NaN   NaN   \n",
       "3323  relation/12541078  12541078     relation             NaN   NaN   \n",
       "3325  relation/12627106  12627106     relation             NaN   NaN   \n",
       "\n",
       "                                               geometry  \\\n",
       "31    POLYGON ((533689.081 196157.229, 533687.358 19...   \n",
       "32    POLYGON ((525319.394 190164.222, 525334.781 19...   \n",
       "33    POLYGON ((529803.487 195154.482, 529779.236 19...   \n",
       "34    POLYGON ((532403.124 196417.371, 532389.753 19...   \n",
       "35    POLYGON ((526527.495 196443.890, 526511.153 19...   \n",
       "...                                                 ...   \n",
       "3320  POLYGON ((507203.884 180508.115, 507220.367 18...   \n",
       "3321  MULTIPOLYGON (((544761.404 179745.688, 544709....   \n",
       "3322  POLYGON ((504373.455 191000.692, 504389.995 19...   \n",
       "3323  POLYGON ((523395.871 197018.002, 523494.400 19...   \n",
       "3325  POLYGON ((505140.835 182006.612, 505162.907 18...   \n",
       "\n",
       "                           name  \n",
       "31               Bush Hill Park  \n",
       "32     Stephens House & Grounds  \n",
       "33                 Oakwood Park  \n",
       "34            Enfield Town Park  \n",
       "35                Victoria Park  \n",
       "...                         ...  \n",
       "3320      Stockley Country Park  \n",
       "3321              Gallions Park  \n",
       "3322   Belfry Avenue Open Space  \n",
       "3323  Barnet Countryside Centre  \n",
       "3325   Cowley Recreation Ground  \n",
       "\n",
       "[1009 rows x 7 columns]"
      ]
     },
     "execution_count": 22,
     "metadata": {},
     "output_type": "execute_result"
    },
    {
     "data": {
      "application/javascript": [
       "\n",
       "            setTimeout(function() {\n",
       "                var nbb_cell_id = 22;\n",
       "                var nbb_unformatted_code = \"gdf_parks[\\n    [\\\"unique_id\\\", \\\"osmid\\\", \\\"element_type\\\", \\\"opening_hours\\\", \\\"fixme\\\", \\\"geometry\\\", \\\"name\\\"]\\n]\";\n",
       "                var nbb_formatted_code = \"gdf_parks[\\n    [\\\"unique_id\\\", \\\"osmid\\\", \\\"element_type\\\", \\\"opening_hours\\\", \\\"fixme\\\", \\\"geometry\\\", \\\"name\\\"]\\n]\";\n",
       "                var nbb_cells = Jupyter.notebook.get_cells();\n",
       "                for (var i = 0; i < nbb_cells.length; ++i) {\n",
       "                    if (nbb_cells[i].input_prompt_number == nbb_cell_id) {\n",
       "                        if (nbb_cells[i].get_text() == nbb_unformatted_code) {\n",
       "                             nbb_cells[i].set_text(nbb_formatted_code);\n",
       "                        }\n",
       "                        break;\n",
       "                    }\n",
       "                }\n",
       "            }, 500);\n",
       "            "
      ],
      "text/plain": [
       "<IPython.core.display.Javascript object>"
      ]
     },
     "metadata": {},
     "output_type": "display_data"
    }
   ],
   "source": [
    "gdf_parks[\n",
    "    [\"unique_id\", \"osmid\", \"element_type\", \"opening_hours\", \"fixme\", \"geometry\", \"name\"]\n",
    "]"
   ]
  },
  {
   "cell_type": "code",
   "execution_count": 23,
   "id": "above-atlas",
   "metadata": {},
   "outputs": [
    {
     "name": "stderr",
     "output_type": "stream",
     "text": [
      "/usr/local/lib/python3.8/site-packages/ipykernel/ipkernel.py:283: DeprecationWarning: `should_run_async` will not call `transform_cell` automatically in the future. Please pass the result to `transformed_cell` argument and any exception that happen during thetransform in `preprocessing_exc_tuple` in IPython 7.17 and above.\n",
      "  and should_run_async(code)\n"
     ]
    },
    {
     "data": {
      "application/javascript": [
       "\n",
       "            setTimeout(function() {\n",
       "                var nbb_cell_id = 23;\n",
       "                var nbb_unformatted_code = \"gdf_parks = (\\n    gdf_parks.reset_index()\\n    .drop(columns=\\\"index\\\")\\n    .reset_index()\\n    .rename(columns={\\\"index\\\": \\\"id\\\"})\\n)\";\n",
       "                var nbb_formatted_code = \"gdf_parks = (\\n    gdf_parks.reset_index()\\n    .drop(columns=\\\"index\\\")\\n    .reset_index()\\n    .rename(columns={\\\"index\\\": \\\"id\\\"})\\n)\";\n",
       "                var nbb_cells = Jupyter.notebook.get_cells();\n",
       "                for (var i = 0; i < nbb_cells.length; ++i) {\n",
       "                    if (nbb_cells[i].input_prompt_number == nbb_cell_id) {\n",
       "                        if (nbb_cells[i].get_text() == nbb_unformatted_code) {\n",
       "                             nbb_cells[i].set_text(nbb_formatted_code);\n",
       "                        }\n",
       "                        break;\n",
       "                    }\n",
       "                }\n",
       "            }, 500);\n",
       "            "
      ],
      "text/plain": [
       "<IPython.core.display.Javascript object>"
      ]
     },
     "metadata": {},
     "output_type": "display_data"
    }
   ],
   "source": [
    "gdf_parks = (\n",
    "    gdf_parks.reset_index()\n",
    "    .drop(columns=\"index\")\n",
    "    .reset_index()\n",
    "    .rename(columns={\"index\": \"id\"})\n",
    ")"
   ]
  },
  {
   "cell_type": "markdown",
   "id": "boxed-energy",
   "metadata": {},
   "source": [
    "### Save parks"
   ]
  },
  {
   "cell_type": "code",
   "execution_count": 24,
   "id": "basic-vermont",
   "metadata": {},
   "outputs": [
    {
     "data": {
      "application/javascript": [
       "\n",
       "            setTimeout(function() {\n",
       "                var nbb_cell_id = 24;\n",
       "                var nbb_unformatted_code = \"output_dir = os.path.join(DATA_PATH, \\\"pois\\\")\\nif not os.path.exists(output_dir):\\n    os.makedirs(output_dir)\";\n",
       "                var nbb_formatted_code = \"output_dir = os.path.join(DATA_PATH, \\\"pois\\\")\\nif not os.path.exists(output_dir):\\n    os.makedirs(output_dir)\";\n",
       "                var nbb_cells = Jupyter.notebook.get_cells();\n",
       "                for (var i = 0; i < nbb_cells.length; ++i) {\n",
       "                    if (nbb_cells[i].input_prompt_number == nbb_cell_id) {\n",
       "                        if (nbb_cells[i].get_text() == nbb_unformatted_code) {\n",
       "                             nbb_cells[i].set_text(nbb_formatted_code);\n",
       "                        }\n",
       "                        break;\n",
       "                    }\n",
       "                }\n",
       "            }, 500);\n",
       "            "
      ],
      "text/plain": [
       "<IPython.core.display.Javascript object>"
      ]
     },
     "metadata": {},
     "output_type": "display_data"
    }
   ],
   "source": [
    "output_dir = os.path.join(DATA_PATH, \"pois\")\n",
    "if not os.path.exists(output_dir):\n",
    "    os.makedirs(output_dir)"
   ]
  },
  {
   "cell_type": "code",
   "execution_count": 25,
   "id": "loving-consolidation",
   "metadata": {},
   "outputs": [
    {
     "data": {
      "application/javascript": [
       "\n",
       "            setTimeout(function() {\n",
       "                var nbb_cell_id = 25;\n",
       "                var nbb_unformatted_code = \"gdf_parks[[\\\"id\\\", \\\"geometry\\\"]].to_file(os.path.join(output_dir, \\\"parks.shp\\\"))\";\n",
       "                var nbb_formatted_code = \"gdf_parks[[\\\"id\\\", \\\"geometry\\\"]].to_file(os.path.join(output_dir, \\\"parks.shp\\\"))\";\n",
       "                var nbb_cells = Jupyter.notebook.get_cells();\n",
       "                for (var i = 0; i < nbb_cells.length; ++i) {\n",
       "                    if (nbb_cells[i].input_prompt_number == nbb_cell_id) {\n",
       "                        if (nbb_cells[i].get_text() == nbb_unformatted_code) {\n",
       "                             nbb_cells[i].set_text(nbb_formatted_code);\n",
       "                        }\n",
       "                        break;\n",
       "                    }\n",
       "                }\n",
       "            }, 500);\n",
       "            "
      ],
      "text/plain": [
       "<IPython.core.display.Javascript object>"
      ]
     },
     "metadata": {},
     "output_type": "display_data"
    }
   ],
   "source": [
    "gdf_parks[[\"id\", \"geometry\"]].to_file(os.path.join(output_dir, \"parks.shp\"))"
   ]
  },
  {
   "cell_type": "code",
   "execution_count": 26,
   "id": "strategic-panama",
   "metadata": {},
   "outputs": [
    {
     "name": "stderr",
     "output_type": "stream",
     "text": [
      "/usr/local/lib/python3.8/site-packages/pandas/io/sql.py:1429: SADeprecationWarning: The Connection.run_callable() method is deprecated and will be removed in a future release.  Invoke the callable function directly, passing the Connection. (deprecated since: 1.4)\n",
      "  return self.connectable.run_callable(\n",
      "/usr/local/lib/python3.8/site-packages/pandas/io/sql.py:718: SADeprecationWarning: Table.tometadata() is renamed to Table.to_metadata() (deprecated since: 1.4)\n",
      "  self.table = self.table.tometadata(self.pd_sql.meta)\n"
     ]
    },
    {
     "data": {
      "application/javascript": [
       "\n",
       "            setTimeout(function() {\n",
       "                var nbb_cell_id = 26;\n",
       "                var nbb_unformatted_code = \"with engine.connect() as conn:\\n    conn.execute(f\\\"CREATE SCHEMA IF NOT EXISTS pois\\\")\\n\\n    gdf_parks[\\n        [\\n            \\\"id\\\",\\n            \\\"unique_id\\\",\\n            \\\"osmid\\\",\\n            \\\"element_type\\\",\\n            \\\"opening_hours\\\",\\n            \\\"fixme\\\",\\n            \\\"name\\\",\\n            \\\"latitude\\\",\\n            \\\"longitude\\\",\\n        ]\\n    ].to_sql(\\\"parks\\\", schema=\\\"pois\\\", index=False, con=conn, if_exists=\\\"replace\\\")\";\n",
       "                var nbb_formatted_code = \"with engine.connect() as conn:\\n    conn.execute(f\\\"CREATE SCHEMA IF NOT EXISTS pois\\\")\\n\\n    gdf_parks[\\n        [\\n            \\\"id\\\",\\n            \\\"unique_id\\\",\\n            \\\"osmid\\\",\\n            \\\"element_type\\\",\\n            \\\"opening_hours\\\",\\n            \\\"fixme\\\",\\n            \\\"name\\\",\\n            \\\"latitude\\\",\\n            \\\"longitude\\\",\\n        ]\\n    ].to_sql(\\\"parks\\\", schema=\\\"pois\\\", index=False, con=conn, if_exists=\\\"replace\\\")\";\n",
       "                var nbb_cells = Jupyter.notebook.get_cells();\n",
       "                for (var i = 0; i < nbb_cells.length; ++i) {\n",
       "                    if (nbb_cells[i].input_prompt_number == nbb_cell_id) {\n",
       "                        if (nbb_cells[i].get_text() == nbb_unformatted_code) {\n",
       "                             nbb_cells[i].set_text(nbb_formatted_code);\n",
       "                        }\n",
       "                        break;\n",
       "                    }\n",
       "                }\n",
       "            }, 500);\n",
       "            "
      ],
      "text/plain": [
       "<IPython.core.display.Javascript object>"
      ]
     },
     "metadata": {},
     "output_type": "display_data"
    }
   ],
   "source": [
    "with engine.connect() as conn:\n",
    "    conn.execute(f\"CREATE SCHEMA IF NOT EXISTS pois\")\n",
    "\n",
    "    gdf_parks[\n",
    "        [\n",
    "            \"id\",\n",
    "            \"unique_id\",\n",
    "            \"osmid\",\n",
    "            \"element_type\",\n",
    "            \"opening_hours\",\n",
    "            \"fixme\",\n",
    "            \"name\",\n",
    "            \"latitude\",\n",
    "            \"longitude\",\n",
    "        ]\n",
    "    ].to_sql(\"parks\", schema=\"pois\", index=False, con=conn, if_exists=\"replace\")"
   ]
  },
  {
   "cell_type": "code",
   "execution_count": 27,
   "id": "underlying-apparatus",
   "metadata": {},
   "outputs": [
    {
     "data": {
      "application/javascript": [
       "\n",
       "            setTimeout(function() {\n",
       "                var nbb_cell_id = 27;\n",
       "                var nbb_unformatted_code = \"with engine.connect() as conn:\\n    conn.execute(\\\"CREATE INDEX id_parks_idx ON pois.parks (id);\\\")\";\n",
       "                var nbb_formatted_code = \"with engine.connect() as conn:\\n    conn.execute(\\\"CREATE INDEX id_parks_idx ON pois.parks (id);\\\")\";\n",
       "                var nbb_cells = Jupyter.notebook.get_cells();\n",
       "                for (var i = 0; i < nbb_cells.length; ++i) {\n",
       "                    if (nbb_cells[i].input_prompt_number == nbb_cell_id) {\n",
       "                        if (nbb_cells[i].get_text() == nbb_unformatted_code) {\n",
       "                             nbb_cells[i].set_text(nbb_formatted_code);\n",
       "                        }\n",
       "                        break;\n",
       "                    }\n",
       "                }\n",
       "            }, 500);\n",
       "            "
      ],
      "text/plain": [
       "<IPython.core.display.Javascript object>"
      ]
     },
     "metadata": {},
     "output_type": "display_data"
    }
   ],
   "source": [
    "with engine.connect() as conn:\n",
    "    conn.execute(\"CREATE INDEX id_parks_idx ON pois.parks (id);\")"
   ]
  },
  {
   "cell_type": "markdown",
   "id": "parental-broadcast",
   "metadata": {},
   "source": [
    "## Stations"
   ]
  },
  {
   "cell_type": "code",
   "execution_count": 28,
   "id": "peripheral-canal",
   "metadata": {},
   "outputs": [
    {
     "name": "stdout",
     "output_type": "stream",
     "text": [
      "CPU times: user 1.5 s, sys: 0 ns, total: 1.5 s\n",
      "Wall time: 1.51 s\n"
     ]
    },
    {
     "data": {
      "application/javascript": [
       "\n",
       "            setTimeout(function() {\n",
       "                var nbb_cell_id = 28;\n",
       "                var nbb_unformatted_code = \"%%time\\ngdf_stations = ox.geometries_from_place(place,tags={\\\"railway\\\":\\\"station\\\"})\";\n",
       "                var nbb_formatted_code = \"%%time\\ngdf_stations = ox.geometries_from_place(place,tags={\\\"railway\\\":\\\"station\\\"})\";\n",
       "                var nbb_cells = Jupyter.notebook.get_cells();\n",
       "                for (var i = 0; i < nbb_cells.length; ++i) {\n",
       "                    if (nbb_cells[i].input_prompt_number == nbb_cell_id) {\n",
       "                        if (nbb_cells[i].get_text() == nbb_unformatted_code) {\n",
       "                             nbb_cells[i].set_text(nbb_formatted_code);\n",
       "                        }\n",
       "                        break;\n",
       "                    }\n",
       "                }\n",
       "            }, 500);\n",
       "            "
      ],
      "text/plain": [
       "<IPython.core.display.Javascript object>"
      ]
     },
     "metadata": {},
     "output_type": "display_data"
    }
   ],
   "source": [
    "%%time\n",
    "gdf_stations = ox.geometries_from_place(place,tags={\"railway\":\"station\"})"
   ]
  },
  {
   "cell_type": "code",
   "execution_count": 29,
   "id": "addressed-republic",
   "metadata": {},
   "outputs": [
    {
     "name": "stderr",
     "output_type": "stream",
     "text": [
      "/usr/local/lib/python3.8/site-packages/ipykernel/ipkernel.py:283: DeprecationWarning: `should_run_async` will not call `transform_cell` automatically in the future. Please pass the result to `transformed_cell` argument and any exception that happen during thetransform in `preprocessing_exc_tuple` in IPython 7.17 and above.\n",
      "  and should_run_async(code)\n"
     ]
    },
    {
     "data": {
      "application/javascript": [
       "\n",
       "            setTimeout(function() {\n",
       "                var nbb_cell_id = 29;\n",
       "                var nbb_unformatted_code = \"gdf_stations[\\\"latitude\\\"] = gdf_stations.geometry.y\\ngdf_stations[\\\"longitude\\\"] = gdf_stations.geometry.x\";\n",
       "                var nbb_formatted_code = \"gdf_stations[\\\"latitude\\\"] = gdf_stations.geometry.y\\ngdf_stations[\\\"longitude\\\"] = gdf_stations.geometry.x\";\n",
       "                var nbb_cells = Jupyter.notebook.get_cells();\n",
       "                for (var i = 0; i < nbb_cells.length; ++i) {\n",
       "                    if (nbb_cells[i].input_prompt_number == nbb_cell_id) {\n",
       "                        if (nbb_cells[i].get_text() == nbb_unformatted_code) {\n",
       "                             nbb_cells[i].set_text(nbb_formatted_code);\n",
       "                        }\n",
       "                        break;\n",
       "                    }\n",
       "                }\n",
       "            }, 500);\n",
       "            "
      ],
      "text/plain": [
       "<IPython.core.display.Javascript object>"
      ]
     },
     "metadata": {},
     "output_type": "display_data"
    }
   ],
   "source": [
    "gdf_stations[\"latitude\"] = gdf_stations.geometry.y\n",
    "gdf_stations[\"longitude\"] = gdf_stations.geometry.x"
   ]
  },
  {
   "cell_type": "code",
   "execution_count": 30,
   "id": "micro-contamination",
   "metadata": {},
   "outputs": [
    {
     "data": {
      "application/javascript": [
       "\n",
       "            setTimeout(function() {\n",
       "                var nbb_cell_id = 30;\n",
       "                var nbb_unformatted_code = \"gdf_stations = gdf_stations.to_crs(\\\"EPSG:27700\\\")\";\n",
       "                var nbb_formatted_code = \"gdf_stations = gdf_stations.to_crs(\\\"EPSG:27700\\\")\";\n",
       "                var nbb_cells = Jupyter.notebook.get_cells();\n",
       "                for (var i = 0; i < nbb_cells.length; ++i) {\n",
       "                    if (nbb_cells[i].input_prompt_number == nbb_cell_id) {\n",
       "                        if (nbb_cells[i].get_text() == nbb_unformatted_code) {\n",
       "                             nbb_cells[i].set_text(nbb_formatted_code);\n",
       "                        }\n",
       "                        break;\n",
       "                    }\n",
       "                }\n",
       "            }, 500);\n",
       "            "
      ],
      "text/plain": [
       "<IPython.core.display.Javascript object>"
      ]
     },
     "metadata": {},
     "output_type": "display_data"
    }
   ],
   "source": [
    "gdf_stations = gdf_stations.to_crs(\"EPSG:27700\")"
   ]
  },
  {
   "cell_type": "code",
   "execution_count": 31,
   "id": "sacred-adolescent",
   "metadata": {},
   "outputs": [
    {
     "data": {
      "text/plain": [
       "London Underground                                                                     213\n",
       "National Rail                                                                          193\n",
       "London Overground                                                                       62\n",
       "Docklands Light Railway                                                                 40\n",
       "National Rail;London Overground                                                         18\n",
       "London Underground;London Overground                                                    15\n",
       "TfL Rail                                                                                12\n",
       "National Rail;London Underground                                                        11\n",
       "National Rail;London Underground;London Overground                                       8\n",
       "National Rail;TfL Rail                                                                   7\n",
       "Heathrow Airport                                                                         5\n",
       "London Transport Miniature Railway                                                       2\n",
       "London Underground;Docklands Light Railway                                               2\n",
       "National Rail;London Underground;TfL Rail                                                1\n",
       "National Rail;Docklands Light Railway                                                    1\n",
       "National Rail;London Underground;London Trams                                            1\n",
       "National Rail;London Underground;London Overground;TfL Rail                              1\n",
       "National Rail;London Underground;Docklands Light Railway                                 1\n",
       "National Rail;London Overground;TfL Rail                                                 1\n",
       "National Rail;London Underground;London Overground;Docklands Light Railway;TfL Rail      1\n",
       "Name: network, dtype: int64"
      ]
     },
     "execution_count": 31,
     "metadata": {},
     "output_type": "execute_result"
    },
    {
     "data": {
      "application/javascript": [
       "\n",
       "            setTimeout(function() {\n",
       "                var nbb_cell_id = 31;\n",
       "                var nbb_unformatted_code = \"gdf_stations.network.value_counts()\";\n",
       "                var nbb_formatted_code = \"gdf_stations.network.value_counts()\";\n",
       "                var nbb_cells = Jupyter.notebook.get_cells();\n",
       "                for (var i = 0; i < nbb_cells.length; ++i) {\n",
       "                    if (nbb_cells[i].input_prompt_number == nbb_cell_id) {\n",
       "                        if (nbb_cells[i].get_text() == nbb_unformatted_code) {\n",
       "                             nbb_cells[i].set_text(nbb_formatted_code);\n",
       "                        }\n",
       "                        break;\n",
       "                    }\n",
       "                }\n",
       "            }, 500);\n",
       "            "
      ],
      "text/plain": [
       "<IPython.core.display.Javascript object>"
      ]
     },
     "metadata": {},
     "output_type": "display_data"
    }
   ],
   "source": [
    "gdf_stations.network.value_counts()"
   ]
  },
  {
   "cell_type": "code",
   "execution_count": 32,
   "id": "fitted-aggregate",
   "metadata": {},
   "outputs": [
    {
     "data": {
      "application/javascript": [
       "\n",
       "            setTimeout(function() {\n",
       "                var nbb_cell_id = 32;\n",
       "                var nbb_unformatted_code = \"to_ignore = [\\\"London Transport Miniature Railway\\\", \\\"Heathrow Airport\\\"]\";\n",
       "                var nbb_formatted_code = \"to_ignore = [\\\"London Transport Miniature Railway\\\", \\\"Heathrow Airport\\\"]\";\n",
       "                var nbb_cells = Jupyter.notebook.get_cells();\n",
       "                for (var i = 0; i < nbb_cells.length; ++i) {\n",
       "                    if (nbb_cells[i].input_prompt_number == nbb_cell_id) {\n",
       "                        if (nbb_cells[i].get_text() == nbb_unformatted_code) {\n",
       "                             nbb_cells[i].set_text(nbb_formatted_code);\n",
       "                        }\n",
       "                        break;\n",
       "                    }\n",
       "                }\n",
       "            }, 500);\n",
       "            "
      ],
      "text/plain": [
       "<IPython.core.display.Javascript object>"
      ]
     },
     "metadata": {},
     "output_type": "display_data"
    }
   ],
   "source": [
    "to_ignore = [\"London Transport Miniature Railway\", \"Heathrow Airport\"]"
   ]
  },
  {
   "cell_type": "code",
   "execution_count": 33,
   "id": "weird-motor",
   "metadata": {},
   "outputs": [
    {
     "data": {
      "application/javascript": [
       "\n",
       "            setTimeout(function() {\n",
       "                var nbb_cell_id = 33;\n",
       "                var nbb_unformatted_code = \"gdf_stations = gdf_stations[~gdf_stations.network.isin(to_ignore)]\";\n",
       "                var nbb_formatted_code = \"gdf_stations = gdf_stations[~gdf_stations.network.isin(to_ignore)]\";\n",
       "                var nbb_cells = Jupyter.notebook.get_cells();\n",
       "                for (var i = 0; i < nbb_cells.length; ++i) {\n",
       "                    if (nbb_cells[i].input_prompt_number == nbb_cell_id) {\n",
       "                        if (nbb_cells[i].get_text() == nbb_unformatted_code) {\n",
       "                             nbb_cells[i].set_text(nbb_formatted_code);\n",
       "                        }\n",
       "                        break;\n",
       "                    }\n",
       "                }\n",
       "            }, 500);\n",
       "            "
      ],
      "text/plain": [
       "<IPython.core.display.Javascript object>"
      ]
     },
     "metadata": {},
     "output_type": "display_data"
    }
   ],
   "source": [
    "gdf_stations = gdf_stations[~gdf_stations.network.isin(to_ignore)]"
   ]
  },
  {
   "cell_type": "code",
   "execution_count": 34,
   "id": "vulnerable-likelihood",
   "metadata": {},
   "outputs": [
    {
     "data": {
      "application/javascript": [
       "\n",
       "            setTimeout(function() {\n",
       "                var nbb_cell_id = 34;\n",
       "                var nbb_unformatted_code = \"gdf_stations = (\\n    gdf_stations.reset_index()\\n    .drop(columns=\\\"index\\\")\\n    .reset_index()\\n    .rename(columns={\\\"index\\\": \\\"id\\\"})\\n)\";\n",
       "                var nbb_formatted_code = \"gdf_stations = (\\n    gdf_stations.reset_index()\\n    .drop(columns=\\\"index\\\")\\n    .reset_index()\\n    .rename(columns={\\\"index\\\": \\\"id\\\"})\\n)\";\n",
       "                var nbb_cells = Jupyter.notebook.get_cells();\n",
       "                for (var i = 0; i < nbb_cells.length; ++i) {\n",
       "                    if (nbb_cells[i].input_prompt_number == nbb_cell_id) {\n",
       "                        if (nbb_cells[i].get_text() == nbb_unformatted_code) {\n",
       "                             nbb_cells[i].set_text(nbb_formatted_code);\n",
       "                        }\n",
       "                        break;\n",
       "                    }\n",
       "                }\n",
       "            }, 500);\n",
       "            "
      ],
      "text/plain": [
       "<IPython.core.display.Javascript object>"
      ]
     },
     "metadata": {},
     "output_type": "display_data"
    }
   ],
   "source": [
    "gdf_stations = (\n",
    "    gdf_stations.reset_index()\n",
    "    .drop(columns=\"index\")\n",
    "    .reset_index()\n",
    "    .rename(columns={\"index\": \"id\"})\n",
    ")"
   ]
  },
  {
   "cell_type": "code",
   "execution_count": 35,
   "id": "funny-nation",
   "metadata": {},
   "outputs": [
    {
     "data": {
      "text/html": [
       "<div>\n",
       "<style scoped>\n",
       "    .dataframe tbody tr th:only-of-type {\n",
       "        vertical-align: middle;\n",
       "    }\n",
       "\n",
       "    .dataframe tbody tr th {\n",
       "        vertical-align: top;\n",
       "    }\n",
       "\n",
       "    .dataframe thead th {\n",
       "        text-align: right;\n",
       "    }\n",
       "</style>\n",
       "<table border=\"1\" class=\"dataframe\">\n",
       "  <thead>\n",
       "    <tr style=\"text-align: right;\">\n",
       "      <th></th>\n",
       "      <th>id</th>\n",
       "      <th>unique_id</th>\n",
       "      <th>osmid</th>\n",
       "      <th>element_type</th>\n",
       "      <th>fare_zone</th>\n",
       "      <th>line</th>\n",
       "      <th>name</th>\n",
       "      <th>name:ru</th>\n",
       "      <th>network</th>\n",
       "      <th>public_transport</th>\n",
       "      <th>...</th>\n",
       "      <th>ref:nalco</th>\n",
       "      <th>source:alt_name</th>\n",
       "      <th>name:pa</th>\n",
       "      <th>wheelchair:note</th>\n",
       "      <th>landuse</th>\n",
       "      <th>man_made</th>\n",
       "      <th>name:la</th>\n",
       "      <th>shelter</th>\n",
       "      <th>latitude</th>\n",
       "      <th>longitude</th>\n",
       "    </tr>\n",
       "  </thead>\n",
       "  <tbody>\n",
       "    <tr>\n",
       "      <th>0</th>\n",
       "      <td>0</td>\n",
       "      <td>node/780856</td>\n",
       "      <td>780856</td>\n",
       "      <td>node</td>\n",
       "      <td>2</td>\n",
       "      <td>Hammersmith &amp; City;Circle</td>\n",
       "      <td>Shepherd's Bush Market</td>\n",
       "      <td>Шепердс-Буш-Маркет</td>\n",
       "      <td>London Underground</td>\n",
       "      <td>station</td>\n",
       "      <td>...</td>\n",
       "      <td>NaN</td>\n",
       "      <td>NaN</td>\n",
       "      <td>NaN</td>\n",
       "      <td>NaN</td>\n",
       "      <td>NaN</td>\n",
       "      <td>NaN</td>\n",
       "      <td>NaN</td>\n",
       "      <td>NaN</td>\n",
       "      <td>51.506070</td>\n",
       "      <td>-0.226313</td>\n",
       "    </tr>\n",
       "    <tr>\n",
       "      <th>1</th>\n",
       "      <td>1</td>\n",
       "      <td>node/1256794</td>\n",
       "      <td>1256794</td>\n",
       "      <td>node</td>\n",
       "      <td>NaN</td>\n",
       "      <td>NaN</td>\n",
       "      <td>West Drayton</td>\n",
       "      <td>NaN</td>\n",
       "      <td>National Rail;TfL Rail</td>\n",
       "      <td>station</td>\n",
       "      <td>...</td>\n",
       "      <td>NaN</td>\n",
       "      <td>NaN</td>\n",
       "      <td>NaN</td>\n",
       "      <td>NaN</td>\n",
       "      <td>NaN</td>\n",
       "      <td>NaN</td>\n",
       "      <td>NaN</td>\n",
       "      <td>NaN</td>\n",
       "      <td>51.509736</td>\n",
       "      <td>-0.471829</td>\n",
       "    </tr>\n",
       "    <tr>\n",
       "      <th>2</th>\n",
       "      <td>2</td>\n",
       "      <td>node/2013971</td>\n",
       "      <td>2013971</td>\n",
       "      <td>node</td>\n",
       "      <td>4</td>\n",
       "      <td>Northern</td>\n",
       "      <td>Finchley Central</td>\n",
       "      <td>NaN</td>\n",
       "      <td>London Underground</td>\n",
       "      <td>station</td>\n",
       "      <td>...</td>\n",
       "      <td>NaN</td>\n",
       "      <td>NaN</td>\n",
       "      <td>NaN</td>\n",
       "      <td>NaN</td>\n",
       "      <td>NaN</td>\n",
       "      <td>NaN</td>\n",
       "      <td>NaN</td>\n",
       "      <td>NaN</td>\n",
       "      <td>51.600836</td>\n",
       "      <td>-0.192318</td>\n",
       "    </tr>\n",
       "    <tr>\n",
       "      <th>3</th>\n",
       "      <td>3</td>\n",
       "      <td>node/9780241</td>\n",
       "      <td>9780241</td>\n",
       "      <td>node</td>\n",
       "      <td>NaN</td>\n",
       "      <td>NaN</td>\n",
       "      <td>St Mary Cray</td>\n",
       "      <td>NaN</td>\n",
       "      <td>National Rail</td>\n",
       "      <td>station</td>\n",
       "      <td>...</td>\n",
       "      <td>NaN</td>\n",
       "      <td>NaN</td>\n",
       "      <td>NaN</td>\n",
       "      <td>NaN</td>\n",
       "      <td>NaN</td>\n",
       "      <td>NaN</td>\n",
       "      <td>NaN</td>\n",
       "      <td>NaN</td>\n",
       "      <td>51.394738</td>\n",
       "      <td>0.105719</td>\n",
       "    </tr>\n",
       "    <tr>\n",
       "      <th>4</th>\n",
       "      <td>4</td>\n",
       "      <td>node/13884199</td>\n",
       "      <td>13884199</td>\n",
       "      <td>node</td>\n",
       "      <td>NaN</td>\n",
       "      <td>NaN</td>\n",
       "      <td>Mill Hill Broadway</td>\n",
       "      <td>NaN</td>\n",
       "      <td>National Rail</td>\n",
       "      <td>station</td>\n",
       "      <td>...</td>\n",
       "      <td>NaN</td>\n",
       "      <td>NaN</td>\n",
       "      <td>NaN</td>\n",
       "      <td>NaN</td>\n",
       "      <td>NaN</td>\n",
       "      <td>NaN</td>\n",
       "      <td>NaN</td>\n",
       "      <td>NaN</td>\n",
       "      <td>51.612643</td>\n",
       "      <td>-0.248872</td>\n",
       "    </tr>\n",
       "    <tr>\n",
       "      <th>...</th>\n",
       "      <td>...</td>\n",
       "      <td>...</td>\n",
       "      <td>...</td>\n",
       "      <td>...</td>\n",
       "      <td>...</td>\n",
       "      <td>...</td>\n",
       "      <td>...</td>\n",
       "      <td>...</td>\n",
       "      <td>...</td>\n",
       "      <td>...</td>\n",
       "      <td>...</td>\n",
       "      <td>...</td>\n",
       "      <td>...</td>\n",
       "      <td>...</td>\n",
       "      <td>...</td>\n",
       "      <td>...</td>\n",
       "      <td>...</td>\n",
       "      <td>...</td>\n",
       "      <td>...</td>\n",
       "      <td>...</td>\n",
       "      <td>...</td>\n",
       "    </tr>\n",
       "    <tr>\n",
       "      <th>586</th>\n",
       "      <td>586</td>\n",
       "      <td>node/7860903110</td>\n",
       "      <td>7860903110</td>\n",
       "      <td>node</td>\n",
       "      <td>NaN</td>\n",
       "      <td>NaN</td>\n",
       "      <td>East Dulwich</td>\n",
       "      <td>NaN</td>\n",
       "      <td>National Rail</td>\n",
       "      <td>station</td>\n",
       "      <td>...</td>\n",
       "      <td>NaN</td>\n",
       "      <td>NaN</td>\n",
       "      <td>NaN</td>\n",
       "      <td>NaN</td>\n",
       "      <td>NaN</td>\n",
       "      <td>NaN</td>\n",
       "      <td>NaN</td>\n",
       "      <td>NaN</td>\n",
       "      <td>51.461037</td>\n",
       "      <td>-0.080798</td>\n",
       "    </tr>\n",
       "    <tr>\n",
       "      <th>587</th>\n",
       "      <td>587</td>\n",
       "      <td>node/7862969803</td>\n",
       "      <td>7862969803</td>\n",
       "      <td>node</td>\n",
       "      <td>NaN</td>\n",
       "      <td>NaN</td>\n",
       "      <td>South Greenford</td>\n",
       "      <td>NaN</td>\n",
       "      <td>National Rail</td>\n",
       "      <td>station</td>\n",
       "      <td>...</td>\n",
       "      <td>NaN</td>\n",
       "      <td>NaN</td>\n",
       "      <td>NaN</td>\n",
       "      <td>NaN</td>\n",
       "      <td>NaN</td>\n",
       "      <td>NaN</td>\n",
       "      <td>NaN</td>\n",
       "      <td>NaN</td>\n",
       "      <td>51.533203</td>\n",
       "      <td>-0.336438</td>\n",
       "    </tr>\n",
       "    <tr>\n",
       "      <th>588</th>\n",
       "      <td>588</td>\n",
       "      <td>node/7862969806</td>\n",
       "      <td>7862969806</td>\n",
       "      <td>node</td>\n",
       "      <td>NaN</td>\n",
       "      <td>NaN</td>\n",
       "      <td>Castle Bar Park</td>\n",
       "      <td>NaN</td>\n",
       "      <td>National Rail</td>\n",
       "      <td>station</td>\n",
       "      <td>...</td>\n",
       "      <td>NaN</td>\n",
       "      <td>NaN</td>\n",
       "      <td>NaN</td>\n",
       "      <td>NaN</td>\n",
       "      <td>NaN</td>\n",
       "      <td>NaN</td>\n",
       "      <td>NaN</td>\n",
       "      <td>NaN</td>\n",
       "      <td>51.522867</td>\n",
       "      <td>-0.331502</td>\n",
       "    </tr>\n",
       "    <tr>\n",
       "      <th>589</th>\n",
       "      <td>589</td>\n",
       "      <td>node/7862969807</td>\n",
       "      <td>7862969807</td>\n",
       "      <td>node</td>\n",
       "      <td>NaN</td>\n",
       "      <td>NaN</td>\n",
       "      <td>Drayton Green</td>\n",
       "      <td>NaN</td>\n",
       "      <td>National Rail</td>\n",
       "      <td>station</td>\n",
       "      <td>...</td>\n",
       "      <td>NaN</td>\n",
       "      <td>NaN</td>\n",
       "      <td>NaN</td>\n",
       "      <td>NaN</td>\n",
       "      <td>NaN</td>\n",
       "      <td>NaN</td>\n",
       "      <td>NaN</td>\n",
       "      <td>NaN</td>\n",
       "      <td>51.516385</td>\n",
       "      <td>-0.330194</td>\n",
       "    </tr>\n",
       "    <tr>\n",
       "      <th>590</th>\n",
       "      <td>590</td>\n",
       "      <td>node/8724517978</td>\n",
       "      <td>8724517978</td>\n",
       "      <td>node</td>\n",
       "      <td>NaN</td>\n",
       "      <td>NaN</td>\n",
       "      <td>Tulse Hill</td>\n",
       "      <td>Талс-Хилл</td>\n",
       "      <td>National Rail</td>\n",
       "      <td>station</td>\n",
       "      <td>...</td>\n",
       "      <td>NaN</td>\n",
       "      <td>NaN</td>\n",
       "      <td>NaN</td>\n",
       "      <td>NaN</td>\n",
       "      <td>NaN</td>\n",
       "      <td>NaN</td>\n",
       "      <td>NaN</td>\n",
       "      <td>NaN</td>\n",
       "      <td>51.439927</td>\n",
       "      <td>-0.104847</td>\n",
       "    </tr>\n",
       "  </tbody>\n",
       "</table>\n",
       "<p>591 rows × 122 columns</p>\n",
       "</div>"
      ],
      "text/plain": [
       "      id        unique_id       osmid element_type fare_zone  \\\n",
       "0      0      node/780856      780856         node         2   \n",
       "1      1     node/1256794     1256794         node       NaN   \n",
       "2      2     node/2013971     2013971         node         4   \n",
       "3      3     node/9780241     9780241         node       NaN   \n",
       "4      4    node/13884199    13884199         node       NaN   \n",
       "..   ...              ...         ...          ...       ...   \n",
       "586  586  node/7860903110  7860903110         node       NaN   \n",
       "587  587  node/7862969803  7862969803         node       NaN   \n",
       "588  588  node/7862969806  7862969806         node       NaN   \n",
       "589  589  node/7862969807  7862969807         node       NaN   \n",
       "590  590  node/8724517978  8724517978         node       NaN   \n",
       "\n",
       "                          line                    name             name:ru  \\\n",
       "0    Hammersmith & City;Circle  Shepherd's Bush Market  Шепердс-Буш-Маркет   \n",
       "1                          NaN            West Drayton                 NaN   \n",
       "2                     Northern        Finchley Central                 NaN   \n",
       "3                          NaN            St Mary Cray                 NaN   \n",
       "4                          NaN      Mill Hill Broadway                 NaN   \n",
       "..                         ...                     ...                 ...   \n",
       "586                        NaN            East Dulwich                 NaN   \n",
       "587                        NaN         South Greenford                 NaN   \n",
       "588                        NaN         Castle Bar Park                 NaN   \n",
       "589                        NaN           Drayton Green                 NaN   \n",
       "590                        NaN              Tulse Hill           Талс-Хилл   \n",
       "\n",
       "                    network public_transport  ... ref:nalco source:alt_name  \\\n",
       "0        London Underground          station  ...       NaN             NaN   \n",
       "1    National Rail;TfL Rail          station  ...       NaN             NaN   \n",
       "2        London Underground          station  ...       NaN             NaN   \n",
       "3             National Rail          station  ...       NaN             NaN   \n",
       "4             National Rail          station  ...       NaN             NaN   \n",
       "..                      ...              ...  ...       ...             ...   \n",
       "586           National Rail          station  ...       NaN             NaN   \n",
       "587           National Rail          station  ...       NaN             NaN   \n",
       "588           National Rail          station  ...       NaN             NaN   \n",
       "589           National Rail          station  ...       NaN             NaN   \n",
       "590           National Rail          station  ...       NaN             NaN   \n",
       "\n",
       "    name:pa wheelchair:note landuse man_made name:la shelter   latitude  \\\n",
       "0       NaN             NaN     NaN      NaN     NaN     NaN  51.506070   \n",
       "1       NaN             NaN     NaN      NaN     NaN     NaN  51.509736   \n",
       "2       NaN             NaN     NaN      NaN     NaN     NaN  51.600836   \n",
       "3       NaN             NaN     NaN      NaN     NaN     NaN  51.394738   \n",
       "4       NaN             NaN     NaN      NaN     NaN     NaN  51.612643   \n",
       "..      ...             ...     ...      ...     ...     ...        ...   \n",
       "586     NaN             NaN     NaN      NaN     NaN     NaN  51.461037   \n",
       "587     NaN             NaN     NaN      NaN     NaN     NaN  51.533203   \n",
       "588     NaN             NaN     NaN      NaN     NaN     NaN  51.522867   \n",
       "589     NaN             NaN     NaN      NaN     NaN     NaN  51.516385   \n",
       "590     NaN             NaN     NaN      NaN     NaN     NaN  51.439927   \n",
       "\n",
       "    longitude  \n",
       "0   -0.226313  \n",
       "1   -0.471829  \n",
       "2   -0.192318  \n",
       "3    0.105719  \n",
       "4   -0.248872  \n",
       "..        ...  \n",
       "586 -0.080798  \n",
       "587 -0.336438  \n",
       "588 -0.331502  \n",
       "589 -0.330194  \n",
       "590 -0.104847  \n",
       "\n",
       "[591 rows x 122 columns]"
      ]
     },
     "execution_count": 35,
     "metadata": {},
     "output_type": "execute_result"
    },
    {
     "data": {
      "application/javascript": [
       "\n",
       "            setTimeout(function() {\n",
       "                var nbb_cell_id = 35;\n",
       "                var nbb_unformatted_code = \"gdf_stations\";\n",
       "                var nbb_formatted_code = \"gdf_stations\";\n",
       "                var nbb_cells = Jupyter.notebook.get_cells();\n",
       "                for (var i = 0; i < nbb_cells.length; ++i) {\n",
       "                    if (nbb_cells[i].input_prompt_number == nbb_cell_id) {\n",
       "                        if (nbb_cells[i].get_text() == nbb_unformatted_code) {\n",
       "                             nbb_cells[i].set_text(nbb_formatted_code);\n",
       "                        }\n",
       "                        break;\n",
       "                    }\n",
       "                }\n",
       "            }, 500);\n",
       "            "
      ],
      "text/plain": [
       "<IPython.core.display.Javascript object>"
      ]
     },
     "metadata": {},
     "output_type": "display_data"
    }
   ],
   "source": [
    "gdf_stations"
   ]
  },
  {
   "cell_type": "code",
   "execution_count": 36,
   "id": "knowing-blair",
   "metadata": {},
   "outputs": [
    {
     "name": "stderr",
     "output_type": "stream",
     "text": [
      "/usr/local/lib/python3.8/site-packages/ipykernel/ipkernel.py:283: DeprecationWarning: `should_run_async` will not call `transform_cell` automatically in the future. Please pass the result to `transformed_cell` argument and any exception that happen during thetransform in `preprocessing_exc_tuple` in IPython 7.17 and above.\n",
      "  and should_run_async(code)\n"
     ]
    },
    {
     "data": {
      "text/plain": [
       "['id',\n",
       " 'unique_id',\n",
       " 'osmid',\n",
       " 'element_type',\n",
       " 'fare_zone',\n",
       " 'line',\n",
       " 'name',\n",
       " 'name:ru',\n",
       " 'network',\n",
       " 'public_transport',\n",
       " 'railway',\n",
       " 'source_ref',\n",
       " 'station',\n",
       " 'subway',\n",
       " 'wheelchair',\n",
       " 'wikidata',\n",
       " 'wikipedia',\n",
       " 'geometry',\n",
       " 'naptan:AtcoCode',\n",
       " 'operator',\n",
       " 'ref:crs',\n",
       " 'old_name',\n",
       " 'toilets:wheelchair',\n",
       " 'source',\n",
       " 'train',\n",
       " 'platforms',\n",
       " 'light_rail',\n",
       " 'public_transport:version',\n",
       " 'tram',\n",
       " 'source:name',\n",
       " 'start_date',\n",
       " 'wikimedia_commons',\n",
       " 'network:subway',\n",
       " 'network:train',\n",
       " 'source:network',\n",
       " 'ref:stanox',\n",
       " 'ref:tiploc',\n",
       " 'addr:street',\n",
       " 'electrified',\n",
       " 'name:fr',\n",
       " 'wheelchair:description',\n",
       " 'loc_name',\n",
       " 'name:da',\n",
       " 'tracks',\n",
       " 'postal_code',\n",
       " 'air_conditioning',\n",
       " 'internet_access',\n",
       " 'internet_access:fee',\n",
       " 'building',\n",
       " 'addr:city',\n",
       " 'addr:postcode',\n",
       " 'baby_feeding',\n",
       " 'website',\n",
       " 'name:he',\n",
       " 'note',\n",
       " 'layer',\n",
       " 'owner',\n",
       " 'name:nl',\n",
       " 'naptan:Bearing',\n",
       " 'naptan:CommonName',\n",
       " 'naptan:Indicator',\n",
       " 'naptan:verified',\n",
       " 'survey:date',\n",
       " 'alt_name',\n",
       " 'usage',\n",
       " 'tourism',\n",
       " 'operator:subway',\n",
       " 'operator:train',\n",
       " 'opening_hours',\n",
       " 'description',\n",
       " 'level',\n",
       " 'source_ref:network',\n",
       " 'ref',\n",
       " 'toilets',\n",
       " 'source:ref',\n",
       " 'railway:ref:DB',\n",
       " 'name:et',\n",
       " 'name:uk',\n",
       " 'uic_ref',\n",
       " 'website:departures',\n",
       " 'internet_access:ssid',\n",
       " 'airside',\n",
       " 'alt_name:ru',\n",
       " 'addr:housename',\n",
       " 'note:wheelchair',\n",
       " 'indoor',\n",
       " 'name:ja',\n",
       " 'addr:place',\n",
       " 'name:en',\n",
       " 'toilets:access',\n",
       " 'frequency',\n",
       " 'gauge',\n",
       " 'tfl_travelzone',\n",
       " 'url',\n",
       " 'voltage',\n",
       " 'covered',\n",
       " 'location',\n",
       " 'addr:country',\n",
       " 'building:levels',\n",
       " 'internet_access:access',\n",
       " 'internet_access:operator',\n",
       " 'name:zh',\n",
       " 'noaddress',\n",
       " 'not:addr:postcode',\n",
       " 'colour',\n",
       " 'source:building',\n",
       " 'name:el',\n",
       " 'website:overground',\n",
       " 'website:tube',\n",
       " 'levels',\n",
       " 'opening_date',\n",
       " 'ref:STANOX',\n",
       " 'ref:nalco',\n",
       " 'source:alt_name',\n",
       " 'name:pa',\n",
       " 'wheelchair:note',\n",
       " 'landuse',\n",
       " 'man_made',\n",
       " 'name:la',\n",
       " 'shelter',\n",
       " 'latitude',\n",
       " 'longitude']"
      ]
     },
     "execution_count": 36,
     "metadata": {},
     "output_type": "execute_result"
    },
    {
     "data": {
      "application/javascript": [
       "\n",
       "            setTimeout(function() {\n",
       "                var nbb_cell_id = 36;\n",
       "                var nbb_unformatted_code = \"gdf_stations.columns.tolist()\";\n",
       "                var nbb_formatted_code = \"gdf_stations.columns.tolist()\";\n",
       "                var nbb_cells = Jupyter.notebook.get_cells();\n",
       "                for (var i = 0; i < nbb_cells.length; ++i) {\n",
       "                    if (nbb_cells[i].input_prompt_number == nbb_cell_id) {\n",
       "                        if (nbb_cells[i].get_text() == nbb_unformatted_code) {\n",
       "                             nbb_cells[i].set_text(nbb_formatted_code);\n",
       "                        }\n",
       "                        break;\n",
       "                    }\n",
       "                }\n",
       "            }, 500);\n",
       "            "
      ],
      "text/plain": [
       "<IPython.core.display.Javascript object>"
      ]
     },
     "metadata": {},
     "output_type": "display_data"
    }
   ],
   "source": [
    "gdf_stations.columns.tolist()"
   ]
  },
  {
   "cell_type": "code",
   "execution_count": 37,
   "id": "close-access",
   "metadata": {},
   "outputs": [
    {
     "data": {
      "application/javascript": [
       "\n",
       "            setTimeout(function() {\n",
       "                var nbb_cell_id = 37;\n",
       "                var nbb_unformatted_code = \"gdf_stations[[\\\"id\\\", \\\"geometry\\\"]].to_file(\\n    os.path.join(DATA_PATH, \\\"pois\\\", \\\"stations.shp\\\")\\n)\";\n",
       "                var nbb_formatted_code = \"gdf_stations[[\\\"id\\\", \\\"geometry\\\"]].to_file(\\n    os.path.join(DATA_PATH, \\\"pois\\\", \\\"stations.shp\\\")\\n)\";\n",
       "                var nbb_cells = Jupyter.notebook.get_cells();\n",
       "                for (var i = 0; i < nbb_cells.length; ++i) {\n",
       "                    if (nbb_cells[i].input_prompt_number == nbb_cell_id) {\n",
       "                        if (nbb_cells[i].get_text() == nbb_unformatted_code) {\n",
       "                             nbb_cells[i].set_text(nbb_formatted_code);\n",
       "                        }\n",
       "                        break;\n",
       "                    }\n",
       "                }\n",
       "            }, 500);\n",
       "            "
      ],
      "text/plain": [
       "<IPython.core.display.Javascript object>"
      ]
     },
     "metadata": {},
     "output_type": "display_data"
    }
   ],
   "source": [
    "gdf_stations[[\"id\", \"geometry\"]].to_file(\n",
    "    os.path.join(DATA_PATH, \"pois\", \"stations.shp\")\n",
    ")"
   ]
  },
  {
   "cell_type": "code",
   "execution_count": 38,
   "id": "atomic-colors",
   "metadata": {},
   "outputs": [
    {
     "name": "stderr",
     "output_type": "stream",
     "text": [
      "/usr/local/lib/python3.8/site-packages/pandas/io/sql.py:1429: SADeprecationWarning: The Connection.run_callable() method is deprecated and will be removed in a future release.  Invoke the callable function directly, passing the Connection. (deprecated since: 1.4)\n",
      "  return self.connectable.run_callable(\n",
      "/usr/local/lib/python3.8/site-packages/pandas/io/sql.py:718: SADeprecationWarning: Table.tometadata() is renamed to Table.to_metadata() (deprecated since: 1.4)\n",
      "  self.table = self.table.tometadata(self.pd_sql.meta)\n"
     ]
    },
    {
     "data": {
      "application/javascript": [
       "\n",
       "            setTimeout(function() {\n",
       "                var nbb_cell_id = 38;\n",
       "                var nbb_unformatted_code = \"with engine.connect() as conn:\\n    gdf_stations[\\n        [\\n            \\\"id\\\",\\n            \\\"unique_id\\\",\\n            \\\"osmid\\\",\\n            \\\"fare_zone\\\",\\n            \\\"opening_hours\\\",\\n            \\\"name\\\",\\n            \\\"line\\\",\\n            \\\"network\\\",\\n            \\\"latitude\\\",\\n            \\\"longitude\\\",\\n        ]\\n    ].to_sql(\\\"stations\\\", index=False, schema=\\\"pois\\\", con=conn, if_exists=\\\"replace\\\")\";\n",
       "                var nbb_formatted_code = \"with engine.connect() as conn:\\n    gdf_stations[\\n        [\\n            \\\"id\\\",\\n            \\\"unique_id\\\",\\n            \\\"osmid\\\",\\n            \\\"fare_zone\\\",\\n            \\\"opening_hours\\\",\\n            \\\"name\\\",\\n            \\\"line\\\",\\n            \\\"network\\\",\\n            \\\"latitude\\\",\\n            \\\"longitude\\\",\\n        ]\\n    ].to_sql(\\\"stations\\\", index=False, schema=\\\"pois\\\", con=conn, if_exists=\\\"replace\\\")\";\n",
       "                var nbb_cells = Jupyter.notebook.get_cells();\n",
       "                for (var i = 0; i < nbb_cells.length; ++i) {\n",
       "                    if (nbb_cells[i].input_prompt_number == nbb_cell_id) {\n",
       "                        if (nbb_cells[i].get_text() == nbb_unformatted_code) {\n",
       "                             nbb_cells[i].set_text(nbb_formatted_code);\n",
       "                        }\n",
       "                        break;\n",
       "                    }\n",
       "                }\n",
       "            }, 500);\n",
       "            "
      ],
      "text/plain": [
       "<IPython.core.display.Javascript object>"
      ]
     },
     "metadata": {},
     "output_type": "display_data"
    }
   ],
   "source": [
    "with engine.connect() as conn:\n",
    "    gdf_stations[\n",
    "        [\n",
    "            \"id\",\n",
    "            \"unique_id\",\n",
    "            \"osmid\",\n",
    "            \"fare_zone\",\n",
    "            \"opening_hours\",\n",
    "            \"name\",\n",
    "            \"line\",\n",
    "            \"network\",\n",
    "            \"latitude\",\n",
    "            \"longitude\",\n",
    "        ]\n",
    "    ].to_sql(\"stations\", index=False, schema=\"pois\", con=conn, if_exists=\"replace\")"
   ]
  },
  {
   "cell_type": "code",
   "execution_count": 39,
   "id": "allied-forestry",
   "metadata": {},
   "outputs": [
    {
     "data": {
      "application/javascript": [
       "\n",
       "            setTimeout(function() {\n",
       "                var nbb_cell_id = 39;\n",
       "                var nbb_unformatted_code = \"with engine.connect() as conn:\\n    conn.execute(\\\"CREATE INDEX id_stations_idx ON pois.stations (id);\\\")\";\n",
       "                var nbb_formatted_code = \"with engine.connect() as conn:\\n    conn.execute(\\\"CREATE INDEX id_stations_idx ON pois.stations (id);\\\")\";\n",
       "                var nbb_cells = Jupyter.notebook.get_cells();\n",
       "                for (var i = 0; i < nbb_cells.length; ++i) {\n",
       "                    if (nbb_cells[i].input_prompt_number == nbb_cell_id) {\n",
       "                        if (nbb_cells[i].get_text() == nbb_unformatted_code) {\n",
       "                             nbb_cells[i].set_text(nbb_formatted_code);\n",
       "                        }\n",
       "                        break;\n",
       "                    }\n",
       "                }\n",
       "            }, 500);\n",
       "            "
      ],
      "text/plain": [
       "<IPython.core.display.Javascript object>"
      ]
     },
     "metadata": {},
     "output_type": "display_data"
    }
   ],
   "source": [
    "with engine.connect() as conn:\n",
    "    conn.execute(\"CREATE INDEX id_stations_idx ON pois.stations (id);\")"
   ]
  },
  {
   "source": [
    "## Get Walking Network"
   ],
   "cell_type": "markdown",
   "metadata": {}
  },
  {
   "cell_type": "code",
   "execution_count": null,
   "metadata": {},
   "outputs": [],
   "source": [
    "%%time\n",
    "graph = ox.graph_from_place(place,buffer_dist = NUM_METERS_IN_MILES*1,network_type=\"walk\")\n",
    "\n",
    "ox.save_graphml(os.path.join(DATA_PATH,\"roadnet_greaterlondon_walking.graphml\"))"
   ]
  }
 ],
 "metadata": {
  "kernelspec": {
   "display_name": "Python 3",
   "language": "python",
   "name": "python3"
  },
  "language_info": {
   "codemirror_mode": {
    "name": "ipython",
    "version": 3
   },
   "file_extension": ".py",
   "mimetype": "text/x-python",
   "name": "python",
   "nbconvert_exporter": "python",
   "pygments_lexer": "ipython3",
   "version": "3.8.10"
  }
 },
 "nbformat": 4,
 "nbformat_minor": 5
}