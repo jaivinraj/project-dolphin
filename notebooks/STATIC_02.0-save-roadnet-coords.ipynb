{
 "cells": [
  {
   "cell_type": "markdown",
   "id": "touched-physics",
   "metadata": {},
   "source": [
    "## Save Roadnet Coords"
   ]
  },
  {
   "cell_type": "code",
   "execution_count": 1,
   "id": "cooked-louis",
   "metadata": {},
   "outputs": [
    {
     "data": {
      "application/javascript": [
       "\n",
       "            setTimeout(function() {\n",
       "                var nbb_cell_id = 1;\n",
       "                var nbb_unformatted_code = \"%load_ext nb_black\";\n",
       "                var nbb_formatted_code = \"%load_ext nb_black\";\n",
       "                var nbb_cells = Jupyter.notebook.get_cells();\n",
       "                for (var i = 0; i < nbb_cells.length; ++i) {\n",
       "                    if (nbb_cells[i].input_prompt_number == nbb_cell_id) {\n",
       "                        if (nbb_cells[i].get_text() == nbb_unformatted_code) {\n",
       "                             nbb_cells[i].set_text(nbb_formatted_code);\n",
       "                        }\n",
       "                        break;\n",
       "                    }\n",
       "                }\n",
       "            }, 500);\n",
       "            "
      ],
      "text/plain": [
       "<IPython.core.display.Javascript object>"
      ]
     },
     "metadata": {},
     "output_type": "display_data"
    }
   ],
   "source": [
    "%load_ext nb_black"
   ]
  },
  {
   "cell_type": "code",
   "execution_count": 2,
   "id": "adequate-remains",
   "metadata": {},
   "outputs": [
    {
     "data": {
      "application/javascript": [
       "\n",
       "            setTimeout(function() {\n",
       "                var nbb_cell_id = 2;\n",
       "                var nbb_unformatted_code = \"import pickle\\nimport osmnx as ox\";\n",
       "                var nbb_formatted_code = \"import pickle\\nimport osmnx as ox\";\n",
       "                var nbb_cells = Jupyter.notebook.get_cells();\n",
       "                for (var i = 0; i < nbb_cells.length; ++i) {\n",
       "                    if (nbb_cells[i].input_prompt_number == nbb_cell_id) {\n",
       "                        if (nbb_cells[i].get_text() == nbb_unformatted_code) {\n",
       "                             nbb_cells[i].set_text(nbb_formatted_code);\n",
       "                        }\n",
       "                        break;\n",
       "                    }\n",
       "                }\n",
       "            }, 500);\n",
       "            "
      ],
      "text/plain": [
       "<IPython.core.display.Javascript object>"
      ]
     },
     "metadata": {},
     "output_type": "display_data"
    }
   ],
   "source": [
    "import pickle\n",
    "import osmnx as ox"
   ]
  },
  {
   "cell_type": "code",
   "execution_count": 3,
   "id": "neither-columbus",
   "metadata": {},
   "outputs": [
    {
     "data": {
      "application/javascript": [
       "\n",
       "            setTimeout(function() {\n",
       "                var nbb_cell_id = 3;\n",
       "                var nbb_unformatted_code = \"import sys\\n\\nsys.path.append(\\\"/app\\\")\\nfrom constants import DATA_PATH\";\n",
       "                var nbb_formatted_code = \"import sys\\n\\nsys.path.append(\\\"/app\\\")\\nfrom constants import DATA_PATH\";\n",
       "                var nbb_cells = Jupyter.notebook.get_cells();\n",
       "                for (var i = 0; i < nbb_cells.length; ++i) {\n",
       "                    if (nbb_cells[i].input_prompt_number == nbb_cell_id) {\n",
       "                        if (nbb_cells[i].get_text() == nbb_unformatted_code) {\n",
       "                             nbb_cells[i].set_text(nbb_formatted_code);\n",
       "                        }\n",
       "                        break;\n",
       "                    }\n",
       "                }\n",
       "            }, 500);\n",
       "            "
      ],
      "text/plain": [
       "<IPython.core.display.Javascript object>"
      ]
     },
     "metadata": {},
     "output_type": "display_data"
    }
   ],
   "source": [
    "import sys\n",
    "\n",
    "sys.path.append(\"/app\")\n",
    "from constants import DATA_PATH"
   ]
  },
  {
   "cell_type": "code",
   "execution_count": 4,
   "id": "worthy-model",
   "metadata": {},
   "outputs": [
    {
     "data": {
      "application/javascript": [
       "\n",
       "            setTimeout(function() {\n",
       "                var nbb_cell_id = 4;\n",
       "                var nbb_unformatted_code = \"import os\";\n",
       "                var nbb_formatted_code = \"import os\";\n",
       "                var nbb_cells = Jupyter.notebook.get_cells();\n",
       "                for (var i = 0; i < nbb_cells.length; ++i) {\n",
       "                    if (nbb_cells[i].input_prompt_number == nbb_cell_id) {\n",
       "                        if (nbb_cells[i].get_text() == nbb_unformatted_code) {\n",
       "                             nbb_cells[i].set_text(nbb_formatted_code);\n",
       "                        }\n",
       "                        break;\n",
       "                    }\n",
       "                }\n",
       "            }, 500);\n",
       "            "
      ],
      "text/plain": [
       "<IPython.core.display.Javascript object>"
      ]
     },
     "metadata": {},
     "output_type": "display_data"
    }
   ],
   "source": [
    "import os"
   ]
  },
  {
   "cell_type": "code",
   "execution_count": 5,
   "id": "false-visitor",
   "metadata": {},
   "outputs": [
    {
     "data": {
      "application/javascript": [
       "\n",
       "            setTimeout(function() {\n",
       "                var nbb_cell_id = 5;\n",
       "                var nbb_unformatted_code = \"from db_utils import get_engine, get_table_creation_query\";\n",
       "                var nbb_formatted_code = \"from db_utils import get_engine, get_table_creation_query\";\n",
       "                var nbb_cells = Jupyter.notebook.get_cells();\n",
       "                for (var i = 0; i < nbb_cells.length; ++i) {\n",
       "                    if (nbb_cells[i].input_prompt_number == nbb_cell_id) {\n",
       "                        if (nbb_cells[i].get_text() == nbb_unformatted_code) {\n",
       "                             nbb_cells[i].set_text(nbb_formatted_code);\n",
       "                        }\n",
       "                        break;\n",
       "                    }\n",
       "                }\n",
       "            }, 500);\n",
       "            "
      ],
      "text/plain": [
       "<IPython.core.display.Javascript object>"
      ]
     },
     "metadata": {},
     "output_type": "display_data"
    }
   ],
   "source": [
    "from db_utils import get_engine, get_table_creation_query"
   ]
  },
  {
   "cell_type": "code",
   "execution_count": 6,
   "id": "chicken-tragedy",
   "metadata": {},
   "outputs": [
    {
     "data": {
      "application/javascript": [
       "\n",
       "            setTimeout(function() {\n",
       "                var nbb_cell_id = 6;\n",
       "                var nbb_unformatted_code = \"import logging\";\n",
       "                var nbb_formatted_code = \"import logging\";\n",
       "                var nbb_cells = Jupyter.notebook.get_cells();\n",
       "                for (var i = 0; i < nbb_cells.length; ++i) {\n",
       "                    if (nbb_cells[i].input_prompt_number == nbb_cell_id) {\n",
       "                        if (nbb_cells[i].get_text() == nbb_unformatted_code) {\n",
       "                             nbb_cells[i].set_text(nbb_formatted_code);\n",
       "                        }\n",
       "                        break;\n",
       "                    }\n",
       "                }\n",
       "            }, 500);\n",
       "            "
      ],
      "text/plain": [
       "<IPython.core.display.Javascript object>"
      ]
     },
     "metadata": {},
     "output_type": "display_data"
    }
   ],
   "source": [
    "import logging"
   ]
  },
  {
   "cell_type": "markdown",
   "id": "inclusive-marsh",
   "metadata": {},
   "source": [
    "## Connect to Database"
   ]
  },
  {
   "cell_type": "code",
   "execution_count": 7,
   "id": "false-store",
   "metadata": {},
   "outputs": [
    {
     "data": {
      "application/javascript": [
       "\n",
       "            setTimeout(function() {\n",
       "                var nbb_cell_id = 7;\n",
       "                var nbb_unformatted_code = \"user = os.getenv(\\\"POSTGRES_USER\\\")\\npassword = os.getenv(\\\"POSTGRES_PASSWORD\\\")\\nhost = os.getenv(\\\"POSTGRES_HOST\\\")\";\n",
       "                var nbb_formatted_code = \"user = os.getenv(\\\"POSTGRES_USER\\\")\\npassword = os.getenv(\\\"POSTGRES_PASSWORD\\\")\\nhost = os.getenv(\\\"POSTGRES_HOST\\\")\";\n",
       "                var nbb_cells = Jupyter.notebook.get_cells();\n",
       "                for (var i = 0; i < nbb_cells.length; ++i) {\n",
       "                    if (nbb_cells[i].input_prompt_number == nbb_cell_id) {\n",
       "                        if (nbb_cells[i].get_text() == nbb_unformatted_code) {\n",
       "                             nbb_cells[i].set_text(nbb_formatted_code);\n",
       "                        }\n",
       "                        break;\n",
       "                    }\n",
       "                }\n",
       "            }, 500);\n",
       "            "
      ],
      "text/plain": [
       "<IPython.core.display.Javascript object>"
      ]
     },
     "metadata": {},
     "output_type": "display_data"
    }
   ],
   "source": [
    "user = os.getenv(\"POSTGRES_USER\")\n",
    "password = os.getenv(\"POSTGRES_PASSWORD\")\n",
    "host = os.getenv(\"POSTGRES_HOST\")"
   ]
  },
  {
   "cell_type": "code",
   "execution_count": 8,
   "id": "mediterranean-funds",
   "metadata": {},
   "outputs": [
    {
     "data": {
      "application/javascript": [
       "\n",
       "            setTimeout(function() {\n",
       "                var nbb_cell_id = 8;\n",
       "                var nbb_unformatted_code = \"engine = get_engine(user, password, host)\";\n",
       "                var nbb_formatted_code = \"engine = get_engine(user, password, host)\";\n",
       "                var nbb_cells = Jupyter.notebook.get_cells();\n",
       "                for (var i = 0; i < nbb_cells.length; ++i) {\n",
       "                    if (nbb_cells[i].input_prompt_number == nbb_cell_id) {\n",
       "                        if (nbb_cells[i].get_text() == nbb_unformatted_code) {\n",
       "                             nbb_cells[i].set_text(nbb_formatted_code);\n",
       "                        }\n",
       "                        break;\n",
       "                    }\n",
       "                }\n",
       "            }, 500);\n",
       "            "
      ],
      "text/plain": [
       "<IPython.core.display.Javascript object>"
      ]
     },
     "metadata": {},
     "output_type": "display_data"
    }
   ],
   "source": [
    "engine = get_engine(user, password, host)"
   ]
  },
  {
   "cell_type": "code",
   "execution_count": 9,
   "id": "killing-royalty",
   "metadata": {},
   "outputs": [
    {
     "data": {
      "application/javascript": [
       "\n",
       "            setTimeout(function() {\n",
       "                var nbb_cell_id = 9;\n",
       "                var nbb_unformatted_code = \"logger = logging.getLogger()\\nhandler = logging.StreamHandler()\\nformatter = logging.Formatter(\\\"%(asctime)s [%(name)s] %(levelname)-8s %(message)s\\\")\\nhandler.setFormatter(formatter)\\nlogger.addHandler(handler)\\nlogger.setLevel(logging.INFO)\";\n",
       "                var nbb_formatted_code = \"logger = logging.getLogger()\\nhandler = logging.StreamHandler()\\nformatter = logging.Formatter(\\\"%(asctime)s [%(name)s] %(levelname)-8s %(message)s\\\")\\nhandler.setFormatter(formatter)\\nlogger.addHandler(handler)\\nlogger.setLevel(logging.INFO)\";\n",
       "                var nbb_cells = Jupyter.notebook.get_cells();\n",
       "                for (var i = 0; i < nbb_cells.length; ++i) {\n",
       "                    if (nbb_cells[i].input_prompt_number == nbb_cell_id) {\n",
       "                        if (nbb_cells[i].get_text() == nbb_unformatted_code) {\n",
       "                             nbb_cells[i].set_text(nbb_formatted_code);\n",
       "                        }\n",
       "                        break;\n",
       "                    }\n",
       "                }\n",
       "            }, 500);\n",
       "            "
      ],
      "text/plain": [
       "<IPython.core.display.Javascript object>"
      ]
     },
     "metadata": {},
     "output_type": "display_data"
    }
   ],
   "source": [
    "logger = logging.getLogger()\n",
    "handler = logging.StreamHandler()\n",
    "formatter = logging.Formatter(\"%(asctime)s [%(name)s] %(levelname)-8s %(message)s\")\n",
    "handler.setFormatter(formatter)\n",
    "logger.addHandler(handler)\n",
    "logger.setLevel(logging.INFO)"
   ]
  },
  {
   "cell_type": "code",
   "execution_count": 10,
   "id": "sexual-progressive",
   "metadata": {
    "scrolled": true
   },
   "outputs": [
    {
     "name": "stderr",
     "output_type": "stream",
     "text": [
      "2021-05-21 18:16:40,394 [root] INFO     Attempting to load network...\n",
      "2021-05-21 18:16:52,660 [root] INFO     Loaded network\n"
     ]
    },
    {
     "data": {
      "application/javascript": [
       "\n",
       "            setTimeout(function() {\n",
       "                var nbb_cell_id = 10;\n",
       "                var nbb_unformatted_code = \"logger.info(\\\"Attempting to load network...\\\")\\ntry:\\n    with open(os.path.join(DATA_PATH, \\\"roadnet_greaterlondon_walking.pkl\\\"), \\\"rb\\\") as f:\\n        walknet = pickle.load(f)\\n        logger.info(\\\"Loaded network\\\")\\nexcept EOFError as e:\\n    logger.warning(\\\"unable to load from pickle. Loading from graphml\\\")\\n    walknet = ox.load_graphml(\\n        os.path.join(DATA_PATH, \\\"roadnet_greaterlondon_walking.graphml\\\")\\n    )\\n    logger.info(\\\"saving new network\\\")\\n    with open(os.path.join(DATA_PATH, \\\"roadnet_greaterlondon_walking.pkl\\\"), \\\"wb\\\") as f:\\n        walknet = pickle.dump(walknet, f)\\n    logger.info(\\\"saved new network as pickle\\\")\";\n",
       "                var nbb_formatted_code = \"logger.info(\\\"Attempting to load network...\\\")\\ntry:\\n    with open(os.path.join(DATA_PATH, \\\"roadnet_greaterlondon_walking.pkl\\\"), \\\"rb\\\") as f:\\n        walknet = pickle.load(f)\\n        logger.info(\\\"Loaded network\\\")\\nexcept EOFError as e:\\n    logger.warning(\\\"unable to load from pickle. Loading from graphml\\\")\\n    walknet = ox.load_graphml(\\n        os.path.join(DATA_PATH, \\\"roadnet_greaterlondon_walking.graphml\\\")\\n    )\\n    logger.info(\\\"saving new network\\\")\\n    with open(os.path.join(DATA_PATH, \\\"roadnet_greaterlondon_walking.pkl\\\"), \\\"wb\\\") as f:\\n        walknet = pickle.dump(walknet, f)\\n    logger.info(\\\"saved new network as pickle\\\")\";\n",
       "                var nbb_cells = Jupyter.notebook.get_cells();\n",
       "                for (var i = 0; i < nbb_cells.length; ++i) {\n",
       "                    if (nbb_cells[i].input_prompt_number == nbb_cell_id) {\n",
       "                        if (nbb_cells[i].get_text() == nbb_unformatted_code) {\n",
       "                             nbb_cells[i].set_text(nbb_formatted_code);\n",
       "                        }\n",
       "                        break;\n",
       "                    }\n",
       "                }\n",
       "            }, 500);\n",
       "            "
      ],
      "text/plain": [
       "<IPython.core.display.Javascript object>"
      ]
     },
     "metadata": {},
     "output_type": "display_data"
    }
   ],
   "source": [
    "logger.info(\"Attempting to load network...\")\n",
    "try:\n",
    "    with open(os.path.join(DATA_PATH, \"roadnet_greaterlondon_walking.pkl\"), \"rb\") as f:\n",
    "        walknet = pickle.load(f)\n",
    "        logger.info(\"Loaded network\")\n",
    "except EOFError as e:\n",
    "    logger.warning(\"unable to load from pickle. Loading from graphml\")\n",
    "    walknet = ox.load_graphml(\n",
    "        os.path.join(DATA_PATH, \"roadnet_greaterlondon_walking.graphml\")\n",
    "    )\n",
    "    logger.info(\"saving new network\")\n",
    "    with open(os.path.join(DATA_PATH, \"roadnet_greaterlondon_walking.pkl\"), \"wb\") as f:\n",
    "        walknet = pickle.dump(walknet, f)\n",
    "    logger.info(\"saved new network as pickle\")"
   ]
  },
  {
   "cell_type": "code",
   "execution_count": 11,
   "id": "developed-environment",
   "metadata": {},
   "outputs": [
    {
     "name": "stdout",
     "output_type": "stream",
     "text": [
      "CPU times: user 35.9 s, sys: 521 ms, total: 36.4 s\n",
      "Wall time: 36.3 s\n"
     ]
    },
    {
     "data": {
      "application/javascript": [
       "\n",
       "            setTimeout(function() {\n",
       "                var nbb_cell_id = 11;\n",
       "                var nbb_unformatted_code = \"%%time\\ngdf_nodes, _ = ox.graph_to_gdfs(walknet)\";\n",
       "                var nbb_formatted_code = \"%%time\\ngdf_nodes, _ = ox.graph_to_gdfs(walknet)\";\n",
       "                var nbb_cells = Jupyter.notebook.get_cells();\n",
       "                for (var i = 0; i < nbb_cells.length; ++i) {\n",
       "                    if (nbb_cells[i].input_prompt_number == nbb_cell_id) {\n",
       "                        if (nbb_cells[i].get_text() == nbb_unformatted_code) {\n",
       "                             nbb_cells[i].set_text(nbb_formatted_code);\n",
       "                        }\n",
       "                        break;\n",
       "                    }\n",
       "                }\n",
       "            }, 500);\n",
       "            "
      ],
      "text/plain": [
       "<IPython.core.display.Javascript object>"
      ]
     },
     "metadata": {},
     "output_type": "display_data"
    }
   ],
   "source": [
    "%%time\n",
    "gdf_nodes, _ = ox.graph_to_gdfs(walknet)\n"
   ]
  },
  {
   "cell_type": "code",
   "execution_count": 16,
   "id": "robust-russian",
   "metadata": {},
   "outputs": [
    {
     "data": {
      "application/javascript": [
       "\n",
       "            setTimeout(function() {\n",
       "                var nbb_cell_id = 16;\n",
       "                var nbb_unformatted_code = \"cols = {\\n    \\\"eastings\\\": \\\"DECIMAL(14,6)\\\",\\n    \\\"northings\\\": \\\"DECIMAL(14,6)\\\",\\n    \\\"osmid\\\": \\\"BIGINT\\\",\\n}\\n\\nindex_cols = [\\\"osmid\\\"]\\nunique_cols = [\\\"osmid\\\"]\";\n",
       "                var nbb_formatted_code = \"cols = {\\n    \\\"eastings\\\": \\\"DECIMAL(14,6)\\\",\\n    \\\"northings\\\": \\\"DECIMAL(14,6)\\\",\\n    \\\"osmid\\\": \\\"BIGINT\\\",\\n}\\n\\nindex_cols = [\\\"osmid\\\"]\\nunique_cols = [\\\"osmid\\\"]\";\n",
       "                var nbb_cells = Jupyter.notebook.get_cells();\n",
       "                for (var i = 0; i < nbb_cells.length; ++i) {\n",
       "                    if (nbb_cells[i].input_prompt_number == nbb_cell_id) {\n",
       "                        if (nbb_cells[i].get_text() == nbb_unformatted_code) {\n",
       "                             nbb_cells[i].set_text(nbb_formatted_code);\n",
       "                        }\n",
       "                        break;\n",
       "                    }\n",
       "                }\n",
       "            }, 500);\n",
       "            "
      ],
      "text/plain": [
       "<IPython.core.display.Javascript object>"
      ]
     },
     "metadata": {},
     "output_type": "display_data"
    }
   ],
   "source": [
    "cols = {\n",
    "    \"eastings\": \"DECIMAL(14,6)\",\n",
    "    \"northings\": \"DECIMAL(14,6)\",\n",
    "    \"osmid\": \"BIGINT\",\n",
    "}\n",
    "\n",
    "index_cols = [\"osmid\"]\n",
    "unique_cols = [\"osmid\"]"
   ]
  },
  {
   "cell_type": "code",
   "execution_count": 19,
   "id": "anonymous-discretion",
   "metadata": {},
   "outputs": [
    {
     "data": {
      "application/javascript": [
       "\n",
       "            setTimeout(function() {\n",
       "                var nbb_cell_id = 19;\n",
       "                var nbb_unformatted_code = \"q_create = get_table_creation_query(\\\"node_coords\\\", cols, \\\"public\\\", index_cols, unique_cols)\";\n",
       "                var nbb_formatted_code = \"q_create = get_table_creation_query(\\n    \\\"node_coords\\\", cols, \\\"public\\\", index_cols, unique_cols\\n)\";\n",
       "                var nbb_cells = Jupyter.notebook.get_cells();\n",
       "                for (var i = 0; i < nbb_cells.length; ++i) {\n",
       "                    if (nbb_cells[i].input_prompt_number == nbb_cell_id) {\n",
       "                        if (nbb_cells[i].get_text() == nbb_unformatted_code) {\n",
       "                             nbb_cells[i].set_text(nbb_formatted_code);\n",
       "                        }\n",
       "                        break;\n",
       "                    }\n",
       "                }\n",
       "            }, 500);\n",
       "            "
      ],
      "text/plain": [
       "<IPython.core.display.Javascript object>"
      ]
     },
     "metadata": {},
     "output_type": "display_data"
    }
   ],
   "source": [
    "q_create = get_table_creation_query(\n",
    "    \"node_coords\", cols, \"public\", index_cols, unique_cols\n",
    ")"
   ]
  },
  {
   "cell_type": "code",
   "execution_count": 20,
   "id": "dying-debut",
   "metadata": {},
   "outputs": [
    {
     "data": {
      "application/javascript": [
       "\n",
       "            setTimeout(function() {\n",
       "                var nbb_cell_id = 20;\n",
       "                var nbb_unformatted_code = \"with engine.connect() as conn:\\n    conn.execute(q_create)\";\n",
       "                var nbb_formatted_code = \"with engine.connect() as conn:\\n    conn.execute(q_create)\";\n",
       "                var nbb_cells = Jupyter.notebook.get_cells();\n",
       "                for (var i = 0; i < nbb_cells.length; ++i) {\n",
       "                    if (nbb_cells[i].input_prompt_number == nbb_cell_id) {\n",
       "                        if (nbb_cells[i].get_text() == nbb_unformatted_code) {\n",
       "                             nbb_cells[i].set_text(nbb_formatted_code);\n",
       "                        }\n",
       "                        break;\n",
       "                    }\n",
       "                }\n",
       "            }, 500);\n",
       "            "
      ],
      "text/plain": [
       "<IPython.core.display.Javascript object>"
      ]
     },
     "metadata": {},
     "output_type": "display_data"
    }
   ],
   "source": [
    "with engine.connect() as conn:\n",
    "    conn.execute(q_create)"
   ]
  },
  {
   "cell_type": "code",
   "execution_count": 22,
   "id": "native-toolbox",
   "metadata": {},
   "outputs": [
    {
     "name": "stdout",
     "output_type": "stream",
     "text": [
      "CPU times: user 3.42 s, sys: 152 ms, total: 3.58 s\n",
      "Wall time: 13.2 s\n"
     ]
    },
    {
     "data": {
      "application/javascript": [
       "\n",
       "            setTimeout(function() {\n",
       "                var nbb_cell_id = 22;\n",
       "                var nbb_unformatted_code = \"%%time\\nwith engine.connect() as conn:\\n    gdf_nodes[[\\\"x\\\",\\\"y\\\",\\\"osmid\\\"]].rename(columns={\\\"x\\\":\\\"eastings\\\",\\\"y\\\":\\\"northings\\\"}).to_sql(\\\"node_coords\\\",index=False,con=conn,if_exists=\\\"append\\\")\";\n",
       "                var nbb_formatted_code = \"%%time\\nwith engine.connect() as conn:\\n    gdf_nodes[[\\\"x\\\",\\\"y\\\",\\\"osmid\\\"]].rename(columns={\\\"x\\\":\\\"eastings\\\",\\\"y\\\":\\\"northings\\\"}).to_sql(\\\"node_coords\\\",index=False,con=conn,if_exists=\\\"append\\\")\";\n",
       "                var nbb_cells = Jupyter.notebook.get_cells();\n",
       "                for (var i = 0; i < nbb_cells.length; ++i) {\n",
       "                    if (nbb_cells[i].input_prompt_number == nbb_cell_id) {\n",
       "                        if (nbb_cells[i].get_text() == nbb_unformatted_code) {\n",
       "                             nbb_cells[i].set_text(nbb_formatted_code);\n",
       "                        }\n",
       "                        break;\n",
       "                    }\n",
       "                }\n",
       "            }, 500);\n",
       "            "
      ],
      "text/plain": [
       "<IPython.core.display.Javascript object>"
      ]
     },
     "metadata": {},
     "output_type": "display_data"
    }
   ],
   "source": [
    "%%time\n",
    "with engine.connect() as conn:\n",
    "    gdf_nodes[[\"x\",\"y\",\"osmid\"]].rename(columns={\"x\":\"eastings\",\"y\":\"northings\"}).to_sql(\"node_coords\",index=False,con=conn,if_exists=\"append\")"
   ]
  }
 ],
 "metadata": {
  "kernelspec": {
   "display_name": "Python 3",
   "language": "python",
   "name": "python3"
  },
  "language_info": {
   "codemirror_mode": {
    "name": "ipython",
    "version": 3
   },
   "file_extension": ".py",
   "mimetype": "text/x-python",
   "name": "python",
   "nbconvert_exporter": "python",
   "pygments_lexer": "ipython3",
   "version": "3.8.10"
  }
 },
 "nbformat": 4,
 "nbformat_minor": 5
}
