{
 "cells": [
  {
   "cell_type": "markdown",
   "id": "entire-atmosphere",
   "metadata": {},
   "source": [
    "# Get Distances to POIs"
   ]
  },
  {
   "cell_type": "code",
   "execution_count": 1,
   "id": "1cb9a253",
   "metadata": {},
   "outputs": [
    {
     "data": {
      "application/javascript": [
       "\n",
       "            setTimeout(function() {\n",
       "                var nbb_cell_id = 1;\n",
       "                var nbb_unformatted_code = \"%load_ext nb_black\";\n",
       "                var nbb_formatted_code = \"%load_ext nb_black\";\n",
       "                var nbb_cells = Jupyter.notebook.get_cells();\n",
       "                for (var i = 0; i < nbb_cells.length; ++i) {\n",
       "                    if (nbb_cells[i].input_prompt_number == nbb_cell_id) {\n",
       "                        if (nbb_cells[i].get_text() == nbb_unformatted_code) {\n",
       "                             nbb_cells[i].set_text(nbb_formatted_code);\n",
       "                        }\n",
       "                        break;\n",
       "                    }\n",
       "                }\n",
       "            }, 500);\n",
       "            "
      ],
      "text/plain": [
       "<IPython.core.display.Javascript object>"
      ]
     },
     "metadata": {},
     "output_type": "display_data"
    }
   ],
   "source": [
    "%load_ext nb_black"
   ]
  },
  {
   "cell_type": "code",
   "execution_count": 25,
   "id": "df8cb71e",
   "metadata": {},
   "outputs": [
    {
     "data": {
      "application/javascript": [
       "\n",
       "            setTimeout(function() {\n",
       "                var nbb_cell_id = 25;\n",
       "                var nbb_unformatted_code = \"import logging\\n\\nimport sys\\n\\nsys.path.append(\\\"/app\\\")\\n\\n# import scraping as sc\\n\\nimport pandas as pd\\n\\nfrom jinja2 import Template\\n\\nfrom db_utils import get_engine, get_table_creation_query\\n\\nfrom gis_utils import get_gdf_coords, get_closest_idxs, get_closest_pois_slow\\n\\n\\nimport dataloader as loader\\n\\n\\nimport numpy as np\\nimport os\\n\\nimport geopandas as gpd\\nfrom network_utils import get_closest_osmids\";\n",
       "                var nbb_formatted_code = \"import logging\\n\\nimport sys\\n\\nsys.path.append(\\\"/app\\\")\\n\\n# import scraping as sc\\n\\nimport pandas as pd\\n\\nfrom jinja2 import Template\\n\\nfrom db_utils import get_engine, get_table_creation_query\\n\\nfrom gis_utils import get_gdf_coords, get_closest_idxs, get_closest_pois_slow\\n\\n\\nimport dataloader as loader\\n\\n\\nimport numpy as np\\nimport os\\n\\nimport geopandas as gpd\\nfrom network_utils import get_closest_osmids\";\n",
       "                var nbb_cells = Jupyter.notebook.get_cells();\n",
       "                for (var i = 0; i < nbb_cells.length; ++i) {\n",
       "                    if (nbb_cells[i].input_prompt_number == nbb_cell_id) {\n",
       "                        if (nbb_cells[i].get_text() == nbb_unformatted_code) {\n",
       "                             nbb_cells[i].set_text(nbb_formatted_code);\n",
       "                        }\n",
       "                        break;\n",
       "                    }\n",
       "                }\n",
       "            }, 500);\n",
       "            "
      ],
      "text/plain": [
       "<IPython.core.display.Javascript object>"
      ]
     },
     "metadata": {},
     "output_type": "display_data"
    }
   ],
   "source": [
    "import logging\n",
    "\n",
    "import sys\n",
    "\n",
    "sys.path.append(\"/app\")\n",
    "\n",
    "# import scraping as sc\n",
    "\n",
    "import pandas as pd\n",
    "\n",
    "from jinja2 import Template\n",
    "\n",
    "from db_utils import get_engine, get_table_creation_query\n",
    "\n",
    "from gis_utils import get_gdf_coords, get_closest_idxs, get_closest_pois_slow\n",
    "\n",
    "\n",
    "import dataloader as loader\n",
    "\n",
    "\n",
    "import numpy as np\n",
    "import os\n",
    "\n",
    "import geopandas as gpd\n",
    "from network_utils import get_closest_osmids\n"
   ]
  },
  {
   "cell_type": "markdown",
   "id": "subjective-spyware",
   "metadata": {},
   "source": [
    "## Connect to Database"
   ]
  },
  {
   "cell_type": "code",
   "execution_count": 3,
   "id": "false-store",
   "metadata": {},
   "outputs": [
    {
     "data": {
      "application/javascript": [
       "\n",
       "            setTimeout(function() {\n",
       "                var nbb_cell_id = 3;\n",
       "                var nbb_unformatted_code = \"user = os.getenv(\\\"POSTGRES_USER\\\")\\npassword = os.getenv(\\\"POSTGRES_PASSWORD\\\")\\nhost = os.getenv(\\\"POSTGRES_HOST\\\")\";\n",
       "                var nbb_formatted_code = \"user = os.getenv(\\\"POSTGRES_USER\\\")\\npassword = os.getenv(\\\"POSTGRES_PASSWORD\\\")\\nhost = os.getenv(\\\"POSTGRES_HOST\\\")\";\n",
       "                var nbb_cells = Jupyter.notebook.get_cells();\n",
       "                for (var i = 0; i < nbb_cells.length; ++i) {\n",
       "                    if (nbb_cells[i].input_prompt_number == nbb_cell_id) {\n",
       "                        if (nbb_cells[i].get_text() == nbb_unformatted_code) {\n",
       "                             nbb_cells[i].set_text(nbb_formatted_code);\n",
       "                        }\n",
       "                        break;\n",
       "                    }\n",
       "                }\n",
       "            }, 500);\n",
       "            "
      ],
      "text/plain": [
       "<IPython.core.display.Javascript object>"
      ]
     },
     "metadata": {},
     "output_type": "display_data"
    }
   ],
   "source": [
    "user = os.getenv(\"POSTGRES_USER\")\n",
    "password = os.getenv(\"POSTGRES_PASSWORD\")\n",
    "host = os.getenv(\"POSTGRES_HOST\")"
   ]
  },
  {
   "cell_type": "code",
   "execution_count": 4,
   "id": "august-background",
   "metadata": {},
   "outputs": [
    {
     "data": {
      "application/javascript": [
       "\n",
       "            setTimeout(function() {\n",
       "                var nbb_cell_id = 4;\n",
       "                var nbb_unformatted_code = \"engine = get_engine(user, password, host)\";\n",
       "                var nbb_formatted_code = \"engine = get_engine(user, password, host)\";\n",
       "                var nbb_cells = Jupyter.notebook.get_cells();\n",
       "                for (var i = 0; i < nbb_cells.length; ++i) {\n",
       "                    if (nbb_cells[i].input_prompt_number == nbb_cell_id) {\n",
       "                        if (nbb_cells[i].get_text() == nbb_unformatted_code) {\n",
       "                             nbb_cells[i].set_text(nbb_formatted_code);\n",
       "                        }\n",
       "                        break;\n",
       "                    }\n",
       "                }\n",
       "            }, 500);\n",
       "            "
      ],
      "text/plain": [
       "<IPython.core.display.Javascript object>"
      ]
     },
     "metadata": {},
     "output_type": "display_data"
    }
   ],
   "source": [
    "engine = get_engine(user, password, host)"
   ]
  },
  {
   "cell_type": "markdown",
   "id": "contrary-glance",
   "metadata": {},
   "source": [
    "## Define search parameters"
   ]
  },
  {
   "cell_type": "code",
   "execution_count": 5,
   "id": "f27274cd",
   "metadata": {},
   "outputs": [
    {
     "data": {
      "application/javascript": [
       "\n",
       "            setTimeout(function() {\n",
       "                var nbb_cell_id = 5;\n",
       "                var nbb_unformatted_code = \"searchname = \\\"tamzin\\\"\";\n",
       "                var nbb_formatted_code = \"searchname = \\\"tamzin\\\"\";\n",
       "                var nbb_cells = Jupyter.notebook.get_cells();\n",
       "                for (var i = 0; i < nbb_cells.length; ++i) {\n",
       "                    if (nbb_cells[i].input_prompt_number == nbb_cell_id) {\n",
       "                        if (nbb_cells[i].get_text() == nbb_unformatted_code) {\n",
       "                             nbb_cells[i].set_text(nbb_formatted_code);\n",
       "                        }\n",
       "                        break;\n",
       "                    }\n",
       "                }\n",
       "            }, 500);\n",
       "            "
      ],
      "text/plain": [
       "<IPython.core.display.Javascript object>"
      ]
     },
     "metadata": {},
     "output_type": "display_data"
    }
   ],
   "source": [
    "searchname = \"tamzin\""
   ]
  },
  {
   "cell_type": "markdown",
   "id": "vital-value",
   "metadata": {},
   "source": [
    "## Load data"
   ]
  },
  {
   "cell_type": "code",
   "execution_count": 17,
   "id": "parental-palestine",
   "metadata": {
    "scrolled": true
   },
   "outputs": [
    {
     "data": {
      "application/javascript": [
       "\n",
       "            setTimeout(function() {\n",
       "                var nbb_cell_id = 17;\n",
       "                var nbb_unformatted_code = \"q_addresses = f\\\"\\\"\\\"SELECT c.* FROM \\n{searchname}.bng_coords c\\nINNER JOIN\\n{searchname}.address_ids_to_process a\\nON c.address_id=a.address_id\\\"\\\"\\\"\";\n",
       "                var nbb_formatted_code = \"q_addresses = f\\\"\\\"\\\"SELECT c.* FROM \\n{searchname}.bng_coords c\\nINNER JOIN\\n{searchname}.address_ids_to_process a\\nON c.address_id=a.address_id\\\"\\\"\\\"\";\n",
       "                var nbb_cells = Jupyter.notebook.get_cells();\n",
       "                for (var i = 0; i < nbb_cells.length; ++i) {\n",
       "                    if (nbb_cells[i].input_prompt_number == nbb_cell_id) {\n",
       "                        if (nbb_cells[i].get_text() == nbb_unformatted_code) {\n",
       "                             nbb_cells[i].set_text(nbb_formatted_code);\n",
       "                        }\n",
       "                        break;\n",
       "                    }\n",
       "                }\n",
       "            }, 500);\n",
       "            "
      ],
      "text/plain": [
       "<IPython.core.display.Javascript object>"
      ]
     },
     "metadata": {},
     "output_type": "display_data"
    }
   ],
   "source": [
    "q_addresses = f\"\"\"SELECT c.* FROM \n",
    "{searchname}.bng_coords c\n",
    "INNER JOIN\n",
    "{searchname}.address_ids_to_process a\n",
    "ON c.address_id=a.address_id\"\"\""
   ]
  },
  {
   "cell_type": "code",
   "execution_count": 20,
   "id": "moving-filing",
   "metadata": {},
   "outputs": [
    {
     "data": {
      "application/javascript": [
       "\n",
       "            setTimeout(function() {\n",
       "                var nbb_cell_id = 20;\n",
       "                var nbb_unformatted_code = \"with engine.connect() as conn:\\n    df_nodes = pd.read_sql(\\\"SELECT * FROM node_coords\\\", con=conn)\";\n",
       "                var nbb_formatted_code = \"with engine.connect() as conn:\\n    df_nodes = pd.read_sql(\\\"SELECT * FROM node_coords\\\", con=conn)\";\n",
       "                var nbb_cells = Jupyter.notebook.get_cells();\n",
       "                for (var i = 0; i < nbb_cells.length; ++i) {\n",
       "                    if (nbb_cells[i].input_prompt_number == nbb_cell_id) {\n",
       "                        if (nbb_cells[i].get_text() == nbb_unformatted_code) {\n",
       "                             nbb_cells[i].set_text(nbb_formatted_code);\n",
       "                        }\n",
       "                        break;\n",
       "                    }\n",
       "                }\n",
       "            }, 500);\n",
       "            "
      ],
      "text/plain": [
       "<IPython.core.display.Javascript object>"
      ]
     },
     "metadata": {},
     "output_type": "display_data"
    }
   ],
   "source": [
    "with engine.connect() as conn:\n",
    "    df_nodes = pd.read_sql(\"SELECT * FROM node_coords\", con=conn)"
   ]
  },
  {
   "cell_type": "code",
   "execution_count": 18,
   "id": "romance-knitting",
   "metadata": {},
   "outputs": [
    {
     "data": {
      "application/javascript": [
       "\n",
       "            setTimeout(function() {\n",
       "                var nbb_cell_id = 18;\n",
       "                var nbb_unformatted_code = \"df_addresses = loader.load_sql(q_addresses, user=user, password=password, host=host)\";\n",
       "                var nbb_formatted_code = \"df_addresses = loader.load_sql(q_addresses, user=user, password=password, host=host)\";\n",
       "                var nbb_cells = Jupyter.notebook.get_cells();\n",
       "                for (var i = 0; i < nbb_cells.length; ++i) {\n",
       "                    if (nbb_cells[i].input_prompt_number == nbb_cell_id) {\n",
       "                        if (nbb_cells[i].get_text() == nbb_unformatted_code) {\n",
       "                             nbb_cells[i].set_text(nbb_formatted_code);\n",
       "                        }\n",
       "                        break;\n",
       "                    }\n",
       "                }\n",
       "            }, 500);\n",
       "            "
      ],
      "text/plain": [
       "<IPython.core.display.Javascript object>"
      ]
     },
     "metadata": {},
     "output_type": "display_data"
    }
   ],
   "source": [
    "df_addresses = loader.load_sql(q_addresses, user=user, password=password, host=host)"
   ]
  },
  {
   "cell_type": "markdown",
   "id": "several-recorder",
   "metadata": {},
   "source": [
    "## Snap to network"
   ]
  },
  {
   "cell_type": "code",
   "execution_count": 21,
   "id": "historic-costume",
   "metadata": {},
   "outputs": [
    {
     "data": {
      "application/javascript": [
       "\n",
       "            setTimeout(function() {\n",
       "                var nbb_cell_id = 21;\n",
       "                var nbb_unformatted_code = \"coords_nodes = df_nodes[[\\\"eastings\\\", \\\"northings\\\"]].values\";\n",
       "                var nbb_formatted_code = \"coords_nodes = df_nodes[[\\\"eastings\\\", \\\"northings\\\"]].values\";\n",
       "                var nbb_cells = Jupyter.notebook.get_cells();\n",
       "                for (var i = 0; i < nbb_cells.length; ++i) {\n",
       "                    if (nbb_cells[i].input_prompt_number == nbb_cell_id) {\n",
       "                        if (nbb_cells[i].get_text() == nbb_unformatted_code) {\n",
       "                             nbb_cells[i].set_text(nbb_formatted_code);\n",
       "                        }\n",
       "                        break;\n",
       "                    }\n",
       "                }\n",
       "            }, 500);\n",
       "            "
      ],
      "text/plain": [
       "<IPython.core.display.Javascript object>"
      ]
     },
     "metadata": {},
     "output_type": "display_data"
    }
   ],
   "source": [
    "coords_nodes = df_nodes[[\"eastings\", \"northings\"]].values"
   ]
  },
  {
   "cell_type": "code",
   "execution_count": 26,
   "id": "adaptive-amount",
   "metadata": {},
   "outputs": [
    {
     "data": {
      "application/javascript": [
       "\n",
       "            setTimeout(function() {\n",
       "                var nbb_cell_id = 26;\n",
       "                var nbb_unformatted_code = \"closest_osmids = get_closest_osmids(\\n    df_addresses[[\\\"eastings\\\", \\\"northings\\\"]].values,\\n    coords_nodes,\\n    df_nodes.osmid.values,\\n)\";\n",
       "                var nbb_formatted_code = \"closest_osmids = get_closest_osmids(\\n    df_addresses[[\\\"eastings\\\", \\\"northings\\\"]].values,\\n    coords_nodes,\\n    df_nodes.osmid.values,\\n)\";\n",
       "                var nbb_cells = Jupyter.notebook.get_cells();\n",
       "                for (var i = 0; i < nbb_cells.length; ++i) {\n",
       "                    if (nbb_cells[i].input_prompt_number == nbb_cell_id) {\n",
       "                        if (nbb_cells[i].get_text() == nbb_unformatted_code) {\n",
       "                             nbb_cells[i].set_text(nbb_formatted_code);\n",
       "                        }\n",
       "                        break;\n",
       "                    }\n",
       "                }\n",
       "            }, 500);\n",
       "            "
      ],
      "text/plain": [
       "<IPython.core.display.Javascript object>"
      ]
     },
     "metadata": {},
     "output_type": "display_data"
    }
   ],
   "source": [
    "closest_osmids = get_closest_osmids(\n",
    "    df_addresses[[\"eastings\", \"northings\"]].values,\n",
    "    coords_nodes,\n",
    "    df_nodes.osmid.values,\n",
    ")"
   ]
  },
  {
   "cell_type": "code",
   "execution_count": 28,
   "id": "planned-threat",
   "metadata": {},
   "outputs": [
    {
     "data": {
      "application/javascript": [
       "\n",
       "            setTimeout(function() {\n",
       "                var nbb_cell_id = 28;\n",
       "                var nbb_unformatted_code = \"output = pd.DataFrame(\\n        {\\n            \\\"address_id\\\": df_addresses.address_id,\\n            \\\"osmid\\\": closest_osmids,\\n        }\\n    )\";\n",
       "                var nbb_formatted_code = \"output = pd.DataFrame(\\n    {\\n        \\\"address_id\\\": df_addresses.address_id,\\n        \\\"osmid\\\": closest_osmids,\\n    }\\n)\";\n",
       "                var nbb_cells = Jupyter.notebook.get_cells();\n",
       "                for (var i = 0; i < nbb_cells.length; ++i) {\n",
       "                    if (nbb_cells[i].input_prompt_number == nbb_cell_id) {\n",
       "                        if (nbb_cells[i].get_text() == nbb_unformatted_code) {\n",
       "                             nbb_cells[i].set_text(nbb_formatted_code);\n",
       "                        }\n",
       "                        break;\n",
       "                    }\n",
       "                }\n",
       "            }, 500);\n",
       "            "
      ],
      "text/plain": [
       "<IPython.core.display.Javascript object>"
      ]
     },
     "metadata": {},
     "output_type": "display_data"
    }
   ],
   "source": [
    "output = pd.DataFrame(\n",
    "    {\n",
    "        \"address_id\": df_addresses.address_id,\n",
    "        \"osmid\": closest_osmids,\n",
    "    }\n",
    ")"
   ]
  },
  {
   "cell_type": "code",
   "execution_count": 36,
   "id": "alleged-console",
   "metadata": {},
   "outputs": [
    {
     "data": {
      "application/javascript": [
       "\n",
       "            setTimeout(function() {\n",
       "                var nbb_cell_id = 36;\n",
       "                var nbb_unformatted_code = \"cols = {\\n    \\\"address_id\\\": \\\"INTEGER\\\",\\n    \\\"osmid\\\": \\\"BIGINT\\\",\\n}\\n\\nindex_cols = [\\\"address_id\\\", \\\"osmid\\\"]\\nunique_cols = [\\\"address_id\\\"]\";\n",
       "                var nbb_formatted_code = \"cols = {\\n    \\\"address_id\\\": \\\"INTEGER\\\",\\n    \\\"osmid\\\": \\\"BIGINT\\\",\\n}\\n\\nindex_cols = [\\\"address_id\\\", \\\"osmid\\\"]\\nunique_cols = [\\\"address_id\\\"]\";\n",
       "                var nbb_cells = Jupyter.notebook.get_cells();\n",
       "                for (var i = 0; i < nbb_cells.length; ++i) {\n",
       "                    if (nbb_cells[i].input_prompt_number == nbb_cell_id) {\n",
       "                        if (nbb_cells[i].get_text() == nbb_unformatted_code) {\n",
       "                             nbb_cells[i].set_text(nbb_formatted_code);\n",
       "                        }\n",
       "                        break;\n",
       "                    }\n",
       "                }\n",
       "            }, 500);\n",
       "            "
      ],
      "text/plain": [
       "<IPython.core.display.Javascript object>"
      ]
     },
     "metadata": {},
     "output_type": "display_data"
    }
   ],
   "source": [
    "cols = {\n",
    "    \"address_id\": \"INTEGER\",\n",
    "    \"osmid\": \"BIGINT\",\n",
    "}\n",
    "\n",
    "index_cols = [\"address_id\", \"osmid\"]\n",
    "unique_cols = [\"address_id\"]"
   ]
  },
  {
   "cell_type": "code",
   "execution_count": 37,
   "id": "mathematical-danger",
   "metadata": {},
   "outputs": [
    {
     "data": {
      "application/javascript": [
       "\n",
       "            setTimeout(function() {\n",
       "                var nbb_cell_id = 37;\n",
       "                var nbb_unformatted_code = \"create_q = get_table_creation_query(\\n    \\\"address_nodes\\\", cols, searchname, index_cols, unique_cols\\n)\";\n",
       "                var nbb_formatted_code = \"create_q = get_table_creation_query(\\n    \\\"address_nodes\\\", cols, searchname, index_cols, unique_cols\\n)\";\n",
       "                var nbb_cells = Jupyter.notebook.get_cells();\n",
       "                for (var i = 0; i < nbb_cells.length; ++i) {\n",
       "                    if (nbb_cells[i].input_prompt_number == nbb_cell_id) {\n",
       "                        if (nbb_cells[i].get_text() == nbb_unformatted_code) {\n",
       "                             nbb_cells[i].set_text(nbb_formatted_code);\n",
       "                        }\n",
       "                        break;\n",
       "                    }\n",
       "                }\n",
       "            }, 500);\n",
       "            "
      ],
      "text/plain": [
       "<IPython.core.display.Javascript object>"
      ]
     },
     "metadata": {},
     "output_type": "display_data"
    }
   ],
   "source": [
    "create_q = get_table_creation_query(\n",
    "    \"address_nodes\", cols, searchname, index_cols, unique_cols\n",
    ")"
   ]
  },
  {
   "cell_type": "code",
   "execution_count": 38,
   "id": "inner-honey",
   "metadata": {},
   "outputs": [
    {
     "data": {
      "application/javascript": [
       "\n",
       "            setTimeout(function() {\n",
       "                var nbb_cell_id = 38;\n",
       "                var nbb_unformatted_code = \"with engine.connect() as conn:\\n    conn.execute(create_q)\";\n",
       "                var nbb_formatted_code = \"with engine.connect() as conn:\\n    conn.execute(create_q)\";\n",
       "                var nbb_cells = Jupyter.notebook.get_cells();\n",
       "                for (var i = 0; i < nbb_cells.length; ++i) {\n",
       "                    if (nbb_cells[i].input_prompt_number == nbb_cell_id) {\n",
       "                        if (nbb_cells[i].get_text() == nbb_unformatted_code) {\n",
       "                             nbb_cells[i].set_text(nbb_formatted_code);\n",
       "                        }\n",
       "                        break;\n",
       "                    }\n",
       "                }\n",
       "            }, 500);\n",
       "            "
      ],
      "text/plain": [
       "<IPython.core.display.Javascript object>"
      ]
     },
     "metadata": {},
     "output_type": "display_data"
    }
   ],
   "source": [
    "with engine.connect() as conn:\n",
    "    conn.execute(create_q)"
   ]
  },
  {
   "cell_type": "code",
   "execution_count": 42,
   "id": "infrared-consistency",
   "metadata": {},
   "outputs": [
    {
     "data": {
      "text/html": [
       "<div>\n",
       "<style scoped>\n",
       "    .dataframe tbody tr th:only-of-type {\n",
       "        vertical-align: middle;\n",
       "    }\n",
       "\n",
       "    .dataframe tbody tr th {\n",
       "        vertical-align: top;\n",
       "    }\n",
       "\n",
       "    .dataframe thead th {\n",
       "        text-align: right;\n",
       "    }\n",
       "</style>\n",
       "<table border=\"1\" class=\"dataframe\">\n",
       "  <thead>\n",
       "    <tr style=\"text-align: right;\">\n",
       "      <th></th>\n",
       "      <th>address_id</th>\n",
       "      <th>osmid</th>\n",
       "    </tr>\n",
       "  </thead>\n",
       "  <tbody>\n",
       "    <tr>\n",
       "      <th>0</th>\n",
       "      <td>1</td>\n",
       "      <td>3625978674</td>\n",
       "    </tr>\n",
       "    <tr>\n",
       "      <th>1</th>\n",
       "      <td>3</td>\n",
       "      <td>26819355</td>\n",
       "    </tr>\n",
       "    <tr>\n",
       "      <th>2</th>\n",
       "      <td>4</td>\n",
       "      <td>25421019</td>\n",
       "    </tr>\n",
       "    <tr>\n",
       "      <th>3</th>\n",
       "      <td>5</td>\n",
       "      <td>254754681</td>\n",
       "    </tr>\n",
       "    <tr>\n",
       "      <th>4</th>\n",
       "      <td>7</td>\n",
       "      <td>254754681</td>\n",
       "    </tr>\n",
       "    <tr>\n",
       "      <th>...</th>\n",
       "      <td>...</td>\n",
       "      <td>...</td>\n",
       "    </tr>\n",
       "    <tr>\n",
       "      <th>147</th>\n",
       "      <td>185</td>\n",
       "      <td>1958820520</td>\n",
       "    </tr>\n",
       "    <tr>\n",
       "      <th>148</th>\n",
       "      <td>186</td>\n",
       "      <td>1958820520</td>\n",
       "    </tr>\n",
       "    <tr>\n",
       "      <th>149</th>\n",
       "      <td>188</td>\n",
       "      <td>25421035</td>\n",
       "    </tr>\n",
       "    <tr>\n",
       "      <th>150</th>\n",
       "      <td>189</td>\n",
       "      <td>25421035</td>\n",
       "    </tr>\n",
       "    <tr>\n",
       "      <th>151</th>\n",
       "      <td>190</td>\n",
       "      <td>275441</td>\n",
       "    </tr>\n",
       "  </tbody>\n",
       "</table>\n",
       "<p>152 rows × 2 columns</p>\n",
       "</div>"
      ],
      "text/plain": [
       "     address_id       osmid\n",
       "0             1  3625978674\n",
       "1             3    26819355\n",
       "2             4    25421019\n",
       "3             5   254754681\n",
       "4             7   254754681\n",
       "..          ...         ...\n",
       "147         185  1958820520\n",
       "148         186  1958820520\n",
       "149         188    25421035\n",
       "150         189    25421035\n",
       "151         190      275441\n",
       "\n",
       "[152 rows x 2 columns]"
      ]
     },
     "execution_count": 42,
     "metadata": {},
     "output_type": "execute_result"
    },
    {
     "data": {
      "application/javascript": [
       "\n",
       "            setTimeout(function() {\n",
       "                var nbb_cell_id = 42;\n",
       "                var nbb_unformatted_code = \"output\";\n",
       "                var nbb_formatted_code = \"output\";\n",
       "                var nbb_cells = Jupyter.notebook.get_cells();\n",
       "                for (var i = 0; i < nbb_cells.length; ++i) {\n",
       "                    if (nbb_cells[i].input_prompt_number == nbb_cell_id) {\n",
       "                        if (nbb_cells[i].get_text() == nbb_unformatted_code) {\n",
       "                             nbb_cells[i].set_text(nbb_formatted_code);\n",
       "                        }\n",
       "                        break;\n",
       "                    }\n",
       "                }\n",
       "            }, 500);\n",
       "            "
      ],
      "text/plain": [
       "<IPython.core.display.Javascript object>"
      ]
     },
     "metadata": {},
     "output_type": "display_data"
    }
   ],
   "source": [
    "output"
   ]
  },
  {
   "cell_type": "code",
   "execution_count": 43,
   "id": "closing-horror",
   "metadata": {},
   "outputs": [
    {
     "data": {
      "application/javascript": [
       "\n",
       "            setTimeout(function() {\n",
       "                var nbb_cell_id = 43;\n",
       "                var nbb_unformatted_code = \"with engine.connect() as conn:\\n    output.to_sql(\\\"address_nodes\\\",schema=searchname, index=False, con=conn, if_exists=\\\"append\\\")\";\n",
       "                var nbb_formatted_code = \"with engine.connect() as conn:\\n    output.to_sql(\\n        \\\"address_nodes\\\", schema=searchname, index=False, con=conn, if_exists=\\\"append\\\"\\n    )\";\n",
       "                var nbb_cells = Jupyter.notebook.get_cells();\n",
       "                for (var i = 0; i < nbb_cells.length; ++i) {\n",
       "                    if (nbb_cells[i].input_prompt_number == nbb_cell_id) {\n",
       "                        if (nbb_cells[i].get_text() == nbb_unformatted_code) {\n",
       "                             nbb_cells[i].set_text(nbb_formatted_code);\n",
       "                        }\n",
       "                        break;\n",
       "                    }\n",
       "                }\n",
       "            }, 500);\n",
       "            "
      ],
      "text/plain": [
       "<IPython.core.display.Javascript object>"
      ]
     },
     "metadata": {},
     "output_type": "display_data"
    }
   ],
   "source": [
    "with engine.connect() as conn:\n",
    "    output.to_sql(\n",
    "        \"address_nodes\", schema=searchname, index=False, con=conn, if_exists=\"append\"\n",
    "    )"
   ]
  }
 ],
 "metadata": {
  "kernelspec": {
   "display_name": "Python 3",
   "language": "python",
   "name": "python3"
  },
  "language_info": {
   "codemirror_mode": {
    "name": "ipython",
    "version": 3
   },
   "file_extension": ".py",
   "mimetype": "text/x-python",
   "name": "python",
   "nbconvert_exporter": "python",
   "pygments_lexer": "ipython3",
   "version": "3.8.10"
  }
 },
 "nbformat": 4,
 "nbformat_minor": 5
}
