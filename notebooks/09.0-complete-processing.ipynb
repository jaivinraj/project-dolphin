{
 "cells": [
  {
   "cell_type": "markdown",
   "id": "ethical-circular",
   "metadata": {},
   "source": [
    "## Complete Processing"
   ]
  },
  {
   "cell_type": "code",
   "execution_count": 1,
   "id": "1cb9a253",
   "metadata": {},
   "outputs": [
    {
     "data": {
      "application/javascript": [
       "\n",
       "            setTimeout(function() {\n",
       "                var nbb_cell_id = 1;\n",
       "                var nbb_unformatted_code = \"%load_ext nb_black\";\n",
       "                var nbb_formatted_code = \"%load_ext nb_black\";\n",
       "                var nbb_cells = Jupyter.notebook.get_cells();\n",
       "                for (var i = 0; i < nbb_cells.length; ++i) {\n",
       "                    if (nbb_cells[i].input_prompt_number == nbb_cell_id) {\n",
       "                        if (nbb_cells[i].get_text() == nbb_unformatted_code) {\n",
       "                             nbb_cells[i].set_text(nbb_formatted_code);\n",
       "                        }\n",
       "                        break;\n",
       "                    }\n",
       "                }\n",
       "            }, 500);\n",
       "            "
      ],
      "text/plain": [
       "<IPython.core.display.Javascript object>"
      ]
     },
     "metadata": {},
     "output_type": "display_data"
    }
   ],
   "source": [
    "%load_ext nb_black"
   ]
  },
  {
   "cell_type": "code",
   "execution_count": 2,
   "id": "df8cb71e",
   "metadata": {},
   "outputs": [
    {
     "data": {
      "application/javascript": [
       "\n",
       "            setTimeout(function() {\n",
       "                var nbb_cell_id = 2;\n",
       "                var nbb_unformatted_code = \"import logging\\n\\nimport sys\\n\\nsys.path.append(\\\"/app\\\")\\n\\n# import scraping as sc\\n\\nimport pandas as pd\\n\\nfrom jinja2 import Template\\n\\nfrom db_utils import get_engine, get_table_creation_query\\n\\nfrom gis_utils import get_gdf_coords, get_closest_idxs, get_closest_pois_slow\\n\\n\\nimport dataloader as loader\\n\\n\\nimport numpy as np\\nimport os\\n\\nimport geopandas as gpd\\nfrom network_utils import get_closest_osmids\\nfrom constants import DATA_PATH\\nimport pickle\\nimport osmnx as ox\\nimport networkx as nx\";\n",
       "                var nbb_formatted_code = \"import logging\\n\\nimport sys\\n\\nsys.path.append(\\\"/app\\\")\\n\\n# import scraping as sc\\n\\nimport pandas as pd\\n\\nfrom jinja2 import Template\\n\\nfrom db_utils import get_engine, get_table_creation_query\\n\\nfrom gis_utils import get_gdf_coords, get_closest_idxs, get_closest_pois_slow\\n\\n\\nimport dataloader as loader\\n\\n\\nimport numpy as np\\nimport os\\n\\nimport geopandas as gpd\\nfrom network_utils import get_closest_osmids\\nfrom constants import DATA_PATH\\nimport pickle\\nimport osmnx as ox\\nimport networkx as nx\";\n",
       "                var nbb_cells = Jupyter.notebook.get_cells();\n",
       "                for (var i = 0; i < nbb_cells.length; ++i) {\n",
       "                    if (nbb_cells[i].input_prompt_number == nbb_cell_id) {\n",
       "                        if (nbb_cells[i].get_text() == nbb_unformatted_code) {\n",
       "                             nbb_cells[i].set_text(nbb_formatted_code);\n",
       "                        }\n",
       "                        break;\n",
       "                    }\n",
       "                }\n",
       "            }, 500);\n",
       "            "
      ],
      "text/plain": [
       "<IPython.core.display.Javascript object>"
      ]
     },
     "metadata": {},
     "output_type": "display_data"
    }
   ],
   "source": [
    "import logging\n",
    "\n",
    "import sys\n",
    "\n",
    "sys.path.append(\"/app\")\n",
    "\n",
    "# import scraping as sc\n",
    "\n",
    "import pandas as pd\n",
    "\n",
    "from jinja2 import Template\n",
    "\n",
    "from db_utils import get_engine, get_table_creation_query\n",
    "\n",
    "from gis_utils import get_gdf_coords, get_closest_idxs, get_closest_pois_slow\n",
    "\n",
    "\n",
    "import dataloader as loader\n",
    "\n",
    "\n",
    "import numpy as np\n",
    "import os\n",
    "\n",
    "import geopandas as gpd\n",
    "from network_utils import get_closest_osmids\n",
    "from constants import DATA_PATH\n",
    "import pickle\n",
    "import osmnx as ox\n",
    "import networkx as nx"
   ]
  },
  {
   "cell_type": "code",
   "execution_count": 3,
   "id": "productive-presence",
   "metadata": {},
   "outputs": [
    {
     "data": {
      "application/javascript": [
       "\n",
       "            setTimeout(function() {\n",
       "                var nbb_cell_id = 3;\n",
       "                var nbb_unformatted_code = \"# global logger\\nlogger = logging.getLogger()\\nhandler = logging.StreamHandler()\\nformatter = logging.Formatter(\\\"%(asctime)s [%(name)s] %(levelname)-8s %(message)s\\\")\\nhandler.setFormatter(formatter)\\nlogger.addHandler(handler)\\nlogger.setLevel(logging.INFO)\";\n",
       "                var nbb_formatted_code = \"# global logger\\nlogger = logging.getLogger()\\nhandler = logging.StreamHandler()\\nformatter = logging.Formatter(\\\"%(asctime)s [%(name)s] %(levelname)-8s %(message)s\\\")\\nhandler.setFormatter(formatter)\\nlogger.addHandler(handler)\\nlogger.setLevel(logging.INFO)\";\n",
       "                var nbb_cells = Jupyter.notebook.get_cells();\n",
       "                for (var i = 0; i < nbb_cells.length; ++i) {\n",
       "                    if (nbb_cells[i].input_prompt_number == nbb_cell_id) {\n",
       "                        if (nbb_cells[i].get_text() == nbb_unformatted_code) {\n",
       "                             nbb_cells[i].set_text(nbb_formatted_code);\n",
       "                        }\n",
       "                        break;\n",
       "                    }\n",
       "                }\n",
       "            }, 500);\n",
       "            "
      ],
      "text/plain": [
       "<IPython.core.display.Javascript object>"
      ]
     },
     "metadata": {},
     "output_type": "display_data"
    }
   ],
   "source": [
    "# global logger\n",
    "logger = logging.getLogger()\n",
    "handler = logging.StreamHandler()\n",
    "formatter = logging.Formatter(\"%(asctime)s [%(name)s] %(levelname)-8s %(message)s\")\n",
    "handler.setFormatter(formatter)\n",
    "logger.addHandler(handler)\n",
    "logger.setLevel(logging.INFO)"
   ]
  },
  {
   "cell_type": "markdown",
   "id": "sonic-acquisition",
   "metadata": {},
   "source": [
    "## Connect to Database"
   ]
  },
  {
   "cell_type": "code",
   "execution_count": 4,
   "id": "false-store",
   "metadata": {},
   "outputs": [
    {
     "data": {
      "application/javascript": [
       "\n",
       "            setTimeout(function() {\n",
       "                var nbb_cell_id = 4;\n",
       "                var nbb_unformatted_code = \"user = os.getenv(\\\"POSTGRES_USER\\\")\\npassword = os.getenv(\\\"POSTGRES_PASSWORD\\\")\\nhost = os.getenv(\\\"POSTGRES_HOST\\\")\";\n",
       "                var nbb_formatted_code = \"user = os.getenv(\\\"POSTGRES_USER\\\")\\npassword = os.getenv(\\\"POSTGRES_PASSWORD\\\")\\nhost = os.getenv(\\\"POSTGRES_HOST\\\")\";\n",
       "                var nbb_cells = Jupyter.notebook.get_cells();\n",
       "                for (var i = 0; i < nbb_cells.length; ++i) {\n",
       "                    if (nbb_cells[i].input_prompt_number == nbb_cell_id) {\n",
       "                        if (nbb_cells[i].get_text() == nbb_unformatted_code) {\n",
       "                             nbb_cells[i].set_text(nbb_formatted_code);\n",
       "                        }\n",
       "                        break;\n",
       "                    }\n",
       "                }\n",
       "            }, 500);\n",
       "            "
      ],
      "text/plain": [
       "<IPython.core.display.Javascript object>"
      ]
     },
     "metadata": {},
     "output_type": "display_data"
    }
   ],
   "source": [
    "user = os.getenv(\"POSTGRES_USER\")\n",
    "password = os.getenv(\"POSTGRES_PASSWORD\")\n",
    "host = os.getenv(\"POSTGRES_HOST\")"
   ]
  },
  {
   "cell_type": "code",
   "execution_count": 5,
   "id": "looking-adult",
   "metadata": {},
   "outputs": [
    {
     "data": {
      "application/javascript": [
       "\n",
       "            setTimeout(function() {\n",
       "                var nbb_cell_id = 5;\n",
       "                var nbb_unformatted_code = \"engine = get_engine(user, password, host)\";\n",
       "                var nbb_formatted_code = \"engine = get_engine(user, password, host)\";\n",
       "                var nbb_cells = Jupyter.notebook.get_cells();\n",
       "                for (var i = 0; i < nbb_cells.length; ++i) {\n",
       "                    if (nbb_cells[i].input_prompt_number == nbb_cell_id) {\n",
       "                        if (nbb_cells[i].get_text() == nbb_unformatted_code) {\n",
       "                             nbb_cells[i].set_text(nbb_formatted_code);\n",
       "                        }\n",
       "                        break;\n",
       "                    }\n",
       "                }\n",
       "            }, 500);\n",
       "            "
      ],
      "text/plain": [
       "<IPython.core.display.Javascript object>"
      ]
     },
     "metadata": {},
     "output_type": "display_data"
    }
   ],
   "source": [
    "engine = get_engine(user, password, host)"
   ]
  },
  {
   "cell_type": "markdown",
   "id": "divine-diabetes",
   "metadata": {},
   "source": [
    "## Define search parameters"
   ]
  },
  {
   "cell_type": "code",
   "execution_count": 6,
   "id": "f27274cd",
   "metadata": {},
   "outputs": [
    {
     "data": {
      "application/javascript": [
       "\n",
       "            setTimeout(function() {\n",
       "                var nbb_cell_id = 6;\n",
       "                var nbb_unformatted_code = \"searchname = \\\"tamzin\\\"\";\n",
       "                var nbb_formatted_code = \"searchname = \\\"tamzin\\\"\";\n",
       "                var nbb_cells = Jupyter.notebook.get_cells();\n",
       "                for (var i = 0; i < nbb_cells.length; ++i) {\n",
       "                    if (nbb_cells[i].input_prompt_number == nbb_cell_id) {\n",
       "                        if (nbb_cells[i].get_text() == nbb_unformatted_code) {\n",
       "                             nbb_cells[i].set_text(nbb_formatted_code);\n",
       "                        }\n",
       "                        break;\n",
       "                    }\n",
       "                }\n",
       "            }, 500);\n",
       "            "
      ],
      "text/plain": [
       "<IPython.core.display.Javascript object>"
      ]
     },
     "metadata": {},
     "output_type": "display_data"
    }
   ],
   "source": [
    "searchname = \"tamzin\""
   ]
  },
  {
   "cell_type": "markdown",
   "id": "deluxe-notebook",
   "metadata": {},
   "source": [
    "## Create Temporary Table"
   ]
  },
  {
   "cell_type": "code",
   "execution_count": 7,
   "id": "fitted-preservation",
   "metadata": {},
   "outputs": [
    {
     "data": {
      "application/javascript": [
       "\n",
       "            setTimeout(function() {\n",
       "                var nbb_cell_id = 7;\n",
       "                var nbb_unformatted_code = \"with engine.connect() as conn:\\n    conn.execute(\\n        f\\\"\\\"\\\"CREATE TEMPORARY TABLE processed_addresses AS\\n    SELECT * FROM {searchname}.address_ids_to_process\\\"\\\"\\\"\\n    )\";\n",
       "                var nbb_formatted_code = \"with engine.connect() as conn:\\n    conn.execute(\\n        f\\\"\\\"\\\"CREATE TEMPORARY TABLE processed_addresses AS\\n    SELECT * FROM {searchname}.address_ids_to_process\\\"\\\"\\\"\\n    )\";\n",
       "                var nbb_cells = Jupyter.notebook.get_cells();\n",
       "                for (var i = 0; i < nbb_cells.length; ++i) {\n",
       "                    if (nbb_cells[i].input_prompt_number == nbb_cell_id) {\n",
       "                        if (nbb_cells[i].get_text() == nbb_unformatted_code) {\n",
       "                             nbb_cells[i].set_text(nbb_formatted_code);\n",
       "                        }\n",
       "                        break;\n",
       "                    }\n",
       "                }\n",
       "            }, 500);\n",
       "            "
      ],
      "text/plain": [
       "<IPython.core.display.Javascript object>"
      ]
     },
     "metadata": {},
     "output_type": "display_data"
    }
   ],
   "source": [
    "with engine.connect() as conn:\n",
    "    conn.execute(\n",
    "        f\"\"\"CREATE TEMPORARY TABLE processed_addresses AS\n",
    "    SELECT * FROM {searchname}.address_ids_to_process\"\"\"\n",
    "    )"
   ]
  },
  {
   "cell_type": "code",
   "execution_count": 8,
   "id": "experimental-mechanics",
   "metadata": {},
   "outputs": [
    {
     "data": {
      "application/javascript": [
       "\n",
       "            setTimeout(function() {\n",
       "                var nbb_cell_id = 8;\n",
       "                var nbb_unformatted_code = \"with engine.connect() as conn:\\n    conn.execute(\\n        f\\\"\\\"\\\"INSERT INTO {searchname}.completed_addresses (address_id)\\n    SELECT address_id from processed_addresses\\\"\\\"\\\"\\n    )\";\n",
       "                var nbb_formatted_code = \"with engine.connect() as conn:\\n    conn.execute(\\n        f\\\"\\\"\\\"INSERT INTO {searchname}.completed_addresses (address_id)\\n    SELECT address_id from processed_addresses\\\"\\\"\\\"\\n    )\";\n",
       "                var nbb_cells = Jupyter.notebook.get_cells();\n",
       "                for (var i = 0; i < nbb_cells.length; ++i) {\n",
       "                    if (nbb_cells[i].input_prompt_number == nbb_cell_id) {\n",
       "                        if (nbb_cells[i].get_text() == nbb_unformatted_code) {\n",
       "                             nbb_cells[i].set_text(nbb_formatted_code);\n",
       "                        }\n",
       "                        break;\n",
       "                    }\n",
       "                }\n",
       "            }, 500);\n",
       "            "
      ],
      "text/plain": [
       "<IPython.core.display.Javascript object>"
      ]
     },
     "metadata": {},
     "output_type": "display_data"
    }
   ],
   "source": [
    "with engine.connect() as conn:\n",
    "    conn.execute(\n",
    "        f\"\"\"INSERT INTO {searchname}.completed_addresses (address_id)\n",
    "    SELECT address_id from processed_addresses\"\"\"\n",
    "    )"
   ]
  }
 ],
 "metadata": {
  "kernelspec": {
   "display_name": "Python 3",
   "language": "python",
   "name": "python3"
  },
  "language_info": {
   "codemirror_mode": {
    "name": "ipython",
    "version": 3
   },
   "file_extension": ".py",
   "mimetype": "text/x-python",
   "name": "python",
   "nbconvert_exporter": "python",
   "pygments_lexer": "ipython3",
   "version": "3.8.10"
  }
 },
 "nbformat": 4,
 "nbformat_minor": 5
}
