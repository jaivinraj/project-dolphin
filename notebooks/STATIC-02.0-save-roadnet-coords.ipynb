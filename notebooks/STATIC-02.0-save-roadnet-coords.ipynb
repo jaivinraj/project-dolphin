{
 "cells": [
  {
   "cell_type": "markdown",
   "id": "touched-physics",
   "metadata": {},
   "source": [
    "## Save Roadnet Coords"
   ]
  },
  {
   "cell_type": "code",
   "execution_count": 1,
   "id": "cooked-louis",
   "metadata": {},
   "outputs": [
    {
     "data": {
      "application/javascript": [
       "\n",
       "            setTimeout(function() {\n",
       "                var nbb_cell_id = 1;\n",
       "                var nbb_unformatted_code = \"%load_ext nb_black\";\n",
       "                var nbb_formatted_code = \"%load_ext nb_black\";\n",
       "                var nbb_cells = Jupyter.notebook.get_cells();\n",
       "                for (var i = 0; i < nbb_cells.length; ++i) {\n",
       "                    if (nbb_cells[i].input_prompt_number == nbb_cell_id) {\n",
       "                        if (nbb_cells[i].get_text() == nbb_unformatted_code) {\n",
       "                             nbb_cells[i].set_text(nbb_formatted_code);\n",
       "                        }\n",
       "                        break;\n",
       "                    }\n",
       "                }\n",
       "            }, 500);\n",
       "            "
      ],
      "text/plain": [
       "<IPython.core.display.Javascript object>"
      ]
     },
     "metadata": {},
     "output_type": "display_data"
    }
   ],
   "source": [
    "%load_ext nb_black"
   ]
  },
  {
   "cell_type": "code",
   "execution_count": 2,
   "id": "adequate-remains",
   "metadata": {},
   "outputs": [
    {
     "data": {
      "application/javascript": [
       "\n",
       "            setTimeout(function() {\n",
       "                var nbb_cell_id = 2;\n",
       "                var nbb_unformatted_code = \"import pickle\\nimport osmnx as ox\";\n",
       "                var nbb_formatted_code = \"import pickle\\nimport osmnx as ox\";\n",
       "                var nbb_cells = Jupyter.notebook.get_cells();\n",
       "                for (var i = 0; i < nbb_cells.length; ++i) {\n",
       "                    if (nbb_cells[i].input_prompt_number == nbb_cell_id) {\n",
       "                        if (nbb_cells[i].get_text() == nbb_unformatted_code) {\n",
       "                             nbb_cells[i].set_text(nbb_formatted_code);\n",
       "                        }\n",
       "                        break;\n",
       "                    }\n",
       "                }\n",
       "            }, 500);\n",
       "            "
      ],
      "text/plain": [
       "<IPython.core.display.Javascript object>"
      ]
     },
     "metadata": {},
     "output_type": "display_data"
    }
   ],
   "source": [
    "import pickle\n",
    "import osmnx as ox"
   ]
  },
  {
   "cell_type": "code",
   "execution_count": 3,
   "id": "neither-columbus",
   "metadata": {},
   "outputs": [
    {
     "data": {
      "application/javascript": [
       "\n",
       "            setTimeout(function() {\n",
       "                var nbb_cell_id = 3;\n",
       "                var nbb_unformatted_code = \"import sys\\n\\nsys.path.append(\\\"/app\\\")\\nfrom constants import DATA_PATH\";\n",
       "                var nbb_formatted_code = \"import sys\\n\\nsys.path.append(\\\"/app\\\")\\nfrom constants import DATA_PATH\";\n",
       "                var nbb_cells = Jupyter.notebook.get_cells();\n",
       "                for (var i = 0; i < nbb_cells.length; ++i) {\n",
       "                    if (nbb_cells[i].input_prompt_number == nbb_cell_id) {\n",
       "                        if (nbb_cells[i].get_text() == nbb_unformatted_code) {\n",
       "                             nbb_cells[i].set_text(nbb_formatted_code);\n",
       "                        }\n",
       "                        break;\n",
       "                    }\n",
       "                }\n",
       "            }, 500);\n",
       "            "
      ],
      "text/plain": [
       "<IPython.core.display.Javascript object>"
      ]
     },
     "metadata": {},
     "output_type": "display_data"
    }
   ],
   "source": [
    "import sys\n",
    "\n",
    "sys.path.append(\"/app\")\n",
    "from constants import DATA_PATH"
   ]
  },
  {
   "cell_type": "code",
   "execution_count": 4,
   "id": "worthy-model",
   "metadata": {},
   "outputs": [
    {
     "data": {
      "application/javascript": [
       "\n",
       "            setTimeout(function() {\n",
       "                var nbb_cell_id = 4;\n",
       "                var nbb_unformatted_code = \"import os\";\n",
       "                var nbb_formatted_code = \"import os\";\n",
       "                var nbb_cells = Jupyter.notebook.get_cells();\n",
       "                for (var i = 0; i < nbb_cells.length; ++i) {\n",
       "                    if (nbb_cells[i].input_prompt_number == nbb_cell_id) {\n",
       "                        if (nbb_cells[i].get_text() == nbb_unformatted_code) {\n",
       "                             nbb_cells[i].set_text(nbb_formatted_code);\n",
       "                        }\n",
       "                        break;\n",
       "                    }\n",
       "                }\n",
       "            }, 500);\n",
       "            "
      ],
      "text/plain": [
       "<IPython.core.display.Javascript object>"
      ]
     },
     "metadata": {},
     "output_type": "display_data"
    }
   ],
   "source": [
    "import os"
   ]
  },
  {
   "cell_type": "code",
   "execution_count": 5,
   "id": "false-visitor",
   "metadata": {},
   "outputs": [
    {
     "data": {
      "application/javascript": [
       "\n",
       "            setTimeout(function() {\n",
       "                var nbb_cell_id = 5;\n",
       "                var nbb_unformatted_code = \"from db_utils import get_engine, get_table_creation_query\";\n",
       "                var nbb_formatted_code = \"from db_utils import get_engine, get_table_creation_query\";\n",
       "                var nbb_cells = Jupyter.notebook.get_cells();\n",
       "                for (var i = 0; i < nbb_cells.length; ++i) {\n",
       "                    if (nbb_cells[i].input_prompt_number == nbb_cell_id) {\n",
       "                        if (nbb_cells[i].get_text() == nbb_unformatted_code) {\n",
       "                             nbb_cells[i].set_text(nbb_formatted_code);\n",
       "                        }\n",
       "                        break;\n",
       "                    }\n",
       "                }\n",
       "            }, 500);\n",
       "            "
      ],
      "text/plain": [
       "<IPython.core.display.Javascript object>"
      ]
     },
     "metadata": {},
     "output_type": "display_data"
    }
   ],
   "source": [
    "from db_utils import get_engine, get_table_creation_query"
   ]
  },
  {
   "cell_type": "code",
   "execution_count": 6,
   "id": "chicken-tragedy",
   "metadata": {},
   "outputs": [
    {
     "data": {
      "application/javascript": [
       "\n",
       "            setTimeout(function() {\n",
       "                var nbb_cell_id = 6;\n",
       "                var nbb_unformatted_code = \"import logging\";\n",
       "                var nbb_formatted_code = \"import logging\";\n",
       "                var nbb_cells = Jupyter.notebook.get_cells();\n",
       "                for (var i = 0; i < nbb_cells.length; ++i) {\n",
       "                    if (nbb_cells[i].input_prompt_number == nbb_cell_id) {\n",
       "                        if (nbb_cells[i].get_text() == nbb_unformatted_code) {\n",
       "                             nbb_cells[i].set_text(nbb_formatted_code);\n",
       "                        }\n",
       "                        break;\n",
       "                    }\n",
       "                }\n",
       "            }, 500);\n",
       "            "
      ],
      "text/plain": [
       "<IPython.core.display.Javascript object>"
      ]
     },
     "metadata": {},
     "output_type": "display_data"
    }
   ],
   "source": [
    "import logging"
   ]
  },
  {
   "cell_type": "markdown",
   "id": "inclusive-marsh",
   "metadata": {},
   "source": [
    "## Connect to Database"
   ]
  },
  {
   "cell_type": "code",
   "execution_count": 7,
   "id": "false-store",
   "metadata": {},
   "outputs": [
    {
     "data": {
      "application/javascript": [
       "\n",
       "            setTimeout(function() {\n",
       "                var nbb_cell_id = 7;\n",
       "                var nbb_unformatted_code = \"user = os.getenv(\\\"POSTGRES_USER\\\")\\npassword = os.getenv(\\\"POSTGRES_PASSWORD\\\")\\nhost = os.getenv(\\\"POSTGRES_HOST\\\")\";\n",
       "                var nbb_formatted_code = \"user = os.getenv(\\\"POSTGRES_USER\\\")\\npassword = os.getenv(\\\"POSTGRES_PASSWORD\\\")\\nhost = os.getenv(\\\"POSTGRES_HOST\\\")\";\n",
       "                var nbb_cells = Jupyter.notebook.get_cells();\n",
       "                for (var i = 0; i < nbb_cells.length; ++i) {\n",
       "                    if (nbb_cells[i].input_prompt_number == nbb_cell_id) {\n",
       "                        if (nbb_cells[i].get_text() == nbb_unformatted_code) {\n",
       "                             nbb_cells[i].set_text(nbb_formatted_code);\n",
       "                        }\n",
       "                        break;\n",
       "                    }\n",
       "                }\n",
       "            }, 500);\n",
       "            "
      ],
      "text/plain": [
       "<IPython.core.display.Javascript object>"
      ]
     },
     "metadata": {},
     "output_type": "display_data"
    }
   ],
   "source": [
    "user = os.getenv(\"POSTGRES_USER\")\n",
    "password = os.getenv(\"POSTGRES_PASSWORD\")\n",
    "host = os.getenv(\"POSTGRES_HOST\")"
   ]
  },
  {
   "cell_type": "code",
   "execution_count": 8,
   "id": "mediterranean-funds",
   "metadata": {},
   "outputs": [
    {
     "data": {
      "application/javascript": [
       "\n",
       "            setTimeout(function() {\n",
       "                var nbb_cell_id = 8;\n",
       "                var nbb_unformatted_code = \"engine = get_engine(user, password, host)\";\n",
       "                var nbb_formatted_code = \"engine = get_engine(user, password, host)\";\n",
       "                var nbb_cells = Jupyter.notebook.get_cells();\n",
       "                for (var i = 0; i < nbb_cells.length; ++i) {\n",
       "                    if (nbb_cells[i].input_prompt_number == nbb_cell_id) {\n",
       "                        if (nbb_cells[i].get_text() == nbb_unformatted_code) {\n",
       "                             nbb_cells[i].set_text(nbb_formatted_code);\n",
       "                        }\n",
       "                        break;\n",
       "                    }\n",
       "                }\n",
       "            }, 500);\n",
       "            "
      ],
      "text/plain": [
       "<IPython.core.display.Javascript object>"
      ]
     },
     "metadata": {},
     "output_type": "display_data"
    }
   ],
   "source": [
    "engine = get_engine(user, password, host)"
   ]
  },
  {
   "cell_type": "code",
   "execution_count": 9,
   "id": "killing-royalty",
   "metadata": {},
   "outputs": [
    {
     "data": {
      "application/javascript": [
       "\n",
       "            setTimeout(function() {\n",
       "                var nbb_cell_id = 9;\n",
       "                var nbb_unformatted_code = \"logger = logging.getLogger()\\nhandler = logging.StreamHandler()\\nformatter = logging.Formatter(\\\"%(asctime)s [%(name)s] %(levelname)-8s %(message)s\\\")\\nhandler.setFormatter(formatter)\\nlogger.addHandler(handler)\\nlogger.setLevel(logging.INFO)\";\n",
       "                var nbb_formatted_code = \"logger = logging.getLogger()\\nhandler = logging.StreamHandler()\\nformatter = logging.Formatter(\\\"%(asctime)s [%(name)s] %(levelname)-8s %(message)s\\\")\\nhandler.setFormatter(formatter)\\nlogger.addHandler(handler)\\nlogger.setLevel(logging.INFO)\";\n",
       "                var nbb_cells = Jupyter.notebook.get_cells();\n",
       "                for (var i = 0; i < nbb_cells.length; ++i) {\n",
       "                    if (nbb_cells[i].input_prompt_number == nbb_cell_id) {\n",
       "                        if (nbb_cells[i].get_text() == nbb_unformatted_code) {\n",
       "                             nbb_cells[i].set_text(nbb_formatted_code);\n",
       "                        }\n",
       "                        break;\n",
       "                    }\n",
       "                }\n",
       "            }, 500);\n",
       "            "
      ],
      "text/plain": [
       "<IPython.core.display.Javascript object>"
      ]
     },
     "metadata": {},
     "output_type": "display_data"
    }
   ],
   "source": [
    "logger = logging.getLogger()\n",
    "handler = logging.StreamHandler()\n",
    "formatter = logging.Formatter(\"%(asctime)s [%(name)s] %(levelname)-8s %(message)s\")\n",
    "handler.setFormatter(formatter)\n",
    "logger.addHandler(handler)\n",
    "logger.setLevel(logging.INFO)"
   ]
  },
  {
   "cell_type": "code",
   "execution_count": 10,
   "id": "sexual-progressive",
   "metadata": {
    "collapsed": true
   },
   "outputs": [
    {
     "name": "stderr",
     "output_type": "stream",
     "text": [
      "2021-05-27 10:31:45,752 [root] INFO     Attempting to load network...\n",
      "Exception ignored in: <function BaseGeometry.__del__ at 0x7f1a2bfeb280>\n",
      "Traceback (most recent call last):\n",
      "  File \"/usr/local/lib/python3.8/site-packages/shapely/geometry/base.py\", line 241, in __del__\n",
      "    def __del__(self):\n",
      "KeyboardInterrupt: \n",
      "Exception ignored in: <function BaseGeometry.__del__ at 0x7f1a2bfeb280>\n",
      "Traceback (most recent call last):\n",
      "  File \"/usr/local/lib/python3.8/site-packages/shapely/geometry/base.py\", line 241, in __del__\n",
      "    def __del__(self):\n",
      "KeyboardInterrupt: \n",
      "Exception ignored in: <function BaseGeometry.__del__ at 0x7f1a2bfeb280>\n",
      "Traceback (most recent call last):\n",
      "  File \"/usr/local/lib/python3.8/site-packages/shapely/geometry/base.py\", line 242, in __del__\n",
      "    self.empty(val=None)\n",
      "  File \"/usr/local/lib/python3.8/site-packages/shapely/geometry/base.py\", line 227, in empty\n",
      "    self._lgeos.GEOSGeom_destroy(self.__geom__)\n",
      "KeyboardInterrupt: \n",
      "Exception ignored in: <function BaseGeometry.__del__ at 0x7f1a2bfeb280>\n",
      "Traceback (most recent call last):\n",
      "  File \"/usr/local/lib/python3.8/site-packages/shapely/geometry/base.py\", line 241, in __del__\n",
      "    def __del__(self):\n",
      "KeyboardInterrupt: \n",
      "Exception ignored in: <function BaseGeometry.__del__ at 0x7f1a2bfeb280>\n",
      "Traceback (most recent call last):\n",
      "  File \"/usr/local/lib/python3.8/site-packages/shapely/geometry/base.py\", line 241, in __del__\n",
      "    def __del__(self):\n",
      "KeyboardInterrupt: \n",
      "Exception ignored in: <function BaseGeometry.__del__ at 0x7f1a2bfeb280>\n",
      "Traceback (most recent call last):\n",
      "  File \"/usr/local/lib/python3.8/site-packages/shapely/geometry/base.py\", line 242, in __del__\n",
      "    self.empty(val=None)\n",
      "  File \"/usr/local/lib/python3.8/site-packages/shapely/geometry/base.py\", line 227, in empty\n",
      "    self._lgeos.GEOSGeom_destroy(self.__geom__)\n",
      "KeyboardInterrupt: \n",
      "Exception ignored in: <function BaseGeometry.__del__ at 0x7f1a2bfeb280>\n",
      "Traceback (most recent call last):\n",
      "  File \"/usr/local/lib/python3.8/site-packages/shapely/geometry/base.py\", line 242, in __del__\n",
      "    self.empty(val=None)\n",
      "  File \"/usr/local/lib/python3.8/site-packages/shapely/geometry/base.py\", line 225, in empty\n",
      "    if not self._other_owned and self.__geom__ and self.__geom__ != EMPTY:\n",
      "KeyboardInterrupt: \n",
      "Exception ignored in: <function BaseGeometry.__del__ at 0x7f1a2bfeb280>\n",
      "Traceback (most recent call last):\n",
      "  File \"/usr/local/lib/python3.8/site-packages/shapely/geometry/base.py\", line 242, in __del__\n",
      "    self.empty(val=None)\n",
      "  File \"/usr/local/lib/python3.8/site-packages/shapely/geometry/base.py\", line 227, in empty\n",
      "    self._lgeos.GEOSGeom_destroy(self.__geom__)\n",
      "KeyboardInterrupt: \n",
      "Exception ignored in: <function BaseGeometry.__del__ at 0x7f1a2bfeb280>\n",
      "Traceback (most recent call last):\n",
      "  File \"/usr/local/lib/python3.8/site-packages/shapely/geometry/base.py\", line 241, in __del__\n",
      "    def __del__(self):\n",
      "KeyboardInterrupt: \n",
      "Exception ignored in: <function BaseGeometry.__del__ at 0x7f1a2bfeb280>\n",
      "Traceback (most recent call last):\n",
      "  File \"/usr/local/lib/python3.8/site-packages/shapely/geometry/base.py\", line 241, in __del__\n",
      "    def __del__(self):\n",
      "KeyboardInterrupt: \n",
      "Exception ignored in: <function BaseGeometry.__del__ at 0x7f1a2bfeb280>\n",
      "Traceback (most recent call last):\n",
      "  File \"/usr/local/lib/python3.8/site-packages/shapely/geometry/base.py\", line 241, in __del__\n",
      "    def __del__(self):\n",
      "KeyboardInterrupt: \n"
     ]
    },
    {
     "ename": "KeyboardInterrupt",
     "evalue": "",
     "output_type": "error",
     "traceback": [
      "\u001b[0;31m---------------------------------------------------------------------------\u001b[0m",
      "\u001b[0;31mKeyboardInterrupt\u001b[0m                         Traceback (most recent call last)",
      "\u001b[0;32m<ipython-input-10-0ca3abe3fcbe>\u001b[0m in \u001b[0;36m<module>\u001b[0;34m\u001b[0m\n\u001b[1;32m      3\u001b[0m     \u001b[0;32mwith\u001b[0m \u001b[0mopen\u001b[0m\u001b[0;34m(\u001b[0m\u001b[0mos\u001b[0m\u001b[0;34m.\u001b[0m\u001b[0mpath\u001b[0m\u001b[0;34m.\u001b[0m\u001b[0mjoin\u001b[0m\u001b[0;34m(\u001b[0m\u001b[0mDATA_PATH\u001b[0m\u001b[0;34m,\u001b[0m \u001b[0;34m\"roadnet_greaterlondon_walking.pkl\"\u001b[0m\u001b[0;34m)\u001b[0m\u001b[0;34m,\u001b[0m \u001b[0;34m\"rb\"\u001b[0m\u001b[0;34m)\u001b[0m \u001b[0;32mas\u001b[0m \u001b[0mf\u001b[0m\u001b[0;34m:\u001b[0m\u001b[0;34m\u001b[0m\u001b[0;34m\u001b[0m\u001b[0m\n\u001b[0;32m----> 4\u001b[0;31m         \u001b[0mwalknet\u001b[0m \u001b[0;34m=\u001b[0m \u001b[0mpickle\u001b[0m\u001b[0;34m.\u001b[0m\u001b[0mload\u001b[0m\u001b[0;34m(\u001b[0m\u001b[0mf\u001b[0m\u001b[0;34m)\u001b[0m\u001b[0;34m\u001b[0m\u001b[0;34m\u001b[0m\u001b[0m\n\u001b[0m\u001b[1;32m      5\u001b[0m         \u001b[0mlogger\u001b[0m\u001b[0;34m.\u001b[0m\u001b[0minfo\u001b[0m\u001b[0;34m(\u001b[0m\u001b[0;34m\"Loaded network\"\u001b[0m\u001b[0;34m)\u001b[0m\u001b[0;34m\u001b[0m\u001b[0;34m\u001b[0m\u001b[0m\n",
      "\u001b[0;32m/usr/local/lib/python3.8/site-packages/networkx/classes/reportviews.py\u001b[0m in \u001b[0;36m__setstate__\u001b[0;34m(self, state)\u001b[0m\n\u001b[1;32m    172\u001b[0m \u001b[0;34m\u001b[0m\u001b[0m\n\u001b[0;32m--> 173\u001b[0;31m     \u001b[0;32mdef\u001b[0m \u001b[0m__setstate__\u001b[0m\u001b[0;34m(\u001b[0m\u001b[0mself\u001b[0m\u001b[0;34m,\u001b[0m \u001b[0mstate\u001b[0m\u001b[0;34m)\u001b[0m\u001b[0;34m:\u001b[0m\u001b[0;34m\u001b[0m\u001b[0;34m\u001b[0m\u001b[0m\n\u001b[0m\u001b[1;32m    174\u001b[0m         \u001b[0mself\u001b[0m\u001b[0;34m.\u001b[0m\u001b[0m_nodes\u001b[0m \u001b[0;34m=\u001b[0m \u001b[0mstate\u001b[0m\u001b[0;34m[\u001b[0m\u001b[0;34m\"_nodes\"\u001b[0m\u001b[0;34m]\u001b[0m\u001b[0;34m\u001b[0m\u001b[0;34m\u001b[0m\u001b[0m\n",
      "\u001b[0;31mKeyboardInterrupt\u001b[0m: ",
      "\nDuring handling of the above exception, another exception occurred:\n",
      "\u001b[0;31mKeyboardInterrupt\u001b[0m                         Traceback (most recent call last)",
      "\u001b[0;32m<ipython-input-10-0ca3abe3fcbe>\u001b[0m in \u001b[0;36m<module>\u001b[0;34m\u001b[0m\n\u001b[1;32m      2\u001b[0m \u001b[0;32mtry\u001b[0m\u001b[0;34m:\u001b[0m\u001b[0;34m\u001b[0m\u001b[0;34m\u001b[0m\u001b[0m\n\u001b[1;32m      3\u001b[0m     \u001b[0;32mwith\u001b[0m \u001b[0mopen\u001b[0m\u001b[0;34m(\u001b[0m\u001b[0mos\u001b[0m\u001b[0;34m.\u001b[0m\u001b[0mpath\u001b[0m\u001b[0;34m.\u001b[0m\u001b[0mjoin\u001b[0m\u001b[0;34m(\u001b[0m\u001b[0mDATA_PATH\u001b[0m\u001b[0;34m,\u001b[0m \u001b[0;34m\"roadnet_greaterlondon_walking.pkl\"\u001b[0m\u001b[0;34m)\u001b[0m\u001b[0;34m,\u001b[0m \u001b[0;34m\"rb\"\u001b[0m\u001b[0;34m)\u001b[0m \u001b[0;32mas\u001b[0m \u001b[0mf\u001b[0m\u001b[0;34m:\u001b[0m\u001b[0;34m\u001b[0m\u001b[0;34m\u001b[0m\u001b[0m\n\u001b[0;32m----> 4\u001b[0;31m         \u001b[0mwalknet\u001b[0m \u001b[0;34m=\u001b[0m \u001b[0mpickle\u001b[0m\u001b[0;34m.\u001b[0m\u001b[0mload\u001b[0m\u001b[0;34m(\u001b[0m\u001b[0mf\u001b[0m\u001b[0;34m)\u001b[0m\u001b[0;34m\u001b[0m\u001b[0;34m\u001b[0m\u001b[0m\n\u001b[0m\u001b[1;32m      5\u001b[0m         \u001b[0mlogger\u001b[0m\u001b[0;34m.\u001b[0m\u001b[0minfo\u001b[0m\u001b[0;34m(\u001b[0m\u001b[0;34m\"Loaded network\"\u001b[0m\u001b[0;34m)\u001b[0m\u001b[0;34m\u001b[0m\u001b[0;34m\u001b[0m\u001b[0m\n\u001b[1;32m      6\u001b[0m \u001b[0;32mexcept\u001b[0m \u001b[0mEOFError\u001b[0m \u001b[0;32mas\u001b[0m \u001b[0me\u001b[0m\u001b[0;34m:\u001b[0m\u001b[0;34m\u001b[0m\u001b[0;34m\u001b[0m\u001b[0m\n",
      "\u001b[0;31mKeyboardInterrupt\u001b[0m: "
     ]
    },
    {
     "data": {
      "application/javascript": [
       "\n",
       "            setTimeout(function() {\n",
       "                var nbb_cell_id = 10;\n",
       "                var nbb_unformatted_code = \"logger.info(\\\"Attempting to load network...\\\")\\ntry:\\n    with open(os.path.join(DATA_PATH, \\\"roadnet_greaterlondon_walking.pkl\\\"), \\\"rb\\\") as f:\\n        walknet = pickle.load(f)\\n        logger.info(\\\"Loaded network\\\")\\nexcept EOFError as e:\\n    logger.warning(\\\"unable to load from pickle. Loading from graphml\\\")\\n    walknet = ox.load_graphml(\\n        os.path.join(DATA_PATH, \\\"roadnet_greaterlondon_walking.graphml\\\")\\n    )\\n    logger.info(\\\"saving new network\\\")\\n    with open(os.path.join(DATA_PATH, \\\"roadnet_greaterlondon_walking.pkl\\\"), \\\"wb\\\") as f:\\n        walknet = pickle.dump(walknet, f)\\n    logger.info(\\\"saved new network as pickle\\\")\";\n",
       "                var nbb_formatted_code = \"logger.info(\\\"Attempting to load network...\\\")\\ntry:\\n    with open(os.path.join(DATA_PATH, \\\"roadnet_greaterlondon_walking.pkl\\\"), \\\"rb\\\") as f:\\n        walknet = pickle.load(f)\\n        logger.info(\\\"Loaded network\\\")\\nexcept EOFError as e:\\n    logger.warning(\\\"unable to load from pickle. Loading from graphml\\\")\\n    walknet = ox.load_graphml(\\n        os.path.join(DATA_PATH, \\\"roadnet_greaterlondon_walking.graphml\\\")\\n    )\\n    logger.info(\\\"saving new network\\\")\\n    with open(os.path.join(DATA_PATH, \\\"roadnet_greaterlondon_walking.pkl\\\"), \\\"wb\\\") as f:\\n        walknet = pickle.dump(walknet, f)\\n    logger.info(\\\"saved new network as pickle\\\")\";\n",
       "                var nbb_cells = Jupyter.notebook.get_cells();\n",
       "                for (var i = 0; i < nbb_cells.length; ++i) {\n",
       "                    if (nbb_cells[i].input_prompt_number == nbb_cell_id) {\n",
       "                        if (nbb_cells[i].get_text() == nbb_unformatted_code) {\n",
       "                             nbb_cells[i].set_text(nbb_formatted_code);\n",
       "                        }\n",
       "                        break;\n",
       "                    }\n",
       "                }\n",
       "            }, 500);\n",
       "            "
      ],
      "text/plain": [
       "<IPython.core.display.Javascript object>"
      ]
     },
     "metadata": {},
     "output_type": "display_data"
    }
   ],
   "source": [
    "logger.info(\"Attempting to load network...\")\n",
    "try:\n",
    "    with open(os.path.join(DATA_PATH, \"roadnet_greaterlondon_walking.pkl\"), \"rb\") as f:\n",
    "        walknet = pickle.load(f)\n",
    "        logger.info(\"Loaded network\")\n",
    "except EOFError as e:\n",
    "    logger.warning(\"unable to load from pickle. Loading from graphml\")\n",
    "    walknet = ox.load_graphml(\n",
    "        os.path.join(DATA_PATH, \"roadnet_greaterlondon_walking.graphml\")\n",
    "    )\n",
    "    logger.info(\"saving new network\")\n",
    "    with open(os.path.join(DATA_PATH, \"roadnet_greaterlondon_walking.pkl\"), \"wb\") as f:\n",
    "        walknet = pickle.dump(walknet, f)\n",
    "    logger.info(\"saved new network as pickle\")"
   ]
  },
  {
   "cell_type": "code",
   "execution_count": null,
   "id": "developed-environment",
   "metadata": {},
   "outputs": [],
   "source": [
    "%%time\n",
    "gdf_nodes, _ = ox.graph_to_gdfs(walknet)\n"
   ]
  },
  {
   "cell_type": "code",
   "execution_count": null,
   "id": "robust-russian",
   "metadata": {},
   "outputs": [],
   "source": [
    "cols = {\n",
    "    \"eastings\": \"DECIMAL(14,6)\",\n",
    "    \"northings\": \"DECIMAL(14,6)\",\n",
    "    \"osmid\": \"BIGINT\",\n",
    "}\n",
    "\n",
    "index_cols = [\"osmid\"]\n",
    "unique_cols = [\"osmid\"]"
   ]
  },
  {
   "cell_type": "code",
   "execution_count": null,
   "id": "anonymous-discretion",
   "metadata": {},
   "outputs": [],
   "source": [
    "q_create = get_table_creation_query(\n",
    "    \"node_coords\", cols, \"public\", index_cols, unique_cols\n",
    ")"
   ]
  },
  {
   "cell_type": "code",
   "execution_count": null,
   "id": "dying-debut",
   "metadata": {},
   "outputs": [],
   "source": [
    "with engine.connect() as conn:\n",
    "    conn.execute(q_create)"
   ]
  },
  {
   "cell_type": "code",
   "execution_count": null,
   "id": "native-toolbox",
   "metadata": {},
   "outputs": [],
   "source": [
    "%%time\n",
    "with engine.connect() as conn:\n",
    "    gdf_nodes[[\"x\",\"y\",\"osmid\"]].rename(columns={\"x\":\"eastings\",\"y\":\"northings\"}).to_sql(\"node_coords\",index=False,con=conn,if_exists=\"append\")"
   ]
  }
 ],
 "metadata": {
  "kernelspec": {
   "display_name": "Python 3",
   "language": "python",
   "name": "python3"
  },
  "language_info": {
   "codemirror_mode": {
    "name": "ipython",
    "version": 3
   },
   "file_extension": ".py",
   "mimetype": "text/x-python",
   "name": "python",
   "nbconvert_exporter": "python",
   "pygments_lexer": "ipython3",
   "version": "3.8.10"
  }
 },
 "nbformat": 4,
 "nbformat_minor": 5
}
