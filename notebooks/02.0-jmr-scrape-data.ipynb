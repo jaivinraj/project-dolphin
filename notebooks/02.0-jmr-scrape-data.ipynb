{
 "cells": [
  {
   "cell_type": "markdown",
   "id": "93950e40",
   "metadata": {},
   "source": [
    "# Scrape Data from Rightmove"
   ]
  },
  {
   "cell_type": "raw",
   "id": "5b238f31",
   "metadata": {},
   "source": [
    "!pip install nb_black"
   ]
  },
  {
   "cell_type": "raw",
   "id": "bc3d7f9c",
   "metadata": {},
   "source": [
    "!pip install sqlalchemy"
   ]
  },
  {
   "cell_type": "code",
   "execution_count": 1,
   "id": "60db2921",
   "metadata": {},
   "outputs": [
    {
     "data": {
      "application/javascript": [
       "\n",
       "            setTimeout(function() {\n",
       "                var nbb_cell_id = 1;\n",
       "                var nbb_unformatted_code = \"%load_ext nb_black\";\n",
       "                var nbb_formatted_code = \"%load_ext nb_black\";\n",
       "                var nbb_cells = Jupyter.notebook.get_cells();\n",
       "                for (var i = 0; i < nbb_cells.length; ++i) {\n",
       "                    if (nbb_cells[i].input_prompt_number == nbb_cell_id) {\n",
       "                        if (nbb_cells[i].get_text() == nbb_unformatted_code) {\n",
       "                             nbb_cells[i].set_text(nbb_formatted_code);\n",
       "                        }\n",
       "                        break;\n",
       "                    }\n",
       "                }\n",
       "            }, 500);\n",
       "            "
      ],
      "text/plain": [
       "<IPython.core.display.Javascript object>"
      ]
     },
     "metadata": {},
     "output_type": "display_data"
    }
   ],
   "source": [
    "%load_ext nb_black"
   ]
  },
  {
   "cell_type": "code",
   "execution_count": 2,
   "id": "bb0755c2",
   "metadata": {},
   "outputs": [
    {
     "data": {
      "application/javascript": [
       "\n",
       "            setTimeout(function() {\n",
       "                var nbb_cell_id = 2;\n",
       "                var nbb_unformatted_code = \"import logging\\n\\nimport sys\\n\\nsys.path.append(\\\"/app\\\")\\n\\nimport scraping as sc\\n\\nimport pandas as pd\\n\\nfrom jinja2 import Template\\n\\nimport os\\n\\nfrom db_utils import get_engine, get_table_creation_query\";\n",
       "                var nbb_formatted_code = \"import logging\\n\\nimport sys\\n\\nsys.path.append(\\\"/app\\\")\\n\\nimport scraping as sc\\n\\nimport pandas as pd\\n\\nfrom jinja2 import Template\\n\\nimport os\\n\\nfrom db_utils import get_engine, get_table_creation_query\";\n",
       "                var nbb_cells = Jupyter.notebook.get_cells();\n",
       "                for (var i = 0; i < nbb_cells.length; ++i) {\n",
       "                    if (nbb_cells[i].input_prompt_number == nbb_cell_id) {\n",
       "                        if (nbb_cells[i].get_text() == nbb_unformatted_code) {\n",
       "                             nbb_cells[i].set_text(nbb_formatted_code);\n",
       "                        }\n",
       "                        break;\n",
       "                    }\n",
       "                }\n",
       "            }, 500);\n",
       "            "
      ],
      "text/plain": [
       "<IPython.core.display.Javascript object>"
      ]
     },
     "metadata": {},
     "output_type": "display_data"
    }
   ],
   "source": [
    "import logging\n",
    "\n",
    "import sys\n",
    "\n",
    "sys.path.append(\"/app\")\n",
    "\n",
    "import scraping as sc\n",
    "\n",
    "import pandas as pd\n",
    "\n",
    "from jinja2 import Template\n",
    "\n",
    "import os\n",
    "\n",
    "from db_utils import get_engine, get_table_creation_query"
   ]
  },
  {
   "cell_type": "code",
   "execution_count": 3,
   "id": "f27c354f",
   "metadata": {},
   "outputs": [
    {
     "data": {
      "application/javascript": [
       "\n",
       "            setTimeout(function() {\n",
       "                var nbb_cell_id = 3;\n",
       "                var nbb_unformatted_code = \"# global logger\\nlogger = logging.getLogger()\\nhandler = logging.StreamHandler()\\nformatter = logging.Formatter(\\\"%(asctime)s [%(name)s] %(levelname)-8s %(message)s\\\")\\nhandler.setFormatter(formatter)\\nlogger.addHandler(handler)\\nlogger.setLevel(logging.INFO)\";\n",
       "                var nbb_formatted_code = \"# global logger\\nlogger = logging.getLogger()\\nhandler = logging.StreamHandler()\\nformatter = logging.Formatter(\\\"%(asctime)s [%(name)s] %(levelname)-8s %(message)s\\\")\\nhandler.setFormatter(formatter)\\nlogger.addHandler(handler)\\nlogger.setLevel(logging.INFO)\";\n",
       "                var nbb_cells = Jupyter.notebook.get_cells();\n",
       "                for (var i = 0; i < nbb_cells.length; ++i) {\n",
       "                    if (nbb_cells[i].input_prompt_number == nbb_cell_id) {\n",
       "                        if (nbb_cells[i].get_text() == nbb_unformatted_code) {\n",
       "                             nbb_cells[i].set_text(nbb_formatted_code);\n",
       "                        }\n",
       "                        break;\n",
       "                    }\n",
       "                }\n",
       "            }, 500);\n",
       "            "
      ],
      "text/plain": [
       "<IPython.core.display.Javascript object>"
      ]
     },
     "metadata": {},
     "output_type": "display_data"
    }
   ],
   "source": [
    "# global logger\n",
    "logger = logging.getLogger()\n",
    "handler = logging.StreamHandler()\n",
    "formatter = logging.Formatter(\"%(asctime)s [%(name)s] %(levelname)-8s %(message)s\")\n",
    "handler.setFormatter(formatter)\n",
    "logger.addHandler(handler)\n",
    "logger.setLevel(logging.INFO)"
   ]
  },
  {
   "cell_type": "markdown",
   "id": "c668860e",
   "metadata": {},
   "source": [
    "## Connect to Database"
   ]
  },
  {
   "cell_type": "code",
   "execution_count": 4,
   "id": "f2db10a9",
   "metadata": {},
   "outputs": [
    {
     "data": {
      "application/javascript": [
       "\n",
       "            setTimeout(function() {\n",
       "                var nbb_cell_id = 4;\n",
       "                var nbb_unformatted_code = \"user = os.getenv(\\\"POSTGRES_USER\\\")\\npassword = os.getenv(\\\"POSTGRES_PASSWORD\\\")\\n\\nhost = os.getenv(\\\"POSTGRES_HOST\\\")\";\n",
       "                var nbb_formatted_code = \"user = os.getenv(\\\"POSTGRES_USER\\\")\\npassword = os.getenv(\\\"POSTGRES_PASSWORD\\\")\\n\\nhost = os.getenv(\\\"POSTGRES_HOST\\\")\";\n",
       "                var nbb_cells = Jupyter.notebook.get_cells();\n",
       "                for (var i = 0; i < nbb_cells.length; ++i) {\n",
       "                    if (nbb_cells[i].input_prompt_number == nbb_cell_id) {\n",
       "                        if (nbb_cells[i].get_text() == nbb_unformatted_code) {\n",
       "                             nbb_cells[i].set_text(nbb_formatted_code);\n",
       "                        }\n",
       "                        break;\n",
       "                    }\n",
       "                }\n",
       "            }, 500);\n",
       "            "
      ],
      "text/plain": [
       "<IPython.core.display.Javascript object>"
      ]
     },
     "metadata": {},
     "output_type": "display_data"
    }
   ],
   "source": [
    "user = os.getenv(\"POSTGRES_USER\")\n",
    "password = os.getenv(\"POSTGRES_PASSWORD\")\n",
    "host = os.getenv(\"POSTGRES_HOST\")"
   ]
  },
  {
   "cell_type": "code",
   "execution_count": 5,
   "id": "44c03135",
   "metadata": {},
   "outputs": [
    {
     "data": {
      "application/javascript": [
       "\n",
       "            setTimeout(function() {\n",
       "                var nbb_cell_id = 5;\n",
       "                var nbb_unformatted_code = \"engine = get_engine(user, password, host)\";\n",
       "                var nbb_formatted_code = \"engine = get_engine(user, password, host)\";\n",
       "                var nbb_cells = Jupyter.notebook.get_cells();\n",
       "                for (var i = 0; i < nbb_cells.length; ++i) {\n",
       "                    if (nbb_cells[i].input_prompt_number == nbb_cell_id) {\n",
       "                        if (nbb_cells[i].get_text() == nbb_unformatted_code) {\n",
       "                             nbb_cells[i].set_text(nbb_formatted_code);\n",
       "                        }\n",
       "                        break;\n",
       "                    }\n",
       "                }\n",
       "            }, 500);\n",
       "            "
      ],
      "text/plain": [
       "<IPython.core.display.Javascript object>"
      ]
     },
     "metadata": {},
     "output_type": "display_data"
    }
   ],
   "source": [
    "engine = get_engine(user, password, host)"
   ]
  },
  {
   "cell_type": "markdown",
   "id": "b9d8291e",
   "metadata": {},
   "source": [
    "## Define search parameters"
   ]
  },
  {
   "cell_type": "code",
   "execution_count": 6,
   "id": "212df973",
   "metadata": {
    "scrolled": true
   },
   "outputs": [
    {
     "data": {
      "application/javascript": [
       "\n",
       "            setTimeout(function() {\n",
       "                var nbb_cell_id = 6;\n",
       "                var nbb_unformatted_code = \"url = \\\"https://www.rightmove.co.uk/property-to-rent/find.html?locationIdentifier=REGION%5E70331&maxBedrooms=1&minBedrooms=0&maxPrice=2000&minPrice=500&propertyTypes=&includeLetAgreed=false&mustHave=&dontShow=&furnishTypes=furnished&keywords=%22\\\"\";\n",
       "                var nbb_formatted_code = \"url = \\\"https://www.rightmove.co.uk/property-to-rent/find.html?locationIdentifier=REGION%5E70331&maxBedrooms=1&minBedrooms=0&maxPrice=2000&minPrice=500&propertyTypes=&includeLetAgreed=false&mustHave=&dontShow=&furnishTypes=furnished&keywords=%22\\\"\";\n",
       "                var nbb_cells = Jupyter.notebook.get_cells();\n",
       "                for (var i = 0; i < nbb_cells.length; ++i) {\n",
       "                    if (nbb_cells[i].input_prompt_number == nbb_cell_id) {\n",
       "                        if (nbb_cells[i].get_text() == nbb_unformatted_code) {\n",
       "                             nbb_cells[i].set_text(nbb_formatted_code);\n",
       "                        }\n",
       "                        break;\n",
       "                    }\n",
       "                }\n",
       "            }, 500);\n",
       "            "
      ],
      "text/plain": [
       "<IPython.core.display.Javascript object>"
      ]
     },
     "metadata": {},
     "output_type": "display_data"
    }
   ],
   "source": [
    "url = \"https://www.rightmove.co.uk/property-to-rent/find.html?locationIdentifier=REGION%5E70331&maxBedrooms=1&minBedrooms=0&maxPrice=2000&minPrice=500&propertyTypes=&includeLetAgreed=false&mustHave=&dontShow=&furnishTypes=furnished&keywords=%22\""
   ]
  },
  {
   "cell_type": "code",
   "execution_count": 7,
   "id": "5d001f4f",
   "metadata": {},
   "outputs": [
    {
     "data": {
      "application/javascript": [
       "\n",
       "            setTimeout(function() {\n",
       "                var nbb_cell_id = 7;\n",
       "                var nbb_unformatted_code = \"searchname = \\\"tamzin\\\"\";\n",
       "                var nbb_formatted_code = \"searchname = \\\"tamzin\\\"\";\n",
       "                var nbb_cells = Jupyter.notebook.get_cells();\n",
       "                for (var i = 0; i < nbb_cells.length; ++i) {\n",
       "                    if (nbb_cells[i].input_prompt_number == nbb_cell_id) {\n",
       "                        if (nbb_cells[i].get_text() == nbb_unformatted_code) {\n",
       "                             nbb_cells[i].set_text(nbb_formatted_code);\n",
       "                        }\n",
       "                        break;\n",
       "                    }\n",
       "                }\n",
       "            }, 500);\n",
       "            "
      ],
      "text/plain": [
       "<IPython.core.display.Javascript object>"
      ]
     },
     "metadata": {},
     "output_type": "display_data"
    }
   ],
   "source": [
    "searchname = \"tamzin\""
   ]
  },
  {
   "cell_type": "code",
   "execution_count": 8,
   "id": "54a45959",
   "metadata": {},
   "outputs": [
    {
     "data": {
      "application/javascript": [
       "\n",
       "            setTimeout(function() {\n",
       "                var nbb_cell_id = 8;\n",
       "                var nbb_unformatted_code = \"tablename = \\\"raw_data\\\"\";\n",
       "                var nbb_formatted_code = \"tablename = \\\"raw_data\\\"\";\n",
       "                var nbb_cells = Jupyter.notebook.get_cells();\n",
       "                for (var i = 0; i < nbb_cells.length; ++i) {\n",
       "                    if (nbb_cells[i].input_prompt_number == nbb_cell_id) {\n",
       "                        if (nbb_cells[i].get_text() == nbb_unformatted_code) {\n",
       "                             nbb_cells[i].set_text(nbb_formatted_code);\n",
       "                        }\n",
       "                        break;\n",
       "                    }\n",
       "                }\n",
       "            }, 500);\n",
       "            "
      ],
      "text/plain": [
       "<IPython.core.display.Javascript object>"
      ]
     },
     "metadata": {},
     "output_type": "display_data"
    }
   ],
   "source": [
    "tablename = \"raw_data\""
   ]
  },
  {
   "cell_type": "markdown",
   "id": "3cab5d3e",
   "metadata": {},
   "source": [
    "## Create table"
   ]
  },
  {
   "cell_type": "code",
   "execution_count": 9,
   "id": "5dae6c35",
   "metadata": {},
   "outputs": [
    {
     "data": {
      "application/javascript": [
       "\n",
       "            setTimeout(function() {\n",
       "                var nbb_cell_id = 9;\n",
       "                var nbb_unformatted_code = \"cols = {\\n    \\\"price\\\": \\\"INTEGER\\\",\\n    \\\"type\\\": \\\"VARCHAR(256)\\\",\\n    \\\"address\\\": \\\"VARCHAR(256)\\\",\\n    \\\"url\\\": \\\"TEXT\\\",\\n    \\\"agent_url\\\": \\\"TEXT\\\",\\n    \\\"postcode\\\": \\\"VARCHAR(32)\\\",\\n    \\\"number_bedrooms\\\": \\\"INTEGER\\\",\\n    \\\"search_date\\\": \\\"TIMESTAMP\\\",\\n}\";\n",
       "                var nbb_formatted_code = \"cols = {\\n    \\\"price\\\": \\\"INTEGER\\\",\\n    \\\"type\\\": \\\"VARCHAR(256)\\\",\\n    \\\"address\\\": \\\"VARCHAR(256)\\\",\\n    \\\"url\\\": \\\"TEXT\\\",\\n    \\\"agent_url\\\": \\\"TEXT\\\",\\n    \\\"postcode\\\": \\\"VARCHAR(32)\\\",\\n    \\\"number_bedrooms\\\": \\\"INTEGER\\\",\\n    \\\"search_date\\\": \\\"TIMESTAMP\\\",\\n}\";\n",
       "                var nbb_cells = Jupyter.notebook.get_cells();\n",
       "                for (var i = 0; i < nbb_cells.length; ++i) {\n",
       "                    if (nbb_cells[i].input_prompt_number == nbb_cell_id) {\n",
       "                        if (nbb_cells[i].get_text() == nbb_unformatted_code) {\n",
       "                             nbb_cells[i].set_text(nbb_formatted_code);\n",
       "                        }\n",
       "                        break;\n",
       "                    }\n",
       "                }\n",
       "            }, 500);\n",
       "            "
      ],
      "text/plain": [
       "<IPython.core.display.Javascript object>"
      ]
     },
     "metadata": {},
     "output_type": "display_data"
    }
   ],
   "source": [
    "cols = {\n",
    "    \"price\": \"INTEGER\",\n",
    "    \"type\": \"VARCHAR(256)\",\n",
    "    \"address\": \"VARCHAR(256)\",\n",
    "    \"url\": \"TEXT\",\n",
    "    \"agent_url\": \"TEXT\",\n",
    "    \"postcode\": \"VARCHAR(32)\",\n",
    "    \"number_bedrooms\": \"INTEGER\",\n",
    "    \"search_date\": \"TIMESTAMP\",\n",
    "}\n",
    "\n",
    "index_cols = [\"url\", \"search_date\", \"address\"]"
   ]
  },
  {
   "cell_type": "code",
   "execution_count": 11,
   "id": "fee44132",
   "metadata": {},
   "outputs": [
    {
     "data": {
      "application/javascript": [
       "\n",
       "            setTimeout(function() {\n",
       "                var nbb_cell_id = 11;\n",
       "                var nbb_unformatted_code = \"with engine.connect() as conn:\\n    conn.execute(f\\\"CREATE SCHEMA IF NOT EXISTS {searchname}\\\")\\n    conn.execute(get_table_creation_query(tablename, cols, searchname, index_cols))\";\n",
       "                var nbb_formatted_code = \"with engine.connect() as conn:\\n    conn.execute(f\\\"CREATE SCHEMA IF NOT EXISTS {searchname}\\\")\\n    conn.execute(get_table_creation_query(tablename, cols, searchname, index_cols))\";\n",
       "                var nbb_cells = Jupyter.notebook.get_cells();\n",
       "                for (var i = 0; i < nbb_cells.length; ++i) {\n",
       "                    if (nbb_cells[i].input_prompt_number == nbb_cell_id) {\n",
       "                        if (nbb_cells[i].get_text() == nbb_unformatted_code) {\n",
       "                             nbb_cells[i].set_text(nbb_formatted_code);\n",
       "                        }\n",
       "                        break;\n",
       "                    }\n",
       "                }\n",
       "            }, 500);\n",
       "            "
      ],
      "text/plain": [
       "<IPython.core.display.Javascript object>"
      ]
     },
     "metadata": {},
     "output_type": "display_data"
    }
   ],
   "source": [
    "with engine.connect() as conn:\n",
    "    conn.execute(f\"CREATE SCHEMA IF NOT EXISTS {searchname}\")\n",
    "    conn.execute(get_table_creation_query(tablename, cols, searchname, index_cols))"
   ]
  },
  {
   "cell_type": "markdown",
   "id": "2f5f66b3",
   "metadata": {},
   "source": [
    "## Scrape Data"
   ]
  },
  {
   "cell_type": "code",
   "execution_count": 12,
   "id": "e2396d71",
   "metadata": {
    "scrolled": false
   },
   "outputs": [
    {
     "name": "stderr",
     "output_type": "stream",
     "text": [
      "2021-05-21 10:55:25,190 [scraping] INFO     Starting RightMove scraping\n",
      "2021-05-21 10:55:25,193 [scraping] INFO     Scraping from RightMove...\n",
      "2021-05-21 10:55:29,712 [scraping] INFO     Fetched results\n"
     ]
    },
    {
     "data": {
      "application/javascript": [
       "\n",
       "            setTimeout(function() {\n",
       "                var nbb_cell_id = 12;\n",
       "                var nbb_unformatted_code = \"df = sc.scrape_rightmove(url)\";\n",
       "                var nbb_formatted_code = \"df = sc.scrape_rightmove(url)\";\n",
       "                var nbb_cells = Jupyter.notebook.get_cells();\n",
       "                for (var i = 0; i < nbb_cells.length; ++i) {\n",
       "                    if (nbb_cells[i].input_prompt_number == nbb_cell_id) {\n",
       "                        if (nbb_cells[i].get_text() == nbb_unformatted_code) {\n",
       "                             nbb_cells[i].set_text(nbb_formatted_code);\n",
       "                        }\n",
       "                        break;\n",
       "                    }\n",
       "                }\n",
       "            }, 500);\n",
       "            "
      ],
      "text/plain": [
       "<IPython.core.display.Javascript object>"
      ]
     },
     "metadata": {},
     "output_type": "display_data"
    }
   ],
   "source": [
    "df = sc.scrape_rightmove(url)"
   ]
  },
  {
   "cell_type": "markdown",
   "id": "087be7fb",
   "metadata": {},
   "source": [
    "## Save to Database"
   ]
  },
  {
   "cell_type": "code",
   "execution_count": 13,
   "id": "19c53302",
   "metadata": {},
   "outputs": [
    {
     "data": {
      "application/javascript": [
       "\n",
       "            setTimeout(function() {\n",
       "                var nbb_cell_id = 13;\n",
       "                var nbb_unformatted_code = \"with engine.connect() as conn:\\n    df.to_sql(tablename, schema=searchname, index=False, con=conn, if_exists=\\\"append\\\")\";\n",
       "                var nbb_formatted_code = \"with engine.connect() as conn:\\n    df.to_sql(tablename, schema=searchname, index=False, con=conn, if_exists=\\\"append\\\")\";\n",
       "                var nbb_cells = Jupyter.notebook.get_cells();\n",
       "                for (var i = 0; i < nbb_cells.length; ++i) {\n",
       "                    if (nbb_cells[i].input_prompt_number == nbb_cell_id) {\n",
       "                        if (nbb_cells[i].get_text() == nbb_unformatted_code) {\n",
       "                             nbb_cells[i].set_text(nbb_formatted_code);\n",
       "                        }\n",
       "                        break;\n",
       "                    }\n",
       "                }\n",
       "            }, 500);\n",
       "            "
      ],
      "text/plain": [
       "<IPython.core.display.Javascript object>"
      ]
     },
     "metadata": {},
     "output_type": "display_data"
    }
   ],
   "source": [
    "with engine.connect() as conn:\n",
    "    df.to_sql(tablename, schema=searchname, index=False, con=conn, if_exists=\"append\")"
   ]
  },
  {
   "cell_type": "markdown",
   "id": "4b088cc1",
   "metadata": {},
   "source": [
    "## Create table for new data"
   ]
  },
  {
   "cell_type": "code",
   "execution_count": 14,
   "id": "7c6d810a",
   "metadata": {},
   "outputs": [
    {
     "data": {
      "application/javascript": [
       "\n",
       "            setTimeout(function() {\n",
       "                var nbb_cell_id = 14;\n",
       "                var nbb_unformatted_code = \"cols_newdata = {\\n    \\\"property_id\\\": \\\"INTEGER\\\",\\n    \\\"address\\\": \\\"VARCHAR(256)\\\",\\n    \\\"url\\\": \\\"TEXT\\\",\\n}\";\n",
       "                var nbb_formatted_code = \"cols_newdata = {\\n    \\\"property_id\\\": \\\"INTEGER\\\",\\n    \\\"address\\\": \\\"VARCHAR(256)\\\",\\n    \\\"url\\\": \\\"TEXT\\\",\\n}\";\n",
       "                var nbb_cells = Jupyter.notebook.get_cells();\n",
       "                for (var i = 0; i < nbb_cells.length; ++i) {\n",
       "                    if (nbb_cells[i].input_prompt_number == nbb_cell_id) {\n",
       "                        if (nbb_cells[i].get_text() == nbb_unformatted_code) {\n",
       "                             nbb_cells[i].set_text(nbb_formatted_code);\n",
       "                        }\n",
       "                        break;\n",
       "                    }\n",
       "                }\n",
       "            }, 500);\n",
       "            "
      ],
      "text/plain": [
       "<IPython.core.display.Javascript object>"
      ]
     },
     "metadata": {},
     "output_type": "display_data"
    }
   ],
   "source": [
    "cols_newdata = {\n",
    "    \"property_id\": \"INTEGER\",\n",
    "    \"address\": \"VARCHAR(256)\",\n",
    "    \"url\": \"TEXT\",\n",
    "}"
   ]
  },
  {
   "cell_type": "code",
   "execution_count": 15,
   "id": "8f0d5004",
   "metadata": {
    "scrolled": true
   },
   "outputs": [
    {
     "data": {
      "application/javascript": [
       "\n",
       "            setTimeout(function() {\n",
       "                var nbb_cell_id = 15;\n",
       "                var nbb_unformatted_code = \"index_cols_newdata = [\\\"id\\\", \\\"address\\\", \\\"url\\\"]\";\n",
       "                var nbb_formatted_code = \"index_cols_newdata = [\\\"id\\\", \\\"address\\\", \\\"url\\\"]\";\n",
       "                var nbb_cells = Jupyter.notebook.get_cells();\n",
       "                for (var i = 0; i < nbb_cells.length; ++i) {\n",
       "                    if (nbb_cells[i].input_prompt_number == nbb_cell_id) {\n",
       "                        if (nbb_cells[i].get_text() == nbb_unformatted_code) {\n",
       "                             nbb_cells[i].set_text(nbb_formatted_code);\n",
       "                        }\n",
       "                        break;\n",
       "                    }\n",
       "                }\n",
       "            }, 500);\n",
       "            "
      ],
      "text/plain": [
       "<IPython.core.display.Javascript object>"
      ]
     },
     "metadata": {},
     "output_type": "display_data"
    }
   ],
   "source": [
    "index_cols_newdata = [\"id\", \"address\", \"url\"]"
   ]
  },
  {
   "cell_type": "code",
   "execution_count": 16,
   "id": "011e7a57",
   "metadata": {},
   "outputs": [
    {
     "data": {
      "application/javascript": [
       "\n",
       "            setTimeout(function() {\n",
       "                var nbb_cell_id = 16;\n",
       "                var nbb_unformatted_code = \"with engine.connect() as conn:\\n    #     conn.execute(f\\\"CREATE SCHEMA IF NOT EXISTS {searchname}\\\")\\n    conn.execute(\\n        get_table_creation_query(\\n            \\\"new_data\\\", cols_newdata, searchname, index_cols_newdata\\n        )\\n    )\";\n",
       "                var nbb_formatted_code = \"with engine.connect() as conn:\\n    #     conn.execute(f\\\"CREATE SCHEMA IF NOT EXISTS {searchname}\\\")\\n    conn.execute(\\n        get_table_creation_query(\\n            \\\"new_data\\\", cols_newdata, searchname, index_cols_newdata\\n        )\\n    )\";\n",
       "                var nbb_cells = Jupyter.notebook.get_cells();\n",
       "                for (var i = 0; i < nbb_cells.length; ++i) {\n",
       "                    if (nbb_cells[i].input_prompt_number == nbb_cell_id) {\n",
       "                        if (nbb_cells[i].get_text() == nbb_unformatted_code) {\n",
       "                             nbb_cells[i].set_text(nbb_formatted_code);\n",
       "                        }\n",
       "                        break;\n",
       "                    }\n",
       "                }\n",
       "            }, 500);\n",
       "            "
      ],
      "text/plain": [
       "<IPython.core.display.Javascript object>"
      ]
     },
     "metadata": {},
     "output_type": "display_data"
    }
   ],
   "source": [
    "with engine.connect() as conn:\n",
    "    #     conn.execute(f\"CREATE SCHEMA IF NOT EXISTS {searchname}\")\n",
    "    conn.execute(\n",
    "        get_table_creation_query(\n",
    "            \"new_data\", cols_newdata, searchname, index_cols_newdata\n",
    "        )\n",
    "    )"
   ]
  },
  {
   "cell_type": "markdown",
   "id": "d686efff",
   "metadata": {},
   "source": [
    "## Populate new data table"
   ]
  },
  {
   "cell_type": "code",
   "execution_count": 17,
   "id": "10079d5f",
   "metadata": {
    "scrolled": true
   },
   "outputs": [
    {
     "data": {
      "application/javascript": [
       "\n",
       "            setTimeout(function() {\n",
       "                var nbb_cell_id = 17;\n",
       "                var nbb_unformatted_code = \"with engine.connect() as conn:\\n    conn.execute(f\\\"DELETE FROM {searchname}.new_data\\\")\\n    conn.execute(\\n        f\\\"\\\"\\\"INSERT INTO {searchname}.new_data (property_id,url,address)\\n        SELECT rd.id AS property_id,rd.url,rd.address\\n\\nFROM {searchname}.{tablename} rd\\n\\nINNER JOIN (SELECT search_date, MAX(search_date) AS Maxsearch_date\\n\\n    FROM {searchname}.{tablename}\\n\\n    GROUP BY search_date) groupedrd\\n\\nON rd.search_date = groupedrd.search_date\\n\\nAND rd.search_date = groupedrd.Maxsearch_date\\\"\\\"\\\",\\n    )\\n#     conn.execute(f\\\"DROP SCHEMA {searchname} CASCADE\\\")\";\n",
       "                var nbb_formatted_code = \"with engine.connect() as conn:\\n    conn.execute(f\\\"DELETE FROM {searchname}.new_data\\\")\\n    conn.execute(\\n        f\\\"\\\"\\\"INSERT INTO {searchname}.new_data (property_id,url,address)\\n        SELECT rd.id AS property_id,rd.url,rd.address\\n\\nFROM {searchname}.{tablename} rd\\n\\nINNER JOIN (SELECT search_date, MAX(search_date) AS Maxsearch_date\\n\\n    FROM {searchname}.{tablename}\\n\\n    GROUP BY search_date) groupedrd\\n\\nON rd.search_date = groupedrd.search_date\\n\\nAND rd.search_date = groupedrd.Maxsearch_date\\\"\\\"\\\",\\n    )\\n#     conn.execute(f\\\"DROP SCHEMA {searchname} CASCADE\\\")\";\n",
       "                var nbb_cells = Jupyter.notebook.get_cells();\n",
       "                for (var i = 0; i < nbb_cells.length; ++i) {\n",
       "                    if (nbb_cells[i].input_prompt_number == nbb_cell_id) {\n",
       "                        if (nbb_cells[i].get_text() == nbb_unformatted_code) {\n",
       "                             nbb_cells[i].set_text(nbb_formatted_code);\n",
       "                        }\n",
       "                        break;\n",
       "                    }\n",
       "                }\n",
       "            }, 500);\n",
       "            "
      ],
      "text/plain": [
       "<IPython.core.display.Javascript object>"
      ]
     },
     "metadata": {},
     "output_type": "display_data"
    }
   ],
   "source": [
    "with engine.connect() as conn:\n",
    "    conn.execute(f\"DELETE FROM {searchname}.new_data\")\n",
    "    conn.execute(\n",
    "        f\"\"\"INSERT INTO {searchname}.new_data (property_id,url,address)\n",
    "        SELECT rd.id AS property_id,rd.url,rd.address\n",
    "\n",
    "FROM {searchname}.{tablename} rd\n",
    "\n",
    "INNER JOIN (SELECT search_date, MAX(search_date) AS Maxsearch_date\n",
    "\n",
    "    FROM {searchname}.{tablename}\n",
    "\n",
    "    GROUP BY search_date) groupedrd\n",
    "\n",
    "ON rd.search_date = groupedrd.search_date\n",
    "\n",
    "AND rd.search_date = groupedrd.Maxsearch_date\"\"\",\n",
    "    )\n",
    "#     conn.execute(f\"DROP SCHEMA {searchname} CASCADE\")"
   ]
  },
  {
   "cell_type": "raw",
   "id": "4bec930c",
   "metadata": {},
   "source": [
    "with engine.connect() as conn:\n",
    "    conn.execute(f\"DROP SCHEMA {searchname} CASCADE\")"
   ]
  }
 ],
 "metadata": {
  "kernelspec": {
   "display_name": "Python 3",
   "language": "python",
   "name": "python3"
  },
  "language_info": {
   "codemirror_mode": {
    "name": "ipython",
    "version": 3
   },
   "file_extension": ".py",
   "mimetype": "text/x-python",
   "name": "python",
   "nbconvert_exporter": "python",
   "pygments_lexer": "ipython3",
   "version": "3.8.10"
  }
 },
 "nbformat": 4,
 "nbformat_minor": 5
}
